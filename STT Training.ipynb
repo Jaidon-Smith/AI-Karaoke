{
  "nbformat": 4,
  "nbformat_minor": 0,
  "metadata": {
    "colab": {
      "name": "Untitled22.ipynb",
      "provenance": [],
      "toc_visible": true,
      "authorship_tag": "ABX9TyPYPA625jk2PN6moFagRW1A",
      "include_colab_link": true
    },
    "kernelspec": {
      "name": "python3",
      "display_name": "Python 3"
    },
    "accelerator": "GPU"
  },
  "cells": [
    {
      "cell_type": "markdown",
      "metadata": {
        "id": "view-in-github",
        "colab_type": "text"
      },
      "source": [
        "<a href=\"https://colab.research.google.com/github/Jaidon-Smith/AI-Karaoke/blob/main/STT%20Training.ipynb\" target=\"_parent\"><img src=\"https://colab.research.google.com/assets/colab-badge.svg\" alt=\"Open In Colab\"/></a>"
      ]
    },
    {
      "cell_type": "code",
      "metadata": {
        "colab": {
          "base_uri": "https://localhost:8080/"
        },
        "id": "mkRMEbJrdWhE",
        "outputId": "c2bd23a9-e71c-47a3-cd89-14916dce8bf7"
      },
      "source": [
        "from google.colab import drive\n",
        "drive.mount('/gdrive')"
      ],
      "execution_count": 169,
      "outputs": [
        {
          "output_type": "stream",
          "text": [
            "Drive already mounted at /gdrive; to attempt to forcibly remount, call drive.mount(\"/gdrive\", force_remount=True).\n"
          ],
          "name": "stdout"
        }
      ]
    },
    {
      "cell_type": "code",
      "metadata": {
        "colab": {
          "base_uri": "https://localhost:8080/"
        },
        "id": "xnmItTWZe0ay",
        "outputId": "40035fa9-2150-4014-fec4-b648496c956f"
      },
      "source": [
        "!pip install tfds-nightly\n",
        "!pip install pydub\n",
        "!pip install tensorflow_io"
      ],
      "execution_count": 170,
      "outputs": [
        {
          "output_type": "stream",
          "text": [
            "Requirement already satisfied: tfds-nightly in /usr/local/lib/python3.7/dist-packages (4.2.0.dev202103110106)\n",
            "Requirement already satisfied: termcolor in /usr/local/lib/python3.7/dist-packages (from tfds-nightly) (1.1.0)\n",
            "Requirement already satisfied: importlib-resources; python_version < \"3.9\" in /usr/local/lib/python3.7/dist-packages (from tfds-nightly) (5.1.2)\n",
            "Requirement already satisfied: typing-extensions; python_version < \"3.8\" in /usr/local/lib/python3.7/dist-packages (from tfds-nightly) (3.7.4.3)\n",
            "Requirement already satisfied: absl-py in /usr/local/lib/python3.7/dist-packages (from tfds-nightly) (0.10.0)\n",
            "Requirement already satisfied: promise in /usr/local/lib/python3.7/dist-packages (from tfds-nightly) (2.3)\n",
            "Requirement already satisfied: requests>=2.19.0 in /usr/local/lib/python3.7/dist-packages (from tfds-nightly) (2.23.0)\n",
            "Requirement already satisfied: tqdm in /usr/local/lib/python3.7/dist-packages (from tfds-nightly) (4.41.1)\n",
            "Requirement already satisfied: future in /usr/local/lib/python3.7/dist-packages (from tfds-nightly) (0.16.0)\n",
            "Requirement already satisfied: dill in /usr/local/lib/python3.7/dist-packages (from tfds-nightly) (0.3.3)\n",
            "Requirement already satisfied: attrs>=18.1.0 in /usr/local/lib/python3.7/dist-packages (from tfds-nightly) (20.3.0)\n",
            "Requirement already satisfied: protobuf>=3.12.2 in /usr/local/lib/python3.7/dist-packages (from tfds-nightly) (3.12.4)\n",
            "Requirement already satisfied: tensorflow-metadata in /usr/local/lib/python3.7/dist-packages (from tfds-nightly) (0.28.0)\n",
            "Requirement already satisfied: numpy in /usr/local/lib/python3.7/dist-packages (from tfds-nightly) (1.19.5)\n",
            "Requirement already satisfied: six in /usr/local/lib/python3.7/dist-packages (from tfds-nightly) (1.15.0)\n",
            "Requirement already satisfied: zipp>=0.4; python_version < \"3.8\" in /usr/local/lib/python3.7/dist-packages (from importlib-resources; python_version < \"3.9\"->tfds-nightly) (3.4.1)\n",
            "Requirement already satisfied: certifi>=2017.4.17 in /usr/local/lib/python3.7/dist-packages (from requests>=2.19.0->tfds-nightly) (2020.12.5)\n",
            "Requirement already satisfied: urllib3!=1.25.0,!=1.25.1,<1.26,>=1.21.1 in /usr/local/lib/python3.7/dist-packages (from requests>=2.19.0->tfds-nightly) (1.24.3)\n",
            "Requirement already satisfied: chardet<4,>=3.0.2 in /usr/local/lib/python3.7/dist-packages (from requests>=2.19.0->tfds-nightly) (3.0.4)\n",
            "Requirement already satisfied: idna<3,>=2.5 in /usr/local/lib/python3.7/dist-packages (from requests>=2.19.0->tfds-nightly) (2.10)\n",
            "Requirement already satisfied: setuptools in /usr/local/lib/python3.7/dist-packages (from protobuf>=3.12.2->tfds-nightly) (54.0.0)\n",
            "Requirement already satisfied: googleapis-common-protos<2,>=1.52.0 in /usr/local/lib/python3.7/dist-packages (from tensorflow-metadata->tfds-nightly) (1.53.0)\n",
            "Requirement already satisfied: pydub in /usr/local/lib/python3.7/dist-packages (0.25.1)\n",
            "Requirement already satisfied: tensorflow_io in /usr/local/lib/python3.7/dist-packages (0.17.0)\n",
            "Requirement already satisfied: tensorflow<2.5.0,>=2.4.0 in /usr/local/lib/python3.7/dist-packages (from tensorflow_io) (2.4.1)\n",
            "Requirement already satisfied: tensorflow-estimator<2.5.0,>=2.4.0 in /usr/local/lib/python3.7/dist-packages (from tensorflow<2.5.0,>=2.4.0->tensorflow_io) (2.4.0)\n",
            "Requirement already satisfied: protobuf>=3.9.2 in /usr/local/lib/python3.7/dist-packages (from tensorflow<2.5.0,>=2.4.0->tensorflow_io) (3.12.4)\n",
            "Requirement already satisfied: six~=1.15.0 in /usr/local/lib/python3.7/dist-packages (from tensorflow<2.5.0,>=2.4.0->tensorflow_io) (1.15.0)\n",
            "Requirement already satisfied: astunparse~=1.6.3 in /usr/local/lib/python3.7/dist-packages (from tensorflow<2.5.0,>=2.4.0->tensorflow_io) (1.6.3)\n",
            "Requirement already satisfied: wheel~=0.35 in /usr/local/lib/python3.7/dist-packages (from tensorflow<2.5.0,>=2.4.0->tensorflow_io) (0.36.2)\n",
            "Requirement already satisfied: opt-einsum~=3.3.0 in /usr/local/lib/python3.7/dist-packages (from tensorflow<2.5.0,>=2.4.0->tensorflow_io) (3.3.0)\n",
            "Requirement already satisfied: google-pasta~=0.2 in /usr/local/lib/python3.7/dist-packages (from tensorflow<2.5.0,>=2.4.0->tensorflow_io) (0.2.0)\n",
            "Requirement already satisfied: flatbuffers~=1.12.0 in /usr/local/lib/python3.7/dist-packages (from tensorflow<2.5.0,>=2.4.0->tensorflow_io) (1.12)\n",
            "Requirement already satisfied: grpcio~=1.32.0 in /usr/local/lib/python3.7/dist-packages (from tensorflow<2.5.0,>=2.4.0->tensorflow_io) (1.32.0)\n",
            "Requirement already satisfied: typing-extensions~=3.7.4 in /usr/local/lib/python3.7/dist-packages (from tensorflow<2.5.0,>=2.4.0->tensorflow_io) (3.7.4.3)\n",
            "Requirement already satisfied: gast==0.3.3 in /usr/local/lib/python3.7/dist-packages (from tensorflow<2.5.0,>=2.4.0->tensorflow_io) (0.3.3)\n",
            "Requirement already satisfied: termcolor~=1.1.0 in /usr/local/lib/python3.7/dist-packages (from tensorflow<2.5.0,>=2.4.0->tensorflow_io) (1.1.0)\n",
            "Requirement already satisfied: tensorboard~=2.4 in /usr/local/lib/python3.7/dist-packages (from tensorflow<2.5.0,>=2.4.0->tensorflow_io) (2.4.1)\n",
            "Requirement already satisfied: numpy~=1.19.2 in /usr/local/lib/python3.7/dist-packages (from tensorflow<2.5.0,>=2.4.0->tensorflow_io) (1.19.5)\n",
            "Requirement already satisfied: h5py~=2.10.0 in /usr/local/lib/python3.7/dist-packages (from tensorflow<2.5.0,>=2.4.0->tensorflow_io) (2.10.0)\n",
            "Requirement already satisfied: absl-py~=0.10 in /usr/local/lib/python3.7/dist-packages (from tensorflow<2.5.0,>=2.4.0->tensorflow_io) (0.10.0)\n",
            "Requirement already satisfied: wrapt~=1.12.1 in /usr/local/lib/python3.7/dist-packages (from tensorflow<2.5.0,>=2.4.0->tensorflow_io) (1.12.1)\n",
            "Requirement already satisfied: keras-preprocessing~=1.1.2 in /usr/local/lib/python3.7/dist-packages (from tensorflow<2.5.0,>=2.4.0->tensorflow_io) (1.1.2)\n",
            "Requirement already satisfied: setuptools in /usr/local/lib/python3.7/dist-packages (from protobuf>=3.9.2->tensorflow<2.5.0,>=2.4.0->tensorflow_io) (54.0.0)\n",
            "Requirement already satisfied: markdown>=2.6.8 in /usr/local/lib/python3.7/dist-packages (from tensorboard~=2.4->tensorflow<2.5.0,>=2.4.0->tensorflow_io) (3.3.4)\n",
            "Requirement already satisfied: werkzeug>=0.11.15 in /usr/local/lib/python3.7/dist-packages (from tensorboard~=2.4->tensorflow<2.5.0,>=2.4.0->tensorflow_io) (1.0.1)\n",
            "Requirement already satisfied: tensorboard-plugin-wit>=1.6.0 in /usr/local/lib/python3.7/dist-packages (from tensorboard~=2.4->tensorflow<2.5.0,>=2.4.0->tensorflow_io) (1.8.0)\n",
            "Requirement already satisfied: requests<3,>=2.21.0 in /usr/local/lib/python3.7/dist-packages (from tensorboard~=2.4->tensorflow<2.5.0,>=2.4.0->tensorflow_io) (2.23.0)\n",
            "Requirement already satisfied: google-auth-oauthlib<0.5,>=0.4.1 in /usr/local/lib/python3.7/dist-packages (from tensorboard~=2.4->tensorflow<2.5.0,>=2.4.0->tensorflow_io) (0.4.3)\n",
            "Requirement already satisfied: google-auth<2,>=1.6.3 in /usr/local/lib/python3.7/dist-packages (from tensorboard~=2.4->tensorflow<2.5.0,>=2.4.0->tensorflow_io) (1.27.1)\n",
            "Requirement already satisfied: importlib-metadata; python_version < \"3.8\" in /usr/local/lib/python3.7/dist-packages (from markdown>=2.6.8->tensorboard~=2.4->tensorflow<2.5.0,>=2.4.0->tensorflow_io) (3.7.0)\n",
            "Requirement already satisfied: idna<3,>=2.5 in /usr/local/lib/python3.7/dist-packages (from requests<3,>=2.21.0->tensorboard~=2.4->tensorflow<2.5.0,>=2.4.0->tensorflow_io) (2.10)\n",
            "Requirement already satisfied: certifi>=2017.4.17 in /usr/local/lib/python3.7/dist-packages (from requests<3,>=2.21.0->tensorboard~=2.4->tensorflow<2.5.0,>=2.4.0->tensorflow_io) (2020.12.5)\n",
            "Requirement already satisfied: urllib3!=1.25.0,!=1.25.1,<1.26,>=1.21.1 in /usr/local/lib/python3.7/dist-packages (from requests<3,>=2.21.0->tensorboard~=2.4->tensorflow<2.5.0,>=2.4.0->tensorflow_io) (1.24.3)\n",
            "Requirement already satisfied: chardet<4,>=3.0.2 in /usr/local/lib/python3.7/dist-packages (from requests<3,>=2.21.0->tensorboard~=2.4->tensorflow<2.5.0,>=2.4.0->tensorflow_io) (3.0.4)\n",
            "Requirement already satisfied: requests-oauthlib>=0.7.0 in /usr/local/lib/python3.7/dist-packages (from google-auth-oauthlib<0.5,>=0.4.1->tensorboard~=2.4->tensorflow<2.5.0,>=2.4.0->tensorflow_io) (1.3.0)\n",
            "Requirement already satisfied: cachetools<5.0,>=2.0.0 in /usr/local/lib/python3.7/dist-packages (from google-auth<2,>=1.6.3->tensorboard~=2.4->tensorflow<2.5.0,>=2.4.0->tensorflow_io) (4.2.1)\n",
            "Requirement already satisfied: rsa<5,>=3.1.4; python_version >= \"3.6\" in /usr/local/lib/python3.7/dist-packages (from google-auth<2,>=1.6.3->tensorboard~=2.4->tensorflow<2.5.0,>=2.4.0->tensorflow_io) (4.7.2)\n",
            "Requirement already satisfied: pyasn1-modules>=0.2.1 in /usr/local/lib/python3.7/dist-packages (from google-auth<2,>=1.6.3->tensorboard~=2.4->tensorflow<2.5.0,>=2.4.0->tensorflow_io) (0.2.8)\n",
            "Requirement already satisfied: zipp>=0.5 in /usr/local/lib/python3.7/dist-packages (from importlib-metadata; python_version < \"3.8\"->markdown>=2.6.8->tensorboard~=2.4->tensorflow<2.5.0,>=2.4.0->tensorflow_io) (3.4.1)\n",
            "Requirement already satisfied: oauthlib>=3.0.0 in /usr/local/lib/python3.7/dist-packages (from requests-oauthlib>=0.7.0->google-auth-oauthlib<0.5,>=0.4.1->tensorboard~=2.4->tensorflow<2.5.0,>=2.4.0->tensorflow_io) (3.1.0)\n",
            "Requirement already satisfied: pyasn1>=0.1.3 in /usr/local/lib/python3.7/dist-packages (from rsa<5,>=3.1.4; python_version >= \"3.6\"->google-auth<2,>=1.6.3->tensorboard~=2.4->tensorflow<2.5.0,>=2.4.0->tensorflow_io) (0.4.8)\n"
          ],
          "name": "stdout"
        }
      ]
    },
    {
      "cell_type": "code",
      "metadata": {
        "id": "CaxFPa1ne2Xm"
      },
      "source": [
        "import tensorflow_datasets as tfds\n",
        "import tensorflow as tf\n",
        "import numpy as np\n",
        "import time\n",
        "import tensorflow_io as tfio"
      ],
      "execution_count": 171,
      "outputs": []
    },
    {
      "cell_type": "code",
      "metadata": {
        "colab": {
          "base_uri": "https://localhost:8080/"
        },
        "id": "GpLtjhXMepL-",
        "outputId": "f4a73916-4bdf-409a-9dd5-8038e0387a13"
      },
      "source": [
        "!git clone https://github.com/Jaidon-Smith/public_datasets.git"
      ],
      "execution_count": 172,
      "outputs": [
        {
          "output_type": "stream",
          "text": [
            "fatal: destination path 'public_datasets' already exists and is not an empty directory.\n"
          ],
          "name": "stdout"
        }
      ]
    },
    {
      "cell_type": "markdown",
      "metadata": {
        "id": "pkMA6i1TVy1S"
      },
      "source": [
        "# Building the Model"
      ]
    },
    {
      "cell_type": "code",
      "metadata": {
        "colab": {
          "base_uri": "https://localhost:8080/"
        },
        "id": "JBFpGwTo9kUs",
        "outputId": "e13a9fca-9dba-4481-ef09-78a050d20898"
      },
      "source": [
        "!pip install --quiet tensorflow-text\n",
        "\n",
        "import tensorflow_text as text\n",
        "from tensorflow.python.platform import gfile\n",
        "\n",
        "model_file = '/gdrive/MyDrive/datasets/hiragana_jsut.model'\n",
        "model = gfile.GFile(model_file, 'rb').read()\n",
        "\n",
        "tokenizer = text.SentencepieceTokenizer(model=model)\n",
        "\n",
        "input_vocab_size = tokenizer.vocab_size().numpy()\n",
        "print(input_vocab_size)"
      ],
      "execution_count": 173,
      "outputs": [
        {
          "output_type": "stream",
          "text": [
            "2000\n"
          ],
          "name": "stdout"
        }
      ]
    },
    {
      "cell_type": "markdown",
      "metadata": {
        "id": "SoclieqSYEcT"
      },
      "source": [
        "[This tutorial](https://www.tensorflow.org/tutorials/audio/simple_audio) has some good resources."
      ]
    },
    {
      "cell_type": "code",
      "metadata": {
        "id": "9CEiDbcZrLzK"
      },
      "source": [
        "import pickle\n",
        "jsut_speech_lengths = pickle.load(open('/gdrive/MyDrive/datasets/jsut_speech_lengths', \"rb\"))\n",
        "jsut_text_lengths = pickle.load(open('/gdrive/MyDrive/datasets/jsut_text_lengths', \"rb\"))"
      ],
      "execution_count": 174,
      "outputs": []
    },
    {
      "cell_type": "code",
      "metadata": {
        "colab": {
          "base_uri": "https://localhost:8080/"
        },
        "id": "zyeaq-FTCB7X",
        "outputId": "616143cc-7b03-4929-9c99-3f88e91024e8"
      },
      "source": [
        "!pip install pykakasi"
      ],
      "execution_count": 175,
      "outputs": [
        {
          "output_type": "stream",
          "text": [
            "Requirement already satisfied: pykakasi in /usr/local/lib/python3.7/dist-packages (2.0.6)\n",
            "Requirement already satisfied: klepto in /usr/local/lib/python3.7/dist-packages (from pykakasi) (0.2.0)\n",
            "Requirement already satisfied: importlib-metadata; python_version < \"3.8\" in /usr/local/lib/python3.7/dist-packages (from pykakasi) (3.7.0)\n",
            "Requirement already satisfied: dill>=0.3.3 in /usr/local/lib/python3.7/dist-packages (from klepto->pykakasi) (0.3.3)\n",
            "Requirement already satisfied: pox>=0.2.9 in /usr/local/lib/python3.7/dist-packages (from klepto->pykakasi) (0.2.9)\n",
            "Requirement already satisfied: typing-extensions>=3.6.4; python_version < \"3.8\" in /usr/local/lib/python3.7/dist-packages (from importlib-metadata; python_version < \"3.8\"->pykakasi) (3.7.4.3)\n",
            "Requirement already satisfied: zipp>=0.5 in /usr/local/lib/python3.7/dist-packages (from importlib-metadata; python_version < \"3.8\"->pykakasi) (3.4.1)\n"
          ],
          "name": "stdout"
        }
      ]
    },
    {
      "cell_type": "code",
      "metadata": {
        "colab": {
          "base_uri": "https://localhost:8080/"
        },
        "id": "aE-dmHaOEBG7",
        "outputId": "f933f145-e09e-4f7b-a4f2-d2593f0e7c46"
      },
      "source": [
        "tokenizer.tokenize(tf.constant(\"英語が分かりますか\"))"
      ],
      "execution_count": 176,
      "outputs": [
        {
          "output_type": "execute_result",
          "data": {
            "text/plain": [
              "<tf.Tensor: shape=(6,), dtype=int32, numpy=array([  2,   0,   5,   0, 388, 175], dtype=int32)>"
            ]
          },
          "metadata": {
            "tags": []
          },
          "execution_count": 176
        }
      ]
    },
    {
      "cell_type": "code",
      "metadata": {
        "id": "qhEjKJA_V2FF"
      },
      "source": [
        "#def preprocess_audio(old_audio):\n",
        "#  audio = old_audio/tf.int16.max\n",
        "#  audio = tf.cast(audio, tf.float32)\n",
        "#  audio = tfio.audio.resample(audio, 48000, 24000)\n",
        "#  audio = tf.signal.stft(audio, frame_length=511, frame_step=256)\n",
        "#  return audio"
      ],
      "execution_count": 177,
      "outputs": []
    },
    {
      "cell_type": "code",
      "metadata": {
        "id": "rWcfthvAEbZI"
      },
      "source": [
        "import pykakasi\n",
        "converter = pykakasi.kakasi()"
      ],
      "execution_count": 178,
      "outputs": []
    },
    {
      "cell_type": "code",
      "metadata": {
        "id": "154oNA4E6hEg"
      },
      "source": [
        "def preprocess_text(old_text):\n",
        "  text = old_text\n",
        "  #text = old_text.numpy()\n",
        "  #text = \n",
        "  #text = text.decode('utf-8')\n",
        "  text = tokenizer.tokenize(text)\n",
        "  text = tf.boolean_mask(text, text != 13305)\n",
        "  #text = text.to_tensor()\n",
        "  #text = tf.constant(text)\n",
        "  text = tf.pad(text, paddings=[[0 , 200 - tf.shape(text)[0]]])\n",
        "  return text"
      ],
      "execution_count": 179,
      "outputs": []
    },
    {
      "cell_type": "code",
      "metadata": {
        "id": "LiqQD4F8j8YJ"
      },
      "source": [
        "def preprocess_text_no_pad(old_text):\n",
        "  text = old_text\n",
        "  #text = old_text.numpy()\n",
        "  #text = \n",
        "  #text = text.decode('utf-8')\n",
        "  text = tokenizer.tokenize(text)\n",
        "  text = tf.boolean_mask(text, text != 13305)\n",
        "  #text = text.to_tensor()\n",
        "  #text = tf.constant(text)\n",
        "  #text = tf.pad(text, paddings=[[0 , 200 - tf.shape(text)[0]]])\n",
        "  text = tf.shape(text)[0]\n",
        "  return text"
      ],
      "execution_count": 180,
      "outputs": []
    },
    {
      "cell_type": "code",
      "metadata": {
        "id": "-zRglPY6J-A0"
      },
      "source": [
        "# For loop that I don't think will work\n",
        "#def preprocess_text(old_text):\n",
        "#  batch_size = \n",
        "#  output = \n",
        "#  text = old_text.numpy().decode('utf-8')\n",
        "#  text = tokenizer.tokenize(text)\n",
        "#  text = tf.constant(text)\n",
        "#  text = tf.pad(text, paddings=[[0 , 2000 - tf.shape(text)[0]]])\n",
        "#  return text"
      ],
      "execution_count": 181,
      "outputs": []
    },
    {
      "cell_type": "code",
      "metadata": {
        "id": "dds39VdzGE6W"
      },
      "source": [
        "#def preprocess_text_batches(old_text):\n",
        "#  return tf.map_fn(\n",
        "#    preprocess_text, old_text\n",
        "#)"
      ],
      "execution_count": 182,
      "outputs": []
    },
    {
      "cell_type": "code",
      "metadata": {
        "id": "4aKiQLe764QV"
      },
      "source": [
        "#text.numpy()[0].decode('utf-8')"
      ],
      "execution_count": 183,
      "outputs": []
    },
    {
      "cell_type": "code",
      "metadata": {
        "id": "MsVdkAhG4u6n"
      },
      "source": [
        "#dataset = dataset.map(lambda x: {\"id\": x[\"id\"], \"speech\": preprocess_audio(x[\"speech\"]), \"text\": x[\"text\"]})"
      ],
      "execution_count": 184,
      "outputs": []
    },
    {
      "cell_type": "code",
      "metadata": {
        "id": "5tx0_eBn4xRd"
      },
      "source": [
        "#jsut_speech_lengths = {}\n",
        "\n",
        "#for i, data in enumerate(dataset):\n",
        "  \n",
        "#  jsut_speech_lengths[data['id'].ref()] = data['speech'].shape[0]\n",
        "#  break"
      ],
      "execution_count": 185,
      "outputs": []
    },
    {
      "cell_type": "code",
      "metadata": {
        "id": "VxIOOV5_pS58"
      },
      "source": [
        "def preprocess_audio(old_audio):\n",
        "  audio = old_audio/tf.int16.max\n",
        "  audio = tf.cast(audio, tf.float32)\n",
        "  audio = tfio.audio.resample(audio, 48000, 24000)\n",
        "\n",
        "  #audio = tf.signal.stft(audio, frame_length=511, frame_step=256)\n",
        "  audio = tf.signal.stft(audio, frame_length=2047, frame_step=1024)\n",
        "\n",
        "  audio = tf.pad(audio, paddings=[[0 , 500 - tf.shape(audio)[0]], [0,0]])\n",
        "  return audio"
      ],
      "execution_count": 186,
      "outputs": []
    },
    {
      "cell_type": "code",
      "metadata": {
        "id": "nCRZuRVb4H_d"
      },
      "source": [
        "def preprocess_audio_no_pad(old_audio):\n",
        "  audio = old_audio/tf.int16.max\n",
        "  audio = tf.cast(audio, tf.float32)\n",
        "  audio = tfio.audio.resample(audio, 48000, 24000)\n",
        "\n",
        "  \n",
        "  #audio = tf.signal.stft(audio, frame_length=511, frame_step=256)\n",
        "  audio = tf.signal.stft(audio, frame_length=2047, frame_step=1024)\n",
        "\n",
        "  #audio = tf.pad(audio, paddings=[[0 , 2000 - tf.shape(audio)[0]], [0,0]])\n",
        "  audio = tf.shape(audio)[0]\n",
        "  return audio"
      ],
      "execution_count": 187,
      "outputs": []
    },
    {
      "cell_type": "markdown",
      "metadata": {
        "id": "31QwbiiB2EbV"
      },
      "source": [
        "\n",
        "\n",
        "```python\n",
        "def preprocess_audio_no_pad(old_audio):\n",
        "  audio = old_audio/tf.int16.max\n",
        "  audio = tf.cast(audio, tf.float32)\n",
        "  audio = tfio.audio.resample(audio, 48000, 24000)\n",
        "  audio = tf.signal.stft(audio, frame_length=511, frame_step=256)\n",
        "  #audio = tf.pad(audio, paddings=[[0 , 2000 - tf.shape(audio)[0]], [0,0]])\n",
        "  speech_lengths = tf.map_fn(lambda x: tf.shape(x)[0], audio, fn_output_signature=tf.int32)\n",
        "  return speech_lengths\n",
        "```\n",
        "\n"
      ]
    },
    {
      "cell_type": "code",
      "metadata": {
        "id": "SSaiGkuUZYFL"
      },
      "source": [
        "download_config = tfds.download.DownloadConfig(manual_dir='/gdrive/MyDrive/datasets/public_datasets/downloads/manual')\n",
        "\n",
        "dataset, info = tfds.load(\n",
        "                    \"jsut\",\n",
        "                    split=\"train\",\n",
        "                    data_dir='/gdrive/MyDrive/datasets/public_datasets',\n",
        "                    download_and_prepare_kwargs={\"download_config\": download_config},\n",
        "                    with_info = True)"
      ],
      "execution_count": 188,
      "outputs": []
    },
    {
      "cell_type": "code",
      "metadata": {
        "id": "p4dWKtfoEyKy"
      },
      "source": [
        "def convert_to_kana(text):\n",
        "  #kana = converter.convert('蝦夷に籠もる旧幕府軍に対する攻撃の指揮を執る。')\n",
        "  new_text = text.numpy().decode('utf-8')\n",
        "  kana = converter.convert(new_text)\n",
        "  return ''.join([i['hira'] for i in kana])"
      ],
      "execution_count": 189,
      "outputs": []
    },
    {
      "cell_type": "code",
      "metadata": {
        "id": "dsITXisWE81g"
      },
      "source": [
        "dataset = dataset.map(lambda x: {\"id\": x[\"id\"],\n",
        "                                 \"speech\": x[\"speech\"],\n",
        "                                 \"text\": tf.py_function(convert_to_kana, [x[\"text\"]], Tout=tf.string)})"
      ],
      "execution_count": 190,
      "outputs": []
    },
    {
      "cell_type": "markdown",
      "metadata": {
        "id": "VMO7sg0EDKwA"
      },
      "source": [
        "\n",
        "\n",
        "```python\n",
        "dataset = dataset.map(lambda x: {\"id\": x[\"id\"],\n",
        "                                 \"speech_lengths\": tf.py_function(func=preprocess_audio_no_pad, inp=[x[\"speech\"]],Tout=tf.int32),\n",
        "                                 \"speech\": preprocess_audio(x[\"speech\"]),\n",
        "                                 \"text\": preprocess_text(x[\"text\"])})\n",
        "```\n",
        "\n"
      ]
    },
    {
      "cell_type": "code",
      "metadata": {
        "id": "5TEZzObuMtUW"
      },
      "source": [
        "dataset = dataset.map(lambda x: {\"id\": x[\"id\"],\n",
        "                                 \"speech\": preprocess_audio(x[\"speech\"]),\n",
        "                                 \"speech_lengths\": preprocess_audio_no_pad(x[\"speech\"]),\n",
        "                                 \"text\": tf.py_function(preprocess_text, [x[\"text\"]], Tout=tf.int32),\n",
        "                                 \"text_lengths\": tf.py_function(preprocess_text_no_pad, [x[\"text\"]], Tout=tf.int32)})"
      ],
      "execution_count": 191,
      "outputs": []
    },
    {
      "cell_type": "code",
      "metadata": {
        "id": "YC_93d16BUsv"
      },
      "source": [
        "#dataset = dataset.map(lambda x: {\"id\": x[\"id\"],\n",
        "#                                 \"speech\": preprocess_audio(x[\"speech\"]),\n",
        "#                                 \"speech_lengths\": preprocess_audio_no_pad(x[\"speech\"]),\n",
        "#                                 \"text\": preprocess_text(x[\"text\"]),\n",
        "#                                 \"text_lengths\": preprocess_text_no_pad(x[\"text\"])})"
      ],
      "execution_count": 192,
      "outputs": []
    },
    {
      "cell_type": "code",
      "metadata": {
        "id": "Wx4B8-QkZcar"
      },
      "source": [
        "#dataset = dataset.map(lambda x: {\"id\": x[\"id\"], \"speech\": preprocess_audio(x[\"speech\"]), \"text\": x[\"text\"]})"
      ],
      "execution_count": 193,
      "outputs": []
    },
    {
      "cell_type": "code",
      "metadata": {
        "id": "htZ7O_L6ZPMm"
      },
      "source": [
        "dataset = dataset.batch(8)\n",
        "dataset = dataset.prefetch(tf.data.AUTOTUNE)"
      ],
      "execution_count": 194,
      "outputs": []
    },
    {
      "cell_type": "code",
      "metadata": {
        "id": "VXIFo8SjmVQF"
      },
      "source": [
        "#max = 0\n",
        "\n",
        "#for i, data in enumerate(dataset):\n",
        "#  value = data['speech'].shape[0]\n",
        "#  if value > max:\n",
        "#    max = value\n",
        "#    print(\"new max is:\", value, \"with id:\", data['id'].numpy())"
      ],
      "execution_count": 195,
      "outputs": []
    },
    {
      "cell_type": "code",
      "metadata": {
        "id": "_X-RuP9EZzE_"
      },
      "source": [
        "ds = dataset.take(1)"
      ],
      "execution_count": 196,
      "outputs": []
    },
    {
      "cell_type": "code",
      "metadata": {
        "id": "B0TKYDlcZ3As"
      },
      "source": [
        "for i in ds:\n",
        "  data = i\n",
        "  break"
      ],
      "execution_count": 197,
      "outputs": []
    },
    {
      "cell_type": "code",
      "metadata": {
        "colab": {
          "base_uri": "https://localhost:8080/"
        },
        "id": "Ucj0KrtIlpD6",
        "outputId": "950fb55c-41ea-4d70-f116-2917d7cfdf85"
      },
      "source": [
        "print(data[\"speech_lengths\"])"
      ],
      "execution_count": 198,
      "outputs": [
        {
          "output_type": "stream",
          "text": [
            "tf.Tensor([222 183  99 169  69 246 100 108], shape=(8,), dtype=int32)\n"
          ],
          "name": "stdout"
        }
      ]
    },
    {
      "cell_type": "code",
      "metadata": {
        "colab": {
          "base_uri": "https://localhost:8080/"
        },
        "id": "mdJoPZ8UaIoD",
        "outputId": "907f6192-bee6-4b1b-b918-ced4c71e2cf7"
      },
      "source": [
        "print(tf.shape(data['text']).numpy())"
      ],
      "execution_count": 199,
      "outputs": [
        {
          "output_type": "stream",
          "text": [
            "[  8 200]\n"
          ],
          "name": "stdout"
        }
      ]
    },
    {
      "cell_type": "code",
      "metadata": {
        "colab": {
          "base_uri": "https://localhost:8080/"
        },
        "id": "OwN7enziSxrh",
        "outputId": "f094cddc-eda6-4ee1-8c1f-ac53889bae6a"
      },
      "source": [
        "print(data['text'][0][:100])"
      ],
      "execution_count": 200,
      "outputs": [
        {
          "output_type": "stream",
          "text": [
            "tf.Tensor(\n",
            "[1543    1   12   23  166   39    6 1440   14    1  103   67   70  318\n",
            "  199   11    5  109   12  134    9   89    5    1  162  293 1933   15\n",
            "  801    1  158   10  130  789   31  142   14   58   10    4  614    0\n",
            "    0    0    0    0    0    0    0    0    0    0    0    0    0    0\n",
            "    0    0    0    0    0    0    0    0    0    0    0    0    0    0\n",
            "    0    0    0    0    0    0    0    0    0    0    0    0    0    0\n",
            "    0    0    0    0    0    0    0    0    0    0    0    0    0    0\n",
            "    0    0], shape=(100,), dtype=int32)\n"
          ],
          "name": "stdout"
        }
      ]
    },
    {
      "cell_type": "code",
      "metadata": {
        "colab": {
          "base_uri": "https://localhost:8080/"
        },
        "id": "tKIzjgLrXmIV",
        "outputId": "68b10d62-2643-4ac7-9101-5b7348de2471"
      },
      "source": [
        "input_vocab_size = tokenizer.vocab_size()\n",
        "print(input_vocab_size)"
      ],
      "execution_count": 201,
      "outputs": [
        {
          "output_type": "stream",
          "text": [
            "tf.Tensor(2000, shape=(), dtype=int32)\n"
          ],
          "name": "stdout"
        }
      ]
    },
    {
      "cell_type": "code",
      "metadata": {
        "id": "TTYxxxCjZcmb"
      },
      "source": [
        "speech = data['speech']\n",
        "text = data['text']\n",
        "id = data['id']\n",
        "speech_lengths = data['speech_lengths']\n",
        "text_lengths = data['text_lengths']"
      ],
      "execution_count": 202,
      "outputs": []
    },
    {
      "cell_type": "code",
      "metadata": {
        "colab": {
          "base_uri": "https://localhost:8080/"
        },
        "id": "5Rh0CHdEFTb0",
        "outputId": "29e65491-4abd-4677-de8a-e375ae957a56"
      },
      "source": [
        "text_lengths"
      ],
      "execution_count": 203,
      "outputs": [
        {
          "output_type": "execute_result",
          "data": {
            "text/plain": [
              "<tf.Tensor: shape=(8,), dtype=int32, numpy=array([42, 34, 21, 31, 14, 56, 23, 15], dtype=int32)>"
            ]
          },
          "metadata": {
            "tags": []
          },
          "execution_count": 203
        }
      ]
    },
    {
      "cell_type": "code",
      "metadata": {
        "colab": {
          "base_uri": "https://localhost:8080/"
        },
        "id": "tfMbccnjFX-1",
        "outputId": "f03b5066-17f3-476c-8e74-8847a06893b1"
      },
      "source": [
        "speech_lengths"
      ],
      "execution_count": 204,
      "outputs": [
        {
          "output_type": "execute_result",
          "data": {
            "text/plain": [
              "<tf.Tensor: shape=(8,), dtype=int32, numpy=array([222, 183,  99, 169,  69, 246, 100, 108], dtype=int32)>"
            ]
          },
          "metadata": {
            "tags": []
          },
          "execution_count": 204
        }
      ]
    },
    {
      "cell_type": "code",
      "metadata": {
        "id": "CjR6tUwbEclS",
        "outputId": "840164d1-4607-4e47-d434-bad369920497",
        "colab": {
          "base_uri": "https://localhost:8080/",
          "height": 103
        }
      },
      "source": [
        "tokenizer.detokenize(text.numpy()[1]).numpy().decode('utf-8')"
      ],
      "execution_count": 205,
      "outputs": [
        {
          "output_type": "execute_result",
          "data": {
            "application/vnd.google.colaboratory.intrinsic+json": {
              "type": "string"
            },
            "text/plain": [
              "'あおむけはねいすかとこ、あるいはすぐにたたみによこたわれるので、しょしんしゃがれんしゅうするのにもっともらくなしせいである ⁇  ⁇  ⁇  ⁇  ⁇  ⁇  ⁇  ⁇  ⁇  ⁇  ⁇  ⁇  ⁇  ⁇  ⁇  ⁇  ⁇  ⁇  ⁇  ⁇  ⁇  ⁇  ⁇  ⁇  ⁇  ⁇  ⁇  ⁇  ⁇  ⁇  ⁇  ⁇  ⁇  ⁇  ⁇  ⁇  ⁇  ⁇  ⁇  ⁇  ⁇  ⁇  ⁇  ⁇  ⁇  ⁇  ⁇  ⁇  ⁇  ⁇  ⁇  ⁇  ⁇  ⁇  ⁇  ⁇  ⁇  ⁇  ⁇  ⁇  ⁇  ⁇  ⁇  ⁇  ⁇  ⁇  ⁇  ⁇  ⁇  ⁇  ⁇  ⁇  ⁇  ⁇  ⁇  ⁇  ⁇  ⁇  ⁇  ⁇  ⁇  ⁇  ⁇  ⁇  ⁇  ⁇  ⁇  ⁇  ⁇  ⁇  ⁇  ⁇  ⁇  ⁇  ⁇  ⁇  ⁇  ⁇  ⁇  ⁇  ⁇  ⁇  ⁇  ⁇  ⁇  ⁇  ⁇  ⁇  ⁇  ⁇  ⁇  ⁇  ⁇  ⁇  ⁇  ⁇  ⁇  ⁇  ⁇  ⁇  ⁇  ⁇  ⁇  ⁇  ⁇  ⁇  ⁇  ⁇  ⁇  ⁇  ⁇  ⁇  ⁇  ⁇  ⁇  ⁇  ⁇  ⁇  ⁇  ⁇  ⁇  ⁇  ⁇  ⁇  ⁇  ⁇  ⁇  ⁇  ⁇  ⁇  ⁇  ⁇  ⁇  ⁇  ⁇  ⁇  ⁇  ⁇  ⁇  ⁇  ⁇  ⁇  ⁇  ⁇  ⁇  ⁇  ⁇ '"
            ]
          },
          "metadata": {
            "tags": []
          },
          "execution_count": 205
        }
      ]
    },
    {
      "cell_type": "markdown",
      "metadata": {
        "id": "-cjiiyX82XU5"
      },
      "source": [
        "# Using Transformer Encoder Blocks"
      ]
    },
    {
      "cell_type": "code",
      "metadata": {
        "id": "xCSRf4_0wZHZ"
      },
      "source": [
        "d_model = 512"
      ],
      "execution_count": 206,
      "outputs": []
    },
    {
      "cell_type": "code",
      "metadata": {
        "id": "CJ1HYBRd6NQu"
      },
      "source": [
        "def get_angles(pos, i, d_model):\n",
        "  angle_rates = 1 / np.power(10000, (2 * (i//2)) / np.float32(d_model))\n",
        "  return pos * angle_rates\n",
        "\n",
        "def positional_encoding(position, d_model):\n",
        "  angle_rads = get_angles(np.arange(position)[:, np.newaxis],\n",
        "                          np.arange(d_model)[np.newaxis, :],\n",
        "                          d_model)\n",
        "\n",
        "  # apply sin to even indices in the array; 2i\n",
        "  angle_rads[:, 0::2] = np.sin(angle_rads[:, 0::2])\n",
        "\n",
        "  # apply cos to odd indices in the array; 2i+1\n",
        "  angle_rads[:, 1::2] = np.cos(angle_rads[:, 1::2])\n",
        "\n",
        "  pos_encoding = angle_rads[np.newaxis, ...]\n",
        "\n",
        "  return tf.cast(pos_encoding, dtype=tf.float32)"
      ],
      "execution_count": 207,
      "outputs": []
    },
    {
      "cell_type": "code",
      "metadata": {
        "id": "_fHkHLsK22m5"
      },
      "source": [
        "def scaled_dot_product_attention(q, k, v):\n",
        "  \"\"\"Calculate the attention weights.\n",
        "  q, k, v must have matching leading dimensions.\n",
        "  k, v must have matching penultimate dimension, i.e.: seq_len_k = seq_len_v.\n",
        "  \n",
        "  Args:\n",
        "    q: query shape == (..., seq_len_q, depth)\n",
        "    k: key shape == (..., seq_len_k, depth)\n",
        "    v: value shape == (..., seq_len_v, depth_v)\n",
        "    \n",
        "  Returns:\n",
        "    output, attention_weights\n",
        "  \"\"\"\n",
        "\n",
        "  matmul_qk = tf.matmul(q, k, transpose_b=True)  # (..., seq_len_q, seq_len_k)\n",
        "  \n",
        "  # scale matmul_qk\n",
        "  dk = tf.cast(tf.shape(k)[-1], tf.float32)\n",
        "  scaled_attention_logits = matmul_qk / tf.math.sqrt(dk)\n",
        "\n",
        "\n",
        "  # softmax is normalized on the last axis (seq_len_k) so that the scores\n",
        "  # add up to 1.\n",
        "  attention_weights = tf.nn.softmax(scaled_attention_logits, axis=-1)  # (..., seq_len_q, seq_len_k)\n",
        "\n",
        "  output = tf.matmul(attention_weights, v)  # (..., seq_len_q, depth_v)\n",
        "\n",
        "  return output, attention_weights"
      ],
      "execution_count": 208,
      "outputs": []
    },
    {
      "cell_type": "code",
      "metadata": {
        "id": "wWLWmM3MPr5V"
      },
      "source": [
        "class MultiHeadAttention(tf.keras.layers.Layer):\n",
        "  def __init__(self, d_model, num_heads):\n",
        "    super(MultiHeadAttention, self).__init__()\n",
        "    self.num_heads = num_heads\n",
        "    self.d_model = d_model\n",
        "    \n",
        "    assert d_model % self.num_heads == 0\n",
        "    \n",
        "    self.depth = d_model // self.num_heads\n",
        "    \n",
        "    self.wq = tf.keras.layers.Dense(d_model)\n",
        "    self.wk = tf.keras.layers.Dense(d_model)\n",
        "    self.wv = tf.keras.layers.Dense(d_model)\n",
        "    \n",
        "    self.dense = tf.keras.layers.Dense(d_model)\n",
        "        \n",
        "  def split_heads(self, x, batch_size):\n",
        "    \"\"\"Split the last dimension into (num_heads, depth).\n",
        "    Transpose the result such that the shape is (batch_size, num_heads, seq_len, depth)\n",
        "    \"\"\"\n",
        "    x = tf.reshape(x, (batch_size, -1, self.num_heads, self.depth))\n",
        "    return tf.transpose(x, perm=[0, 2, 1, 3])\n",
        "    \n",
        "  def call(self, v, k, q):\n",
        "    batch_size = tf.shape(q)[0]\n",
        "    \n",
        "    q = self.wq(q)  # (batch_size, seq_len, d_model)\n",
        "    k = self.wk(k)  # (batch_size, seq_len, d_model)\n",
        "    v = self.wv(v)  # (batch_size, seq_len, d_model)\n",
        "    \n",
        "    q = self.split_heads(q, batch_size)  # (batch_size, num_heads, seq_len_q, depth)\n",
        "    k = self.split_heads(k, batch_size)  # (batch_size, num_heads, seq_len_k, depth)\n",
        "    v = self.split_heads(v, batch_size)  # (batch_size, num_heads, seq_len_v, depth)\n",
        "    \n",
        "    # scaled_attention.shape == (batch_size, num_heads, seq_len_q, depth)\n",
        "    # attention_weights.shape == (batch_size, num_heads, seq_len_q, seq_len_k)\n",
        "    scaled_attention, attention_weights = scaled_dot_product_attention(\n",
        "        q, k, v)\n",
        "    \n",
        "    scaled_attention = tf.transpose(scaled_attention, perm=[0, 2, 1, 3])  # (batch_size, seq_len_q, num_heads, depth)\n",
        "\n",
        "    concat_attention = tf.reshape(scaled_attention, \n",
        "                                  (batch_size, -1, self.d_model))  # (batch_size, seq_len_q, d_model)\n",
        "\n",
        "    output = self.dense(concat_attention)  # (batch_size, seq_len_q, d_model)\n",
        "        \n",
        "    return output, attention_weights"
      ],
      "execution_count": 209,
      "outputs": []
    },
    {
      "cell_type": "code",
      "metadata": {
        "id": "eR9vt3slYa6Z"
      },
      "source": [
        "def point_wise_feed_forward_network(d_model, dff):\n",
        "  return tf.keras.Sequential([\n",
        "      tf.keras.layers.Dense(dff, activation='relu'),  # (batch_size, seq_len, dff)\n",
        "      tf.keras.layers.Dense(d_model)  # (batch_size, seq_len, d_model)\n",
        "  ])"
      ],
      "execution_count": 210,
      "outputs": []
    },
    {
      "cell_type": "code",
      "metadata": {
        "id": "JpqOGPpKYfuf"
      },
      "source": [
        "class EncoderLayer(tf.keras.layers.Layer):\n",
        "  def __init__(self, d_model, num_heads, dff, rate=0.1):\n",
        "    super(EncoderLayer, self).__init__()\n",
        "\n",
        "    self.mha = MultiHeadAttention(d_model, num_heads)\n",
        "    self.ffn = point_wise_feed_forward_network(d_model, dff)\n",
        "\n",
        "    self.layernorm1 = tf.keras.layers.LayerNormalization(epsilon=1e-6)\n",
        "    self.layernorm2 = tf.keras.layers.LayerNormalization(epsilon=1e-6)\n",
        "    \n",
        "    self.dropout1 = tf.keras.layers.Dropout(rate)\n",
        "    self.dropout2 = tf.keras.layers.Dropout(rate)\n",
        "    \n",
        "  def call(self, x, training):\n",
        "\n",
        "    attn_output, _ = self.mha(x, x, x)  # (batch_size, input_seq_len, d_model)\n",
        "    attn_output = self.dropout1(attn_output, training=training)\n",
        "    out1 = self.layernorm1(x + attn_output)  # (batch_size, input_seq_len, d_model)\n",
        "    \n",
        "    ffn_output = self.ffn(out1)  # (batch_size, input_seq_len, d_model)\n",
        "    ffn_output = self.dropout2(ffn_output, training=training)\n",
        "    out2 = self.layernorm2(out1 + ffn_output)  # (batch_size, input_seq_len, d_model)\n",
        "    \n",
        "    return out2"
      ],
      "execution_count": 211,
      "outputs": []
    },
    {
      "cell_type": "code",
      "metadata": {
        "id": "F2lvYoMO4j1w"
      },
      "source": [
        "class Encoder(tf.keras.layers.Layer):\n",
        "  def __init__(self, num_layers, d_model, num_heads, dff,\n",
        "               maximum_position_encoding, rate=0.1):\n",
        "    super(Encoder, self).__init__()\n",
        "\n",
        "    self.d_model = d_model\n",
        "    self.num_layers = num_layers\n",
        "    \n",
        "    #self.embedding = tf.keras.layers.Embedding(input_vocab_size, d_model)\n",
        "    self.embedding = tf.keras.layers.Dense(d_model)\n",
        "\n",
        "    self.pos_encoding = positional_encoding(maximum_position_encoding, \n",
        "                                            self.d_model)\n",
        "    \n",
        "    \n",
        "    self.enc_layers = [EncoderLayer(d_model, num_heads, dff, rate) \n",
        "                       for _ in range(num_layers)]\n",
        "  \n",
        "    self.dropout = tf.keras.layers.Dropout(rate)\n",
        "        \n",
        "  def call(self, x, training=True):\n",
        "\n",
        "    seq_len = tf.shape(x)[1]\n",
        "    \n",
        "    # adding embedding and position encoding.\n",
        "    x = self.embedding(x)  # (batch_size, input_seq_len, d_model)\n",
        "    x *= tf.math.sqrt(tf.cast(self.d_model, tf.float32)) # Makes input larger by a constant\n",
        "    x += self.pos_encoding[:, :seq_len, :]\n",
        "\n",
        "    x = self.dropout(x, training=training)\n",
        "    \n",
        "    for i in range(self.num_layers):\n",
        "      x = self.enc_layers[i](x, training)\n",
        "    \n",
        "    return x  # (batch_size, input_seq_len, d_model)"
      ],
      "execution_count": 212,
      "outputs": []
    },
    {
      "cell_type": "code",
      "metadata": {
        "id": "rIkO24ZTsYng"
      },
      "source": [
        "class CustomSchedule(tf.keras.optimizers.schedules.LearningRateSchedule):\n",
        "  def __init__(self, d_model, warmup_steps=4000):\n",
        "    super(CustomSchedule, self).__init__()\n",
        "\n",
        "    self.d_model = d_model\n",
        "    self.d_model = tf.cast(self.d_model, tf.float32)\n",
        "\n",
        "    self.warmup_steps = warmup_steps\n",
        "\n",
        "  def __call__(self, step):\n",
        "    arg1 = tf.math.rsqrt(step)\n",
        "    arg2 = step * (self.warmup_steps ** -1.5)\n",
        "\n",
        "    return tf.math.rsqrt(self.d_model) * tf.math.minimum(arg1, arg2)"
      ],
      "execution_count": 213,
      "outputs": []
    },
    {
      "cell_type": "code",
      "metadata": {
        "id": "kFvfDRy_sgBc"
      },
      "source": [
        "learning_rate = CustomSchedule(d_model)\n",
        "\n",
        "optimizer = tf.keras.optimizers.Adam(learning_rate, beta_1=0.9, beta_2=0.98, \n",
        "                                     epsilon=1e-9)"
      ],
      "execution_count": 214,
      "outputs": []
    },
    {
      "cell_type": "code",
      "metadata": {
        "id": "MaKn44ztspmJ"
      },
      "source": [
        "train_loss = tf.keras.metrics.Mean(name='train_loss')"
      ],
      "execution_count": 215,
      "outputs": []
    },
    {
      "cell_type": "code",
      "metadata": {
        "id": "GVPnnLizwA3m"
      },
      "source": [
        "transformer = tf.keras.models.Sequential([\n",
        " \n",
        "  Encoder(num_layers=6,\n",
        "          d_model=d_model,\n",
        "          num_heads=8,\n",
        "          dff=2048, \n",
        "          maximum_position_encoding=10000),\n",
        " \n",
        "  tf.keras.layers.Dense(input_vocab_size)\n",
        "])"
      ],
      "execution_count": 216,
      "outputs": []
    },
    {
      "cell_type": "code",
      "metadata": {
        "colab": {
          "base_uri": "https://localhost:8080/"
        },
        "id": "1Y1kDSm9st_Q",
        "outputId": "d846cd93-5196-4804-8f31-be0940b40b5a"
      },
      "source": [
        "checkpoint_path = \"./checkpoints/train\"\n",
        "\n",
        "ckpt = tf.train.Checkpoint(transformer=transformer,\n",
        "                           optimizer=optimizer)\n",
        "\n",
        "ckpt_manager = tf.train.CheckpointManager(ckpt, checkpoint_path, max_to_keep=5)\n",
        "\n",
        "# if a checkpoint exists, restore the latest checkpoint.\n",
        "if ckpt_manager.latest_checkpoint:\n",
        "  ckpt.restore(ckpt_manager.latest_checkpoint)\n",
        "  print ('Latest checkpoint restored!!')"
      ],
      "execution_count": 226,
      "outputs": [
        {
          "output_type": "stream",
          "text": [
            "Latest checkpoint restored!!\n"
          ],
          "name": "stdout"
        }
      ]
    },
    {
      "cell_type": "code",
      "metadata": {
        "colab": {
          "base_uri": "https://localhost:8080/"
        },
        "id": "_Db9L3YS2qCw",
        "outputId": "152c4e7b-aac2-491c-cca5-665dcf9877ba"
      },
      "source": [
        "transformer(speech)"
      ],
      "execution_count": 218,
      "outputs": [
        {
          "output_type": "execute_result",
          "data": {
            "text/plain": [
              "<tf.Tensor: shape=(8, 500, 2000), dtype=float32, numpy=\n",
              "array([[[ 0.41312456,  0.17335455,  0.21648145, ..., -0.6306017 ,\n",
              "         -1.0144137 , -0.55112725],\n",
              "        [-0.36253595,  0.17980646, -0.01223516, ..., -0.45374295,\n",
              "         -0.757069  , -0.04717982],\n",
              "        [-0.47603858, -0.01441258, -0.14567396, ..., -0.45523688,\n",
              "         -0.05523258, -0.05984747],\n",
              "        ...,\n",
              "        [-0.4194007 ,  0.19080126,  0.7686843 , ..., -0.2120717 ,\n",
              "         -0.44347948, -0.16156998],\n",
              "        [-0.1806181 , -0.12277628, -0.04217309, ..., -0.39153045,\n",
              "         -0.3157879 , -0.3830186 ],\n",
              "        [ 0.10293049, -0.25740805,  0.37956312, ...,  0.09314437,\n",
              "         -0.36366427, -0.89920884]],\n",
              "\n",
              "       [[-0.32760516,  0.3277429 , -0.08602348, ..., -0.78594303,\n",
              "         -0.8697561 ,  0.02209514],\n",
              "        [-0.04658628, -0.43103957, -0.319681  , ..., -0.8724724 ,\n",
              "          0.12210236, -0.5773848 ],\n",
              "        [ 0.42660972, -0.75599563, -0.10544842, ..., -0.9825375 ,\n",
              "         -0.3502782 , -0.3830812 ],\n",
              "        ...,\n",
              "        [-0.02911294,  0.0458528 , -0.02657751, ..., -0.82966256,\n",
              "         -0.10055795, -0.33014178],\n",
              "        [-0.35326892, -0.7217595 ,  0.21228898, ..., -0.9922882 ,\n",
              "         -0.23422837, -0.33126327],\n",
              "        [ 0.08877741, -0.25445595,  0.2947759 , ..., -0.14598778,\n",
              "         -0.38187084, -0.21426418]],\n",
              "\n",
              "       [[ 0.5941428 ,  0.01236936,  0.18605545, ..., -1.1779791 ,\n",
              "          0.36251602, -0.5627128 ],\n",
              "        [ 0.41524434, -0.09809786,  0.20530003, ..., -0.48738706,\n",
              "         -0.31698066, -0.4166807 ],\n",
              "        [-0.20286766, -0.10418005,  0.6061103 , ..., -1.5025958 ,\n",
              "          0.15734616, -0.11290938],\n",
              "        ...,\n",
              "        [ 0.0544669 ,  0.33582056,  0.63841164, ..., -0.9682761 ,\n",
              "         -0.08284312, -0.36601466],\n",
              "        [ 0.2251173 , -0.12661387,  0.82012486, ..., -1.4524254 ,\n",
              "          0.39145717, -0.5597255 ],\n",
              "        [-0.2448568 ,  0.3117957 ,  0.5796437 , ..., -0.59987104,\n",
              "          0.37346387, -0.25767133]],\n",
              "\n",
              "       ...,\n",
              "\n",
              "       [[ 0.7285205 , -0.66925347, -0.38777646, ..., -0.51908433,\n",
              "          0.1167601 ,  0.77804536],\n",
              "        [ 0.19882578, -0.4057613 ,  0.44022316, ..., -0.5658148 ,\n",
              "          0.30225918, -0.20329183],\n",
              "        [-0.374501  , -0.5174575 ,  0.02581745, ..., -0.21636748,\n",
              "         -0.09654632,  0.0698154 ],\n",
              "        ...,\n",
              "        [-0.12390108, -0.74786234,  0.362858  , ..., -0.06511197,\n",
              "         -0.35580003,  0.32805964],\n",
              "        [-0.2725042 , -0.01007819, -0.17698723, ..., -0.35305327,\n",
              "         -0.02252228,  0.01195663],\n",
              "        [-0.37035027, -0.07572734, -0.2874654 , ..., -0.44207084,\n",
              "         -0.22211169,  0.08421487]],\n",
              "\n",
              "       [[ 0.3366935 , -0.7337282 ,  0.17863226, ..., -0.27887353,\n",
              "          0.25589386,  0.3396639 ],\n",
              "        [ 0.57659906,  0.04119802, -0.07882412, ..., -0.31918916,\n",
              "          0.6031369 , -0.23633453],\n",
              "        [ 0.86955   , -0.2194745 ,  0.07092655, ..., -0.8279686 ,\n",
              "          0.9765351 , -0.16348791],\n",
              "        ...,\n",
              "        [ 0.6712161 , -0.63298994,  0.33314246, ..., -0.35363504,\n",
              "          0.82283354,  0.19212732],\n",
              "        [ 0.97424376, -0.18788098,  0.254519  , ..., -0.47457796,\n",
              "          0.6816502 , -0.02553144],\n",
              "        [ 0.3752554 ,  0.03456494,  0.2877369 , ..., -0.39866787,\n",
              "          0.50283056, -0.11321293]],\n",
              "\n",
              "       [[-0.28464824, -0.13947439, -0.32976305, ..., -0.43327522,\n",
              "         -0.3426906 ,  0.6520443 ],\n",
              "        [-0.40158123, -0.41755447, -0.06334799, ..., -0.73769695,\n",
              "         -0.59765625,  0.27864483],\n",
              "        [-0.38394788,  0.58360016,  0.2517781 , ...,  0.05004472,\n",
              "          0.01844406,  0.29528368],\n",
              "        ...,\n",
              "        [ 0.01868051, -0.42320675,  0.37136292, ..., -0.8732734 ,\n",
              "         -0.4216004 ,  0.6473752 ],\n",
              "        [ 0.27353036, -0.08224113, -0.5805142 , ..., -0.44129026,\n",
              "         -0.57653636,  0.30022997],\n",
              "        [-0.09139256, -0.12637001, -0.44078857, ..., -0.36544994,\n",
              "         -0.17855404,  0.45445305]]], dtype=float32)>"
            ]
          },
          "metadata": {
            "tags": []
          },
          "execution_count": 218
        }
      ]
    },
    {
      "cell_type": "code",
      "metadata": {
        "id": "hXw3bhf7tGfJ"
      },
      "source": [
        "@tf.function\n",
        "def train_step(speech, text, speech_lengths, text_lengths):\n",
        "  with tf.GradientTape() as tape:\n",
        "    logits = transformer(speech)\n",
        "\n",
        "    labels = text\n",
        "    label_length = text_lengths\n",
        "    logit_length = speech_lengths\n",
        "    unique = tf.nn.ctc_unique_labels(text)\n",
        "\n",
        "\n",
        "    loss = tf.nn.ctc_loss(\n",
        "        labels=labels, logits=logits, label_length=label_length, logit_length=logit_length, logits_time_major=False, unique=unique,\n",
        "    )\n",
        "\n",
        "  gradients = tape.gradient(loss, transformer.trainable_variables)    \n",
        "  optimizer.apply_gradients(zip(gradients, transformer.trainable_variables))\n",
        "\n",
        "  train_loss(loss)"
      ],
      "execution_count": 227,
      "outputs": []
    },
    {
      "cell_type": "code",
      "metadata": {
        "id": "XsdWdYE11Kea"
      },
      "source": [
        "EPOCHS = 5"
      ],
      "execution_count": 228,
      "outputs": []
    },
    {
      "cell_type": "code",
      "metadata": {
        "colab": {
          "base_uri": "https://localhost:8080/",
          "height": 1000
        },
        "id": "AhEzjP3ztJYz",
        "outputId": "3fd06bcc-57c3-4448-bb1b-462e8c5c0d66"
      },
      "source": [
        "for epoch in range(EPOCHS):\n",
        "  start = time.time()\n",
        "\n",
        "  train_loss.reset_states()\n",
        "\n",
        "  # inp -> portuguese, tar -> english\n",
        "  for (batch, data) in enumerate(dataset):\n",
        "    #print(batch)\n",
        "    #if batch == 9:\n",
        "    #  print(tokenizer.detokenize(data['text']).numpy()[0].decode('utf-8'))\n",
        "    #  print(data['text'].numpy()[0])\n",
        "    #  continue\n",
        "\n",
        "    train_step(data['speech'], data['text'], data['speech_lengths'], data['text_lengths'])\n",
        "\n",
        "    if batch % 1 == 0:\n",
        "      print(f'Epoch {epoch + 1} Batch {batch} Loss {train_loss.result():.4f}')\n",
        "    if (batch + 1) % 20 == 0:\n",
        "      ckpt_save_path = ckpt_manager.save()\n",
        "      print (f'Saving checkpoint for batch {batch} at {ckpt_save_path}')\n",
        "\n",
        "  break\n",
        "  if (epoch + 1) % 5 == 0:\n",
        "    ckpt_save_path = ckpt_manager.save()\n",
        "    print (f'Saving checkpoint for epoch {epoch+1} at {ckpt_save_path}')\n",
        "\n",
        "  print(f'Epoch {epoch + 1} Loss {train_loss.result():.4f} Accuracy {train_accuracy.result():.4f}')\n",
        "\n",
        "  print(f'Time taken for 1 epoch: {time.time() - start:.2f} secs\\n')\n"
      ],
      "execution_count": 229,
      "outputs": [
        {
          "output_type": "stream",
          "text": [
            "Epoch 1 Batch 0 Loss 214.4406\n",
            "Epoch 1 Batch 1 Loss 178.4383\n",
            "Epoch 1 Batch 2 Loss 164.2824\n",
            "Epoch 1 Batch 3 Loss 177.2829\n",
            "Epoch 1 Batch 4 Loss 168.9137\n",
            "Epoch 1 Batch 5 Loss 169.8562\n",
            "Epoch 1 Batch 6 Loss 168.1096\n",
            "Epoch 1 Batch 7 Loss 163.2611\n",
            "Epoch 1 Batch 8 Loss 163.3279\n",
            "Epoch 1 Batch 9 Loss 164.6075\n",
            "Epoch 1 Batch 10 Loss 163.0068\n",
            "Epoch 1 Batch 11 Loss 161.0355\n",
            "Epoch 1 Batch 12 Loss 159.0959\n",
            "Epoch 1 Batch 13 Loss 157.0110\n",
            "Epoch 1 Batch 14 Loss 155.9013\n",
            "Epoch 1 Batch 15 Loss 156.8639\n",
            "Epoch 1 Batch 16 Loss 155.5773\n",
            "Epoch 1 Batch 17 Loss 153.8746\n",
            "Epoch 1 Batch 18 Loss 153.6978\n",
            "Epoch 1 Batch 19 Loss 153.3613\n",
            "Saving checkpoint for batch 19 at ./checkpoints/train/ckpt-2\n",
            "Epoch 1 Batch 20 Loss 151.2765\n",
            "Epoch 1 Batch 21 Loss 151.8852\n",
            "Epoch 1 Batch 22 Loss 149.8111\n",
            "Epoch 1 Batch 23 Loss 150.9459\n",
            "Epoch 1 Batch 24 Loss 149.9103\n",
            "Epoch 1 Batch 25 Loss 151.8314\n",
            "Epoch 1 Batch 26 Loss 152.2852\n",
            "Epoch 1 Batch 27 Loss 153.4854\n",
            "Epoch 1 Batch 28 Loss 153.8719\n",
            "Epoch 1 Batch 29 Loss 152.6958\n",
            "Epoch 1 Batch 30 Loss 153.5005\n",
            "Epoch 1 Batch 31 Loss 151.8304\n",
            "Epoch 1 Batch 32 Loss 152.0121\n",
            "Epoch 1 Batch 33 Loss 151.8753\n",
            "Epoch 1 Batch 34 Loss 150.5337\n",
            "Epoch 1 Batch 35 Loss 149.3668\n",
            "Epoch 1 Batch 36 Loss 148.3920\n",
            "Epoch 1 Batch 37 Loss 149.4221\n",
            "Epoch 1 Batch 38 Loss 148.5326\n",
            "Epoch 1 Batch 39 Loss 148.3879\n",
            "Saving checkpoint for batch 39 at ./checkpoints/train/ckpt-3\n",
            "Epoch 1 Batch 40 Loss 148.0195\n",
            "Epoch 1 Batch 41 Loss 147.7365\n",
            "Epoch 1 Batch 42 Loss 148.6581\n",
            "Epoch 1 Batch 43 Loss 148.1325\n",
            "Epoch 1 Batch 44 Loss 147.9626\n",
            "Epoch 1 Batch 45 Loss 146.9707\n",
            "Epoch 1 Batch 46 Loss 146.5029\n",
            "Epoch 1 Batch 47 Loss 145.7822\n",
            "Epoch 1 Batch 48 Loss 145.2895\n",
            "Epoch 1 Batch 49 Loss 144.9288\n",
            "Epoch 1 Batch 50 Loss 144.4690\n",
            "Epoch 1 Batch 51 Loss 143.7027\n",
            "Epoch 1 Batch 52 Loss 142.5932\n",
            "Epoch 1 Batch 53 Loss 142.5558\n",
            "Epoch 1 Batch 54 Loss 142.3600\n"
          ],
          "name": "stdout"
        },
        {
          "output_type": "error",
          "ename": "KeyboardInterrupt",
          "evalue": "ignored",
          "traceback": [
            "\u001b[0;31m---------------------------------------------------------------------------\u001b[0m",
            "\u001b[0;31mKeyboardInterrupt\u001b[0m                         Traceback (most recent call last)",
            "\u001b[0;32m<ipython-input-229-b7a49a90e889>\u001b[0m in \u001b[0;36m<module>\u001b[0;34m()\u001b[0m\n\u001b[1;32m     12\u001b[0m     \u001b[0;31m#  continue\u001b[0m\u001b[0;34m\u001b[0m\u001b[0;34m\u001b[0m\u001b[0;34m\u001b[0m\u001b[0m\n\u001b[1;32m     13\u001b[0m \u001b[0;34m\u001b[0m\u001b[0m\n\u001b[0;32m---> 14\u001b[0;31m     \u001b[0mtrain_step\u001b[0m\u001b[0;34m(\u001b[0m\u001b[0mdata\u001b[0m\u001b[0;34m[\u001b[0m\u001b[0;34m'speech'\u001b[0m\u001b[0;34m]\u001b[0m\u001b[0;34m,\u001b[0m \u001b[0mdata\u001b[0m\u001b[0;34m[\u001b[0m\u001b[0;34m'text'\u001b[0m\u001b[0;34m]\u001b[0m\u001b[0;34m,\u001b[0m \u001b[0mdata\u001b[0m\u001b[0;34m[\u001b[0m\u001b[0;34m'speech_lengths'\u001b[0m\u001b[0;34m]\u001b[0m\u001b[0;34m,\u001b[0m \u001b[0mdata\u001b[0m\u001b[0;34m[\u001b[0m\u001b[0;34m'text_lengths'\u001b[0m\u001b[0;34m]\u001b[0m\u001b[0;34m)\u001b[0m\u001b[0;34m\u001b[0m\u001b[0;34m\u001b[0m\u001b[0m\n\u001b[0m\u001b[1;32m     15\u001b[0m \u001b[0;34m\u001b[0m\u001b[0m\n\u001b[1;32m     16\u001b[0m     \u001b[0;32mif\u001b[0m \u001b[0mbatch\u001b[0m \u001b[0;34m%\u001b[0m \u001b[0;36m1\u001b[0m \u001b[0;34m==\u001b[0m \u001b[0;36m0\u001b[0m\u001b[0;34m:\u001b[0m\u001b[0;34m\u001b[0m\u001b[0;34m\u001b[0m\u001b[0m\n",
            "\u001b[0;32m/usr/local/lib/python3.7/dist-packages/tensorflow/python/eager/def_function.py\u001b[0m in \u001b[0;36m__call__\u001b[0;34m(self, *args, **kwds)\u001b[0m\n\u001b[1;32m    826\u001b[0m     \u001b[0mtracing_count\u001b[0m \u001b[0;34m=\u001b[0m \u001b[0mself\u001b[0m\u001b[0;34m.\u001b[0m\u001b[0mexperimental_get_tracing_count\u001b[0m\u001b[0;34m(\u001b[0m\u001b[0;34m)\u001b[0m\u001b[0;34m\u001b[0m\u001b[0;34m\u001b[0m\u001b[0m\n\u001b[1;32m    827\u001b[0m     \u001b[0;32mwith\u001b[0m \u001b[0mtrace\u001b[0m\u001b[0;34m.\u001b[0m\u001b[0mTrace\u001b[0m\u001b[0;34m(\u001b[0m\u001b[0mself\u001b[0m\u001b[0;34m.\u001b[0m\u001b[0m_name\u001b[0m\u001b[0;34m)\u001b[0m \u001b[0;32mas\u001b[0m \u001b[0mtm\u001b[0m\u001b[0;34m:\u001b[0m\u001b[0;34m\u001b[0m\u001b[0;34m\u001b[0m\u001b[0m\n\u001b[0;32m--> 828\u001b[0;31m       \u001b[0mresult\u001b[0m \u001b[0;34m=\u001b[0m \u001b[0mself\u001b[0m\u001b[0;34m.\u001b[0m\u001b[0m_call\u001b[0m\u001b[0;34m(\u001b[0m\u001b[0;34m*\u001b[0m\u001b[0margs\u001b[0m\u001b[0;34m,\u001b[0m \u001b[0;34m**\u001b[0m\u001b[0mkwds\u001b[0m\u001b[0;34m)\u001b[0m\u001b[0;34m\u001b[0m\u001b[0;34m\u001b[0m\u001b[0m\n\u001b[0m\u001b[1;32m    829\u001b[0m       \u001b[0mcompiler\u001b[0m \u001b[0;34m=\u001b[0m \u001b[0;34m\"xla\"\u001b[0m \u001b[0;32mif\u001b[0m \u001b[0mself\u001b[0m\u001b[0;34m.\u001b[0m\u001b[0m_experimental_compile\u001b[0m \u001b[0;32melse\u001b[0m \u001b[0;34m\"nonXla\"\u001b[0m\u001b[0;34m\u001b[0m\u001b[0;34m\u001b[0m\u001b[0m\n\u001b[1;32m    830\u001b[0m       \u001b[0mnew_tracing_count\u001b[0m \u001b[0;34m=\u001b[0m \u001b[0mself\u001b[0m\u001b[0;34m.\u001b[0m\u001b[0mexperimental_get_tracing_count\u001b[0m\u001b[0;34m(\u001b[0m\u001b[0;34m)\u001b[0m\u001b[0;34m\u001b[0m\u001b[0;34m\u001b[0m\u001b[0m\n",
            "\u001b[0;32m/usr/local/lib/python3.7/dist-packages/tensorflow/python/eager/def_function.py\u001b[0m in \u001b[0;36m_call\u001b[0;34m(self, *args, **kwds)\u001b[0m\n\u001b[1;32m    860\u001b[0m       \u001b[0;31m# In this case we have not created variables on the first call. So we can\u001b[0m\u001b[0;34m\u001b[0m\u001b[0;34m\u001b[0m\u001b[0;34m\u001b[0m\u001b[0m\n\u001b[1;32m    861\u001b[0m       \u001b[0;31m# run the first trace but we should fail if variables are created.\u001b[0m\u001b[0;34m\u001b[0m\u001b[0;34m\u001b[0m\u001b[0;34m\u001b[0m\u001b[0m\n\u001b[0;32m--> 862\u001b[0;31m       \u001b[0mresults\u001b[0m \u001b[0;34m=\u001b[0m \u001b[0mself\u001b[0m\u001b[0;34m.\u001b[0m\u001b[0m_stateful_fn\u001b[0m\u001b[0;34m(\u001b[0m\u001b[0;34m*\u001b[0m\u001b[0margs\u001b[0m\u001b[0;34m,\u001b[0m \u001b[0;34m**\u001b[0m\u001b[0mkwds\u001b[0m\u001b[0;34m)\u001b[0m\u001b[0;34m\u001b[0m\u001b[0;34m\u001b[0m\u001b[0m\n\u001b[0m\u001b[1;32m    863\u001b[0m       \u001b[0;32mif\u001b[0m \u001b[0mself\u001b[0m\u001b[0;34m.\u001b[0m\u001b[0m_created_variables\u001b[0m\u001b[0;34m:\u001b[0m\u001b[0;34m\u001b[0m\u001b[0;34m\u001b[0m\u001b[0m\n\u001b[1;32m    864\u001b[0m         raise ValueError(\"Creating variables on a non-first call to a function\"\n",
            "\u001b[0;32m/usr/local/lib/python3.7/dist-packages/tensorflow/python/eager/function.py\u001b[0m in \u001b[0;36m__call__\u001b[0;34m(self, *args, **kwargs)\u001b[0m\n\u001b[1;32m   2941\u001b[0m        filtered_flat_args) = self._maybe_define_function(args, kwargs)\n\u001b[1;32m   2942\u001b[0m     return graph_function._call_flat(\n\u001b[0;32m-> 2943\u001b[0;31m         filtered_flat_args, captured_inputs=graph_function.captured_inputs)  # pylint: disable=protected-access\n\u001b[0m\u001b[1;32m   2944\u001b[0m \u001b[0;34m\u001b[0m\u001b[0m\n\u001b[1;32m   2945\u001b[0m   \u001b[0;34m@\u001b[0m\u001b[0mproperty\u001b[0m\u001b[0;34m\u001b[0m\u001b[0;34m\u001b[0m\u001b[0m\n",
            "\u001b[0;32m/usr/local/lib/python3.7/dist-packages/tensorflow/python/eager/function.py\u001b[0m in \u001b[0;36m_call_flat\u001b[0;34m(self, args, captured_inputs, cancellation_manager)\u001b[0m\n\u001b[1;32m   1917\u001b[0m       \u001b[0;31m# No tape is watching; skip to running the function.\u001b[0m\u001b[0;34m\u001b[0m\u001b[0;34m\u001b[0m\u001b[0;34m\u001b[0m\u001b[0m\n\u001b[1;32m   1918\u001b[0m       return self._build_call_outputs(self._inference_function.call(\n\u001b[0;32m-> 1919\u001b[0;31m           ctx, args, cancellation_manager=cancellation_manager))\n\u001b[0m\u001b[1;32m   1920\u001b[0m     forward_backward = self._select_forward_and_backward_functions(\n\u001b[1;32m   1921\u001b[0m         \u001b[0margs\u001b[0m\u001b[0;34m,\u001b[0m\u001b[0;34m\u001b[0m\u001b[0;34m\u001b[0m\u001b[0m\n",
            "\u001b[0;32m/usr/local/lib/python3.7/dist-packages/tensorflow/python/eager/function.py\u001b[0m in \u001b[0;36mcall\u001b[0;34m(self, ctx, args, cancellation_manager)\u001b[0m\n\u001b[1;32m    558\u001b[0m               \u001b[0minputs\u001b[0m\u001b[0;34m=\u001b[0m\u001b[0margs\u001b[0m\u001b[0;34m,\u001b[0m\u001b[0;34m\u001b[0m\u001b[0;34m\u001b[0m\u001b[0m\n\u001b[1;32m    559\u001b[0m               \u001b[0mattrs\u001b[0m\u001b[0;34m=\u001b[0m\u001b[0mattrs\u001b[0m\u001b[0;34m,\u001b[0m\u001b[0;34m\u001b[0m\u001b[0;34m\u001b[0m\u001b[0m\n\u001b[0;32m--> 560\u001b[0;31m               ctx=ctx)\n\u001b[0m\u001b[1;32m    561\u001b[0m         \u001b[0;32melse\u001b[0m\u001b[0;34m:\u001b[0m\u001b[0;34m\u001b[0m\u001b[0;34m\u001b[0m\u001b[0m\n\u001b[1;32m    562\u001b[0m           outputs = execute.execute_with_cancellation(\n",
            "\u001b[0;32m/usr/local/lib/python3.7/dist-packages/tensorflow/python/eager/execute.py\u001b[0m in \u001b[0;36mquick_execute\u001b[0;34m(op_name, num_outputs, inputs, attrs, ctx, name)\u001b[0m\n\u001b[1;32m     58\u001b[0m     \u001b[0mctx\u001b[0m\u001b[0;34m.\u001b[0m\u001b[0mensure_initialized\u001b[0m\u001b[0;34m(\u001b[0m\u001b[0;34m)\u001b[0m\u001b[0;34m\u001b[0m\u001b[0;34m\u001b[0m\u001b[0m\n\u001b[1;32m     59\u001b[0m     tensors = pywrap_tfe.TFE_Py_Execute(ctx._handle, device_name, op_name,\n\u001b[0;32m---> 60\u001b[0;31m                                         inputs, attrs, num_outputs)\n\u001b[0m\u001b[1;32m     61\u001b[0m   \u001b[0;32mexcept\u001b[0m \u001b[0mcore\u001b[0m\u001b[0;34m.\u001b[0m\u001b[0m_NotOkStatusException\u001b[0m \u001b[0;32mas\u001b[0m \u001b[0me\u001b[0m\u001b[0;34m:\u001b[0m\u001b[0;34m\u001b[0m\u001b[0;34m\u001b[0m\u001b[0m\n\u001b[1;32m     62\u001b[0m     \u001b[0;32mif\u001b[0m \u001b[0mname\u001b[0m \u001b[0;32mis\u001b[0m \u001b[0;32mnot\u001b[0m \u001b[0;32mNone\u001b[0m\u001b[0;34m:\u001b[0m\u001b[0;34m\u001b[0m\u001b[0;34m\u001b[0m\u001b[0m\n",
            "\u001b[0;31mKeyboardInterrupt\u001b[0m: "
          ]
        }
      ]
    },
    {
      "cell_type": "code",
      "metadata": {
        "id": "MNRSr_-N6PIN"
      },
      "source": [
        "#"
      ],
      "execution_count": null,
      "outputs": []
    },
    {
      "cell_type": "markdown",
      "metadata": {
        "id": "Kms_j2DFSuuC"
      },
      "source": [
        "## CTC Loss"
      ]
    },
    {
      "cell_type": "markdown",
      "metadata": {
        "id": "jlaNl6yQHH5T"
      },
      "source": [
        "\n",
        "\n",
        "```python\n",
        "loss_object = tf.keras.losses.SparseCategoricalCrossentropy(\n",
        "    from_logits=True, reduction='none')\n",
        "\n",
        "def loss_function(real, pred):\n",
        "  mask = tf.math.logical_not(tf.math.equal(real, 0))\n",
        "  loss_ = loss_object(real, pred)\n",
        "\n",
        "  mask = tf.cast(mask, dtype=loss_.dtype)\n",
        "  loss_ *= mask\n",
        "\n",
        "  return tf.reduce_sum(loss_)/tf.reduce_sum(mask)\n",
        "\n",
        "\n",
        "def accuracy_function(real, pred):\n",
        "  accuracies = tf.equal(real, tf.argmax(pred, axis=2))\n",
        "\n",
        "  mask = tf.math.logical_not(tf.math.equal(real, 0))\n",
        "  accuracies = tf.math.logical_and(mask, accuracies)\n",
        "\n",
        "  accuracies = tf.cast(accuracies, dtype=tf.float32)\n",
        "  mask = tf.cast(mask, dtype=tf.float32)\n",
        "  return tf.reduce_sum(accuracies)/tf.reduce_sum(mask)\n",
        "\n",
        "train_loss = tf.keras.metrics.Mean(name='train_loss')\n",
        "train_accuracy = tf.keras.metrics.Mean(name='train_accuracy')\n",
        "```\n",
        "\n"
      ]
    },
    {
      "cell_type": "code",
      "metadata": {
        "id": "jX7iY_45Z5Bc"
      },
      "source": [
        "#dense1 = tf.keras.layers.Dense(input_vocab_size)"
      ],
      "execution_count": 53,
      "outputs": []
    },
    {
      "cell_type": "code",
      "metadata": {
        "id": "gpTmf2jMM3PM"
      },
      "source": [
        "dense1 = tf.keras.layers.Dense(2000)"
      ],
      "execution_count": 54,
      "outputs": []
    },
    {
      "cell_type": "code",
      "metadata": {
        "id": "U4Ix724hw3ED"
      },
      "source": [
        "dense1_speech = dense1(speech)"
      ],
      "execution_count": 55,
      "outputs": []
    },
    {
      "cell_type": "code",
      "metadata": {
        "colab": {
          "base_uri": "https://localhost:8080/"
        },
        "id": "09GXSsbaEcEp",
        "outputId": "c672b732-ceba-46e3-acc6-106a6474c3d7"
      },
      "source": [
        "dense1_speech.shape"
      ],
      "execution_count": 56,
      "outputs": [
        {
          "output_type": "execute_result",
          "data": {
            "text/plain": [
              "TensorShape([8, 500, 2000])"
            ]
          },
          "metadata": {
            "tags": []
          },
          "execution_count": 0
        }
      ]
    },
    {
      "cell_type": "markdown",
      "metadata": {
        "id": "eh6J6szNDgZd"
      },
      "source": [
        "\n",
        "\n",
        "```python\n",
        "text_lengths = tf.map_fn(lambda x: jsut_text_lengths[x.numpy().decode('utf-8')], id, fn_output_signature=tf.int32)\n",
        "\n",
        "speech_lengths = tf.map_fn(lambda x: jsut_speech_lengths[x.numpy().decode('utf-8')], id, fn_output_signature=tf.int32)\n",
        "```\n",
        "\n"
      ]
    },
    {
      "cell_type": "code",
      "metadata": {
        "id": "b93DtOvAS7mA",
        "colab": {
          "base_uri": "https://localhost:8080/"
        },
        "outputId": "370fcd49-1040-4dd9-c524-3ac201232666"
      },
      "source": [
        "labels = text\n",
        "logits = dense1_speech\n",
        "label_length = text_lengths\n",
        "logit_length = speech_lengths\n",
        "unique = tf.nn.ctc_unique_labels(text)\n",
        "\n",
        "\n",
        "loss = tf.nn.ctc_loss(\n",
        "    labels=labels, logits=logits, label_length=label_length, logit_length=logit_length, logits_time_major=False, unique=unique,\n",
        ")"
      ],
      "execution_count": 57,
      "outputs": [
        {
          "output_type": "stream",
          "text": [
            "WARNING:tensorflow:From /usr/local/lib/python3.7/dist-packages/tensorflow/python/ops/ctc_ops.py:1408: alias_inplace_add (from tensorflow.python.ops.inplace_ops) is deprecated and will be removed in a future version.\n",
            "Instructions for updating:\n",
            "Prefer tf.tensor_scatter_nd_add, which offers the same functionality with well-defined read-write semantics.\n"
          ],
          "name": "stdout"
        },
        {
          "output_type": "stream",
          "text": [
            "WARNING:tensorflow:From /usr/local/lib/python3.7/dist-packages/tensorflow/python/ops/ctc_ops.py:1408: alias_inplace_add (from tensorflow.python.ops.inplace_ops) is deprecated and will be removed in a future version.\n",
            "Instructions for updating:\n",
            "Prefer tf.tensor_scatter_nd_add, which offers the same functionality with well-defined read-write semantics.\n"
          ],
          "name": "stderr"
        },
        {
          "output_type": "stream",
          "text": [
            "WARNING:tensorflow:From /usr/local/lib/python3.7/dist-packages/tensorflow/python/ops/ctc_ops.py:1391: alias_inplace_update (from tensorflow.python.ops.inplace_ops) is deprecated and will be removed in a future version.\n",
            "Instructions for updating:\n",
            "Prefer tf.tensor_scatter_nd_update, which offers the same functionality with well-defined read-write semantics.\n"
          ],
          "name": "stdout"
        },
        {
          "output_type": "stream",
          "text": [
            "WARNING:tensorflow:From /usr/local/lib/python3.7/dist-packages/tensorflow/python/ops/ctc_ops.py:1391: alias_inplace_update (from tensorflow.python.ops.inplace_ops) is deprecated and will be removed in a future version.\n",
            "Instructions for updating:\n",
            "Prefer tf.tensor_scatter_nd_update, which offers the same functionality with well-defined read-write semantics.\n"
          ],
          "name": "stderr"
        }
      ]
    },
    {
      "cell_type": "code",
      "metadata": {
        "colab": {
          "base_uri": "https://localhost:8080/"
        },
        "id": "DgFfg-U7NOnN",
        "outputId": "47f06dcd-49f1-493d-f6ec-5bcc1be7915b"
      },
      "source": [
        "from tensorflow.python.client import device_lib\n",
        "device_lib.list_local_devices()"
      ],
      "execution_count": 220,
      "outputs": [
        {
          "output_type": "execute_result",
          "data": {
            "text/plain": [
              "[name: \"/device:CPU:0\"\n",
              " device_type: \"CPU\"\n",
              " memory_limit: 268435456\n",
              " locality {\n",
              " }\n",
              " incarnation: 15231431426790692306, name: \"/device:GPU:0\"\n",
              " device_type: \"GPU\"\n",
              " memory_limit: 14674281152\n",
              " locality {\n",
              "   bus_id: 1\n",
              "   links {\n",
              "   }\n",
              " }\n",
              " incarnation: 14610403557497353506\n",
              " physical_device_desc: \"device: 0, name: Tesla T4, pci bus id: 0000:00:04.0, compute capability: 7.5\"]"
            ]
          },
          "metadata": {
            "tags": []
          },
          "execution_count": 220
        }
      ]
    },
    {
      "cell_type": "code",
      "metadata": {
        "id": "pcQFbUjdCOE-"
      },
      "source": [
        "import pykakasi\n",
        "converter = pykakasi.kakasi()"
      ],
      "execution_count": 176,
      "outputs": []
    },
    {
      "cell_type": "code",
      "metadata": {
        "colab": {
          "base_uri": "https://localhost:8080/",
          "height": 35
        },
        "id": "ZAZCHeyTCd_l",
        "outputId": "56cb1818-40f3-43ef-e9ac-1d20cab368de"
      },
      "source": [
        "kana = converter.convert('蝦夷に籠もる旧幕府軍に対する攻撃の指揮を執る。')\n",
        "''.join([i['hira'] for i in kana])"
      ],
      "execution_count": 175,
      "outputs": [
        {
          "output_type": "execute_result",
          "data": {
            "application/vnd.google.colaboratory.intrinsic+json": {
              "type": "string"
            },
            "text/plain": [
              "'えぞにこもるきゅうばくふぐんにたいするこうげきのしきをとる。'"
            ]
          },
          "metadata": {
            "tags": []
          },
          "execution_count": 175
        }
      ]
    },
    {
      "cell_type": "code",
      "metadata": {
        "colab": {
          "base_uri": "https://localhost:8080/"
        },
        "id": "PCB8rPpXCC1y",
        "outputId": "08302100-7ba8-4004-d20e-565ef58ad6a4"
      },
      "source": [
        "kks.convert('蝦夷に籠もる旧幕府軍に対する攻撃の指揮を執る。')"
      ],
      "execution_count": 169,
      "outputs": [
        {
          "output_type": "execute_result",
          "data": {
            "text/plain": [
              "[{'hepburn': 'ezo',\n",
              "  'hira': 'えぞ',\n",
              "  'kana': 'エゾ',\n",
              "  'kunrei': 'ezo',\n",
              "  'orig': '蝦夷',\n",
              "  'passport': 'ezo'},\n",
              " {'hepburn': 'ni',\n",
              "  'hira': 'に',\n",
              "  'kana': 'ニ',\n",
              "  'kunrei': 'ni',\n",
              "  'orig': 'に',\n",
              "  'passport': 'ni'},\n",
              " {'hepburn': 'komo',\n",
              "  'hira': 'こも',\n",
              "  'kana': 'コモ',\n",
              "  'kunrei': 'komo',\n",
              "  'orig': '籠も',\n",
              "  'passport': 'komo'},\n",
              " {'hepburn': 'ru',\n",
              "  'hira': 'る',\n",
              "  'kana': 'ル',\n",
              "  'kunrei': 'ru',\n",
              "  'orig': 'る',\n",
              "  'passport': 'ru'},\n",
              " {'hepburn': 'kyuu',\n",
              "  'hira': 'きゅう',\n",
              "  'kana': 'キュウ',\n",
              "  'kunrei': 'kyuu',\n",
              "  'orig': '旧',\n",
              "  'passport': 'kyuu'},\n",
              " {'hepburn': 'bakufu',\n",
              "  'hira': 'ばくふ',\n",
              "  'kana': 'バクフ',\n",
              "  'kunrei': 'bakufu',\n",
              "  'orig': '幕府',\n",
              "  'passport': 'bakufu'},\n",
              " {'hepburn': 'gun',\n",
              "  'hira': 'ぐん',\n",
              "  'kana': 'グン',\n",
              "  'kunrei': 'gun',\n",
              "  'orig': '軍',\n",
              "  'passport': 'gun'},\n",
              " {'hepburn': 'ni',\n",
              "  'hira': 'に',\n",
              "  'kana': 'ニ',\n",
              "  'kunrei': 'ni',\n",
              "  'orig': 'に',\n",
              "  'passport': 'ni'},\n",
              " {'hepburn': 'taisuru',\n",
              "  'hira': 'たいする',\n",
              "  'kana': 'タイスル',\n",
              "  'kunrei': 'taisuru',\n",
              "  'orig': '対する',\n",
              "  'passport': 'taisuru'},\n",
              " {'hepburn': 'kougeki',\n",
              "  'hira': 'こうげき',\n",
              "  'kana': 'コウゲキ',\n",
              "  'kunrei': 'kougeki',\n",
              "  'orig': '攻撃',\n",
              "  'passport': 'kogeki'},\n",
              " {'hepburn': 'no',\n",
              "  'hira': 'の',\n",
              "  'kana': 'ノ',\n",
              "  'kunrei': 'no',\n",
              "  'orig': 'の',\n",
              "  'passport': 'no'},\n",
              " {'hepburn': 'shiki',\n",
              "  'hira': 'しき',\n",
              "  'kana': 'シキ',\n",
              "  'kunrei': 'siki',\n",
              "  'orig': '指揮',\n",
              "  'passport': 'shiki'},\n",
              " {'hepburn': 'wo',\n",
              "  'hira': 'を',\n",
              "  'kana': 'ヲ',\n",
              "  'kunrei': 'wo',\n",
              "  'orig': 'を',\n",
              "  'passport': 'wo'},\n",
              " {'hepburn': 'toru',\n",
              "  'hira': 'とる',\n",
              "  'kana': 'トル',\n",
              "  'kunrei': 'toru',\n",
              "  'orig': '執る',\n",
              "  'passport': 'toru'},\n",
              " {'hepburn': '.',\n",
              "  'hira': '。',\n",
              "  'kana': '。',\n",
              "  'kunrei': '.',\n",
              "  'orig': '。',\n",
              "  'passport': '.'}]"
            ]
          },
          "metadata": {
            "tags": []
          },
          "execution_count": 169
        }
      ]
    },
    {
      "cell_type": "code",
      "metadata": {
        "id": "EvCWm5_LC7Ex"
      },
      "source": [
        ""
      ],
      "execution_count": null,
      "outputs": []
    }
  ]
}