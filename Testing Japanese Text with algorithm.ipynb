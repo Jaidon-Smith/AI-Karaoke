{
  "nbformat": 4,
  "nbformat_minor": 0,
  "metadata": {
    "colab": {
      "name": "Untitled36.ipynb",
      "provenance": [],
      "collapsed_sections": [],
      "authorship_tag": "ABX9TyOyndpbWoiYA/Cbn2ir9iT/",
      "include_colab_link": true
    },
    "kernelspec": {
      "name": "python3",
      "display_name": "Python 3"
    },
    "language_info": {
      "name": "python"
    }
  },
  "cells": [
    {
      "cell_type": "markdown",
      "metadata": {
        "id": "view-in-github",
        "colab_type": "text"
      },
      "source": [
        "<a href=\"https://colab.research.google.com/github/Jaidon-Smith/AI-Karaoke/blob/jupyter/Testing%20Japanese%20Text%20with%20algorithm.ipynb\" target=\"_parent\"><img src=\"https://colab.research.google.com/assets/colab-badge.svg\" alt=\"Open In Colab\"/></a>"
      ]
    },
    {
      "cell_type": "code",
      "metadata": {
        "id": "k6z2hjbW4lip"
      },
      "source": [
        "sounds = {'あ' : 'ah',\n",
        "'ぁ' : 'ah',\n",
        "'い' : 'ee',\n",
        "'う' : 'oo',\n",
        "'え' : 'eh',\n",
        "'お' : 'oh',\n",
        "'ぉ' : 'oh',\n",
        "'か' : 'kah',\n",
        "'き' : 'kee',\n",
        "'く' : 'koo',\n",
        "'け' : 'keh',\n",
        "'こ' : 'koh',\n",
        "'さ' : 'sah',\n",
        "'し' : 'shee',\n",
        "'す' : 'soo',\n",
        "'せ' : 'seh',\n",
        "'そ' : 'soh',\n",
        "'た' : 'tah',\n",
        "'ち' : 'chee',\n",
        "'つ' : 'tsoo',\n",
        "'て' : 'teh',\n",
        "'と' : 'toh',\n",
        "'な' : 'nah',\n",
        "'に' : 'nee',\n",
        "'ぬ' : 'noo',\n",
        "'ね' : 'neh',\n",
        "'の' : 'noh',\n",
        "'は' : 'hah',\n",
        "'ひ' : 'hee',\n",
        "'ふ' : 'foo',\n",
        "'へ' : 'heh',\n",
        "'ほ' : 'hoh',\n",
        "'ま' : 'mah',\n",
        "'み' : 'mee',\n",
        "'む' : 'moo',\n",
        "'め' : 'meh',\n",
        "'も' : 'moh',\n",
        "'や' : 'yah',\n",
        "'ゆ' : 'yoo',\n",
        "'よ' : 'yoh',\n",
        "'ゃ' : 'yah',\n",
        "'ゅ' : 'yoo',\n",
        "'ょ' : 'yoh',\n",
        "'ら' : 'rah',\n",
        "'り' : 'ree',\n",
        "'る' : 'roo',\n",
        "'れ' : 'reh',\n",
        "'ろ' : 'roh',\n",
        "'わ' : 'wa',\n",
        "'を' : 'oh',\n",
        "'ん' : 'n',\n",
        "'ぱ' : 'pah',\n",
        "'ぴ' : 'pee',\n",
        "'ぷ' : 'poo',\n",
        "'ぺ' : 'peh',\n",
        "'ぽ' : 'poh',\n",
        "'ば' : 'bah',\n",
        "'び' : 'bee',\n",
        "'ぶ' : 'boo',\n",
        "'べ' : 'beh',\n",
        "'ぼ' : 'boh',\n",
        "'だ' : 'dah',\n",
        "'ぢ' : 'dee',\n",
        "'づ' : 'doo',\n",
        "'で' : 'deh',\n",
        "'ど' : 'doh',\n",
        "'ざ' : 'zah',\n",
        "'じ' : 'jee',\n",
        "'ず' : 'zoo',\n",
        "'ぜ' : 'zeh',\n",
        "'ぞ' : 'zoh',\n",
        "'が' : 'gah',\n",
        "'ぎ' : 'gee',\n",
        "'ぐ' : 'goo',\n",
        "'げ' : 'geh',\n",
        "'ご' : 'goh',}"
      ],
      "execution_count": 2,
      "outputs": []
    },
    {
      "cell_type": "code",
      "metadata": {
        "colab": {
          "base_uri": "https://localhost:8080/"
        },
        "id": "10XHy55kynGw",
        "outputId": "817187c8-aa63-408b-f4f2-abcc84216c56"
      },
      "source": [
        "!pip install pykakasi"
      ],
      "execution_count": 3,
      "outputs": [
        {
          "output_type": "stream",
          "text": [
            "Collecting pykakasi\n",
            "\u001b[?25l  Downloading https://files.pythonhosted.org/packages/03/67/aada7df1bb77b80ce7387386b5562da7d0404a03f0a4f200d9d87dcc04d6/pykakasi-2.1.0-py3-none-any.whl (1.3MB)\n",
            "\u001b[K     |████████████████████████████████| 1.3MB 3.7MB/s \n",
            "\u001b[?25hCollecting deprecated\n",
            "  Downloading https://files.pythonhosted.org/packages/fb/73/994edfcba74443146c84b91921fcc269374354118d4f452fb0c54c1cbb12/Deprecated-1.2.12-py2.py3-none-any.whl\n",
            "Requirement already satisfied: importlib-metadata; python_version < \"3.8\" in /usr/local/lib/python3.7/dist-packages (from pykakasi) (3.10.1)\n",
            "Requirement already satisfied: wrapt<2,>=1.10 in /usr/local/lib/python3.7/dist-packages (from deprecated->pykakasi) (1.12.1)\n",
            "Requirement already satisfied: typing-extensions>=3.6.4; python_version < \"3.8\" in /usr/local/lib/python3.7/dist-packages (from importlib-metadata; python_version < \"3.8\"->pykakasi) (3.7.4.3)\n",
            "Requirement already satisfied: zipp>=0.5 in /usr/local/lib/python3.7/dist-packages (from importlib-metadata; python_version < \"3.8\"->pykakasi) (3.4.1)\n",
            "Installing collected packages: deprecated, pykakasi\n",
            "Successfully installed deprecated-1.2.12 pykakasi-2.1.0\n"
          ],
          "name": "stdout"
        }
      ]
    },
    {
      "cell_type": "code",
      "metadata": {
        "colab": {
          "base_uri": "https://localhost:8080/"
        },
        "id": "nH0hfgwV38Vh",
        "outputId": "4645605c-4ff8-4043-df67-386a344e63ef"
      },
      "source": [
        "import pykakasi\n",
        "kks = pykakasi.kakasi()\n",
        "text = \"なみなみ注ぎ足し森の中\"\n",
        "result = kks.convert(text)\n",
        "for item in result:\n",
        "    print(\"{}: kana '{}', hiragana '{}', romaji: '{}'\".format(item['orig'], item['kana'], item['hira'], item['hepburn']))"
      ],
      "execution_count": 4,
      "outputs": [
        {
          "output_type": "stream",
          "text": [
            "なみなみ: kana 'ナミナミ', hiragana 'なみなみ', romaji: 'naminami'\n",
            "注ぎ: kana 'ソソギ', hiragana 'そそぎ', romaji: 'sosogi'\n",
            "足し: kana 'タシ', hiragana 'たし', romaji: 'tashi'\n",
            "森: kana 'モリ', hiragana 'もり', romaji: 'mori'\n",
            "の: kana 'ノ', hiragana 'の', romaji: 'no'\n",
            "中: kana 'ナカ', hiragana 'なか', romaji: 'naka'\n"
          ],
          "name": "stdout"
        }
      ]
    },
    {
      "cell_type": "code",
      "metadata": {
        "colab": {
          "base_uri": "https://localhost:8080/"
        },
        "id": "ShlGyD-C4Bcb",
        "outputId": "f442e165-3f80-447f-c9dc-62ba31297370"
      },
      "source": [
        "result"
      ],
      "execution_count": 5,
      "outputs": [
        {
          "output_type": "execute_result",
          "data": {
            "text/plain": [
              "[{'hepburn': 'naminami',\n",
              "  'hira': 'なみなみ',\n",
              "  'kana': 'ナミナミ',\n",
              "  'kunrei': 'naminami',\n",
              "  'orig': 'なみなみ',\n",
              "  'passport': 'naminami'},\n",
              " {'hepburn': 'sosogi',\n",
              "  'hira': 'そそぎ',\n",
              "  'kana': 'ソソギ',\n",
              "  'kunrei': 'sosogi',\n",
              "  'orig': '注ぎ',\n",
              "  'passport': 'sosogi'},\n",
              " {'hepburn': 'tashi',\n",
              "  'hira': 'たし',\n",
              "  'kana': 'タシ',\n",
              "  'kunrei': 'tasi',\n",
              "  'orig': '足し',\n",
              "  'passport': 'tashi'},\n",
              " {'hepburn': 'mori',\n",
              "  'hira': 'もり',\n",
              "  'kana': 'モリ',\n",
              "  'kunrei': 'mori',\n",
              "  'orig': '森',\n",
              "  'passport': 'mori'},\n",
              " {'hepburn': 'no',\n",
              "  'hira': 'の',\n",
              "  'kana': 'ノ',\n",
              "  'kunrei': 'no',\n",
              "  'orig': 'の',\n",
              "  'passport': 'no'},\n",
              " {'hepburn': 'naka',\n",
              "  'hira': 'なか',\n",
              "  'kana': 'ナカ',\n",
              "  'kunrei': 'naka',\n",
              "  'orig': '中',\n",
              "  'passport': 'naka'}]"
            ]
          },
          "metadata": {
            "tags": []
          },
          "execution_count": 5
        }
      ]
    },
    {
      "cell_type": "code",
      "metadata": {
        "colab": {
          "base_uri": "https://localhost:8080/"
        },
        "id": "iMJQEXyP4II_",
        "outputId": "825e7f9a-457d-466f-e568-deef32d36603"
      },
      "source": [
        "line = result\n",
        "words = []\n",
        "for word in line:\n",
        "  words.append('')\n",
        "  for kana in word['hira']:\n",
        "    words[-1] += sounds[kana]\n",
        "\n",
        "print(' '.join(words))"
      ],
      "execution_count": 6,
      "outputs": [
        {
          "output_type": "stream",
          "text": [
            "nahmeenahmee sohsohgee tahshee mohree noh nahkah\n"
          ],
          "name": "stdout"
        }
      ]
    },
    {
      "cell_type": "code",
      "metadata": {
        "id": "gPzzZA8jBIe2",
        "colab": {
          "base_uri": "https://localhost:8080/"
        },
        "outputId": "7e9bfa76-1baa-4a83-d379-ca7cdc1c55e8"
      },
      "source": [
        "lines = '''大丈夫よ そのままで ooh\n",
        "安心して 遅れてないから\n",
        "道に迷った時はね\n",
        "立ち止まってみたら? take your time, oh yeah\n",
        "Ooh 後ろ振り返ってみて\n",
        "ほら君の足跡\n",
        "いつも I'm proud of you\n",
        "Ooh 既に特別な\n",
        "君を誇るべきだから\n",
        "Let's go\n",
        "Step and a step 私の歩幅で\n",
        "Step and a step 私だけのペースで\n",
        "ゆっくり行ってもいい休んでみてもいい\n",
        "歩いていく自分らしく\n",
        "Just believe yourself\n",
        "Everything will be fine (be fine)\n",
        "Everything will be okay (be okay)\n",
        "Everything will be fine (be fine)\n",
        "Everything will be okay (be okay)\n",
        "どんな時も隣で umm\n",
        "いつもそっと笑顔くれるの my friend\n",
        "なんか寂しい時だって\n",
        "その手を伸ばせば take my hand, ooh yeah\n",
        "Ooh つまずいてしまったのは\n",
        "前に進んでたから\n",
        "いつも I'll be with you\n",
        "Ooh 鏡が輝く\n",
        "ありのままの君がいる\n",
        "Let's go\n",
        "Step and a step 私の歩幅で\n",
        "Step and a step 私だけのペースで\n",
        "ゆっくり行ってもいい休んでみてもいい\n",
        "歩いていく自分らしく\n",
        "Just believe yourself\n",
        "頬に触れてく風感じてみて hmm\n",
        "目を閉じて澄ませば見えてくるよ\n",
        "Don't get lost\n",
        "さぁ don't worry 信じて victory\n",
        "君なら you'll be okay\n",
        "Just because 誰も見ない\n",
        "君だけの未来いつだって never too late (OK)\n",
        "一歩ずつでもいい進め are you ready?\n",
        "楽だけの近道はなくていい\n",
        "自分だけの手で作るんだ明日を\n",
        "いつかは笑顔輝けるように今も oh\n",
        "Step and a step 私は私で\n",
        "Step and a step 私だけの形で\n",
        "回り道でいい自分のペースでいい\n",
        "笑っていく好きになる\n",
        "Just believe yourself\n",
        "Everything will be fine (be fine)\n",
        "Everything will be okay (be okay)\n",
        "Everything will be fine (be fine)\n",
        "Everything will be okay (be okay)'''\n",
        "\n",
        "lines = lines.split('\\n')\n",
        "print(lines)"
      ],
      "execution_count": 7,
      "outputs": [
        {
          "output_type": "stream",
          "text": [
            "['大丈夫よ そのままで ooh', '安心して 遅れてないから', '道に迷った時はね', '立ち止まってみたら? take your time, oh yeah', 'Ooh 後ろ振り返ってみて', 'ほら君の足跡', \"いつも I'm proud of you\", 'Ooh 既に特別な', '君を誇るべきだから', \"Let's go\", 'Step and a step 私の歩幅で', 'Step and a step 私だけのペースで', 'ゆっくり行ってもいい休んでみてもいい', '歩いていく自分らしく', 'Just believe yourself', 'Everything will be fine (be fine)', 'Everything will be okay (be okay)', 'Everything will be fine (be fine)', 'Everything will be okay (be okay)', 'どんな時も隣で umm', 'いつもそっと笑顔くれるの my friend', 'なんか寂しい時だって', 'その手を伸ばせば take my hand, ooh yeah', 'Ooh つまずいてしまったのは', '前に進んでたから', \"いつも I'll be with you\", 'Ooh 鏡が輝く', 'ありのままの君がいる', \"Let's go\", 'Step and a step 私の歩幅で', 'Step and a step 私だけのペースで', 'ゆっくり行ってもいい休んでみてもいい', '歩いていく自分らしく', 'Just believe yourself', '頬に触れてく風感じてみて hmm', '目を閉じて澄ませば見えてくるよ', \"Don't get lost\", \"さぁ don't worry 信じて victory\", \"君なら you'll be okay\", 'Just because 誰も見ない', '君だけの未来いつだって never too late (OK)', '一歩ずつでもいい進め are you ready?', '楽だけの近道はなくていい', '自分だけの手で作るんだ明日を', 'いつかは笑顔輝けるように今も oh', 'Step and a step 私は私で', 'Step and a step 私だけの形で', '回り道でいい自分のペースでいい', '笑っていく好きになる', 'Just believe yourself', 'Everything will be fine (be fine)', 'Everything will be okay (be okay)', 'Everything will be fine (be fine)', 'Everything will be okay (be okay)']\n"
          ],
          "name": "stdout"
        }
      ]
    },
    {
      "cell_type": "code",
      "metadata": {
        "colab": {
          "base_uri": "https://localhost:8080/"
        },
        "id": "3hpHQ18TTdeK",
        "outputId": "193badf7-2c6c-48eb-8568-6fe1f6c0abde"
      },
      "source": [
        "for line in lines:\n",
        "  line = kks.convert(line)\n",
        "  #print(line)\n",
        "  words = []\n",
        "  for word in line:\n",
        "    words.append(word['hepburn'])\n",
        "  print(' '.join(' '.join(words).split()))"
      ],
      "execution_count": 8,
      "outputs": [
        {
          "output_type": "stream",
          "text": [
            "daijoubu yo sonomamade ooh\n",
            "anshinshi te okure tenaikara\n",
            "michi ni mayotsu ta toki hane\n",
            "tachi toma ttemitara? take your time, oh yeah\n",
            "Ooh ushiro furikaetsu temite\n",
            "hora kun no sokuseki\n",
            "itsumo I'm proud of you\n",
            "Ooh sudeni tokubetsu na\n",
            "kun wo hokoru bekidakara\n",
            "Let's go\n",
            "Step and a step watashi no ho haba de\n",
            "Step and a step watashi dakenopeesude\n",
            "yukkuri itte moii yasun demitemoii\n",
            "arui teiku jibun rashiku\n",
            "Just believe yourself\n",
            "Everything will be fine (be fine)\n",
            "Everything will be okay (be okay)\n",
            "Everything will be fine (be fine)\n",
            "Everything will be okay (be okay)\n",
            "donna toki mo tonari de umm\n",
            "itsumosotto egao kureruno my friend\n",
            "nanka sabishi i toki datte\n",
            "sono te wo noba seba take my hand, ooh yeah\n",
            "Ooh tsumazuiteshimattanoha\n",
            "mae ni susun detakara\n",
            "itsumo I'll be with you\n",
            "Ooh kagami ga kagayaku\n",
            "arinomamano kun gairu\n",
            "Let's go\n",
            "Step and a step watashi no ho haba de\n",
            "Step and a step watashi dakenopeesude\n",
            "yukkuri itte moii yasun demitemoii\n",
            "arui teiku jibun rashiku\n",
            "Just believe yourself\n",
            "hoo ni furete ku kaze kanji temite hmm\n",
            "me wo toji te suma seba mie tekuruyo\n",
            "Don't get lost\n",
            "saa don't worry shinji te victory\n",
            "kun nara you'll be okay\n",
            "Just because daremo mina i\n",
            "kun dakeno mirai itsudatte never too late (OK)\n",
            "ippo zutsudemoii susume are you ready?\n",
            "raku dakeno chikamichi hanakuteii\n",
            "jibun dakeno tede tsukuru nda ashita wo\n",
            "itsukaha egao kagayake ruyouni ima mo oh\n",
            "Step and a step watashi ha watashi de\n",
            "Step and a step watashi dakeno katachi de\n",
            "mawarimichi deii jibun nopeesudeii\n",
            "waratsu teiku suki ninaru\n",
            "Just believe yourself\n",
            "Everything will be fine (be fine)\n",
            "Everything will be okay (be okay)\n",
            "Everything will be fine (be fine)\n",
            "Everything will be okay (be okay)\n"
          ],
          "name": "stdout"
        }
      ]
    },
    {
      "cell_type": "code",
      "metadata": {
        "colab": {
          "base_uri": "https://localhost:8080/"
        },
        "id": "j6llXbefTNFS",
        "outputId": "ff370be2-3a1b-494b-ac71-01177dae3c82"
      },
      "source": [
        "for line in lines:\n",
        "  line = kks.convert(line)\n",
        "  #print(line)\n",
        "  words = []\n",
        "  for word in line:\n",
        "    words.append('')\n",
        "    for kana in word['hira']:\n",
        "      try:\n",
        "        words[-1] += sounds[kana]\n",
        "      except:\n",
        "        words[-1] += kana\n",
        "\n",
        "  print(' '.join(' '.join(words).split()))\n"
      ],
      "execution_count": 9,
      "outputs": [
        {
          "output_type": "stream",
          "text": [
            "daheejeeyohooboo yoh sohnohmahmahdeh ooh\n",
            "ahnsheenshee teh ohkooreh tehnaheekahrah\n",
            "meechee nee mahyohっ tah tohkee hahneh\n",
            "tahchee tohmah っtehmeetahrah? take your time, oh yeah\n",
            "Ooh oosheeroh fooreekahehっ tehmeeteh\n",
            "hohrah koon noh sohkoosehkee\n",
            "eetsoomoh I'm proud of you\n",
            "Ooh soodehnee tohkoobehtsoo nah\n",
            "koon oh hohkohroo behkeedahkahrah\n",
            "Let's go\n",
            "Step and a step watahshee noh hoh hahbah deh\n",
            "Step and a step watahshee dahkehnohpehーsoodeh\n",
            "yooっkooree eeっteh moheeee yahsoon dehmeetehmoheeee\n",
            "ahrooee teheekoo jeeboon rahsheekoo\n",
            "Just believe yourself\n",
            "Everything will be fine (be fine)\n",
            "Everything will be okay (be okay)\n",
            "Everything will be fine (be fine)\n",
            "Everything will be okay (be okay)\n",
            "dohnnah tohkee moh tohnahree deh umm\n",
            "eetsoomohsohっtoh ehgahoh koorehroonoh my friend\n",
            "nahnkah sahbeeshee ee tohkee dahっteh\n",
            "sohnoh teh oh nohbah sehbah take my hand, ooh yeah\n",
            "Ooh tsoomahzooeetehsheemahっtahnohhah\n",
            "maheh nee soosoon dehtahkahrah\n",
            "eetsoomoh I'll be with you\n",
            "Ooh kahgahmee gah kahgahyahkoo\n",
            "ahreenohmahmahnoh koon gaheeroo\n",
            "Let's go\n",
            "Step and a step watahshee noh hoh hahbah deh\n",
            "Step and a step watahshee dahkehnohpehーsoodeh\n",
            "yooっkooree eeっteh moheeee yahsoon dehmeetehmoheeee\n",
            "ahrooee teheekoo jeeboon rahsheekoo\n",
            "Just believe yourself\n",
            "hohoh nee foorehteh koo kahzeh kahnjee tehmeeteh hmm\n",
            "meh oh tohjee teh soomah sehbah meeeh tehkoorooyoh\n",
            "Don't get lost\n",
            "sahah don't worry sheenjee teh victory\n",
            "koon nahrah you'll be okay\n",
            "Just because dahrehmoh meenah ee\n",
            "koon dahkehnoh meerahee eetsoodahっteh never too late (OK)\n",
            "eeっpoh zootsoodehmoheeee soosoomeh are you ready?\n",
            "rahkoo dahkehnoh cheekahmeechee hahnahkooteheeee\n",
            "jeeboon dahkehnoh tehdeh tsookooroo ndah ahsheetah oh\n",
            "eetsookahhah ehgahoh kahgahyahkeh rooyohoonee eemah moh oh\n",
            "Step and a step watahshee hah watahshee deh\n",
            "Step and a step watahshee dahkehnoh kahtahchee deh\n",
            "mahwareemeechee deheeee jeeboon nohpehーsoodeheeee\n",
            "warahっ teheekoo sookee neenahroo\n",
            "Just believe yourself\n",
            "Everything will be fine (be fine)\n",
            "Everything will be okay (be okay)\n",
            "Everything will be fine (be fine)\n",
            "Everything will be okay (be okay)\n"
          ],
          "name": "stdout"
        }
      ]
    },
    {
      "cell_type": "code",
      "metadata": {
        "colab": {
          "base_uri": "https://localhost:8080/"
        },
        "id": "zNvV7KyIXh4a",
        "outputId": "a8ed4b30-10ac-4cb1-a8f4-943e8c32b0df"
      },
      "source": [
        "for line in lines:\n",
        "  line = kks.convert(line)\n",
        "  #print(line)\n",
        "  words = []\n",
        "  for word in line:\n",
        "    words.append('')\n",
        "    for kana in word['hira']:\n",
        "      try:\n",
        "        words.append(sounds[kana])\n",
        "      except:\n",
        "        words[-1] += kana\n",
        "\n",
        "  print(' '.join(' '.join(words).split()))\n"
      ],
      "execution_count": 10,
      "outputs": [
        {
          "output_type": "stream",
          "text": [
            "dah ee jee yoh oo boo yoh soh noh mah mah deh ooh\n",
            "ah n shee n shee teh oh koo reh teh nah ee kah rah\n",
            "mee chee nee mah yohっ tah toh kee hah neh\n",
            "tah chee toh mah っ teh mee tah rah? take your time, oh yeah\n",
            "Ooh oo shee roh foo ree kah ehっ teh mee teh\n",
            "hoh rah koo n noh soh koo seh kee\n",
            "ee tsoo moh I'm proud of you\n",
            "Ooh soo deh nee toh koo beh tsoo nah\n",
            "koo n oh hoh koh roo beh kee dah kah rah\n",
            "Let's go\n",
            "Step and a step wa tah shee noh hoh hah bah deh\n",
            "Step and a step wa tah shee dah keh noh pehー soo deh\n",
            "yooっ koo ree eeっ teh moh ee ee yah soo n deh mee teh moh ee ee\n",
            "ah roo ee teh ee koo jee boo n rah shee koo\n",
            "Just believe yourself\n",
            "Everything will be fine (be fine)\n",
            "Everything will be okay (be okay)\n",
            "Everything will be fine (be fine)\n",
            "Everything will be okay (be okay)\n",
            "doh n nah toh kee moh toh nah ree deh umm\n",
            "ee tsoo moh sohっ toh eh gah oh koo reh roo noh my friend\n",
            "nah n kah sah bee shee ee toh kee dahっ teh\n",
            "soh noh teh oh noh bah seh bah take my hand, ooh yeah\n",
            "Ooh tsoo mah zoo ee teh shee mahっ tah noh hah\n",
            "mah eh nee soo soo n deh tah kah rah\n",
            "ee tsoo moh I'll be with you\n",
            "Ooh kah gah mee gah kah gah yah koo\n",
            "ah ree noh mah mah noh koo n gah ee roo\n",
            "Let's go\n",
            "Step and a step wa tah shee noh hoh hah bah deh\n",
            "Step and a step wa tah shee dah keh noh pehー soo deh\n",
            "yooっ koo ree eeっ teh moh ee ee yah soo n deh mee teh moh ee ee\n",
            "ah roo ee teh ee koo jee boo n rah shee koo\n",
            "Just believe yourself\n",
            "hoh oh nee foo reh teh koo kah zeh kah n jee teh mee teh hmm\n",
            "meh oh toh jee teh soo mah seh bah mee eh teh koo roo yoh\n",
            "Don't get lost\n",
            "sah ah don't worry shee n jee teh victory\n",
            "koo n nah rah you'll be okay\n",
            "Just because dah reh moh mee nah ee\n",
            "koo n dah keh noh mee rah ee ee tsoo dahっ teh never too late (OK)\n",
            "eeっ poh zoo tsoo deh moh ee ee soo soo meh are you ready?\n",
            "rah koo dah keh noh chee kah mee chee hah nah koo teh ee ee\n",
            "jee boo n dah keh noh teh deh tsoo koo roo n dah ah shee tah oh\n",
            "ee tsoo kah hah eh gah oh kah gah yah keh roo yoh oo nee ee mah moh oh\n",
            "Step and a step wa tah shee hah wa tah shee deh\n",
            "Step and a step wa tah shee dah keh noh kah tah chee deh\n",
            "mah wa ree mee chee deh ee ee jee boo n noh pehー soo deh ee ee\n",
            "wa rahっ teh ee koo soo kee nee nah roo\n",
            "Just believe yourself\n",
            "Everything will be fine (be fine)\n",
            "Everything will be okay (be okay)\n",
            "Everything will be fine (be fine)\n",
            "Everything will be okay (be okay)\n"
          ],
          "name": "stdout"
        }
      ]
    },
    {
      "cell_type": "code",
      "metadata": {
        "id": "ABj4zKU-kxbm"
      },
      "source": [
        ""
      ],
      "execution_count": null,
      "outputs": []
    }
  ]
}