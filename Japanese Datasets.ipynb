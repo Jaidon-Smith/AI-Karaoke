{
  "nbformat": 4,
  "nbformat_minor": 0,
  "metadata": {
    "colab": {
      "name": "Untitled20.ipynb",
      "provenance": [],
      "toc_visible": true,
      "authorship_tag": "ABX9TyPSrAbp7P9UGe0nztuKNHHf",
      "include_colab_link": true
    },
    "kernelspec": {
      "name": "python3",
      "display_name": "Python 3"
    },
    "widgets": {
      "application/vnd.jupyter.widget-state+json": {
        "4e69a0b7977b4c7d951eefc7dba8b023": {
          "model_module": "@jupyter-widgets/controls",
          "model_name": "HBoxModel",
          "state": {
            "_view_name": "HBoxView",
            "_dom_classes": [],
            "_model_name": "HBoxModel",
            "_view_module": "@jupyter-widgets/controls",
            "_model_module_version": "1.5.0",
            "_view_count": null,
            "_view_module_version": "1.5.0",
            "box_style": "",
            "layout": "IPY_MODEL_35f2ff4988604543ae18261c6e8c5036",
            "_model_module": "@jupyter-widgets/controls",
            "children": [
              "IPY_MODEL_3263c390dc4e4aa287dcbacbc66dfa85",
              "IPY_MODEL_9ad6bc1da5f64ca896d055cb2830d30a"
            ]
          }
        },
        "35f2ff4988604543ae18261c6e8c5036": {
          "model_module": "@jupyter-widgets/base",
          "model_name": "LayoutModel",
          "state": {
            "_view_name": "LayoutView",
            "grid_template_rows": null,
            "right": null,
            "justify_content": null,
            "_view_module": "@jupyter-widgets/base",
            "overflow": null,
            "_model_module_version": "1.2.0",
            "_view_count": null,
            "flex_flow": null,
            "width": null,
            "min_width": null,
            "border": null,
            "align_items": null,
            "bottom": null,
            "_model_module": "@jupyter-widgets/base",
            "top": null,
            "grid_column": null,
            "overflow_y": null,
            "overflow_x": null,
            "grid_auto_flow": null,
            "grid_area": null,
            "grid_template_columns": null,
            "flex": null,
            "_model_name": "LayoutModel",
            "justify_items": null,
            "grid_row": null,
            "max_height": null,
            "align_content": null,
            "visibility": null,
            "align_self": null,
            "height": null,
            "min_height": null,
            "padding": null,
            "grid_auto_rows": null,
            "grid_gap": null,
            "max_width": null,
            "order": null,
            "_view_module_version": "1.2.0",
            "grid_template_areas": null,
            "object_position": null,
            "object_fit": null,
            "grid_auto_columns": null,
            "margin": null,
            "display": null,
            "left": null
          }
        },
        "3263c390dc4e4aa287dcbacbc66dfa85": {
          "model_module": "@jupyter-widgets/controls",
          "model_name": "FloatProgressModel",
          "state": {
            "_view_name": "ProgressView",
            "style": "IPY_MODEL_ac4c0fda2d6e4583925ca7533614096d",
            "_dom_classes": [],
            "description": "Extraction completed...: ",
            "_model_name": "FloatProgressModel",
            "bar_style": "success",
            "max": 1,
            "_view_module": "@jupyter-widgets/controls",
            "_model_module_version": "1.5.0",
            "value": 0,
            "_view_count": null,
            "_view_module_version": "1.5.0",
            "orientation": "horizontal",
            "min": 0,
            "description_tooltip": null,
            "_model_module": "@jupyter-widgets/controls",
            "layout": "IPY_MODEL_8908321f287e481ea9386285d2a4d700"
          }
        },
        "9ad6bc1da5f64ca896d055cb2830d30a": {
          "model_module": "@jupyter-widgets/controls",
          "model_name": "HTMLModel",
          "state": {
            "_view_name": "HTMLView",
            "style": "IPY_MODEL_9ed6bfc911ad4dd5be5b5a5df8fe6189",
            "_dom_classes": [],
            "description": "",
            "_model_name": "HTMLModel",
            "placeholder": "​",
            "_view_module": "@jupyter-widgets/controls",
            "_model_module_version": "1.5.0",
            "value": " 0/0 [00:00&lt;?, ? file/s]",
            "_view_count": null,
            "_view_module_version": "1.5.0",
            "description_tooltip": null,
            "_model_module": "@jupyter-widgets/controls",
            "layout": "IPY_MODEL_8d3bee5b1e0043bd906b6dbb7a95f8b4"
          }
        },
        "ac4c0fda2d6e4583925ca7533614096d": {
          "model_module": "@jupyter-widgets/controls",
          "model_name": "ProgressStyleModel",
          "state": {
            "_view_name": "StyleView",
            "_model_name": "ProgressStyleModel",
            "description_width": "initial",
            "_view_module": "@jupyter-widgets/base",
            "_model_module_version": "1.5.0",
            "_view_count": null,
            "_view_module_version": "1.2.0",
            "bar_color": null,
            "_model_module": "@jupyter-widgets/controls"
          }
        },
        "8908321f287e481ea9386285d2a4d700": {
          "model_module": "@jupyter-widgets/base",
          "model_name": "LayoutModel",
          "state": {
            "_view_name": "LayoutView",
            "grid_template_rows": null,
            "right": null,
            "justify_content": null,
            "_view_module": "@jupyter-widgets/base",
            "overflow": null,
            "_model_module_version": "1.2.0",
            "_view_count": null,
            "flex_flow": null,
            "width": null,
            "min_width": null,
            "border": null,
            "align_items": null,
            "bottom": null,
            "_model_module": "@jupyter-widgets/base",
            "top": null,
            "grid_column": null,
            "overflow_y": null,
            "overflow_x": null,
            "grid_auto_flow": null,
            "grid_area": null,
            "grid_template_columns": null,
            "flex": null,
            "_model_name": "LayoutModel",
            "justify_items": null,
            "grid_row": null,
            "max_height": null,
            "align_content": null,
            "visibility": null,
            "align_self": null,
            "height": null,
            "min_height": null,
            "padding": null,
            "grid_auto_rows": null,
            "grid_gap": null,
            "max_width": null,
            "order": null,
            "_view_module_version": "1.2.0",
            "grid_template_areas": null,
            "object_position": null,
            "object_fit": null,
            "grid_auto_columns": null,
            "margin": null,
            "display": null,
            "left": null
          }
        },
        "9ed6bfc911ad4dd5be5b5a5df8fe6189": {
          "model_module": "@jupyter-widgets/controls",
          "model_name": "DescriptionStyleModel",
          "state": {
            "_view_name": "StyleView",
            "_model_name": "DescriptionStyleModel",
            "description_width": "",
            "_view_module": "@jupyter-widgets/base",
            "_model_module_version": "1.5.0",
            "_view_count": null,
            "_view_module_version": "1.2.0",
            "_model_module": "@jupyter-widgets/controls"
          }
        },
        "8d3bee5b1e0043bd906b6dbb7a95f8b4": {
          "model_module": "@jupyter-widgets/base",
          "model_name": "LayoutModel",
          "state": {
            "_view_name": "LayoutView",
            "grid_template_rows": null,
            "right": null,
            "justify_content": null,
            "_view_module": "@jupyter-widgets/base",
            "overflow": null,
            "_model_module_version": "1.2.0",
            "_view_count": null,
            "flex_flow": null,
            "width": null,
            "min_width": null,
            "border": null,
            "align_items": null,
            "bottom": null,
            "_model_module": "@jupyter-widgets/base",
            "top": null,
            "grid_column": null,
            "overflow_y": null,
            "overflow_x": null,
            "grid_auto_flow": null,
            "grid_area": null,
            "grid_template_columns": null,
            "flex": null,
            "_model_name": "LayoutModel",
            "justify_items": null,
            "grid_row": null,
            "max_height": null,
            "align_content": null,
            "visibility": null,
            "align_self": null,
            "height": null,
            "min_height": null,
            "padding": null,
            "grid_auto_rows": null,
            "grid_gap": null,
            "max_width": null,
            "order": null,
            "_view_module_version": "1.2.0",
            "grid_template_areas": null,
            "object_position": null,
            "object_fit": null,
            "grid_auto_columns": null,
            "margin": null,
            "display": null,
            "left": null
          }
        },
        "b9222c9edbf04c39bc32a3c1aedeae4a": {
          "model_module": "@jupyter-widgets/controls",
          "model_name": "HBoxModel",
          "state": {
            "_view_name": "HBoxView",
            "_dom_classes": [],
            "_model_name": "HBoxModel",
            "_view_module": "@jupyter-widgets/controls",
            "_model_module_version": "1.5.0",
            "_view_count": null,
            "_view_module_version": "1.5.0",
            "box_style": "",
            "layout": "IPY_MODEL_a629a670235c40198325beab080c1156",
            "_model_module": "@jupyter-widgets/controls",
            "children": [
              "IPY_MODEL_37e0903663f9426ca3656d66796167ac",
              "IPY_MODEL_78fbe9628bc446a09a16113a85b4a264"
            ]
          }
        },
        "a629a670235c40198325beab080c1156": {
          "model_module": "@jupyter-widgets/base",
          "model_name": "LayoutModel",
          "state": {
            "_view_name": "LayoutView",
            "grid_template_rows": null,
            "right": null,
            "justify_content": null,
            "_view_module": "@jupyter-widgets/base",
            "overflow": null,
            "_model_module_version": "1.2.0",
            "_view_count": null,
            "flex_flow": null,
            "width": null,
            "min_width": null,
            "border": null,
            "align_items": null,
            "bottom": null,
            "_model_module": "@jupyter-widgets/base",
            "top": null,
            "grid_column": null,
            "overflow_y": null,
            "overflow_x": null,
            "grid_auto_flow": null,
            "grid_area": null,
            "grid_template_columns": null,
            "flex": null,
            "_model_name": "LayoutModel",
            "justify_items": null,
            "grid_row": null,
            "max_height": null,
            "align_content": null,
            "visibility": null,
            "align_self": null,
            "height": null,
            "min_height": null,
            "padding": null,
            "grid_auto_rows": null,
            "grid_gap": null,
            "max_width": null,
            "order": null,
            "_view_module_version": "1.2.0",
            "grid_template_areas": null,
            "object_position": null,
            "object_fit": null,
            "grid_auto_columns": null,
            "margin": null,
            "display": null,
            "left": null
          }
        },
        "37e0903663f9426ca3656d66796167ac": {
          "model_module": "@jupyter-widgets/controls",
          "model_name": "FloatProgressModel",
          "state": {
            "_view_name": "ProgressView",
            "style": "IPY_MODEL_441a882631514844b881e2ccf83e336a",
            "_dom_classes": [],
            "description": "",
            "_model_name": "FloatProgressModel",
            "bar_style": "danger",
            "max": 1,
            "_view_module": "@jupyter-widgets/controls",
            "_model_module_version": "1.5.0",
            "value": 1,
            "_view_count": null,
            "_view_module_version": "1.5.0",
            "orientation": "horizontal",
            "min": 0,
            "description_tooltip": null,
            "_model_module": "@jupyter-widgets/controls",
            "layout": "IPY_MODEL_33d2219f48c544e3bf250eb8fb8ba867"
          }
        },
        "78fbe9628bc446a09a16113a85b4a264": {
          "model_module": "@jupyter-widgets/controls",
          "model_name": "HTMLModel",
          "state": {
            "_view_name": "HTMLView",
            "style": "IPY_MODEL_c3ba0bcd933f470a9193308f81805cee",
            "_dom_classes": [],
            "description": "",
            "_model_name": "HTMLModel",
            "placeholder": "​",
            "_view_module": "@jupyter-widgets/controls",
            "_model_module_version": "1.5.0",
            "value": " 978/0 [02:05&lt;00:00,  9.66 examples/s]",
            "_view_count": null,
            "_view_module_version": "1.5.0",
            "description_tooltip": null,
            "_model_module": "@jupyter-widgets/controls",
            "layout": "IPY_MODEL_502521be995842f7953a4d27133282c6"
          }
        },
        "441a882631514844b881e2ccf83e336a": {
          "model_module": "@jupyter-widgets/controls",
          "model_name": "ProgressStyleModel",
          "state": {
            "_view_name": "StyleView",
            "_model_name": "ProgressStyleModel",
            "description_width": "initial",
            "_view_module": "@jupyter-widgets/base",
            "_model_module_version": "1.5.0",
            "_view_count": null,
            "_view_module_version": "1.2.0",
            "bar_color": null,
            "_model_module": "@jupyter-widgets/controls"
          }
        },
        "33d2219f48c544e3bf250eb8fb8ba867": {
          "model_module": "@jupyter-widgets/base",
          "model_name": "LayoutModel",
          "state": {
            "_view_name": "LayoutView",
            "grid_template_rows": null,
            "right": null,
            "justify_content": null,
            "_view_module": "@jupyter-widgets/base",
            "overflow": null,
            "_model_module_version": "1.2.0",
            "_view_count": null,
            "flex_flow": null,
            "width": null,
            "min_width": null,
            "border": null,
            "align_items": null,
            "bottom": null,
            "_model_module": "@jupyter-widgets/base",
            "top": null,
            "grid_column": null,
            "overflow_y": null,
            "overflow_x": null,
            "grid_auto_flow": null,
            "grid_area": null,
            "grid_template_columns": null,
            "flex": null,
            "_model_name": "LayoutModel",
            "justify_items": null,
            "grid_row": null,
            "max_height": null,
            "align_content": null,
            "visibility": null,
            "align_self": null,
            "height": null,
            "min_height": null,
            "padding": null,
            "grid_auto_rows": null,
            "grid_gap": null,
            "max_width": null,
            "order": null,
            "_view_module_version": "1.2.0",
            "grid_template_areas": null,
            "object_position": null,
            "object_fit": null,
            "grid_auto_columns": null,
            "margin": null,
            "display": null,
            "left": null
          }
        },
        "c3ba0bcd933f470a9193308f81805cee": {
          "model_module": "@jupyter-widgets/controls",
          "model_name": "DescriptionStyleModel",
          "state": {
            "_view_name": "StyleView",
            "_model_name": "DescriptionStyleModel",
            "description_width": "",
            "_view_module": "@jupyter-widgets/base",
            "_model_module_version": "1.5.0",
            "_view_count": null,
            "_view_module_version": "1.2.0",
            "_model_module": "@jupyter-widgets/controls"
          }
        },
        "502521be995842f7953a4d27133282c6": {
          "model_module": "@jupyter-widgets/base",
          "model_name": "LayoutModel",
          "state": {
            "_view_name": "LayoutView",
            "grid_template_rows": null,
            "right": null,
            "justify_content": null,
            "_view_module": "@jupyter-widgets/base",
            "overflow": null,
            "_model_module_version": "1.2.0",
            "_view_count": null,
            "flex_flow": null,
            "width": null,
            "min_width": null,
            "border": null,
            "align_items": null,
            "bottom": null,
            "_model_module": "@jupyter-widgets/base",
            "top": null,
            "grid_column": null,
            "overflow_y": null,
            "overflow_x": null,
            "grid_auto_flow": null,
            "grid_area": null,
            "grid_template_columns": null,
            "flex": null,
            "_model_name": "LayoutModel",
            "justify_items": null,
            "grid_row": null,
            "max_height": null,
            "align_content": null,
            "visibility": null,
            "align_self": null,
            "height": null,
            "min_height": null,
            "padding": null,
            "grid_auto_rows": null,
            "grid_gap": null,
            "max_width": null,
            "order": null,
            "_view_module_version": "1.2.0",
            "grid_template_areas": null,
            "object_position": null,
            "object_fit": null,
            "grid_auto_columns": null,
            "margin": null,
            "display": null,
            "left": null
          }
        },
        "258cb5d8bbef4f4490686f82992d269d": {
          "model_module": "@jupyter-widgets/controls",
          "model_name": "HBoxModel",
          "state": {
            "_view_name": "HBoxView",
            "_dom_classes": [],
            "_model_name": "HBoxModel",
            "_view_module": "@jupyter-widgets/controls",
            "_model_module_version": "1.5.0",
            "_view_count": null,
            "_view_module_version": "1.5.0",
            "box_style": "",
            "layout": "IPY_MODEL_a7e0510a77d54024b77bdb00e457250b",
            "_model_module": "@jupyter-widgets/controls",
            "children": [
              "IPY_MODEL_46974914b950440cbc575a2e395673dc",
              "IPY_MODEL_bff75ff5c4cd4645a936c432bea19281"
            ]
          }
        },
        "a7e0510a77d54024b77bdb00e457250b": {
          "model_module": "@jupyter-widgets/base",
          "model_name": "LayoutModel",
          "state": {
            "_view_name": "LayoutView",
            "grid_template_rows": null,
            "right": null,
            "justify_content": null,
            "_view_module": "@jupyter-widgets/base",
            "overflow": null,
            "_model_module_version": "1.2.0",
            "_view_count": null,
            "flex_flow": null,
            "width": null,
            "min_width": null,
            "border": null,
            "align_items": null,
            "bottom": null,
            "_model_module": "@jupyter-widgets/base",
            "top": null,
            "grid_column": null,
            "overflow_y": null,
            "overflow_x": null,
            "grid_auto_flow": null,
            "grid_area": null,
            "grid_template_columns": null,
            "flex": null,
            "_model_name": "LayoutModel",
            "justify_items": null,
            "grid_row": null,
            "max_height": null,
            "align_content": null,
            "visibility": null,
            "align_self": null,
            "height": null,
            "min_height": null,
            "padding": null,
            "grid_auto_rows": null,
            "grid_gap": null,
            "max_width": null,
            "order": null,
            "_view_module_version": "1.2.0",
            "grid_template_areas": null,
            "object_position": null,
            "object_fit": null,
            "grid_auto_columns": null,
            "margin": null,
            "display": null,
            "left": null
          }
        },
        "46974914b950440cbc575a2e395673dc": {
          "model_module": "@jupyter-widgets/controls",
          "model_name": "FloatProgressModel",
          "state": {
            "_view_name": "ProgressView",
            "style": "IPY_MODEL_6879343d2ac849e6a87c9fb118e24efd",
            "_dom_classes": [],
            "description": "Extraction completed...:   0%",
            "_model_name": "FloatProgressModel",
            "bar_style": "danger",
            "max": 1,
            "_view_module": "@jupyter-widgets/controls",
            "_model_module_version": "1.5.0",
            "value": 0,
            "_view_count": null,
            "_view_module_version": "1.5.0",
            "orientation": "horizontal",
            "min": 0,
            "description_tooltip": null,
            "_model_module": "@jupyter-widgets/controls",
            "layout": "IPY_MODEL_449192d390f2494a8ca8aa7aa47566b5"
          }
        },
        "bff75ff5c4cd4645a936c432bea19281": {
          "model_module": "@jupyter-widgets/controls",
          "model_name": "HTMLModel",
          "state": {
            "_view_name": "HTMLView",
            "style": "IPY_MODEL_d1a030413cdb4cf0959e4bb82a094e79",
            "_dom_classes": [],
            "description": "",
            "_model_name": "HTMLModel",
            "placeholder": "​",
            "_view_module": "@jupyter-widgets/controls",
            "_model_module_version": "1.5.0",
            "value": " 0/1 [00:20&lt;?, ? file/s]",
            "_view_count": null,
            "_view_module_version": "1.5.0",
            "description_tooltip": null,
            "_model_module": "@jupyter-widgets/controls",
            "layout": "IPY_MODEL_f034c005512440efb8fecffea4e9ee44"
          }
        },
        "6879343d2ac849e6a87c9fb118e24efd": {
          "model_module": "@jupyter-widgets/controls",
          "model_name": "ProgressStyleModel",
          "state": {
            "_view_name": "StyleView",
            "_model_name": "ProgressStyleModel",
            "description_width": "initial",
            "_view_module": "@jupyter-widgets/base",
            "_model_module_version": "1.5.0",
            "_view_count": null,
            "_view_module_version": "1.2.0",
            "bar_color": null,
            "_model_module": "@jupyter-widgets/controls"
          }
        },
        "449192d390f2494a8ca8aa7aa47566b5": {
          "model_module": "@jupyter-widgets/base",
          "model_name": "LayoutModel",
          "state": {
            "_view_name": "LayoutView",
            "grid_template_rows": null,
            "right": null,
            "justify_content": null,
            "_view_module": "@jupyter-widgets/base",
            "overflow": null,
            "_model_module_version": "1.2.0",
            "_view_count": null,
            "flex_flow": null,
            "width": null,
            "min_width": null,
            "border": null,
            "align_items": null,
            "bottom": null,
            "_model_module": "@jupyter-widgets/base",
            "top": null,
            "grid_column": null,
            "overflow_y": null,
            "overflow_x": null,
            "grid_auto_flow": null,
            "grid_area": null,
            "grid_template_columns": null,
            "flex": null,
            "_model_name": "LayoutModel",
            "justify_items": null,
            "grid_row": null,
            "max_height": null,
            "align_content": null,
            "visibility": null,
            "align_self": null,
            "height": null,
            "min_height": null,
            "padding": null,
            "grid_auto_rows": null,
            "grid_gap": null,
            "max_width": null,
            "order": null,
            "_view_module_version": "1.2.0",
            "grid_template_areas": null,
            "object_position": null,
            "object_fit": null,
            "grid_auto_columns": null,
            "margin": null,
            "display": null,
            "left": null
          }
        },
        "d1a030413cdb4cf0959e4bb82a094e79": {
          "model_module": "@jupyter-widgets/controls",
          "model_name": "DescriptionStyleModel",
          "state": {
            "_view_name": "StyleView",
            "_model_name": "DescriptionStyleModel",
            "description_width": "",
            "_view_module": "@jupyter-widgets/base",
            "_model_module_version": "1.5.0",
            "_view_count": null,
            "_view_module_version": "1.2.0",
            "_model_module": "@jupyter-widgets/controls"
          }
        },
        "f034c005512440efb8fecffea4e9ee44": {
          "model_module": "@jupyter-widgets/base",
          "model_name": "LayoutModel",
          "state": {
            "_view_name": "LayoutView",
            "grid_template_rows": null,
            "right": null,
            "justify_content": null,
            "_view_module": "@jupyter-widgets/base",
            "overflow": null,
            "_model_module_version": "1.2.0",
            "_view_count": null,
            "flex_flow": null,
            "width": null,
            "min_width": null,
            "border": null,
            "align_items": null,
            "bottom": null,
            "_model_module": "@jupyter-widgets/base",
            "top": null,
            "grid_column": null,
            "overflow_y": null,
            "overflow_x": null,
            "grid_auto_flow": null,
            "grid_area": null,
            "grid_template_columns": null,
            "flex": null,
            "_model_name": "LayoutModel",
            "justify_items": null,
            "grid_row": null,
            "max_height": null,
            "align_content": null,
            "visibility": null,
            "align_self": null,
            "height": null,
            "min_height": null,
            "padding": null,
            "grid_auto_rows": null,
            "grid_gap": null,
            "max_width": null,
            "order": null,
            "_view_module_version": "1.2.0",
            "grid_template_areas": null,
            "object_position": null,
            "object_fit": null,
            "grid_auto_columns": null,
            "margin": null,
            "display": null,
            "left": null
          }
        },
        "8b7cf8a2b3b84a089e6b8afd3ddcc16d": {
          "model_module": "@jupyter-widgets/controls",
          "model_name": "HBoxModel",
          "state": {
            "_view_name": "HBoxView",
            "_dom_classes": [],
            "_model_name": "HBoxModel",
            "_view_module": "@jupyter-widgets/controls",
            "_model_module_version": "1.5.0",
            "_view_count": null,
            "_view_module_version": "1.5.0",
            "box_style": "",
            "layout": "IPY_MODEL_c146c5c93c0e45a1a4d7e85a54aae87a",
            "_model_module": "@jupyter-widgets/controls",
            "children": [
              "IPY_MODEL_f083ac10a1ef456fa9487c51c334e75a",
              "IPY_MODEL_9a7e56a2c8f04841b9cc14a51b96272b"
            ]
          }
        },
        "c146c5c93c0e45a1a4d7e85a54aae87a": {
          "model_module": "@jupyter-widgets/base",
          "model_name": "LayoutModel",
          "state": {
            "_view_name": "LayoutView",
            "grid_template_rows": null,
            "right": null,
            "justify_content": null,
            "_view_module": "@jupyter-widgets/base",
            "overflow": null,
            "_model_module_version": "1.2.0",
            "_view_count": null,
            "flex_flow": null,
            "width": null,
            "min_width": null,
            "border": null,
            "align_items": null,
            "bottom": null,
            "_model_module": "@jupyter-widgets/base",
            "top": null,
            "grid_column": null,
            "overflow_y": null,
            "overflow_x": null,
            "grid_auto_flow": null,
            "grid_area": null,
            "grid_template_columns": null,
            "flex": null,
            "_model_name": "LayoutModel",
            "justify_items": null,
            "grid_row": null,
            "max_height": null,
            "align_content": null,
            "visibility": null,
            "align_self": null,
            "height": null,
            "min_height": null,
            "padding": null,
            "grid_auto_rows": null,
            "grid_gap": null,
            "max_width": null,
            "order": null,
            "_view_module_version": "1.2.0",
            "grid_template_areas": null,
            "object_position": null,
            "object_fit": null,
            "grid_auto_columns": null,
            "margin": null,
            "display": null,
            "left": null
          }
        },
        "f083ac10a1ef456fa9487c51c334e75a": {
          "model_module": "@jupyter-widgets/controls",
          "model_name": "FloatProgressModel",
          "state": {
            "_view_name": "ProgressView",
            "style": "IPY_MODEL_a14dd149dfd0485999c7782ebcf7147f",
            "_dom_classes": [],
            "description": "Extraction completed...:   0%",
            "_model_name": "FloatProgressModel",
            "bar_style": "danger",
            "max": 1,
            "_view_module": "@jupyter-widgets/controls",
            "_model_module_version": "1.5.0",
            "value": 0,
            "_view_count": null,
            "_view_module_version": "1.5.0",
            "orientation": "horizontal",
            "min": 0,
            "description_tooltip": null,
            "_model_module": "@jupyter-widgets/controls",
            "layout": "IPY_MODEL_33de2d2e4a9d45b5808458b3372cd7fc"
          }
        },
        "9a7e56a2c8f04841b9cc14a51b96272b": {
          "model_module": "@jupyter-widgets/controls",
          "model_name": "HTMLModel",
          "state": {
            "_view_name": "HTMLView",
            "style": "IPY_MODEL_f067032cd75446c8b29d0fc70cf1b7db",
            "_dom_classes": [],
            "description": "",
            "_model_name": "HTMLModel",
            "placeholder": "​",
            "_view_module": "@jupyter-widgets/controls",
            "_model_module_version": "1.5.0",
            "value": " 0/1 [00:00&lt;?, ? file/s]",
            "_view_count": null,
            "_view_module_version": "1.5.0",
            "description_tooltip": null,
            "_model_module": "@jupyter-widgets/controls",
            "layout": "IPY_MODEL_cee4279551a04493905798612c462300"
          }
        },
        "a14dd149dfd0485999c7782ebcf7147f": {
          "model_module": "@jupyter-widgets/controls",
          "model_name": "ProgressStyleModel",
          "state": {
            "_view_name": "StyleView",
            "_model_name": "ProgressStyleModel",
            "description_width": "initial",
            "_view_module": "@jupyter-widgets/base",
            "_model_module_version": "1.5.0",
            "_view_count": null,
            "_view_module_version": "1.2.0",
            "bar_color": null,
            "_model_module": "@jupyter-widgets/controls"
          }
        },
        "33de2d2e4a9d45b5808458b3372cd7fc": {
          "model_module": "@jupyter-widgets/base",
          "model_name": "LayoutModel",
          "state": {
            "_view_name": "LayoutView",
            "grid_template_rows": null,
            "right": null,
            "justify_content": null,
            "_view_module": "@jupyter-widgets/base",
            "overflow": null,
            "_model_module_version": "1.2.0",
            "_view_count": null,
            "flex_flow": null,
            "width": null,
            "min_width": null,
            "border": null,
            "align_items": null,
            "bottom": null,
            "_model_module": "@jupyter-widgets/base",
            "top": null,
            "grid_column": null,
            "overflow_y": null,
            "overflow_x": null,
            "grid_auto_flow": null,
            "grid_area": null,
            "grid_template_columns": null,
            "flex": null,
            "_model_name": "LayoutModel",
            "justify_items": null,
            "grid_row": null,
            "max_height": null,
            "align_content": null,
            "visibility": null,
            "align_self": null,
            "height": null,
            "min_height": null,
            "padding": null,
            "grid_auto_rows": null,
            "grid_gap": null,
            "max_width": null,
            "order": null,
            "_view_module_version": "1.2.0",
            "grid_template_areas": null,
            "object_position": null,
            "object_fit": null,
            "grid_auto_columns": null,
            "margin": null,
            "display": null,
            "left": null
          }
        },
        "f067032cd75446c8b29d0fc70cf1b7db": {
          "model_module": "@jupyter-widgets/controls",
          "model_name": "DescriptionStyleModel",
          "state": {
            "_view_name": "StyleView",
            "_model_name": "DescriptionStyleModel",
            "description_width": "",
            "_view_module": "@jupyter-widgets/base",
            "_model_module_version": "1.5.0",
            "_view_count": null,
            "_view_module_version": "1.2.0",
            "_model_module": "@jupyter-widgets/controls"
          }
        },
        "cee4279551a04493905798612c462300": {
          "model_module": "@jupyter-widgets/base",
          "model_name": "LayoutModel",
          "state": {
            "_view_name": "LayoutView",
            "grid_template_rows": null,
            "right": null,
            "justify_content": null,
            "_view_module": "@jupyter-widgets/base",
            "overflow": null,
            "_model_module_version": "1.2.0",
            "_view_count": null,
            "flex_flow": null,
            "width": null,
            "min_width": null,
            "border": null,
            "align_items": null,
            "bottom": null,
            "_model_module": "@jupyter-widgets/base",
            "top": null,
            "grid_column": null,
            "overflow_y": null,
            "overflow_x": null,
            "grid_auto_flow": null,
            "grid_area": null,
            "grid_template_columns": null,
            "flex": null,
            "_model_name": "LayoutModel",
            "justify_items": null,
            "grid_row": null,
            "max_height": null,
            "align_content": null,
            "visibility": null,
            "align_self": null,
            "height": null,
            "min_height": null,
            "padding": null,
            "grid_auto_rows": null,
            "grid_gap": null,
            "max_width": null,
            "order": null,
            "_view_module_version": "1.2.0",
            "grid_template_areas": null,
            "object_position": null,
            "object_fit": null,
            "grid_auto_columns": null,
            "margin": null,
            "display": null,
            "left": null
          }
        },
        "a33948be72ae42548985f16b562133b5": {
          "model_module": "@jupyter-widgets/controls",
          "model_name": "HBoxModel",
          "state": {
            "_view_name": "HBoxView",
            "_dom_classes": [],
            "_model_name": "HBoxModel",
            "_view_module": "@jupyter-widgets/controls",
            "_model_module_version": "1.5.0",
            "_view_count": null,
            "_view_module_version": "1.5.0",
            "box_style": "",
            "layout": "IPY_MODEL_d3b09051f32d4322be68c6d2fe2c2804",
            "_model_module": "@jupyter-widgets/controls",
            "children": [
              "IPY_MODEL_a4f56b6f1bf94d1eb351b838012f3b14",
              "IPY_MODEL_69e04eda37634c9a8bf221d3d5bb324e"
            ]
          }
        },
        "d3b09051f32d4322be68c6d2fe2c2804": {
          "model_module": "@jupyter-widgets/base",
          "model_name": "LayoutModel",
          "state": {
            "_view_name": "LayoutView",
            "grid_template_rows": null,
            "right": null,
            "justify_content": null,
            "_view_module": "@jupyter-widgets/base",
            "overflow": null,
            "_model_module_version": "1.2.0",
            "_view_count": null,
            "flex_flow": null,
            "width": null,
            "min_width": null,
            "border": null,
            "align_items": null,
            "bottom": null,
            "_model_module": "@jupyter-widgets/base",
            "top": null,
            "grid_column": null,
            "overflow_y": null,
            "overflow_x": null,
            "grid_auto_flow": null,
            "grid_area": null,
            "grid_template_columns": null,
            "flex": null,
            "_model_name": "LayoutModel",
            "justify_items": null,
            "grid_row": null,
            "max_height": null,
            "align_content": null,
            "visibility": null,
            "align_self": null,
            "height": null,
            "min_height": null,
            "padding": null,
            "grid_auto_rows": null,
            "grid_gap": null,
            "max_width": null,
            "order": null,
            "_view_module_version": "1.2.0",
            "grid_template_areas": null,
            "object_position": null,
            "object_fit": null,
            "grid_auto_columns": null,
            "margin": null,
            "display": null,
            "left": null
          }
        },
        "a4f56b6f1bf94d1eb351b838012f3b14": {
          "model_module": "@jupyter-widgets/controls",
          "model_name": "FloatProgressModel",
          "state": {
            "_view_name": "ProgressView",
            "style": "IPY_MODEL_775b88e3c70546c6a96f5f26a6bae47a",
            "_dom_classes": [],
            "description": "Extraction completed...: 100%",
            "_model_name": "FloatProgressModel",
            "bar_style": "success",
            "max": 1,
            "_view_module": "@jupyter-widgets/controls",
            "_model_module_version": "1.5.0",
            "value": 1,
            "_view_count": null,
            "_view_module_version": "1.5.0",
            "orientation": "horizontal",
            "min": 0,
            "description_tooltip": null,
            "_model_module": "@jupyter-widgets/controls",
            "layout": "IPY_MODEL_ff4cea735d5a4b3e8c7ac61c034bcfd6"
          }
        },
        "69e04eda37634c9a8bf221d3d5bb324e": {
          "model_module": "@jupyter-widgets/controls",
          "model_name": "HTMLModel",
          "state": {
            "_view_name": "HTMLView",
            "style": "IPY_MODEL_9a28bb681b6e4b679cf5a5d90eec913b",
            "_dom_classes": [],
            "description": "",
            "_model_name": "HTMLModel",
            "placeholder": "​",
            "_view_module": "@jupyter-widgets/controls",
            "_model_module_version": "1.5.0",
            "value": " 1/1 [00:48&lt;00:00, 48.05s/ file]",
            "_view_count": null,
            "_view_module_version": "1.5.0",
            "description_tooltip": null,
            "_model_module": "@jupyter-widgets/controls",
            "layout": "IPY_MODEL_37a0b1e232694f55a3dc83bc578a5468"
          }
        },
        "775b88e3c70546c6a96f5f26a6bae47a": {
          "model_module": "@jupyter-widgets/controls",
          "model_name": "ProgressStyleModel",
          "state": {
            "_view_name": "StyleView",
            "_model_name": "ProgressStyleModel",
            "description_width": "initial",
            "_view_module": "@jupyter-widgets/base",
            "_model_module_version": "1.5.0",
            "_view_count": null,
            "_view_module_version": "1.2.0",
            "bar_color": null,
            "_model_module": "@jupyter-widgets/controls"
          }
        },
        "ff4cea735d5a4b3e8c7ac61c034bcfd6": {
          "model_module": "@jupyter-widgets/base",
          "model_name": "LayoutModel",
          "state": {
            "_view_name": "LayoutView",
            "grid_template_rows": null,
            "right": null,
            "justify_content": null,
            "_view_module": "@jupyter-widgets/base",
            "overflow": null,
            "_model_module_version": "1.2.0",
            "_view_count": null,
            "flex_flow": null,
            "width": null,
            "min_width": null,
            "border": null,
            "align_items": null,
            "bottom": null,
            "_model_module": "@jupyter-widgets/base",
            "top": null,
            "grid_column": null,
            "overflow_y": null,
            "overflow_x": null,
            "grid_auto_flow": null,
            "grid_area": null,
            "grid_template_columns": null,
            "flex": null,
            "_model_name": "LayoutModel",
            "justify_items": null,
            "grid_row": null,
            "max_height": null,
            "align_content": null,
            "visibility": null,
            "align_self": null,
            "height": null,
            "min_height": null,
            "padding": null,
            "grid_auto_rows": null,
            "grid_gap": null,
            "max_width": null,
            "order": null,
            "_view_module_version": "1.2.0",
            "grid_template_areas": null,
            "object_position": null,
            "object_fit": null,
            "grid_auto_columns": null,
            "margin": null,
            "display": null,
            "left": null
          }
        },
        "9a28bb681b6e4b679cf5a5d90eec913b": {
          "model_module": "@jupyter-widgets/controls",
          "model_name": "DescriptionStyleModel",
          "state": {
            "_view_name": "StyleView",
            "_model_name": "DescriptionStyleModel",
            "description_width": "",
            "_view_module": "@jupyter-widgets/base",
            "_model_module_version": "1.5.0",
            "_view_count": null,
            "_view_module_version": "1.2.0",
            "_model_module": "@jupyter-widgets/controls"
          }
        },
        "37a0b1e232694f55a3dc83bc578a5468": {
          "model_module": "@jupyter-widgets/base",
          "model_name": "LayoutModel",
          "state": {
            "_view_name": "LayoutView",
            "grid_template_rows": null,
            "right": null,
            "justify_content": null,
            "_view_module": "@jupyter-widgets/base",
            "overflow": null,
            "_model_module_version": "1.2.0",
            "_view_count": null,
            "flex_flow": null,
            "width": null,
            "min_width": null,
            "border": null,
            "align_items": null,
            "bottom": null,
            "_model_module": "@jupyter-widgets/base",
            "top": null,
            "grid_column": null,
            "overflow_y": null,
            "overflow_x": null,
            "grid_auto_flow": null,
            "grid_area": null,
            "grid_template_columns": null,
            "flex": null,
            "_model_name": "LayoutModel",
            "justify_items": null,
            "grid_row": null,
            "max_height": null,
            "align_content": null,
            "visibility": null,
            "align_self": null,
            "height": null,
            "min_height": null,
            "padding": null,
            "grid_auto_rows": null,
            "grid_gap": null,
            "max_width": null,
            "order": null,
            "_view_module_version": "1.2.0",
            "grid_template_areas": null,
            "object_position": null,
            "object_fit": null,
            "grid_auto_columns": null,
            "margin": null,
            "display": null,
            "left": null
          }
        },
        "18437b6eb7f94083af762d9b8c6ec0b3": {
          "model_module": "@jupyter-widgets/controls",
          "model_name": "HBoxModel",
          "state": {
            "_view_name": "HBoxView",
            "_dom_classes": [],
            "_model_name": "HBoxModel",
            "_view_module": "@jupyter-widgets/controls",
            "_model_module_version": "1.5.0",
            "_view_count": null,
            "_view_module_version": "1.5.0",
            "box_style": "",
            "layout": "IPY_MODEL_1114d90568144ac7936b63ef7abc8c5f",
            "_model_module": "@jupyter-widgets/controls",
            "children": [
              "IPY_MODEL_2bdb470a5a744b2191bd16de74239cd3",
              "IPY_MODEL_17ec77c687aa4ba5bbf2b1f67d6e2bea"
            ]
          }
        },
        "1114d90568144ac7936b63ef7abc8c5f": {
          "model_module": "@jupyter-widgets/base",
          "model_name": "LayoutModel",
          "state": {
            "_view_name": "LayoutView",
            "grid_template_rows": null,
            "right": null,
            "justify_content": null,
            "_view_module": "@jupyter-widgets/base",
            "overflow": null,
            "_model_module_version": "1.2.0",
            "_view_count": null,
            "flex_flow": null,
            "width": null,
            "min_width": null,
            "border": null,
            "align_items": null,
            "bottom": null,
            "_model_module": "@jupyter-widgets/base",
            "top": null,
            "grid_column": null,
            "overflow_y": null,
            "overflow_x": null,
            "grid_auto_flow": null,
            "grid_area": null,
            "grid_template_columns": null,
            "flex": null,
            "_model_name": "LayoutModel",
            "justify_items": null,
            "grid_row": null,
            "max_height": null,
            "align_content": null,
            "visibility": null,
            "align_self": null,
            "height": null,
            "min_height": null,
            "padding": null,
            "grid_auto_rows": null,
            "grid_gap": null,
            "max_width": null,
            "order": null,
            "_view_module_version": "1.2.0",
            "grid_template_areas": null,
            "object_position": null,
            "object_fit": null,
            "grid_auto_columns": null,
            "margin": null,
            "display": null,
            "left": null
          }
        },
        "2bdb470a5a744b2191bd16de74239cd3": {
          "model_module": "@jupyter-widgets/controls",
          "model_name": "FloatProgressModel",
          "state": {
            "_view_name": "ProgressView",
            "style": "IPY_MODEL_1b2e09c279f442a5941edd6eb4cea8af",
            "_dom_classes": [],
            "description": "Generating splits...: 100%",
            "_model_name": "FloatProgressModel",
            "bar_style": "",
            "max": 3,
            "_view_module": "@jupyter-widgets/controls",
            "_model_module_version": "1.5.0",
            "value": 3,
            "_view_count": null,
            "_view_module_version": "1.5.0",
            "orientation": "horizontal",
            "min": 0,
            "description_tooltip": null,
            "_model_module": "@jupyter-widgets/controls",
            "layout": "IPY_MODEL_86120cdb59e54fce9fea8d64c6c8403c"
          }
        },
        "17ec77c687aa4ba5bbf2b1f67d6e2bea": {
          "model_module": "@jupyter-widgets/controls",
          "model_name": "HTMLModel",
          "state": {
            "_view_name": "HTMLView",
            "style": "IPY_MODEL_acbc3cdadb8149c68f330dddb75995ce",
            "_dom_classes": [],
            "description": "",
            "_model_name": "HTMLModel",
            "placeholder": "​",
            "_view_module": "@jupyter-widgets/controls",
            "_model_module_version": "1.5.0",
            "value": " 3/3 [29:18&lt;00:00, 549.44s/ splits]",
            "_view_count": null,
            "_view_module_version": "1.5.0",
            "description_tooltip": null,
            "_model_module": "@jupyter-widgets/controls",
            "layout": "IPY_MODEL_1bb857b63b634aeba77e24626800b9a9"
          }
        },
        "1b2e09c279f442a5941edd6eb4cea8af": {
          "model_module": "@jupyter-widgets/controls",
          "model_name": "ProgressStyleModel",
          "state": {
            "_view_name": "StyleView",
            "_model_name": "ProgressStyleModel",
            "description_width": "initial",
            "_view_module": "@jupyter-widgets/base",
            "_model_module_version": "1.5.0",
            "_view_count": null,
            "_view_module_version": "1.2.0",
            "bar_color": null,
            "_model_module": "@jupyter-widgets/controls"
          }
        },
        "86120cdb59e54fce9fea8d64c6c8403c": {
          "model_module": "@jupyter-widgets/base",
          "model_name": "LayoutModel",
          "state": {
            "_view_name": "LayoutView",
            "grid_template_rows": null,
            "right": null,
            "justify_content": null,
            "_view_module": "@jupyter-widgets/base",
            "overflow": null,
            "_model_module_version": "1.2.0",
            "_view_count": null,
            "flex_flow": null,
            "width": null,
            "min_width": null,
            "border": null,
            "align_items": null,
            "bottom": null,
            "_model_module": "@jupyter-widgets/base",
            "top": null,
            "grid_column": null,
            "overflow_y": null,
            "overflow_x": null,
            "grid_auto_flow": null,
            "grid_area": null,
            "grid_template_columns": null,
            "flex": null,
            "_model_name": "LayoutModel",
            "justify_items": null,
            "grid_row": null,
            "max_height": null,
            "align_content": null,
            "visibility": null,
            "align_self": null,
            "height": null,
            "min_height": null,
            "padding": null,
            "grid_auto_rows": null,
            "grid_gap": null,
            "max_width": null,
            "order": null,
            "_view_module_version": "1.2.0",
            "grid_template_areas": null,
            "object_position": null,
            "object_fit": null,
            "grid_auto_columns": null,
            "margin": null,
            "display": null,
            "left": null
          }
        },
        "acbc3cdadb8149c68f330dddb75995ce": {
          "model_module": "@jupyter-widgets/controls",
          "model_name": "DescriptionStyleModel",
          "state": {
            "_view_name": "StyleView",
            "_model_name": "DescriptionStyleModel",
            "description_width": "",
            "_view_module": "@jupyter-widgets/base",
            "_model_module_version": "1.5.0",
            "_view_count": null,
            "_view_module_version": "1.2.0",
            "_model_module": "@jupyter-widgets/controls"
          }
        },
        "1bb857b63b634aeba77e24626800b9a9": {
          "model_module": "@jupyter-widgets/base",
          "model_name": "LayoutModel",
          "state": {
            "_view_name": "LayoutView",
            "grid_template_rows": null,
            "right": null,
            "justify_content": null,
            "_view_module": "@jupyter-widgets/base",
            "overflow": null,
            "_model_module_version": "1.2.0",
            "_view_count": null,
            "flex_flow": null,
            "width": null,
            "min_width": null,
            "border": null,
            "align_items": null,
            "bottom": null,
            "_model_module": "@jupyter-widgets/base",
            "top": null,
            "grid_column": null,
            "overflow_y": null,
            "overflow_x": null,
            "grid_auto_flow": null,
            "grid_area": null,
            "grid_template_columns": null,
            "flex": null,
            "_model_name": "LayoutModel",
            "justify_items": null,
            "grid_row": null,
            "max_height": null,
            "align_content": null,
            "visibility": null,
            "align_self": null,
            "height": null,
            "min_height": null,
            "padding": null,
            "grid_auto_rows": null,
            "grid_gap": null,
            "max_width": null,
            "order": null,
            "_view_module_version": "1.2.0",
            "grid_template_areas": null,
            "object_position": null,
            "object_fit": null,
            "grid_auto_columns": null,
            "margin": null,
            "display": null,
            "left": null
          }
        },
        "2ef11a4bcd30417aade7806da06872f0": {
          "model_module": "@jupyter-widgets/controls",
          "model_name": "HBoxModel",
          "state": {
            "_view_name": "HBoxView",
            "_dom_classes": [],
            "_model_name": "HBoxModel",
            "_view_module": "@jupyter-widgets/controls",
            "_model_module_version": "1.5.0",
            "_view_count": null,
            "_view_module_version": "1.5.0",
            "box_style": "",
            "layout": "IPY_MODEL_cce8a1a1f19343f893f2c0cabc25df14",
            "_model_module": "@jupyter-widgets/controls",
            "children": [
              "IPY_MODEL_9f9c0ff8f7604591bcfb52537a8a26e3",
              "IPY_MODEL_32756f7ac0474cbcbeca7385c4eebcc4"
            ]
          }
        },
        "cce8a1a1f19343f893f2c0cabc25df14": {
          "model_module": "@jupyter-widgets/base",
          "model_name": "LayoutModel",
          "state": {
            "_view_name": "LayoutView",
            "grid_template_rows": null,
            "right": null,
            "justify_content": null,
            "_view_module": "@jupyter-widgets/base",
            "overflow": null,
            "_model_module_version": "1.2.0",
            "_view_count": null,
            "flex_flow": null,
            "width": null,
            "min_width": null,
            "border": null,
            "align_items": null,
            "bottom": null,
            "_model_module": "@jupyter-widgets/base",
            "top": null,
            "grid_column": null,
            "overflow_y": null,
            "overflow_x": null,
            "grid_auto_flow": null,
            "grid_area": null,
            "grid_template_columns": null,
            "flex": null,
            "_model_name": "LayoutModel",
            "justify_items": null,
            "grid_row": null,
            "max_height": null,
            "align_content": null,
            "visibility": null,
            "align_self": null,
            "height": null,
            "min_height": null,
            "padding": null,
            "grid_auto_rows": null,
            "grid_gap": null,
            "max_width": null,
            "order": null,
            "_view_module_version": "1.2.0",
            "grid_template_areas": null,
            "object_position": null,
            "object_fit": null,
            "grid_auto_columns": null,
            "margin": null,
            "display": null,
            "left": null
          }
        },
        "9f9c0ff8f7604591bcfb52537a8a26e3": {
          "model_module": "@jupyter-widgets/controls",
          "model_name": "FloatProgressModel",
          "state": {
            "_view_name": "ProgressView",
            "style": "IPY_MODEL_eb48f2ffe6644f0ab0086fac2c742390",
            "_dom_classes": [],
            "description": "Generating train examples...: ",
            "_model_name": "FloatProgressModel",
            "bar_style": "info",
            "max": 1,
            "_view_module": "@jupyter-widgets/controls",
            "_model_module_version": "1.5.0",
            "value": 1,
            "_view_count": null,
            "_view_module_version": "1.5.0",
            "orientation": "horizontal",
            "min": 0,
            "description_tooltip": null,
            "_model_module": "@jupyter-widgets/controls",
            "layout": "IPY_MODEL_f2d5f64a1ccd4ada8b0c8cc8f6dfa7ea"
          }
        },
        "32756f7ac0474cbcbeca7385c4eebcc4": {
          "model_module": "@jupyter-widgets/controls",
          "model_name": "HTMLModel",
          "state": {
            "_view_name": "HTMLView",
            "style": "IPY_MODEL_6fd67dbb2b0d4030b909a0111fb70b83",
            "_dom_classes": [],
            "description": "",
            "_model_name": "HTMLModel",
            "placeholder": "​",
            "_view_module": "@jupyter-widgets/controls",
            "_model_module_version": "1.5.0",
            "value": " 722/? [03:33&lt;00:00,  3.15 examples/s]",
            "_view_count": null,
            "_view_module_version": "1.5.0",
            "description_tooltip": null,
            "_model_module": "@jupyter-widgets/controls",
            "layout": "IPY_MODEL_99ab8c0bf6ce41548b4bacc8e05a7175"
          }
        },
        "eb48f2ffe6644f0ab0086fac2c742390": {
          "model_module": "@jupyter-widgets/controls",
          "model_name": "ProgressStyleModel",
          "state": {
            "_view_name": "StyleView",
            "_model_name": "ProgressStyleModel",
            "description_width": "initial",
            "_view_module": "@jupyter-widgets/base",
            "_model_module_version": "1.5.0",
            "_view_count": null,
            "_view_module_version": "1.2.0",
            "bar_color": null,
            "_model_module": "@jupyter-widgets/controls"
          }
        },
        "f2d5f64a1ccd4ada8b0c8cc8f6dfa7ea": {
          "model_module": "@jupyter-widgets/base",
          "model_name": "LayoutModel",
          "state": {
            "_view_name": "LayoutView",
            "grid_template_rows": null,
            "right": null,
            "justify_content": null,
            "_view_module": "@jupyter-widgets/base",
            "overflow": null,
            "_model_module_version": "1.2.0",
            "_view_count": null,
            "flex_flow": null,
            "width": null,
            "min_width": null,
            "border": null,
            "align_items": null,
            "bottom": null,
            "_model_module": "@jupyter-widgets/base",
            "top": null,
            "grid_column": null,
            "overflow_y": null,
            "overflow_x": null,
            "grid_auto_flow": null,
            "grid_area": null,
            "grid_template_columns": null,
            "flex": null,
            "_model_name": "LayoutModel",
            "justify_items": null,
            "grid_row": null,
            "max_height": null,
            "align_content": null,
            "visibility": null,
            "align_self": null,
            "height": null,
            "min_height": null,
            "padding": null,
            "grid_auto_rows": null,
            "grid_gap": null,
            "max_width": null,
            "order": null,
            "_view_module_version": "1.2.0",
            "grid_template_areas": null,
            "object_position": null,
            "object_fit": null,
            "grid_auto_columns": null,
            "margin": null,
            "display": null,
            "left": null
          }
        },
        "6fd67dbb2b0d4030b909a0111fb70b83": {
          "model_module": "@jupyter-widgets/controls",
          "model_name": "DescriptionStyleModel",
          "state": {
            "_view_name": "StyleView",
            "_model_name": "DescriptionStyleModel",
            "description_width": "",
            "_view_module": "@jupyter-widgets/base",
            "_model_module_version": "1.5.0",
            "_view_count": null,
            "_view_module_version": "1.2.0",
            "_model_module": "@jupyter-widgets/controls"
          }
        },
        "99ab8c0bf6ce41548b4bacc8e05a7175": {
          "model_module": "@jupyter-widgets/base",
          "model_name": "LayoutModel",
          "state": {
            "_view_name": "LayoutView",
            "grid_template_rows": null,
            "right": null,
            "justify_content": null,
            "_view_module": "@jupyter-widgets/base",
            "overflow": null,
            "_model_module_version": "1.2.0",
            "_view_count": null,
            "flex_flow": null,
            "width": null,
            "min_width": null,
            "border": null,
            "align_items": null,
            "bottom": null,
            "_model_module": "@jupyter-widgets/base",
            "top": null,
            "grid_column": null,
            "overflow_y": null,
            "overflow_x": null,
            "grid_auto_flow": null,
            "grid_area": null,
            "grid_template_columns": null,
            "flex": null,
            "_model_name": "LayoutModel",
            "justify_items": null,
            "grid_row": null,
            "max_height": null,
            "align_content": null,
            "visibility": null,
            "align_self": null,
            "height": null,
            "min_height": null,
            "padding": null,
            "grid_auto_rows": null,
            "grid_gap": null,
            "max_width": null,
            "order": null,
            "_view_module_version": "1.2.0",
            "grid_template_areas": null,
            "object_position": null,
            "object_fit": null,
            "grid_auto_columns": null,
            "margin": null,
            "display": null,
            "left": null
          }
        },
        "adce8a57f4844771994ca979ad4ca417": {
          "model_module": "@jupyter-widgets/controls",
          "model_name": "HBoxModel",
          "state": {
            "_view_name": "HBoxView",
            "_dom_classes": [],
            "_model_name": "HBoxModel",
            "_view_module": "@jupyter-widgets/controls",
            "_model_module_version": "1.5.0",
            "_view_count": null,
            "_view_module_version": "1.5.0",
            "box_style": "",
            "layout": "IPY_MODEL_182e5d0a663b46e1b98b02e2da95908d",
            "_model_module": "@jupyter-widgets/controls",
            "children": [
              "IPY_MODEL_4f6fa9fac28d4729bb94ea9219f8c291",
              "IPY_MODEL_434dbd3ccb3f4a00b37507db8104b334"
            ]
          }
        },
        "182e5d0a663b46e1b98b02e2da95908d": {
          "model_module": "@jupyter-widgets/base",
          "model_name": "LayoutModel",
          "state": {
            "_view_name": "LayoutView",
            "grid_template_rows": null,
            "right": null,
            "justify_content": null,
            "_view_module": "@jupyter-widgets/base",
            "overflow": null,
            "_model_module_version": "1.2.0",
            "_view_count": null,
            "flex_flow": null,
            "width": null,
            "min_width": null,
            "border": null,
            "align_items": null,
            "bottom": null,
            "_model_module": "@jupyter-widgets/base",
            "top": null,
            "grid_column": null,
            "overflow_y": null,
            "overflow_x": null,
            "grid_auto_flow": null,
            "grid_area": null,
            "grid_template_columns": null,
            "flex": null,
            "_model_name": "LayoutModel",
            "justify_items": null,
            "grid_row": null,
            "max_height": null,
            "align_content": null,
            "visibility": null,
            "align_self": null,
            "height": null,
            "min_height": null,
            "padding": null,
            "grid_auto_rows": null,
            "grid_gap": null,
            "max_width": null,
            "order": null,
            "_view_module_version": "1.2.0",
            "grid_template_areas": null,
            "object_position": null,
            "object_fit": null,
            "grid_auto_columns": null,
            "margin": null,
            "display": null,
            "left": null
          }
        },
        "4f6fa9fac28d4729bb94ea9219f8c291": {
          "model_module": "@jupyter-widgets/controls",
          "model_name": "FloatProgressModel",
          "state": {
            "_view_name": "ProgressView",
            "style": "IPY_MODEL_62764a660e584e05a5569278fd062e7c",
            "_dom_classes": [],
            "description": "Shuffling common_voice_v6-train.tfrecord...: 100%",
            "_model_name": "FloatProgressModel",
            "bar_style": "",
            "max": 722,
            "_view_module": "@jupyter-widgets/controls",
            "_model_module_version": "1.5.0",
            "value": 722,
            "_view_count": null,
            "_view_module_version": "1.5.0",
            "orientation": "horizontal",
            "min": 0,
            "description_tooltip": null,
            "_model_module": "@jupyter-widgets/controls",
            "layout": "IPY_MODEL_3bcfa00b75f24119bafd44f83d939070"
          }
        },
        "434dbd3ccb3f4a00b37507db8104b334": {
          "model_module": "@jupyter-widgets/controls",
          "model_name": "HTMLModel",
          "state": {
            "_view_name": "HTMLView",
            "style": "IPY_MODEL_9a1bf66651314eceb4e3d8a8d60cb252",
            "_dom_classes": [],
            "description": "",
            "_model_name": "HTMLModel",
            "placeholder": "​",
            "_view_module": "@jupyter-widgets/controls",
            "_model_module_version": "1.5.0",
            "value": " 722/722 [00:07&lt;00:00, 148.48 examples/s]",
            "_view_count": null,
            "_view_module_version": "1.5.0",
            "description_tooltip": null,
            "_model_module": "@jupyter-widgets/controls",
            "layout": "IPY_MODEL_3f74787ff9a748a99b7de4fc4a8042d4"
          }
        },
        "62764a660e584e05a5569278fd062e7c": {
          "model_module": "@jupyter-widgets/controls",
          "model_name": "ProgressStyleModel",
          "state": {
            "_view_name": "StyleView",
            "_model_name": "ProgressStyleModel",
            "description_width": "initial",
            "_view_module": "@jupyter-widgets/base",
            "_model_module_version": "1.5.0",
            "_view_count": null,
            "_view_module_version": "1.2.0",
            "bar_color": null,
            "_model_module": "@jupyter-widgets/controls"
          }
        },
        "3bcfa00b75f24119bafd44f83d939070": {
          "model_module": "@jupyter-widgets/base",
          "model_name": "LayoutModel",
          "state": {
            "_view_name": "LayoutView",
            "grid_template_rows": null,
            "right": null,
            "justify_content": null,
            "_view_module": "@jupyter-widgets/base",
            "overflow": null,
            "_model_module_version": "1.2.0",
            "_view_count": null,
            "flex_flow": null,
            "width": null,
            "min_width": null,
            "border": null,
            "align_items": null,
            "bottom": null,
            "_model_module": "@jupyter-widgets/base",
            "top": null,
            "grid_column": null,
            "overflow_y": null,
            "overflow_x": null,
            "grid_auto_flow": null,
            "grid_area": null,
            "grid_template_columns": null,
            "flex": null,
            "_model_name": "LayoutModel",
            "justify_items": null,
            "grid_row": null,
            "max_height": null,
            "align_content": null,
            "visibility": null,
            "align_self": null,
            "height": null,
            "min_height": null,
            "padding": null,
            "grid_auto_rows": null,
            "grid_gap": null,
            "max_width": null,
            "order": null,
            "_view_module_version": "1.2.0",
            "grid_template_areas": null,
            "object_position": null,
            "object_fit": null,
            "grid_auto_columns": null,
            "margin": null,
            "display": null,
            "left": null
          }
        },
        "9a1bf66651314eceb4e3d8a8d60cb252": {
          "model_module": "@jupyter-widgets/controls",
          "model_name": "DescriptionStyleModel",
          "state": {
            "_view_name": "StyleView",
            "_model_name": "DescriptionStyleModel",
            "description_width": "",
            "_view_module": "@jupyter-widgets/base",
            "_model_module_version": "1.5.0",
            "_view_count": null,
            "_view_module_version": "1.2.0",
            "_model_module": "@jupyter-widgets/controls"
          }
        },
        "3f74787ff9a748a99b7de4fc4a8042d4": {
          "model_module": "@jupyter-widgets/base",
          "model_name": "LayoutModel",
          "state": {
            "_view_name": "LayoutView",
            "grid_template_rows": null,
            "right": null,
            "justify_content": null,
            "_view_module": "@jupyter-widgets/base",
            "overflow": null,
            "_model_module_version": "1.2.0",
            "_view_count": null,
            "flex_flow": null,
            "width": null,
            "min_width": null,
            "border": null,
            "align_items": null,
            "bottom": null,
            "_model_module": "@jupyter-widgets/base",
            "top": null,
            "grid_column": null,
            "overflow_y": null,
            "overflow_x": null,
            "grid_auto_flow": null,
            "grid_area": null,
            "grid_template_columns": null,
            "flex": null,
            "_model_name": "LayoutModel",
            "justify_items": null,
            "grid_row": null,
            "max_height": null,
            "align_content": null,
            "visibility": null,
            "align_self": null,
            "height": null,
            "min_height": null,
            "padding": null,
            "grid_auto_rows": null,
            "grid_gap": null,
            "max_width": null,
            "order": null,
            "_view_module_version": "1.2.0",
            "grid_template_areas": null,
            "object_position": null,
            "object_fit": null,
            "grid_auto_columns": null,
            "margin": null,
            "display": null,
            "left": null
          }
        },
        "dbce540492d2492e8ff168bcedf2371a": {
          "model_module": "@jupyter-widgets/controls",
          "model_name": "HBoxModel",
          "state": {
            "_view_name": "HBoxView",
            "_dom_classes": [],
            "_model_name": "HBoxModel",
            "_view_module": "@jupyter-widgets/controls",
            "_model_module_version": "1.5.0",
            "_view_count": null,
            "_view_module_version": "1.5.0",
            "box_style": "",
            "layout": "IPY_MODEL_c2172db9c3bf48a9b1a9efc2b9d8a620",
            "_model_module": "@jupyter-widgets/controls",
            "children": [
              "IPY_MODEL_cc0d2cc0384e40629cb17b3b98f8c6c6",
              "IPY_MODEL_87135adbaa7c4c3a8a7218574d3f789e"
            ]
          }
        },
        "c2172db9c3bf48a9b1a9efc2b9d8a620": {
          "model_module": "@jupyter-widgets/base",
          "model_name": "LayoutModel",
          "state": {
            "_view_name": "LayoutView",
            "grid_template_rows": null,
            "right": null,
            "justify_content": null,
            "_view_module": "@jupyter-widgets/base",
            "overflow": null,
            "_model_module_version": "1.2.0",
            "_view_count": null,
            "flex_flow": null,
            "width": null,
            "min_width": null,
            "border": null,
            "align_items": null,
            "bottom": null,
            "_model_module": "@jupyter-widgets/base",
            "top": null,
            "grid_column": null,
            "overflow_y": null,
            "overflow_x": null,
            "grid_auto_flow": null,
            "grid_area": null,
            "grid_template_columns": null,
            "flex": null,
            "_model_name": "LayoutModel",
            "justify_items": null,
            "grid_row": null,
            "max_height": null,
            "align_content": null,
            "visibility": null,
            "align_self": null,
            "height": null,
            "min_height": null,
            "padding": null,
            "grid_auto_rows": null,
            "grid_gap": null,
            "max_width": null,
            "order": null,
            "_view_module_version": "1.2.0",
            "grid_template_areas": null,
            "object_position": null,
            "object_fit": null,
            "grid_auto_columns": null,
            "margin": null,
            "display": null,
            "left": null
          }
        },
        "cc0d2cc0384e40629cb17b3b98f8c6c6": {
          "model_module": "@jupyter-widgets/controls",
          "model_name": "FloatProgressModel",
          "state": {
            "_view_name": "ProgressView",
            "style": "IPY_MODEL_e0db3ea0e07746f79e5488f797bc540d",
            "_dom_classes": [],
            "description": "Generating test examples...: ",
            "_model_name": "FloatProgressModel",
            "bar_style": "info",
            "max": 1,
            "_view_module": "@jupyter-widgets/controls",
            "_model_module_version": "1.5.0",
            "value": 1,
            "_view_count": null,
            "_view_module_version": "1.5.0",
            "orientation": "horizontal",
            "min": 0,
            "description_tooltip": null,
            "_model_module": "@jupyter-widgets/controls",
            "layout": "IPY_MODEL_67bc70c7b5e840579c06f671e4b6efac"
          }
        },
        "87135adbaa7c4c3a8a7218574d3f789e": {
          "model_module": "@jupyter-widgets/controls",
          "model_name": "HTMLModel",
          "state": {
            "_view_name": "HTMLView",
            "style": "IPY_MODEL_8f8e8c240874428d9a11cb246ed7f761",
            "_dom_classes": [],
            "description": "",
            "_model_name": "HTMLModel",
            "placeholder": "​",
            "_view_module": "@jupyter-widgets/controls",
            "_model_module_version": "1.5.0",
            "value": " 632/? [03:38&lt;00:00,  2.79 examples/s]",
            "_view_count": null,
            "_view_module_version": "1.5.0",
            "description_tooltip": null,
            "_model_module": "@jupyter-widgets/controls",
            "layout": "IPY_MODEL_a06c91ff5d484e9fb7fcc569fd3df138"
          }
        },
        "e0db3ea0e07746f79e5488f797bc540d": {
          "model_module": "@jupyter-widgets/controls",
          "model_name": "ProgressStyleModel",
          "state": {
            "_view_name": "StyleView",
            "_model_name": "ProgressStyleModel",
            "description_width": "initial",
            "_view_module": "@jupyter-widgets/base",
            "_model_module_version": "1.5.0",
            "_view_count": null,
            "_view_module_version": "1.2.0",
            "bar_color": null,
            "_model_module": "@jupyter-widgets/controls"
          }
        },
        "67bc70c7b5e840579c06f671e4b6efac": {
          "model_module": "@jupyter-widgets/base",
          "model_name": "LayoutModel",
          "state": {
            "_view_name": "LayoutView",
            "grid_template_rows": null,
            "right": null,
            "justify_content": null,
            "_view_module": "@jupyter-widgets/base",
            "overflow": null,
            "_model_module_version": "1.2.0",
            "_view_count": null,
            "flex_flow": null,
            "width": null,
            "min_width": null,
            "border": null,
            "align_items": null,
            "bottom": null,
            "_model_module": "@jupyter-widgets/base",
            "top": null,
            "grid_column": null,
            "overflow_y": null,
            "overflow_x": null,
            "grid_auto_flow": null,
            "grid_area": null,
            "grid_template_columns": null,
            "flex": null,
            "_model_name": "LayoutModel",
            "justify_items": null,
            "grid_row": null,
            "max_height": null,
            "align_content": null,
            "visibility": null,
            "align_self": null,
            "height": null,
            "min_height": null,
            "padding": null,
            "grid_auto_rows": null,
            "grid_gap": null,
            "max_width": null,
            "order": null,
            "_view_module_version": "1.2.0",
            "grid_template_areas": null,
            "object_position": null,
            "object_fit": null,
            "grid_auto_columns": null,
            "margin": null,
            "display": null,
            "left": null
          }
        },
        "8f8e8c240874428d9a11cb246ed7f761": {
          "model_module": "@jupyter-widgets/controls",
          "model_name": "DescriptionStyleModel",
          "state": {
            "_view_name": "StyleView",
            "_model_name": "DescriptionStyleModel",
            "description_width": "",
            "_view_module": "@jupyter-widgets/base",
            "_model_module_version": "1.5.0",
            "_view_count": null,
            "_view_module_version": "1.2.0",
            "_model_module": "@jupyter-widgets/controls"
          }
        },
        "a06c91ff5d484e9fb7fcc569fd3df138": {
          "model_module": "@jupyter-widgets/base",
          "model_name": "LayoutModel",
          "state": {
            "_view_name": "LayoutView",
            "grid_template_rows": null,
            "right": null,
            "justify_content": null,
            "_view_module": "@jupyter-widgets/base",
            "overflow": null,
            "_model_module_version": "1.2.0",
            "_view_count": null,
            "flex_flow": null,
            "width": null,
            "min_width": null,
            "border": null,
            "align_items": null,
            "bottom": null,
            "_model_module": "@jupyter-widgets/base",
            "top": null,
            "grid_column": null,
            "overflow_y": null,
            "overflow_x": null,
            "grid_auto_flow": null,
            "grid_area": null,
            "grid_template_columns": null,
            "flex": null,
            "_model_name": "LayoutModel",
            "justify_items": null,
            "grid_row": null,
            "max_height": null,
            "align_content": null,
            "visibility": null,
            "align_self": null,
            "height": null,
            "min_height": null,
            "padding": null,
            "grid_auto_rows": null,
            "grid_gap": null,
            "max_width": null,
            "order": null,
            "_view_module_version": "1.2.0",
            "grid_template_areas": null,
            "object_position": null,
            "object_fit": null,
            "grid_auto_columns": null,
            "margin": null,
            "display": null,
            "left": null
          }
        },
        "c07143f03e474ea88b1498cf78de4f69": {
          "model_module": "@jupyter-widgets/controls",
          "model_name": "HBoxModel",
          "state": {
            "_view_name": "HBoxView",
            "_dom_classes": [],
            "_model_name": "HBoxModel",
            "_view_module": "@jupyter-widgets/controls",
            "_model_module_version": "1.5.0",
            "_view_count": null,
            "_view_module_version": "1.5.0",
            "box_style": "",
            "layout": "IPY_MODEL_1c667dba2b2f44fdaeb08409de8f203f",
            "_model_module": "@jupyter-widgets/controls",
            "children": [
              "IPY_MODEL_e4c8f711b4774a368f62edc9135c03cd",
              "IPY_MODEL_ec2b4fd3503a4ef0996460903b33ff0c"
            ]
          }
        },
        "1c667dba2b2f44fdaeb08409de8f203f": {
          "model_module": "@jupyter-widgets/base",
          "model_name": "LayoutModel",
          "state": {
            "_view_name": "LayoutView",
            "grid_template_rows": null,
            "right": null,
            "justify_content": null,
            "_view_module": "@jupyter-widgets/base",
            "overflow": null,
            "_model_module_version": "1.2.0",
            "_view_count": null,
            "flex_flow": null,
            "width": null,
            "min_width": null,
            "border": null,
            "align_items": null,
            "bottom": null,
            "_model_module": "@jupyter-widgets/base",
            "top": null,
            "grid_column": null,
            "overflow_y": null,
            "overflow_x": null,
            "grid_auto_flow": null,
            "grid_area": null,
            "grid_template_columns": null,
            "flex": null,
            "_model_name": "LayoutModel",
            "justify_items": null,
            "grid_row": null,
            "max_height": null,
            "align_content": null,
            "visibility": null,
            "align_self": null,
            "height": null,
            "min_height": null,
            "padding": null,
            "grid_auto_rows": null,
            "grid_gap": null,
            "max_width": null,
            "order": null,
            "_view_module_version": "1.2.0",
            "grid_template_areas": null,
            "object_position": null,
            "object_fit": null,
            "grid_auto_columns": null,
            "margin": null,
            "display": null,
            "left": null
          }
        },
        "e4c8f711b4774a368f62edc9135c03cd": {
          "model_module": "@jupyter-widgets/controls",
          "model_name": "FloatProgressModel",
          "state": {
            "_view_name": "ProgressView",
            "style": "IPY_MODEL_fea96f1702334e12af8ff8ffc2e3ac3d",
            "_dom_classes": [],
            "description": "Shuffling common_voice_v6-test.tfrecord...: 100%",
            "_model_name": "FloatProgressModel",
            "bar_style": "",
            "max": 632,
            "_view_module": "@jupyter-widgets/controls",
            "_model_module_version": "1.5.0",
            "value": 632,
            "_view_count": null,
            "_view_module_version": "1.5.0",
            "orientation": "horizontal",
            "min": 0,
            "description_tooltip": null,
            "_model_module": "@jupyter-widgets/controls",
            "layout": "IPY_MODEL_248ab45779714b28bdfe7f049f261e8c"
          }
        },
        "ec2b4fd3503a4ef0996460903b33ff0c": {
          "model_module": "@jupyter-widgets/controls",
          "model_name": "HTMLModel",
          "state": {
            "_view_name": "HTMLView",
            "style": "IPY_MODEL_bb84a9555c6e4df8a50bdee536fe16ac",
            "_dom_classes": [],
            "description": "",
            "_model_name": "HTMLModel",
            "placeholder": "​",
            "_view_module": "@jupyter-widgets/controls",
            "_model_module_version": "1.5.0",
            "value": " 632/632 [00:04&lt;00:00, 131.54 examples/s]",
            "_view_count": null,
            "_view_module_version": "1.5.0",
            "description_tooltip": null,
            "_model_module": "@jupyter-widgets/controls",
            "layout": "IPY_MODEL_d0b051edc9194f58b4bca02859737de6"
          }
        },
        "fea96f1702334e12af8ff8ffc2e3ac3d": {
          "model_module": "@jupyter-widgets/controls",
          "model_name": "ProgressStyleModel",
          "state": {
            "_view_name": "StyleView",
            "_model_name": "ProgressStyleModel",
            "description_width": "initial",
            "_view_module": "@jupyter-widgets/base",
            "_model_module_version": "1.5.0",
            "_view_count": null,
            "_view_module_version": "1.2.0",
            "bar_color": null,
            "_model_module": "@jupyter-widgets/controls"
          }
        },
        "248ab45779714b28bdfe7f049f261e8c": {
          "model_module": "@jupyter-widgets/base",
          "model_name": "LayoutModel",
          "state": {
            "_view_name": "LayoutView",
            "grid_template_rows": null,
            "right": null,
            "justify_content": null,
            "_view_module": "@jupyter-widgets/base",
            "overflow": null,
            "_model_module_version": "1.2.0",
            "_view_count": null,
            "flex_flow": null,
            "width": null,
            "min_width": null,
            "border": null,
            "align_items": null,
            "bottom": null,
            "_model_module": "@jupyter-widgets/base",
            "top": null,
            "grid_column": null,
            "overflow_y": null,
            "overflow_x": null,
            "grid_auto_flow": null,
            "grid_area": null,
            "grid_template_columns": null,
            "flex": null,
            "_model_name": "LayoutModel",
            "justify_items": null,
            "grid_row": null,
            "max_height": null,
            "align_content": null,
            "visibility": null,
            "align_self": null,
            "height": null,
            "min_height": null,
            "padding": null,
            "grid_auto_rows": null,
            "grid_gap": null,
            "max_width": null,
            "order": null,
            "_view_module_version": "1.2.0",
            "grid_template_areas": null,
            "object_position": null,
            "object_fit": null,
            "grid_auto_columns": null,
            "margin": null,
            "display": null,
            "left": null
          }
        },
        "bb84a9555c6e4df8a50bdee536fe16ac": {
          "model_module": "@jupyter-widgets/controls",
          "model_name": "DescriptionStyleModel",
          "state": {
            "_view_name": "StyleView",
            "_model_name": "DescriptionStyleModel",
            "description_width": "",
            "_view_module": "@jupyter-widgets/base",
            "_model_module_version": "1.5.0",
            "_view_count": null,
            "_view_module_version": "1.2.0",
            "_model_module": "@jupyter-widgets/controls"
          }
        },
        "d0b051edc9194f58b4bca02859737de6": {
          "model_module": "@jupyter-widgets/base",
          "model_name": "LayoutModel",
          "state": {
            "_view_name": "LayoutView",
            "grid_template_rows": null,
            "right": null,
            "justify_content": null,
            "_view_module": "@jupyter-widgets/base",
            "overflow": null,
            "_model_module_version": "1.2.0",
            "_view_count": null,
            "flex_flow": null,
            "width": null,
            "min_width": null,
            "border": null,
            "align_items": null,
            "bottom": null,
            "_model_module": "@jupyter-widgets/base",
            "top": null,
            "grid_column": null,
            "overflow_y": null,
            "overflow_x": null,
            "grid_auto_flow": null,
            "grid_area": null,
            "grid_template_columns": null,
            "flex": null,
            "_model_name": "LayoutModel",
            "justify_items": null,
            "grid_row": null,
            "max_height": null,
            "align_content": null,
            "visibility": null,
            "align_self": null,
            "height": null,
            "min_height": null,
            "padding": null,
            "grid_auto_rows": null,
            "grid_gap": null,
            "max_width": null,
            "order": null,
            "_view_module_version": "1.2.0",
            "grid_template_areas": null,
            "object_position": null,
            "object_fit": null,
            "grid_auto_columns": null,
            "margin": null,
            "display": null,
            "left": null
          }
        },
        "b749a526e8a44dcea3a52f729eb171c8": {
          "model_module": "@jupyter-widgets/controls",
          "model_name": "HBoxModel",
          "state": {
            "_view_name": "HBoxView",
            "_dom_classes": [],
            "_model_name": "HBoxModel",
            "_view_module": "@jupyter-widgets/controls",
            "_model_module_version": "1.5.0",
            "_view_count": null,
            "_view_module_version": "1.5.0",
            "box_style": "",
            "layout": "IPY_MODEL_7a1dac0715fc464aa4e88ad62f2c70eb",
            "_model_module": "@jupyter-widgets/controls",
            "children": [
              "IPY_MODEL_65a8d9ef055646dca06e71d2677bb74c",
              "IPY_MODEL_643e80acad284c37a34bd3a332944767"
            ]
          }
        },
        "7a1dac0715fc464aa4e88ad62f2c70eb": {
          "model_module": "@jupyter-widgets/base",
          "model_name": "LayoutModel",
          "state": {
            "_view_name": "LayoutView",
            "grid_template_rows": null,
            "right": null,
            "justify_content": null,
            "_view_module": "@jupyter-widgets/base",
            "overflow": null,
            "_model_module_version": "1.2.0",
            "_view_count": null,
            "flex_flow": null,
            "width": null,
            "min_width": null,
            "border": null,
            "align_items": null,
            "bottom": null,
            "_model_module": "@jupyter-widgets/base",
            "top": null,
            "grid_column": null,
            "overflow_y": null,
            "overflow_x": null,
            "grid_auto_flow": null,
            "grid_area": null,
            "grid_template_columns": null,
            "flex": null,
            "_model_name": "LayoutModel",
            "justify_items": null,
            "grid_row": null,
            "max_height": null,
            "align_content": null,
            "visibility": null,
            "align_self": null,
            "height": null,
            "min_height": null,
            "padding": null,
            "grid_auto_rows": null,
            "grid_gap": null,
            "max_width": null,
            "order": null,
            "_view_module_version": "1.2.0",
            "grid_template_areas": null,
            "object_position": null,
            "object_fit": null,
            "grid_auto_columns": null,
            "margin": null,
            "display": null,
            "left": null
          }
        },
        "65a8d9ef055646dca06e71d2677bb74c": {
          "model_module": "@jupyter-widgets/controls",
          "model_name": "FloatProgressModel",
          "state": {
            "_view_name": "ProgressView",
            "style": "IPY_MODEL_c82ce030ffa445dda55b2ac9acae2fdb",
            "_dom_classes": [],
            "description": "Generating validation examples...: ",
            "_model_name": "FloatProgressModel",
            "bar_style": "info",
            "max": 1,
            "_view_module": "@jupyter-widgets/controls",
            "_model_module_version": "1.5.0",
            "value": 1,
            "_view_count": null,
            "_view_module_version": "1.5.0",
            "orientation": "horizontal",
            "min": 0,
            "description_tooltip": null,
            "_model_module": "@jupyter-widgets/controls",
            "layout": "IPY_MODEL_d031cf86185342168817fd9bb1e704dd"
          }
        },
        "643e80acad284c37a34bd3a332944767": {
          "model_module": "@jupyter-widgets/controls",
          "model_name": "HTMLModel",
          "state": {
            "_view_name": "HTMLView",
            "style": "IPY_MODEL_8d38c77752fc4162a78223eb1b50b2db",
            "_dom_classes": [],
            "description": "",
            "_model_name": "HTMLModel",
            "placeholder": "​",
            "_view_module": "@jupyter-widgets/controls",
            "_model_module_version": "1.5.0",
            "value": " 3072/? [20:53&lt;00:00,  2.38 examples/s]",
            "_view_count": null,
            "_view_module_version": "1.5.0",
            "description_tooltip": null,
            "_model_module": "@jupyter-widgets/controls",
            "layout": "IPY_MODEL_c80046ef70cf4ce0b1a10957258c1c54"
          }
        },
        "c82ce030ffa445dda55b2ac9acae2fdb": {
          "model_module": "@jupyter-widgets/controls",
          "model_name": "ProgressStyleModel",
          "state": {
            "_view_name": "StyleView",
            "_model_name": "ProgressStyleModel",
            "description_width": "initial",
            "_view_module": "@jupyter-widgets/base",
            "_model_module_version": "1.5.0",
            "_view_count": null,
            "_view_module_version": "1.2.0",
            "bar_color": null,
            "_model_module": "@jupyter-widgets/controls"
          }
        },
        "d031cf86185342168817fd9bb1e704dd": {
          "model_module": "@jupyter-widgets/base",
          "model_name": "LayoutModel",
          "state": {
            "_view_name": "LayoutView",
            "grid_template_rows": null,
            "right": null,
            "justify_content": null,
            "_view_module": "@jupyter-widgets/base",
            "overflow": null,
            "_model_module_version": "1.2.0",
            "_view_count": null,
            "flex_flow": null,
            "width": null,
            "min_width": null,
            "border": null,
            "align_items": null,
            "bottom": null,
            "_model_module": "@jupyter-widgets/base",
            "top": null,
            "grid_column": null,
            "overflow_y": null,
            "overflow_x": null,
            "grid_auto_flow": null,
            "grid_area": null,
            "grid_template_columns": null,
            "flex": null,
            "_model_name": "LayoutModel",
            "justify_items": null,
            "grid_row": null,
            "max_height": null,
            "align_content": null,
            "visibility": null,
            "align_self": null,
            "height": null,
            "min_height": null,
            "padding": null,
            "grid_auto_rows": null,
            "grid_gap": null,
            "max_width": null,
            "order": null,
            "_view_module_version": "1.2.0",
            "grid_template_areas": null,
            "object_position": null,
            "object_fit": null,
            "grid_auto_columns": null,
            "margin": null,
            "display": null,
            "left": null
          }
        },
        "8d38c77752fc4162a78223eb1b50b2db": {
          "model_module": "@jupyter-widgets/controls",
          "model_name": "DescriptionStyleModel",
          "state": {
            "_view_name": "StyleView",
            "_model_name": "DescriptionStyleModel",
            "description_width": "",
            "_view_module": "@jupyter-widgets/base",
            "_model_module_version": "1.5.0",
            "_view_count": null,
            "_view_module_version": "1.2.0",
            "_model_module": "@jupyter-widgets/controls"
          }
        },
        "c80046ef70cf4ce0b1a10957258c1c54": {
          "model_module": "@jupyter-widgets/base",
          "model_name": "LayoutModel",
          "state": {
            "_view_name": "LayoutView",
            "grid_template_rows": null,
            "right": null,
            "justify_content": null,
            "_view_module": "@jupyter-widgets/base",
            "overflow": null,
            "_model_module_version": "1.2.0",
            "_view_count": null,
            "flex_flow": null,
            "width": null,
            "min_width": null,
            "border": null,
            "align_items": null,
            "bottom": null,
            "_model_module": "@jupyter-widgets/base",
            "top": null,
            "grid_column": null,
            "overflow_y": null,
            "overflow_x": null,
            "grid_auto_flow": null,
            "grid_area": null,
            "grid_template_columns": null,
            "flex": null,
            "_model_name": "LayoutModel",
            "justify_items": null,
            "grid_row": null,
            "max_height": null,
            "align_content": null,
            "visibility": null,
            "align_self": null,
            "height": null,
            "min_height": null,
            "padding": null,
            "grid_auto_rows": null,
            "grid_gap": null,
            "max_width": null,
            "order": null,
            "_view_module_version": "1.2.0",
            "grid_template_areas": null,
            "object_position": null,
            "object_fit": null,
            "grid_auto_columns": null,
            "margin": null,
            "display": null,
            "left": null
          }
        },
        "75771f1834594d1198ca93eaeea7c752": {
          "model_module": "@jupyter-widgets/controls",
          "model_name": "HBoxModel",
          "state": {
            "_view_name": "HBoxView",
            "_dom_classes": [],
            "_model_name": "HBoxModel",
            "_view_module": "@jupyter-widgets/controls",
            "_model_module_version": "1.5.0",
            "_view_count": null,
            "_view_module_version": "1.5.0",
            "box_style": "",
            "layout": "IPY_MODEL_dddfada486604743a365ac0d82ead118",
            "_model_module": "@jupyter-widgets/controls",
            "children": [
              "IPY_MODEL_91b90f070ac048f7a6cc110de34a7b6e",
              "IPY_MODEL_1696d89e201a4610b9c6f82ee7dad27f"
            ]
          }
        },
        "dddfada486604743a365ac0d82ead118": {
          "model_module": "@jupyter-widgets/base",
          "model_name": "LayoutModel",
          "state": {
            "_view_name": "LayoutView",
            "grid_template_rows": null,
            "right": null,
            "justify_content": null,
            "_view_module": "@jupyter-widgets/base",
            "overflow": null,
            "_model_module_version": "1.2.0",
            "_view_count": null,
            "flex_flow": null,
            "width": null,
            "min_width": null,
            "border": null,
            "align_items": null,
            "bottom": null,
            "_model_module": "@jupyter-widgets/base",
            "top": null,
            "grid_column": null,
            "overflow_y": null,
            "overflow_x": null,
            "grid_auto_flow": null,
            "grid_area": null,
            "grid_template_columns": null,
            "flex": null,
            "_model_name": "LayoutModel",
            "justify_items": null,
            "grid_row": null,
            "max_height": null,
            "align_content": null,
            "visibility": null,
            "align_self": null,
            "height": null,
            "min_height": null,
            "padding": null,
            "grid_auto_rows": null,
            "grid_gap": null,
            "max_width": null,
            "order": null,
            "_view_module_version": "1.2.0",
            "grid_template_areas": null,
            "object_position": null,
            "object_fit": null,
            "grid_auto_columns": null,
            "margin": null,
            "display": null,
            "left": null
          }
        },
        "91b90f070ac048f7a6cc110de34a7b6e": {
          "model_module": "@jupyter-widgets/controls",
          "model_name": "FloatProgressModel",
          "state": {
            "_view_name": "ProgressView",
            "style": "IPY_MODEL_927df12d3f7449b0bfbd15163b2bb9bc",
            "_dom_classes": [],
            "description": "Shuffling common_voice_v6-validation.tfrecord...: 100%",
            "_model_name": "FloatProgressModel",
            "bar_style": "",
            "max": 3072,
            "_view_module": "@jupyter-widgets/controls",
            "_model_module_version": "1.5.0",
            "value": 3072,
            "_view_count": null,
            "_view_module_version": "1.5.0",
            "orientation": "horizontal",
            "min": 0,
            "description_tooltip": null,
            "_model_module": "@jupyter-widgets/controls",
            "layout": "IPY_MODEL_215d474c74864e48a87d70bfd4920958"
          }
        },
        "1696d89e201a4610b9c6f82ee7dad27f": {
          "model_module": "@jupyter-widgets/controls",
          "model_name": "HTMLModel",
          "state": {
            "_view_name": "HTMLView",
            "style": "IPY_MODEL_341963c85fa045cda718e53789945922",
            "_dom_classes": [],
            "description": "",
            "_model_name": "HTMLModel",
            "placeholder": "​",
            "_view_module": "@jupyter-widgets/controls",
            "_model_module_version": "1.5.0",
            "value": " 3072/3072 [01:01&lt;00:00, 37.57 examples/s]",
            "_view_count": null,
            "_view_module_version": "1.5.0",
            "description_tooltip": null,
            "_model_module": "@jupyter-widgets/controls",
            "layout": "IPY_MODEL_3eb96c0f47f8463a8b01b354f7b51418"
          }
        },
        "927df12d3f7449b0bfbd15163b2bb9bc": {
          "model_module": "@jupyter-widgets/controls",
          "model_name": "ProgressStyleModel",
          "state": {
            "_view_name": "StyleView",
            "_model_name": "ProgressStyleModel",
            "description_width": "initial",
            "_view_module": "@jupyter-widgets/base",
            "_model_module_version": "1.5.0",
            "_view_count": null,
            "_view_module_version": "1.2.0",
            "bar_color": null,
            "_model_module": "@jupyter-widgets/controls"
          }
        },
        "215d474c74864e48a87d70bfd4920958": {
          "model_module": "@jupyter-widgets/base",
          "model_name": "LayoutModel",
          "state": {
            "_view_name": "LayoutView",
            "grid_template_rows": null,
            "right": null,
            "justify_content": null,
            "_view_module": "@jupyter-widgets/base",
            "overflow": null,
            "_model_module_version": "1.2.0",
            "_view_count": null,
            "flex_flow": null,
            "width": null,
            "min_width": null,
            "border": null,
            "align_items": null,
            "bottom": null,
            "_model_module": "@jupyter-widgets/base",
            "top": null,
            "grid_column": null,
            "overflow_y": null,
            "overflow_x": null,
            "grid_auto_flow": null,
            "grid_area": null,
            "grid_template_columns": null,
            "flex": null,
            "_model_name": "LayoutModel",
            "justify_items": null,
            "grid_row": null,
            "max_height": null,
            "align_content": null,
            "visibility": null,
            "align_self": null,
            "height": null,
            "min_height": null,
            "padding": null,
            "grid_auto_rows": null,
            "grid_gap": null,
            "max_width": null,
            "order": null,
            "_view_module_version": "1.2.0",
            "grid_template_areas": null,
            "object_position": null,
            "object_fit": null,
            "grid_auto_columns": null,
            "margin": null,
            "display": null,
            "left": null
          }
        },
        "341963c85fa045cda718e53789945922": {
          "model_module": "@jupyter-widgets/controls",
          "model_name": "DescriptionStyleModel",
          "state": {
            "_view_name": "StyleView",
            "_model_name": "DescriptionStyleModel",
            "description_width": "",
            "_view_module": "@jupyter-widgets/base",
            "_model_module_version": "1.5.0",
            "_view_count": null,
            "_view_module_version": "1.2.0",
            "_model_module": "@jupyter-widgets/controls"
          }
        },
        "3eb96c0f47f8463a8b01b354f7b51418": {
          "model_module": "@jupyter-widgets/base",
          "model_name": "LayoutModel",
          "state": {
            "_view_name": "LayoutView",
            "grid_template_rows": null,
            "right": null,
            "justify_content": null,
            "_view_module": "@jupyter-widgets/base",
            "overflow": null,
            "_model_module_version": "1.2.0",
            "_view_count": null,
            "flex_flow": null,
            "width": null,
            "min_width": null,
            "border": null,
            "align_items": null,
            "bottom": null,
            "_model_module": "@jupyter-widgets/base",
            "top": null,
            "grid_column": null,
            "overflow_y": null,
            "overflow_x": null,
            "grid_auto_flow": null,
            "grid_area": null,
            "grid_template_columns": null,
            "flex": null,
            "_model_name": "LayoutModel",
            "justify_items": null,
            "grid_row": null,
            "max_height": null,
            "align_content": null,
            "visibility": null,
            "align_self": null,
            "height": null,
            "min_height": null,
            "padding": null,
            "grid_auto_rows": null,
            "grid_gap": null,
            "max_width": null,
            "order": null,
            "_view_module_version": "1.2.0",
            "grid_template_areas": null,
            "object_position": null,
            "object_fit": null,
            "grid_auto_columns": null,
            "margin": null,
            "display": null,
            "left": null
          }
        },
        "dd24386c2109467f9cb864095466d9de": {
          "model_module": "@jupyter-widgets/controls",
          "model_name": "HBoxModel",
          "state": {
            "_view_name": "HBoxView",
            "_dom_classes": [],
            "_model_name": "HBoxModel",
            "_view_module": "@jupyter-widgets/controls",
            "_model_module_version": "1.5.0",
            "_view_count": null,
            "_view_module_version": "1.5.0",
            "box_style": "",
            "layout": "IPY_MODEL_1ceab0e54aea4219bd61d8a719756b58",
            "_model_module": "@jupyter-widgets/controls",
            "children": [
              "IPY_MODEL_a112dd09e10b4c59916ab681527b1d40",
              "IPY_MODEL_790a96d198cb4cae8ee7b6cf5087944f"
            ]
          }
        },
        "1ceab0e54aea4219bd61d8a719756b58": {
          "model_module": "@jupyter-widgets/base",
          "model_name": "LayoutModel",
          "state": {
            "_view_name": "LayoutView",
            "grid_template_rows": null,
            "right": null,
            "justify_content": null,
            "_view_module": "@jupyter-widgets/base",
            "overflow": null,
            "_model_module_version": "1.2.0",
            "_view_count": null,
            "flex_flow": null,
            "width": null,
            "min_width": null,
            "border": null,
            "align_items": null,
            "bottom": null,
            "_model_module": "@jupyter-widgets/base",
            "top": null,
            "grid_column": null,
            "overflow_y": null,
            "overflow_x": null,
            "grid_auto_flow": null,
            "grid_area": null,
            "grid_template_columns": null,
            "flex": null,
            "_model_name": "LayoutModel",
            "justify_items": null,
            "grid_row": null,
            "max_height": null,
            "align_content": null,
            "visibility": null,
            "align_self": null,
            "height": null,
            "min_height": null,
            "padding": null,
            "grid_auto_rows": null,
            "grid_gap": null,
            "max_width": null,
            "order": null,
            "_view_module_version": "1.2.0",
            "grid_template_areas": null,
            "object_position": null,
            "object_fit": null,
            "grid_auto_columns": null,
            "margin": null,
            "display": null,
            "left": null
          }
        },
        "a112dd09e10b4c59916ab681527b1d40": {
          "model_module": "@jupyter-widgets/controls",
          "model_name": "FloatProgressModel",
          "state": {
            "_view_name": "ProgressView",
            "style": "IPY_MODEL_fa6291cbd8a1420a841b005e1111be3e",
            "_dom_classes": [],
            "description": "Extraction completed...: ",
            "_model_name": "FloatProgressModel",
            "bar_style": "success",
            "max": 1,
            "_view_module": "@jupyter-widgets/controls",
            "_model_module_version": "1.5.0",
            "value": 0,
            "_view_count": null,
            "_view_module_version": "1.5.0",
            "orientation": "horizontal",
            "min": 0,
            "description_tooltip": null,
            "_model_module": "@jupyter-widgets/controls",
            "layout": "IPY_MODEL_d5a1bf32314045e991f6fb0d5ad2d9f1"
          }
        },
        "790a96d198cb4cae8ee7b6cf5087944f": {
          "model_module": "@jupyter-widgets/controls",
          "model_name": "HTMLModel",
          "state": {
            "_view_name": "HTMLView",
            "style": "IPY_MODEL_1d5f1d47a50a42959adb6cae7d50cb13",
            "_dom_classes": [],
            "description": "",
            "_model_name": "HTMLModel",
            "placeholder": "​",
            "_view_module": "@jupyter-widgets/controls",
            "_model_module_version": "1.5.0",
            "value": " 0/0 [00:00&lt;?, ? file/s]",
            "_view_count": null,
            "_view_module_version": "1.5.0",
            "description_tooltip": null,
            "_model_module": "@jupyter-widgets/controls",
            "layout": "IPY_MODEL_96a3b64dcb95446991c2dc4a62cf854b"
          }
        },
        "fa6291cbd8a1420a841b005e1111be3e": {
          "model_module": "@jupyter-widgets/controls",
          "model_name": "ProgressStyleModel",
          "state": {
            "_view_name": "StyleView",
            "_model_name": "ProgressStyleModel",
            "description_width": "initial",
            "_view_module": "@jupyter-widgets/base",
            "_model_module_version": "1.5.0",
            "_view_count": null,
            "_view_module_version": "1.2.0",
            "bar_color": null,
            "_model_module": "@jupyter-widgets/controls"
          }
        },
        "d5a1bf32314045e991f6fb0d5ad2d9f1": {
          "model_module": "@jupyter-widgets/base",
          "model_name": "LayoutModel",
          "state": {
            "_view_name": "LayoutView",
            "grid_template_rows": null,
            "right": null,
            "justify_content": null,
            "_view_module": "@jupyter-widgets/base",
            "overflow": null,
            "_model_module_version": "1.2.0",
            "_view_count": null,
            "flex_flow": null,
            "width": null,
            "min_width": null,
            "border": null,
            "align_items": null,
            "bottom": null,
            "_model_module": "@jupyter-widgets/base",
            "top": null,
            "grid_column": null,
            "overflow_y": null,
            "overflow_x": null,
            "grid_auto_flow": null,
            "grid_area": null,
            "grid_template_columns": null,
            "flex": null,
            "_model_name": "LayoutModel",
            "justify_items": null,
            "grid_row": null,
            "max_height": null,
            "align_content": null,
            "visibility": null,
            "align_self": null,
            "height": null,
            "min_height": null,
            "padding": null,
            "grid_auto_rows": null,
            "grid_gap": null,
            "max_width": null,
            "order": null,
            "_view_module_version": "1.2.0",
            "grid_template_areas": null,
            "object_position": null,
            "object_fit": null,
            "grid_auto_columns": null,
            "margin": null,
            "display": null,
            "left": null
          }
        },
        "1d5f1d47a50a42959adb6cae7d50cb13": {
          "model_module": "@jupyter-widgets/controls",
          "model_name": "DescriptionStyleModel",
          "state": {
            "_view_name": "StyleView",
            "_model_name": "DescriptionStyleModel",
            "description_width": "",
            "_view_module": "@jupyter-widgets/base",
            "_model_module_version": "1.5.0",
            "_view_count": null,
            "_view_module_version": "1.2.0",
            "_model_module": "@jupyter-widgets/controls"
          }
        },
        "96a3b64dcb95446991c2dc4a62cf854b": {
          "model_module": "@jupyter-widgets/base",
          "model_name": "LayoutModel",
          "state": {
            "_view_name": "LayoutView",
            "grid_template_rows": null,
            "right": null,
            "justify_content": null,
            "_view_module": "@jupyter-widgets/base",
            "overflow": null,
            "_model_module_version": "1.2.0",
            "_view_count": null,
            "flex_flow": null,
            "width": null,
            "min_width": null,
            "border": null,
            "align_items": null,
            "bottom": null,
            "_model_module": "@jupyter-widgets/base",
            "top": null,
            "grid_column": null,
            "overflow_y": null,
            "overflow_x": null,
            "grid_auto_flow": null,
            "grid_area": null,
            "grid_template_columns": null,
            "flex": null,
            "_model_name": "LayoutModel",
            "justify_items": null,
            "grid_row": null,
            "max_height": null,
            "align_content": null,
            "visibility": null,
            "align_self": null,
            "height": null,
            "min_height": null,
            "padding": null,
            "grid_auto_rows": null,
            "grid_gap": null,
            "max_width": null,
            "order": null,
            "_view_module_version": "1.2.0",
            "grid_template_areas": null,
            "object_position": null,
            "object_fit": null,
            "grid_auto_columns": null,
            "margin": null,
            "display": null,
            "left": null
          }
        },
        "098cd3ef31554d4f8443953d716a30a7": {
          "model_module": "@jupyter-widgets/controls",
          "model_name": "HBoxModel",
          "state": {
            "_view_name": "HBoxView",
            "_dom_classes": [],
            "_model_name": "HBoxModel",
            "_view_module": "@jupyter-widgets/controls",
            "_model_module_version": "1.5.0",
            "_view_count": null,
            "_view_module_version": "1.5.0",
            "box_style": "",
            "layout": "IPY_MODEL_49e93bdc1ec84807be24036a8b8542cc",
            "_model_module": "@jupyter-widgets/controls",
            "children": [
              "IPY_MODEL_4ed4381670f4488dafe062a512694a52",
              "IPY_MODEL_826e223a8cb145779d2d5b72ca94dc7e"
            ]
          }
        },
        "49e93bdc1ec84807be24036a8b8542cc": {
          "model_module": "@jupyter-widgets/base",
          "model_name": "LayoutModel",
          "state": {
            "_view_name": "LayoutView",
            "grid_template_rows": null,
            "right": null,
            "justify_content": null,
            "_view_module": "@jupyter-widgets/base",
            "overflow": null,
            "_model_module_version": "1.2.0",
            "_view_count": null,
            "flex_flow": null,
            "width": null,
            "min_width": null,
            "border": null,
            "align_items": null,
            "bottom": null,
            "_model_module": "@jupyter-widgets/base",
            "top": null,
            "grid_column": null,
            "overflow_y": null,
            "overflow_x": null,
            "grid_auto_flow": null,
            "grid_area": null,
            "grid_template_columns": null,
            "flex": null,
            "_model_name": "LayoutModel",
            "justify_items": null,
            "grid_row": null,
            "max_height": null,
            "align_content": null,
            "visibility": null,
            "align_self": null,
            "height": null,
            "min_height": null,
            "padding": null,
            "grid_auto_rows": null,
            "grid_gap": null,
            "max_width": null,
            "order": null,
            "_view_module_version": "1.2.0",
            "grid_template_areas": null,
            "object_position": null,
            "object_fit": null,
            "grid_auto_columns": null,
            "margin": null,
            "display": null,
            "left": null
          }
        },
        "4ed4381670f4488dafe062a512694a52": {
          "model_module": "@jupyter-widgets/controls",
          "model_name": "FloatProgressModel",
          "state": {
            "_view_name": "ProgressView",
            "style": "IPY_MODEL_4ca46ba6f7fd42c390d2306cfcfa8118",
            "_dom_classes": [],
            "description": "Generating splits...: 100%",
            "_model_name": "FloatProgressModel",
            "bar_style": "",
            "max": 1,
            "_view_module": "@jupyter-widgets/controls",
            "_model_module_version": "1.5.0",
            "value": 1,
            "_view_count": null,
            "_view_module_version": "1.5.0",
            "orientation": "horizontal",
            "min": 0,
            "description_tooltip": null,
            "_model_module": "@jupyter-widgets/controls",
            "layout": "IPY_MODEL_07f4ef09bf8b4261b3bb6752680579bc"
          }
        },
        "826e223a8cb145779d2d5b72ca94dc7e": {
          "model_module": "@jupyter-widgets/controls",
          "model_name": "HTMLModel",
          "state": {
            "_view_name": "HTMLView",
            "style": "IPY_MODEL_d3449503ca1f4d5db912510b47fe8454",
            "_dom_classes": [],
            "description": "",
            "_model_name": "HTMLModel",
            "placeholder": "​",
            "_view_module": "@jupyter-widgets/controls",
            "_model_module_version": "1.5.0",
            "value": " 1/1 [27:29&lt;00:00, 1649.76s/ splits]",
            "_view_count": null,
            "_view_module_version": "1.5.0",
            "description_tooltip": null,
            "_model_module": "@jupyter-widgets/controls",
            "layout": "IPY_MODEL_6ae259a2a0f94d089524e02ff7ce4e9e"
          }
        },
        "4ca46ba6f7fd42c390d2306cfcfa8118": {
          "model_module": "@jupyter-widgets/controls",
          "model_name": "ProgressStyleModel",
          "state": {
            "_view_name": "StyleView",
            "_model_name": "ProgressStyleModel",
            "description_width": "initial",
            "_view_module": "@jupyter-widgets/base",
            "_model_module_version": "1.5.0",
            "_view_count": null,
            "_view_module_version": "1.2.0",
            "bar_color": null,
            "_model_module": "@jupyter-widgets/controls"
          }
        },
        "07f4ef09bf8b4261b3bb6752680579bc": {
          "model_module": "@jupyter-widgets/base",
          "model_name": "LayoutModel",
          "state": {
            "_view_name": "LayoutView",
            "grid_template_rows": null,
            "right": null,
            "justify_content": null,
            "_view_module": "@jupyter-widgets/base",
            "overflow": null,
            "_model_module_version": "1.2.0",
            "_view_count": null,
            "flex_flow": null,
            "width": null,
            "min_width": null,
            "border": null,
            "align_items": null,
            "bottom": null,
            "_model_module": "@jupyter-widgets/base",
            "top": null,
            "grid_column": null,
            "overflow_y": null,
            "overflow_x": null,
            "grid_auto_flow": null,
            "grid_area": null,
            "grid_template_columns": null,
            "flex": null,
            "_model_name": "LayoutModel",
            "justify_items": null,
            "grid_row": null,
            "max_height": null,
            "align_content": null,
            "visibility": null,
            "align_self": null,
            "height": null,
            "min_height": null,
            "padding": null,
            "grid_auto_rows": null,
            "grid_gap": null,
            "max_width": null,
            "order": null,
            "_view_module_version": "1.2.0",
            "grid_template_areas": null,
            "object_position": null,
            "object_fit": null,
            "grid_auto_columns": null,
            "margin": null,
            "display": null,
            "left": null
          }
        },
        "d3449503ca1f4d5db912510b47fe8454": {
          "model_module": "@jupyter-widgets/controls",
          "model_name": "DescriptionStyleModel",
          "state": {
            "_view_name": "StyleView",
            "_model_name": "DescriptionStyleModel",
            "description_width": "",
            "_view_module": "@jupyter-widgets/base",
            "_model_module_version": "1.5.0",
            "_view_count": null,
            "_view_module_version": "1.2.0",
            "_model_module": "@jupyter-widgets/controls"
          }
        },
        "6ae259a2a0f94d089524e02ff7ce4e9e": {
          "model_module": "@jupyter-widgets/base",
          "model_name": "LayoutModel",
          "state": {
            "_view_name": "LayoutView",
            "grid_template_rows": null,
            "right": null,
            "justify_content": null,
            "_view_module": "@jupyter-widgets/base",
            "overflow": null,
            "_model_module_version": "1.2.0",
            "_view_count": null,
            "flex_flow": null,
            "width": null,
            "min_width": null,
            "border": null,
            "align_items": null,
            "bottom": null,
            "_model_module": "@jupyter-widgets/base",
            "top": null,
            "grid_column": null,
            "overflow_y": null,
            "overflow_x": null,
            "grid_auto_flow": null,
            "grid_area": null,
            "grid_template_columns": null,
            "flex": null,
            "_model_name": "LayoutModel",
            "justify_items": null,
            "grid_row": null,
            "max_height": null,
            "align_content": null,
            "visibility": null,
            "align_self": null,
            "height": null,
            "min_height": null,
            "padding": null,
            "grid_auto_rows": null,
            "grid_gap": null,
            "max_width": null,
            "order": null,
            "_view_module_version": "1.2.0",
            "grid_template_areas": null,
            "object_position": null,
            "object_fit": null,
            "grid_auto_columns": null,
            "margin": null,
            "display": null,
            "left": null
          }
        },
        "2cc7c888acf84da8bf3825f89e311350": {
          "model_module": "@jupyter-widgets/controls",
          "model_name": "HBoxModel",
          "state": {
            "_view_name": "HBoxView",
            "_dom_classes": [],
            "_model_name": "HBoxModel",
            "_view_module": "@jupyter-widgets/controls",
            "_model_module_version": "1.5.0",
            "_view_count": null,
            "_view_module_version": "1.5.0",
            "box_style": "",
            "layout": "IPY_MODEL_3c9a4b59908e44c1ae309bd063f15b88",
            "_model_module": "@jupyter-widgets/controls",
            "children": [
              "IPY_MODEL_5b12bffdf31c4395bb27fcd51447ad0e",
              "IPY_MODEL_1802074179394f758a3bdad17c59e9b7"
            ]
          }
        },
        "3c9a4b59908e44c1ae309bd063f15b88": {
          "model_module": "@jupyter-widgets/base",
          "model_name": "LayoutModel",
          "state": {
            "_view_name": "LayoutView",
            "grid_template_rows": null,
            "right": null,
            "justify_content": null,
            "_view_module": "@jupyter-widgets/base",
            "overflow": null,
            "_model_module_version": "1.2.0",
            "_view_count": null,
            "flex_flow": null,
            "width": null,
            "min_width": null,
            "border": null,
            "align_items": null,
            "bottom": null,
            "_model_module": "@jupyter-widgets/base",
            "top": null,
            "grid_column": null,
            "overflow_y": null,
            "overflow_x": null,
            "grid_auto_flow": null,
            "grid_area": null,
            "grid_template_columns": null,
            "flex": null,
            "_model_name": "LayoutModel",
            "justify_items": null,
            "grid_row": null,
            "max_height": null,
            "align_content": null,
            "visibility": null,
            "align_self": null,
            "height": null,
            "min_height": null,
            "padding": null,
            "grid_auto_rows": null,
            "grid_gap": null,
            "max_width": null,
            "order": null,
            "_view_module_version": "1.2.0",
            "grid_template_areas": null,
            "object_position": null,
            "object_fit": null,
            "grid_auto_columns": null,
            "margin": null,
            "display": null,
            "left": null
          }
        },
        "5b12bffdf31c4395bb27fcd51447ad0e": {
          "model_module": "@jupyter-widgets/controls",
          "model_name": "FloatProgressModel",
          "state": {
            "_view_name": "ProgressView",
            "style": "IPY_MODEL_2998e07323bd45d1aa1c7ed79fac61d9",
            "_dom_classes": [],
            "description": "Generating train examples...: ",
            "_model_name": "FloatProgressModel",
            "bar_style": "info",
            "max": 1,
            "_view_module": "@jupyter-widgets/controls",
            "_model_module_version": "1.5.0",
            "value": 1,
            "_view_count": null,
            "_view_module_version": "1.5.0",
            "orientation": "horizontal",
            "min": 0,
            "description_tooltip": null,
            "_model_module": "@jupyter-widgets/controls",
            "layout": "IPY_MODEL_13503b76495747fe9847414b2a5a6a0d"
          }
        },
        "1802074179394f758a3bdad17c59e9b7": {
          "model_module": "@jupyter-widgets/controls",
          "model_name": "HTMLModel",
          "state": {
            "_view_name": "HTMLView",
            "style": "IPY_MODEL_9f160303b9fd4456b9d7cda00fd64678",
            "_dom_classes": [],
            "description": "",
            "_model_name": "HTMLModel",
            "placeholder": "​",
            "_view_module": "@jupyter-widgets/controls",
            "_model_module_version": "1.5.0",
            "value": " 14982/? [21:44&lt;00:00, 16.50 examples/s]",
            "_view_count": null,
            "_view_module_version": "1.5.0",
            "description_tooltip": null,
            "_model_module": "@jupyter-widgets/controls",
            "layout": "IPY_MODEL_efbf75b4a8c745818154414c717f5c6a"
          }
        },
        "2998e07323bd45d1aa1c7ed79fac61d9": {
          "model_module": "@jupyter-widgets/controls",
          "model_name": "ProgressStyleModel",
          "state": {
            "_view_name": "StyleView",
            "_model_name": "ProgressStyleModel",
            "description_width": "initial",
            "_view_module": "@jupyter-widgets/base",
            "_model_module_version": "1.5.0",
            "_view_count": null,
            "_view_module_version": "1.2.0",
            "bar_color": null,
            "_model_module": "@jupyter-widgets/controls"
          }
        },
        "13503b76495747fe9847414b2a5a6a0d": {
          "model_module": "@jupyter-widgets/base",
          "model_name": "LayoutModel",
          "state": {
            "_view_name": "LayoutView",
            "grid_template_rows": null,
            "right": null,
            "justify_content": null,
            "_view_module": "@jupyter-widgets/base",
            "overflow": null,
            "_model_module_version": "1.2.0",
            "_view_count": null,
            "flex_flow": null,
            "width": null,
            "min_width": null,
            "border": null,
            "align_items": null,
            "bottom": null,
            "_model_module": "@jupyter-widgets/base",
            "top": null,
            "grid_column": null,
            "overflow_y": null,
            "overflow_x": null,
            "grid_auto_flow": null,
            "grid_area": null,
            "grid_template_columns": null,
            "flex": null,
            "_model_name": "LayoutModel",
            "justify_items": null,
            "grid_row": null,
            "max_height": null,
            "align_content": null,
            "visibility": null,
            "align_self": null,
            "height": null,
            "min_height": null,
            "padding": null,
            "grid_auto_rows": null,
            "grid_gap": null,
            "max_width": null,
            "order": null,
            "_view_module_version": "1.2.0",
            "grid_template_areas": null,
            "object_position": null,
            "object_fit": null,
            "grid_auto_columns": null,
            "margin": null,
            "display": null,
            "left": null
          }
        },
        "9f160303b9fd4456b9d7cda00fd64678": {
          "model_module": "@jupyter-widgets/controls",
          "model_name": "DescriptionStyleModel",
          "state": {
            "_view_name": "StyleView",
            "_model_name": "DescriptionStyleModel",
            "description_width": "",
            "_view_module": "@jupyter-widgets/base",
            "_model_module_version": "1.5.0",
            "_view_count": null,
            "_view_module_version": "1.2.0",
            "_model_module": "@jupyter-widgets/controls"
          }
        },
        "efbf75b4a8c745818154414c717f5c6a": {
          "model_module": "@jupyter-widgets/base",
          "model_name": "LayoutModel",
          "state": {
            "_view_name": "LayoutView",
            "grid_template_rows": null,
            "right": null,
            "justify_content": null,
            "_view_module": "@jupyter-widgets/base",
            "overflow": null,
            "_model_module_version": "1.2.0",
            "_view_count": null,
            "flex_flow": null,
            "width": null,
            "min_width": null,
            "border": null,
            "align_items": null,
            "bottom": null,
            "_model_module": "@jupyter-widgets/base",
            "top": null,
            "grid_column": null,
            "overflow_y": null,
            "overflow_x": null,
            "grid_auto_flow": null,
            "grid_area": null,
            "grid_template_columns": null,
            "flex": null,
            "_model_name": "LayoutModel",
            "justify_items": null,
            "grid_row": null,
            "max_height": null,
            "align_content": null,
            "visibility": null,
            "align_self": null,
            "height": null,
            "min_height": null,
            "padding": null,
            "grid_auto_rows": null,
            "grid_gap": null,
            "max_width": null,
            "order": null,
            "_view_module_version": "1.2.0",
            "grid_template_areas": null,
            "object_position": null,
            "object_fit": null,
            "grid_auto_columns": null,
            "margin": null,
            "display": null,
            "left": null
          }
        },
        "7492c0016bca4dc2b0b941edccbe8578": {
          "model_module": "@jupyter-widgets/controls",
          "model_name": "HBoxModel",
          "state": {
            "_view_name": "HBoxView",
            "_dom_classes": [],
            "_model_name": "HBoxModel",
            "_view_module": "@jupyter-widgets/controls",
            "_model_module_version": "1.5.0",
            "_view_count": null,
            "_view_module_version": "1.5.0",
            "box_style": "",
            "layout": "IPY_MODEL_94c96056d62d45e1b35856a3bd8996c9",
            "_model_module": "@jupyter-widgets/controls",
            "children": [
              "IPY_MODEL_a6a8e0e5c0774de88d50727ba8781df6",
              "IPY_MODEL_fd579717fd7b4058be01c408167f3266"
            ]
          }
        },
        "94c96056d62d45e1b35856a3bd8996c9": {
          "model_module": "@jupyter-widgets/base",
          "model_name": "LayoutModel",
          "state": {
            "_view_name": "LayoutView",
            "grid_template_rows": null,
            "right": null,
            "justify_content": null,
            "_view_module": "@jupyter-widgets/base",
            "overflow": null,
            "_model_module_version": "1.2.0",
            "_view_count": null,
            "flex_flow": null,
            "width": null,
            "min_width": null,
            "border": null,
            "align_items": null,
            "bottom": null,
            "_model_module": "@jupyter-widgets/base",
            "top": null,
            "grid_column": null,
            "overflow_y": null,
            "overflow_x": null,
            "grid_auto_flow": null,
            "grid_area": null,
            "grid_template_columns": null,
            "flex": null,
            "_model_name": "LayoutModel",
            "justify_items": null,
            "grid_row": null,
            "max_height": null,
            "align_content": null,
            "visibility": null,
            "align_self": null,
            "height": null,
            "min_height": null,
            "padding": null,
            "grid_auto_rows": null,
            "grid_gap": null,
            "max_width": null,
            "order": null,
            "_view_module_version": "1.2.0",
            "grid_template_areas": null,
            "object_position": null,
            "object_fit": null,
            "grid_auto_columns": null,
            "margin": null,
            "display": null,
            "left": null
          }
        },
        "a6a8e0e5c0774de88d50727ba8781df6": {
          "model_module": "@jupyter-widgets/controls",
          "model_name": "FloatProgressModel",
          "state": {
            "_view_name": "ProgressView",
            "style": "IPY_MODEL_ca5dbd6ba5224edf8f1b379f484d2920",
            "_dom_classes": [],
            "description": "Shuffling jvs-train.tfrecord...: 100%",
            "_model_name": "FloatProgressModel",
            "bar_style": "",
            "max": 14982,
            "_view_module": "@jupyter-widgets/controls",
            "_model_module_version": "1.5.0",
            "value": 14982,
            "_view_count": null,
            "_view_module_version": "1.5.0",
            "orientation": "horizontal",
            "min": 0,
            "description_tooltip": null,
            "_model_module": "@jupyter-widgets/controls",
            "layout": "IPY_MODEL_2fc023a1df2e413eadf2264d52cf5d8e"
          }
        },
        "fd579717fd7b4058be01c408167f3266": {
          "model_module": "@jupyter-widgets/controls",
          "model_name": "HTMLModel",
          "state": {
            "_view_name": "HTMLView",
            "style": "IPY_MODEL_9b74a569925b4a7190878409981afc75",
            "_dom_classes": [],
            "description": "",
            "_model_name": "HTMLModel",
            "placeholder": "​",
            "_view_module": "@jupyter-widgets/controls",
            "_model_module_version": "1.5.0",
            "value": " 14982/14982 [05:45&lt;00:00, 46.86 examples/s]",
            "_view_count": null,
            "_view_module_version": "1.5.0",
            "description_tooltip": null,
            "_model_module": "@jupyter-widgets/controls",
            "layout": "IPY_MODEL_911f16917f4e4fa1b13255fc79ebb4e7"
          }
        },
        "ca5dbd6ba5224edf8f1b379f484d2920": {
          "model_module": "@jupyter-widgets/controls",
          "model_name": "ProgressStyleModel",
          "state": {
            "_view_name": "StyleView",
            "_model_name": "ProgressStyleModel",
            "description_width": "initial",
            "_view_module": "@jupyter-widgets/base",
            "_model_module_version": "1.5.0",
            "_view_count": null,
            "_view_module_version": "1.2.0",
            "bar_color": null,
            "_model_module": "@jupyter-widgets/controls"
          }
        },
        "2fc023a1df2e413eadf2264d52cf5d8e": {
          "model_module": "@jupyter-widgets/base",
          "model_name": "LayoutModel",
          "state": {
            "_view_name": "LayoutView",
            "grid_template_rows": null,
            "right": null,
            "justify_content": null,
            "_view_module": "@jupyter-widgets/base",
            "overflow": null,
            "_model_module_version": "1.2.0",
            "_view_count": null,
            "flex_flow": null,
            "width": null,
            "min_width": null,
            "border": null,
            "align_items": null,
            "bottom": null,
            "_model_module": "@jupyter-widgets/base",
            "top": null,
            "grid_column": null,
            "overflow_y": null,
            "overflow_x": null,
            "grid_auto_flow": null,
            "grid_area": null,
            "grid_template_columns": null,
            "flex": null,
            "_model_name": "LayoutModel",
            "justify_items": null,
            "grid_row": null,
            "max_height": null,
            "align_content": null,
            "visibility": null,
            "align_self": null,
            "height": null,
            "min_height": null,
            "padding": null,
            "grid_auto_rows": null,
            "grid_gap": null,
            "max_width": null,
            "order": null,
            "_view_module_version": "1.2.0",
            "grid_template_areas": null,
            "object_position": null,
            "object_fit": null,
            "grid_auto_columns": null,
            "margin": null,
            "display": null,
            "left": null
          }
        },
        "9b74a569925b4a7190878409981afc75": {
          "model_module": "@jupyter-widgets/controls",
          "model_name": "DescriptionStyleModel",
          "state": {
            "_view_name": "StyleView",
            "_model_name": "DescriptionStyleModel",
            "description_width": "",
            "_view_module": "@jupyter-widgets/base",
            "_model_module_version": "1.5.0",
            "_view_count": null,
            "_view_module_version": "1.2.0",
            "_model_module": "@jupyter-widgets/controls"
          }
        },
        "911f16917f4e4fa1b13255fc79ebb4e7": {
          "model_module": "@jupyter-widgets/base",
          "model_name": "LayoutModel",
          "state": {
            "_view_name": "LayoutView",
            "grid_template_rows": null,
            "right": null,
            "justify_content": null,
            "_view_module": "@jupyter-widgets/base",
            "overflow": null,
            "_model_module_version": "1.2.0",
            "_view_count": null,
            "flex_flow": null,
            "width": null,
            "min_width": null,
            "border": null,
            "align_items": null,
            "bottom": null,
            "_model_module": "@jupyter-widgets/base",
            "top": null,
            "grid_column": null,
            "overflow_y": null,
            "overflow_x": null,
            "grid_auto_flow": null,
            "grid_area": null,
            "grid_template_columns": null,
            "flex": null,
            "_model_name": "LayoutModel",
            "justify_items": null,
            "grid_row": null,
            "max_height": null,
            "align_content": null,
            "visibility": null,
            "align_self": null,
            "height": null,
            "min_height": null,
            "padding": null,
            "grid_auto_rows": null,
            "grid_gap": null,
            "max_width": null,
            "order": null,
            "_view_module_version": "1.2.0",
            "grid_template_areas": null,
            "object_position": null,
            "object_fit": null,
            "grid_auto_columns": null,
            "margin": null,
            "display": null,
            "left": null
          }
        }
      }
    }
  },
  "cells": [
    {
      "cell_type": "markdown",
      "metadata": {
        "id": "view-in-github",
        "colab_type": "text"
      },
      "source": [
        "<a href=\"https://colab.research.google.com/github/Jaidon-Smith/AI-Karaoke/blob/main/Japanese%20Datasets.ipynb\" target=\"_parent\"><img src=\"https://colab.research.google.com/assets/colab-badge.svg\" alt=\"Open In Colab\"/></a>"
      ]
    },
    {
      "cell_type": "markdown",
      "metadata": {
        "id": "0zpRe1IFN68t"
      },
      "source": [
        "# Japanese Speech to Text"
      ]
    },
    {
      "cell_type": "code",
      "metadata": {
        "colab": {
          "base_uri": "https://localhost:8080/"
        },
        "id": "3GrHu19HO5Em",
        "outputId": "8cfd4ef1-1fc6-49c9-b4e7-f55eb55c0bea"
      },
      "source": [
        "from google.colab import drive\n",
        "drive.mount('/gdrive')"
      ],
      "execution_count": 5,
      "outputs": [
        {
          "output_type": "stream",
          "text": [
            "Mounted at /gdrive\n"
          ],
          "name": "stdout"
        }
      ]
    },
    {
      "cell_type": "code",
      "metadata": {
        "id": "AWNx8xv7zz6c",
        "colab": {
          "base_uri": "https://localhost:8080/"
        },
        "outputId": "3ac6daf8-fd90-4da7-8512-b05e458bd7ba"
      },
      "source": [
        "colab_environment = True\n",
        "document_url = \"https://colab.research.google.com/github/Jaidon-Smith/public-datasets/blob/main/Jsut%20dataset.ipynb#scrollTo=3GrHu19HO5Em\"\n",
        "\n",
        "if colab_environment:\n",
        "  #Get the github ssh command and cd directory from the document url\n",
        "  import urllib \n",
        "  document_url = urllib.parse.unquote(document_url)\n",
        "  repository_ssh = \"/\".join(document_url.split(\"github/\")[1].split(\"/\")[0:2])\n",
        "  repository_ssh = \"git@github.com:{}.git\".format(repository_ssh)\n",
        "  directory_name = \"/\".join(document_url.split(\"github/\")[1].split(\"/\")[4:-1])\n",
        "  # Mount google drive\n",
        "  from google.colab import drive\n",
        "  drive.mount('/content/drive')\n",
        "  # Copy the ssh folder from my google drive to the root\n",
        "  !cp -R \"/content/drive/My Drive/Colab Notebooks/github_integration/.ssh\" \"/root/\"\n",
        "  # Copy the gitconfig folder from my google drive to the root\n",
        "  !cp \"/content/drive/My Drive/Colab Notebooks/github_integration/.gitconfig\" \"/root/\"\n",
        "  # Clone repository into virtual macine hardrive\n",
        "  !git clone $repository_ssh\n",
        "  # cd into the directory\n",
        "  repository_name = repository_ssh.split(\"/\")[1].split(\".\")[0]\n",
        "  directory = \"/content/{}/{}\".format(repository_name, directory_name)\n",
        "  %cd $directory"
      ],
      "execution_count": 3,
      "outputs": [
        {
          "output_type": "stream",
          "text": [
            "Mounted at /content/drive\n",
            "Cloning into 'public-datasets'...\n",
            "Warning: Permanently added the RSA host key for IP address '13.114.40.48' to the list of known hosts.\n",
            "remote: Enumerating objects: 228, done.\u001b[K\n",
            "remote: Counting objects: 100% (228/228), done.\u001b[K\n",
            "remote: Compressing objects: 100% (166/166), done.\u001b[K\n",
            "remote: Total 228 (delta 115), reused 132 (delta 56), pack-reused 0\u001b[K\n",
            "Receiving objects: 100% (228/228), 35.89 KiB | 216.00 KiB/s, done.\n",
            "Resolving deltas: 100% (115/115), done.\n",
            "/content/public-datasets\n"
          ],
          "name": "stdout"
        }
      ]
    },
    {
      "cell_type": "code",
      "metadata": {
        "colab": {
          "base_uri": "https://localhost:8080/"
        },
        "id": "OIwz4dXYPSVk",
        "outputId": "4ab0b0d1-55f3-4918-e53f-e6bbf11f1a93"
      },
      "source": [
        "!pip install --quiet tensorflow-text\n",
        "\n",
        "import tensorflow_text as text\n",
        "from tensorflow.python.platform import gfile"
      ],
      "execution_count": null,
      "outputs": [
        {
          "output_type": "stream",
          "text": [
            "\u001b[K     |████████████████████████████████| 3.4MB 5.7MB/s \n",
            "\u001b[?25h"
          ],
          "name": "stdout"
        }
      ]
    },
    {
      "cell_type": "code",
      "metadata": {
        "id": "DLZpCKkdVfaK",
        "colab": {
          "base_uri": "https://localhost:8080/",
          "height": 358
        },
        "outputId": "2e666893-c0ce-4f61-ae2c-b02ec2d21f90"
      },
      "source": [
        "model_file = '/gdrive/MyDrive/Japanese/Bible/letters.model'\n",
        "model = gfile.GFile(model_file, 'rb').read()\n",
        "\n",
        "tokenizer = text.SentencepieceTokenizer(model=model)"
      ],
      "execution_count": null,
      "outputs": [
        {
          "output_type": "error",
          "ename": "FailedPreconditionError",
          "evalue": "ignored",
          "traceback": [
            "\u001b[0;31m---------------------------------------------------------------------------\u001b[0m",
            "\u001b[0;31mFailedPreconditionError\u001b[0m                   Traceback (most recent call last)",
            "\u001b[0;32m<ipython-input-4-d7c2dba4e3fb>\u001b[0m in \u001b[0;36m<module>\u001b[0;34m()\u001b[0m\n\u001b[1;32m      1\u001b[0m \u001b[0mmodel_file\u001b[0m \u001b[0;34m=\u001b[0m \u001b[0;34m'/gdrive/MyDrive/Japanese/Bible/letters.model'\u001b[0m\u001b[0;34m\u001b[0m\u001b[0;34m\u001b[0m\u001b[0m\n\u001b[0;32m----> 2\u001b[0;31m \u001b[0mmodel\u001b[0m \u001b[0;34m=\u001b[0m \u001b[0mgfile\u001b[0m\u001b[0;34m.\u001b[0m\u001b[0mGFile\u001b[0m\u001b[0;34m(\u001b[0m\u001b[0mmodel_file\u001b[0m\u001b[0;34m,\u001b[0m \u001b[0;34m'rb'\u001b[0m\u001b[0;34m)\u001b[0m\u001b[0;34m.\u001b[0m\u001b[0mread\u001b[0m\u001b[0;34m(\u001b[0m\u001b[0;34m)\u001b[0m\u001b[0;34m\u001b[0m\u001b[0;34m\u001b[0m\u001b[0m\n\u001b[0m\u001b[1;32m      3\u001b[0m \u001b[0;34m\u001b[0m\u001b[0m\n\u001b[1;32m      4\u001b[0m \u001b[0mtokenizer\u001b[0m \u001b[0;34m=\u001b[0m \u001b[0mtext\u001b[0m\u001b[0;34m.\u001b[0m\u001b[0mSentencepieceTokenizer\u001b[0m\u001b[0;34m(\u001b[0m\u001b[0mmodel\u001b[0m\u001b[0;34m=\u001b[0m\u001b[0mmodel\u001b[0m\u001b[0;34m)\u001b[0m\u001b[0;34m\u001b[0m\u001b[0;34m\u001b[0m\u001b[0m\n",
            "\u001b[0;32m/usr/local/lib/python3.7/dist-packages/tensorflow/python/lib/io/file_io.py\u001b[0m in \u001b[0;36mread\u001b[0;34m(self, n)\u001b[0m\n\u001b[1;32m    115\u001b[0m       \u001b[0mstring\u001b[0m \u001b[0;32mif\u001b[0m \u001b[0;32min\u001b[0m \u001b[0mstring\u001b[0m \u001b[0;34m(\u001b[0m\u001b[0mregular\u001b[0m\u001b[0;34m)\u001b[0m \u001b[0mmode\u001b[0m\u001b[0;34m.\u001b[0m\u001b[0;34m\u001b[0m\u001b[0;34m\u001b[0m\u001b[0m\n\u001b[1;32m    116\u001b[0m     \"\"\"\n\u001b[0;32m--> 117\u001b[0;31m     \u001b[0mself\u001b[0m\u001b[0;34m.\u001b[0m\u001b[0m_preread_check\u001b[0m\u001b[0;34m(\u001b[0m\u001b[0;34m)\u001b[0m\u001b[0;34m\u001b[0m\u001b[0;34m\u001b[0m\u001b[0m\n\u001b[0m\u001b[1;32m    118\u001b[0m     \u001b[0;32mif\u001b[0m \u001b[0mn\u001b[0m \u001b[0;34m==\u001b[0m \u001b[0;34m-\u001b[0m\u001b[0;36m1\u001b[0m\u001b[0;34m:\u001b[0m\u001b[0;34m\u001b[0m\u001b[0;34m\u001b[0m\u001b[0m\n\u001b[1;32m    119\u001b[0m       \u001b[0mlength\u001b[0m \u001b[0;34m=\u001b[0m \u001b[0mself\u001b[0m\u001b[0;34m.\u001b[0m\u001b[0msize\u001b[0m\u001b[0;34m(\u001b[0m\u001b[0;34m)\u001b[0m \u001b[0;34m-\u001b[0m \u001b[0mself\u001b[0m\u001b[0;34m.\u001b[0m\u001b[0mtell\u001b[0m\u001b[0;34m(\u001b[0m\u001b[0;34m)\u001b[0m\u001b[0;34m\u001b[0m\u001b[0;34m\u001b[0m\u001b[0m\n",
            "\u001b[0;32m/usr/local/lib/python3.7/dist-packages/tensorflow/python/lib/io/file_io.py\u001b[0m in \u001b[0;36m_preread_check\u001b[0;34m(self)\u001b[0m\n\u001b[1;32m     78\u001b[0m                                            \"File isn't open for reading\")\n\u001b[1;32m     79\u001b[0m       self._read_buf = _pywrap_file_io.BufferedInputStream(\n\u001b[0;32m---> 80\u001b[0;31m           compat.path_to_str(self.__name), 1024 * 512)\n\u001b[0m\u001b[1;32m     81\u001b[0m \u001b[0;34m\u001b[0m\u001b[0m\n\u001b[1;32m     82\u001b[0m   \u001b[0;32mdef\u001b[0m \u001b[0m_prewrite_check\u001b[0m\u001b[0;34m(\u001b[0m\u001b[0mself\u001b[0m\u001b[0;34m)\u001b[0m\u001b[0;34m:\u001b[0m\u001b[0;34m\u001b[0m\u001b[0;34m\u001b[0m\u001b[0m\n",
            "\u001b[0;31mFailedPreconditionError\u001b[0m: /gdrive/MyDrive/Japanese/Bible/letters.model; Transport endpoint is not connected"
          ]
        }
      ]
    },
    {
      "cell_type": "code",
      "metadata": {
        "colab": {
          "base_uri": "https://localhost:8080/",
          "height": 164
        },
        "id": "_rx6hWtcd7ei",
        "outputId": "e733cb23-138a-4b85-d6ad-cdcc93e537cf"
      },
      "source": [
        "tokenizer.tokenize('英語が分かりますか')"
      ],
      "execution_count": null,
      "outputs": [
        {
          "output_type": "error",
          "ename": "NameError",
          "evalue": "ignored",
          "traceback": [
            "\u001b[0;31m---------------------------------------------------------------------------\u001b[0m",
            "\u001b[0;31mNameError\u001b[0m                                 Traceback (most recent call last)",
            "\u001b[0;32m<ipython-input-5-807aa097240b>\u001b[0m in \u001b[0;36m<module>\u001b[0;34m()\u001b[0m\n\u001b[0;32m----> 1\u001b[0;31m \u001b[0mtokenizer\u001b[0m\u001b[0;34m.\u001b[0m\u001b[0mtokenize\u001b[0m\u001b[0;34m(\u001b[0m\u001b[0;34m'英語が分かりますか'\u001b[0m\u001b[0;34m)\u001b[0m\u001b[0;34m\u001b[0m\u001b[0;34m\u001b[0m\u001b[0m\n\u001b[0m",
            "\u001b[0;31mNameError\u001b[0m: name 'tokenizer' is not defined"
          ]
        }
      ]
    },
    {
      "cell_type": "markdown",
      "metadata": {
        "id": "h0EKCzRcxrgX"
      },
      "source": [
        "## JSUT dataset"
      ]
    },
    {
      "cell_type": "code",
      "metadata": {
        "colab": {
          "base_uri": "https://localhost:8080/"
        },
        "id": "fEGU07ZRxq1f",
        "outputId": "40d12e73-c37b-47d2-88f4-f71f847268c4"
      },
      "source": [
        "!wget https://drive.google.com/file/d/1vpuAmGlNfScse31aD2BEyasxjbLOADbl/view?usp=sharing"
      ],
      "execution_count": null,
      "outputs": [
        {
          "output_type": "stream",
          "text": [
            "--2021-02-24 03:24:00--  https://drive.google.com/file/d/1vpuAmGlNfScse31aD2BEyasxjbLOADbl/view?usp=sharing\n",
            "Resolving drive.google.com (drive.google.com)... 142.250.103.102, 142.250.103.100, 142.250.103.139, ...\n",
            "Connecting to drive.google.com (drive.google.com)|142.250.103.102|:443... connected.\n",
            "HTTP request sent, awaiting response... 302 Moved Temporarily\n",
            "Location: https://accounts.google.com/ServiceLogin?service=wise&passive=1209600&continue=https://drive.google.com/file/d/1vpuAmGlNfScse31aD2BEyasxjbLOADbl/view?usp%3Dsharing&followup=https://drive.google.com/file/d/1vpuAmGlNfScse31aD2BEyasxjbLOADbl/view?usp%3Dsharing [following]\n",
            "--2021-02-24 03:24:00--  https://accounts.google.com/ServiceLogin?service=wise&passive=1209600&continue=https://drive.google.com/file/d/1vpuAmGlNfScse31aD2BEyasxjbLOADbl/view?usp%3Dsharing&followup=https://drive.google.com/file/d/1vpuAmGlNfScse31aD2BEyasxjbLOADbl/view?usp%3Dsharing\n",
            "Resolving accounts.google.com (accounts.google.com)... 74.125.129.84, 2607:f8b0:4001:c1f::54\n",
            "Connecting to accounts.google.com (accounts.google.com)|74.125.129.84|:443... connected.\n",
            "HTTP request sent, awaiting response... 200 OK\n",
            "Length: unspecified [text/html]\n",
            "Saving to: ‘view?usp=sharing’\n",
            "\n",
            "\rview?usp=sharing        [<=>                 ]       0  --.-KB/s               \rview?usp=sharing        [ <=>                ]  62.27K  --.-KB/s    in 0.001s  \n",
            "\n",
            "2021-02-24 03:24:00 (70.7 MB/s) - ‘view?usp=sharing’ saved [63769]\n",
            "\n"
          ],
          "name": "stdout"
        }
      ]
    },
    {
      "cell_type": "code",
      "metadata": {
        "id": "Wkelm-Xtxzr8"
      },
      "source": [
        "jsut_zip = '/gdrive/MyDrive/datasets/jsut_ver1.1.zip'"
      ],
      "execution_count": null,
      "outputs": []
    },
    {
      "cell_type": "code",
      "metadata": {
        "id": "gt8ntArg-DLw",
        "colab": {
          "base_uri": "https://localhost:8080/"
        },
        "outputId": "d331ba47-f6cd-4005-9920-1a64444c11ad"
      },
      "source": [
        "!pip install tfds-nightly"
      ],
      "execution_count": null,
      "outputs": [
        {
          "output_type": "stream",
          "text": [
            "Collecting tfds-nightly\n",
            "\u001b[?25l  Downloading https://files.pythonhosted.org/packages/87/3b/5ddbdb93704fa5786aff79d4c38786c27ef6e0aba841feb3e1b04e8f6c15/tfds_nightly-4.2.0.dev202102280107-py3-none-any.whl (3.8MB)\n",
            "\u001b[K     |████████████████████████████████| 3.8MB 5.8MB/s \n",
            "\u001b[?25hRequirement already satisfied: attrs>=18.1.0 in /usr/local/lib/python3.7/dist-packages (from tfds-nightly) (20.3.0)\n",
            "Requirement already satisfied: protobuf>=3.12.2 in /usr/local/lib/python3.7/dist-packages (from tfds-nightly) (3.12.4)\n",
            "Requirement already satisfied: tensorflow-metadata in /usr/local/lib/python3.7/dist-packages (from tfds-nightly) (0.28.0)\n",
            "Requirement already satisfied: future in /usr/local/lib/python3.7/dist-packages (from tfds-nightly) (0.16.0)\n",
            "Requirement already satisfied: promise in /usr/local/lib/python3.7/dist-packages (from tfds-nightly) (2.3)\n",
            "Requirement already satisfied: dill in /usr/local/lib/python3.7/dist-packages (from tfds-nightly) (0.3.3)\n",
            "Requirement already satisfied: termcolor in /usr/local/lib/python3.7/dist-packages (from tfds-nightly) (1.1.0)\n",
            "Requirement already satisfied: six in /usr/local/lib/python3.7/dist-packages (from tfds-nightly) (1.15.0)\n",
            "Requirement already satisfied: typing-extensions; python_version < \"3.8\" in /usr/local/lib/python3.7/dist-packages (from tfds-nightly) (3.7.4.3)\n",
            "Requirement already satisfied: absl-py in /usr/local/lib/python3.7/dist-packages (from tfds-nightly) (0.10.0)\n",
            "Requirement already satisfied: tqdm in /usr/local/lib/python3.7/dist-packages (from tfds-nightly) (4.41.1)\n",
            "Requirement already satisfied: numpy in /usr/local/lib/python3.7/dist-packages (from tfds-nightly) (1.19.5)\n",
            "Requirement already satisfied: importlib-resources; python_version < \"3.9\" in /usr/local/lib/python3.7/dist-packages (from tfds-nightly) (5.1.0)\n",
            "Requirement already satisfied: requests>=2.19.0 in /usr/local/lib/python3.7/dist-packages (from tfds-nightly) (2.23.0)\n",
            "Requirement already satisfied: setuptools in /usr/local/lib/python3.7/dist-packages (from protobuf>=3.12.2->tfds-nightly) (53.0.0)\n",
            "Requirement already satisfied: googleapis-common-protos<2,>=1.52.0 in /usr/local/lib/python3.7/dist-packages (from tensorflow-metadata->tfds-nightly) (1.52.0)\n",
            "Requirement already satisfied: zipp>=0.4; python_version < \"3.8\" in /usr/local/lib/python3.7/dist-packages (from importlib-resources; python_version < \"3.9\"->tfds-nightly) (3.4.0)\n",
            "Requirement already satisfied: chardet<4,>=3.0.2 in /usr/local/lib/python3.7/dist-packages (from requests>=2.19.0->tfds-nightly) (3.0.4)\n",
            "Requirement already satisfied: idna<3,>=2.5 in /usr/local/lib/python3.7/dist-packages (from requests>=2.19.0->tfds-nightly) (2.10)\n",
            "Requirement already satisfied: urllib3!=1.25.0,!=1.25.1,<1.26,>=1.21.1 in /usr/local/lib/python3.7/dist-packages (from requests>=2.19.0->tfds-nightly) (1.24.3)\n",
            "Requirement already satisfied: certifi>=2017.4.17 in /usr/local/lib/python3.7/dist-packages (from requests>=2.19.0->tfds-nightly) (2020.12.5)\n",
            "Installing collected packages: tfds-nightly\n",
            "Successfully installed tfds-nightly-4.2.0.dev202102280107\n"
          ],
          "name": "stdout"
        }
      ]
    },
    {
      "cell_type": "code",
      "metadata": {
        "id": "9YiSgxW-FZ-D"
      },
      "source": [
        "import tensorflow_datasets as tfds"
      ],
      "execution_count": null,
      "outputs": []
    },
    {
      "cell_type": "code",
      "metadata": {
        "colab": {
          "base_uri": "https://localhost:8080/"
        },
        "id": "yTgJpyRMMvBk",
        "outputId": "7644b9d6-e6fa-46bd-c60d-e6d720e6421e"
      },
      "source": [
        "!tfds new jsut_beta"
      ],
      "execution_count": null,
      "outputs": [
        {
          "output_type": "stream",
          "text": [
            "2021-02-24 02:20:55.926219: I tensorflow/stream_executor/platform/default/dso_loader.cc:49] Successfully opened dynamic library libcudart.so.10.1\n",
            "Dataset generated at /content/AI-Karaoke/jsut_beta\n",
            "You can start searching `TODO(jsut_beta)` to complete the implementation.\n",
            "Please check https://www.tensorflow.org/datasets/add_dataset for additional details.\n"
          ],
          "name": "stdout"
        }
      ]
    },
    {
      "cell_type": "code",
      "metadata": {
        "id": "eIcSrS770TOX",
        "colab": {
          "base_uri": "https://localhost:8080/"
        },
        "outputId": "80433f97-f69a-4919-fcd2-0f62d8994cf3"
      },
      "source": [
        "builder = tfds.builder('jsut_beta')\n",
        "# 1. Create the tfrecord files (no-op if already exists)\n",
        "download_config = tfds.download.DownloadConfig(manual_dir='/content/drive/MyDrive/datasets/jsut')\n",
        "#builder.download_and_prepare(download_config=download_config)\n",
        "builder.download_and_prepare(download_config=download_config)\n",
        "\n",
        "# 2. Load the `tf.data.Dataset`\n",
        "ds = builder.as_dataset(split='train', shuffle_files=True)\n",
        "print(ds)"
      ],
      "execution_count": null,
      "outputs": [
        {
          "output_type": "stream",
          "text": [
            "<_OptionsDataset shapes: {id: (), speech: (None,), text: ()}, types: {id: tf.string, speech: tf.int64, text: tf.string}>\n"
          ],
          "name": "stdout"
        }
      ]
    },
    {
      "cell_type": "code",
      "metadata": {
        "id": "fYCVp20XgDSG",
        "colab": {
          "base_uri": "https://localhost:8080/"
        },
        "outputId": "77109ed1-7949-4c2c-b565-c64fdd1dbead"
      },
      "source": [
        "import jsut_beta.jsut_beta\n",
        "import importlib\n",
        "importlib.reload(jsut_beta.jsut_beta)\n"
      ],
      "execution_count": null,
      "outputs": [
        {
          "output_type": "execute_result",
          "data": {
            "text/plain": [
              "<module 'jsut_beta.jsut_beta' from '/content/AI-Karaoke/jsut_beta/jsut_beta.py'>"
            ]
          },
          "metadata": {
            "tags": []
          },
          "execution_count": 48
        }
      ]
    },
    {
      "cell_type": "code",
      "metadata": {
        "id": "MeKGOP9QzQIR",
        "colab": {
          "base_uri": "https://localhost:8080/"
        },
        "outputId": "0c94c8e5-5c98-45f4-c538-477b259b4b05"
      },
      "source": [
        "!pip install pydub"
      ],
      "execution_count": null,
      "outputs": [
        {
          "output_type": "stream",
          "text": [
            "Collecting pydub\n",
            "  Downloading https://files.pythonhosted.org/packages/7b/d1/fbfa79371a8cd9bb15c2e3c480d7e6e340ed5cc55005174e16f48418333a/pydub-0.24.1-py2.py3-none-any.whl\n",
            "Installing collected packages: pydub\n",
            "Successfully installed pydub-0.24.1\n"
          ],
          "name": "stdout"
        }
      ]
    },
    {
      "cell_type": "code",
      "metadata": {
        "id": "C7h3n_moox-f"
      },
      "source": [
        "data_take = ds.take(1)"
      ],
      "execution_count": null,
      "outputs": []
    },
    {
      "cell_type": "code",
      "metadata": {
        "id": "5dQokJfto__K"
      },
      "source": [
        "for data in data_take:\n",
        "  data_point = data\n",
        "  break"
      ],
      "execution_count": null,
      "outputs": []
    },
    {
      "cell_type": "code",
      "metadata": {
        "id": "kI91PbTapJB7",
        "colab": {
          "base_uri": "https://localhost:8080/"
        },
        "outputId": "f47ba583-2d4d-4ec9-e854-b7d61b1837c5"
      },
      "source": [
        "text = data_point"
      ],
      "execution_count": null,
      "outputs": [
        {
          "output_type": "execute_result",
          "data": {
            "text/plain": [
              "{'id': <tf.Tensor: shape=(), dtype=string, numpy=b'BASIC5000_4696'>,\n",
              " 'speech': <tf.Tensor: shape=(98400,), dtype=int64, numpy=array([-152, -163, -179, ...,  -28,  -28,  -28])>,\n",
              " 'text': <tf.Tensor: shape=(), dtype=string, numpy=b'\\xe5\\x8e\\xb3\\xe3\\x81\\x97\\xe3\\x81\\x84\\xe5\\x8f\\xb1\\xe8\\xb2\\xac\\xe3\\x82\\x92\\xe5\\x8f\\x97\\xe3\\x81\\x91\\xe3\\x82\\x8b\\xe3\\x80\\x82'>}"
            ]
          },
          "metadata": {
            "tags": []
          },
          "execution_count": 56
        }
      ]
    },
    {
      "cell_type": "code",
      "metadata": {
        "id": "6BJdvwLwybo3"
      },
      "source": [
        "!mkdir /content/drive/MyDrive/datasets/jsut/jsut_beta"
      ],
      "execution_count": null,
      "outputs": []
    },
    {
      "cell_type": "code",
      "metadata": {
        "id": "FcpMmlrupZCu"
      },
      "source": [
        "!cp -R /root/tensorflow_datasets/jsut_beta /content/drive/MyDrive/datasets/jsut/jsut_beta"
      ],
      "execution_count": null,
      "outputs": []
    },
    {
      "cell_type": "code",
      "metadata": {
        "id": "KqMiEaezyt6O",
        "colab": {
          "base_uri": "https://localhost:8080/"
        },
        "outputId": "25cf8a65-3145-4e55-c730-cef6923eac61"
      },
      "source": [
        "!git clone https://github.com/Jaidon-Smith/public-datasets.git"
      ],
      "execution_count": null,
      "outputs": [
        {
          "output_type": "stream",
          "text": [
            "fatal: destination path 'public-datasets' already exists and is not an empty directory.\n"
          ],
          "name": "stdout"
        }
      ]
    },
    {
      "cell_type": "code",
      "metadata": {
        "id": "flAuHmXbW_9m",
        "colab": {
          "base_uri": "https://localhost:8080/"
        },
        "outputId": "e7992a9d-7b9e-4fac-f11f-d199656ea914"
      },
      "source": [
        "%cd .."
      ],
      "execution_count": null,
      "outputs": [
        {
          "output_type": "stream",
          "text": [
            "/content\n"
          ],
          "name": "stdout"
        }
      ]
    },
    {
      "cell_type": "code",
      "metadata": {
        "id": "TpwH40CQW7SK"
      },
      "source": [
        "!rm -R public-datasets"
      ],
      "execution_count": null,
      "outputs": []
    },
    {
      "cell_type": "code",
      "metadata": {
        "id": "T9vb2OTgVZq2",
        "colab": {
          "base_uri": "https://localhost:8080/"
        },
        "outputId": "787543b6-0c8e-43ef-f565-87d36392c811"
      },
      "source": [
        "import jsut\n",
        "import importlib\n",
        "importlib.reload(jsut)"
      ],
      "execution_count": null,
      "outputs": [
        {
          "output_type": "execute_result",
          "data": {
            "text/plain": [
              "<module 'jsut' from '/content/public-datasets/jsut/__init__.py'>"
            ]
          },
          "metadata": {
            "tags": []
          },
          "execution_count": 28
        }
      ]
    },
    {
      "cell_type": "code",
      "metadata": {
        "id": "U_cHd8rMVhzh",
        "colab": {
          "base_uri": "https://localhost:8080/"
        },
        "outputId": "c35f3c1a-a9fa-4733-cc3d-a5b828c54c29"
      },
      "source": [
        "%cd public-datasets/"
      ],
      "execution_count": null,
      "outputs": [
        {
          "output_type": "stream",
          "text": [
            "[Errno 2] No such file or directory: 'public-datasets/'\n",
            "/content/public-datasets\n"
          ],
          "name": "stdout"
        }
      ]
    },
    {
      "cell_type": "code",
      "metadata": {
        "id": "ZYf8ueT2WRd1"
      },
      "source": [
        "import "
      ],
      "execution_count": null,
      "outputs": []
    },
    {
      "cell_type": "code",
      "metadata": {
        "id": "mJ3t8xcSaXk1",
        "colab": {
          "base_uri": "https://localhost:8080/",
          "height": 510,
          "referenced_widgets": [
            "4e69a0b7977b4c7d951eefc7dba8b023",
            "35f2ff4988604543ae18261c6e8c5036",
            "3263c390dc4e4aa287dcbacbc66dfa85",
            "9ad6bc1da5f64ca896d055cb2830d30a",
            "ac4c0fda2d6e4583925ca7533614096d",
            "8908321f287e481ea9386285d2a4d700",
            "9ed6bfc911ad4dd5be5b5a5df8fe6189",
            "8d3bee5b1e0043bd906b6dbb7a95f8b4",
            "b9222c9edbf04c39bc32a3c1aedeae4a",
            "a629a670235c40198325beab080c1156",
            "37e0903663f9426ca3656d66796167ac",
            "78fbe9628bc446a09a16113a85b4a264",
            "441a882631514844b881e2ccf83e336a",
            "33d2219f48c544e3bf250eb8fb8ba867",
            "c3ba0bcd933f470a9193308f81805cee",
            "502521be995842f7953a4d27133282c6"
          ]
        },
        "outputId": "11c4588b-253f-4efc-90ed-4ea4deb4977c"
      },
      "source": [
        "download_config = tfds.download.DownloadConfig(manual_dir='/gdrive/MyDrive/datasets/public_datasets/downloads/manual')\n",
        "\n",
        "ds = tfds.load(\"jsut\", data_dir='/gdrive/MyDrive/datasets/public_datasets', download_and_prepare_kwargs={\"download_config\": download_config})"
      ],
      "execution_count": null,
      "outputs": [
        {
          "output_type": "stream",
          "text": [
            "\u001b[1mDownloading and preparing dataset jsut/1.1.0 (download: Unknown size, generated: Unknown size, total: Unknown size) to /gdrive/MyDrive/datasets/public_datasets/jsut/1.1.0...\u001b[0m\n",
            "The manual directory is:  /gdrive/MyDrive/datasets/public_datasets/downloads/manual\n"
          ],
          "name": "stdout"
        },
        {
          "output_type": "display_data",
          "data": {
            "application/vnd.jupyter.widget-view+json": {
              "model_id": "4e69a0b7977b4c7d951eefc7dba8b023",
              "version_minor": 0,
              "version_major": 2
            },
            "text/plain": [
              "HBox(children=(FloatProgress(value=1.0, bar_style='info', description='Extraction completed...', max=1.0, styl…"
            ]
          },
          "metadata": {
            "tags": []
          }
        },
        {
          "output_type": "stream",
          "text": [
            "\n",
            "\n"
          ],
          "name": "stdout"
        },
        {
          "output_type": "display_data",
          "data": {
            "application/vnd.jupyter.widget-view+json": {
              "model_id": "b9222c9edbf04c39bc32a3c1aedeae4a",
              "version_minor": 0,
              "version_major": 2
            },
            "text/plain": [
              "HBox(children=(FloatProgress(value=1.0, bar_style='info', max=1.0), HTML(value='')))"
            ]
          },
          "metadata": {
            "tags": []
          }
        },
        {
          "output_type": "error",
          "ename": "KeyboardInterrupt",
          "evalue": "ignored",
          "traceback": [
            "\u001b[0;31m---------------------------------------------------------------------------\u001b[0m",
            "\u001b[0;31mKeyboardInterrupt\u001b[0m                         Traceback (most recent call last)",
            "\u001b[0;32m<ipython-input-59-9716f5428588>\u001b[0m in \u001b[0;36m<module>\u001b[0;34m()\u001b[0m\n\u001b[1;32m      1\u001b[0m \u001b[0mdownload_config\u001b[0m \u001b[0;34m=\u001b[0m \u001b[0mtfds\u001b[0m\u001b[0;34m.\u001b[0m\u001b[0mdownload\u001b[0m\u001b[0;34m.\u001b[0m\u001b[0mDownloadConfig\u001b[0m\u001b[0;34m(\u001b[0m\u001b[0mmanual_dir\u001b[0m\u001b[0;34m=\u001b[0m\u001b[0;34m'/gdrive/MyDrive/datasets/public_datasets/downloads/manual'\u001b[0m\u001b[0;34m)\u001b[0m\u001b[0;34m\u001b[0m\u001b[0;34m\u001b[0m\u001b[0m\n\u001b[1;32m      2\u001b[0m \u001b[0;34m\u001b[0m\u001b[0m\n\u001b[0;32m----> 3\u001b[0;31m \u001b[0mds\u001b[0m \u001b[0;34m=\u001b[0m \u001b[0mtfds\u001b[0m\u001b[0;34m.\u001b[0m\u001b[0mload\u001b[0m\u001b[0;34m(\u001b[0m\u001b[0;34m\"jsut\"\u001b[0m\u001b[0;34m,\u001b[0m \u001b[0mdata_dir\u001b[0m\u001b[0;34m=\u001b[0m\u001b[0;34m'/gdrive/MyDrive/datasets/public_datasets'\u001b[0m\u001b[0;34m,\u001b[0m \u001b[0mdownload_and_prepare_kwargs\u001b[0m\u001b[0;34m=\u001b[0m\u001b[0;34m{\u001b[0m\u001b[0;34m\"download_config\"\u001b[0m\u001b[0;34m:\u001b[0m \u001b[0mdownload_config\u001b[0m\u001b[0;34m}\u001b[0m\u001b[0;34m)\u001b[0m\u001b[0;34m\u001b[0m\u001b[0;34m\u001b[0m\u001b[0m\n\u001b[0m",
            "\u001b[0;32m/usr/local/lib/python3.7/dist-packages/tensorflow_datasets/core/load.py\u001b[0m in \u001b[0;36mload\u001b[0;34m(name, split, data_dir, batch_size, shuffle_files, download, as_supervised, decoders, read_config, with_info, builder_kwargs, download_and_prepare_kwargs, as_dataset_kwargs, try_gcs)\u001b[0m\n\u001b[1;32m    342\u001b[0m   \u001b[0;32mif\u001b[0m \u001b[0mdownload\u001b[0m\u001b[0;34m:\u001b[0m\u001b[0;34m\u001b[0m\u001b[0;34m\u001b[0m\u001b[0m\n\u001b[1;32m    343\u001b[0m     \u001b[0mdownload_and_prepare_kwargs\u001b[0m \u001b[0;34m=\u001b[0m \u001b[0mdownload_and_prepare_kwargs\u001b[0m \u001b[0;32mor\u001b[0m \u001b[0;34m{\u001b[0m\u001b[0;34m}\u001b[0m\u001b[0;34m\u001b[0m\u001b[0;34m\u001b[0m\u001b[0m\n\u001b[0;32m--> 344\u001b[0;31m     \u001b[0mdbuilder\u001b[0m\u001b[0;34m.\u001b[0m\u001b[0mdownload_and_prepare\u001b[0m\u001b[0;34m(\u001b[0m\u001b[0;34m**\u001b[0m\u001b[0mdownload_and_prepare_kwargs\u001b[0m\u001b[0;34m)\u001b[0m\u001b[0;34m\u001b[0m\u001b[0;34m\u001b[0m\u001b[0m\n\u001b[0m\u001b[1;32m    345\u001b[0m \u001b[0;34m\u001b[0m\u001b[0m\n\u001b[1;32m    346\u001b[0m   \u001b[0;32mif\u001b[0m \u001b[0mas_dataset_kwargs\u001b[0m \u001b[0;32mis\u001b[0m \u001b[0;32mNone\u001b[0m\u001b[0;34m:\u001b[0m\u001b[0;34m\u001b[0m\u001b[0;34m\u001b[0m\u001b[0m\n",
            "\u001b[0;32m/usr/local/lib/python3.7/dist-packages/tensorflow_datasets/core/dataset_builder.py\u001b[0m in \u001b[0;36mdownload_and_prepare\u001b[0;34m(self, download_dir, download_config)\u001b[0m\n\u001b[1;32m    385\u001b[0m           self._download_and_prepare(\n\u001b[1;32m    386\u001b[0m               \u001b[0mdl_manager\u001b[0m\u001b[0;34m=\u001b[0m\u001b[0mdl_manager\u001b[0m\u001b[0;34m,\u001b[0m\u001b[0;34m\u001b[0m\u001b[0;34m\u001b[0m\u001b[0m\n\u001b[0;32m--> 387\u001b[0;31m               download_config=download_config)\n\u001b[0m\u001b[1;32m    388\u001b[0m \u001b[0;34m\u001b[0m\u001b[0m\n\u001b[1;32m    389\u001b[0m           \u001b[0;31m# NOTE: If modifying the lines below to put additional information in\u001b[0m\u001b[0;34m\u001b[0m\u001b[0;34m\u001b[0m\u001b[0;34m\u001b[0m\u001b[0m\n",
            "\u001b[0;32m/usr/local/lib/python3.7/dist-packages/tensorflow_datasets/core/dataset_builder.py\u001b[0m in \u001b[0;36m_download_and_prepare\u001b[0;34m(self, dl_manager, download_config)\u001b[0m\n\u001b[1;32m   1022\u001b[0m     super(GeneratorBasedBuilder, self)._download_and_prepare(\n\u001b[1;32m   1023\u001b[0m         \u001b[0mdl_manager\u001b[0m\u001b[0;34m=\u001b[0m\u001b[0mdl_manager\u001b[0m\u001b[0;34m,\u001b[0m\u001b[0;34m\u001b[0m\u001b[0;34m\u001b[0m\u001b[0m\n\u001b[0;32m-> 1024\u001b[0;31m         \u001b[0mmax_examples_per_split\u001b[0m\u001b[0;34m=\u001b[0m\u001b[0mdownload_config\u001b[0m\u001b[0;34m.\u001b[0m\u001b[0mmax_examples_per_split\u001b[0m\u001b[0;34m,\u001b[0m\u001b[0;34m\u001b[0m\u001b[0;34m\u001b[0m\u001b[0m\n\u001b[0m\u001b[1;32m   1025\u001b[0m     )\n\u001b[1;32m   1026\u001b[0m \u001b[0;34m\u001b[0m\u001b[0m\n",
            "\u001b[0;32m/usr/local/lib/python3.7/dist-packages/tensorflow_datasets/core/dataset_builder.py\u001b[0m in \u001b[0;36m_download_and_prepare\u001b[0;34m(self, dl_manager, **prepare_split_kwargs)\u001b[0m\n\u001b[1;32m    972\u001b[0m \u001b[0;34m\u001b[0m\u001b[0m\n\u001b[1;32m    973\u001b[0m       \u001b[0;31m# Prepare split will record examples associated to the split\u001b[0m\u001b[0;34m\u001b[0m\u001b[0;34m\u001b[0m\u001b[0;34m\u001b[0m\u001b[0m\n\u001b[0;32m--> 974\u001b[0;31m       \u001b[0mself\u001b[0m\u001b[0;34m.\u001b[0m\u001b[0m_prepare_split\u001b[0m\u001b[0;34m(\u001b[0m\u001b[0msplit_generator\u001b[0m\u001b[0;34m,\u001b[0m \u001b[0;34m**\u001b[0m\u001b[0mprepare_split_kwargs\u001b[0m\u001b[0;34m)\u001b[0m\u001b[0;34m\u001b[0m\u001b[0;34m\u001b[0m\u001b[0m\n\u001b[0m\u001b[1;32m    975\u001b[0m \u001b[0;34m\u001b[0m\u001b[0m\n\u001b[1;32m    976\u001b[0m     \u001b[0;31m# Update the info object with the splits.\u001b[0m\u001b[0;34m\u001b[0m\u001b[0;34m\u001b[0m\u001b[0;34m\u001b[0m\u001b[0m\n",
            "\u001b[0;32m/usr/local/lib/python3.7/dist-packages/tensorflow_datasets/core/dataset_builder.py\u001b[0m in \u001b[0;36m_prepare_split\u001b[0;34m(self, split_generator, max_examples_per_split)\u001b[0m\n\u001b[1;32m   1039\u001b[0m                                   total=split_info.num_examples, leave=False):\n\u001b[1;32m   1040\u001b[0m       \u001b[0mexample\u001b[0m \u001b[0;34m=\u001b[0m \u001b[0mself\u001b[0m\u001b[0;34m.\u001b[0m\u001b[0minfo\u001b[0m\u001b[0;34m.\u001b[0m\u001b[0mfeatures\u001b[0m\u001b[0;34m.\u001b[0m\u001b[0mencode_example\u001b[0m\u001b[0;34m(\u001b[0m\u001b[0mrecord\u001b[0m\u001b[0;34m)\u001b[0m\u001b[0;34m\u001b[0m\u001b[0;34m\u001b[0m\u001b[0m\n\u001b[0;32m-> 1041\u001b[0;31m       \u001b[0mwriter\u001b[0m\u001b[0;34m.\u001b[0m\u001b[0mwrite\u001b[0m\u001b[0;34m(\u001b[0m\u001b[0mkey\u001b[0m\u001b[0;34m,\u001b[0m \u001b[0mexample\u001b[0m\u001b[0;34m)\u001b[0m\u001b[0;34m\u001b[0m\u001b[0;34m\u001b[0m\u001b[0m\n\u001b[0m\u001b[1;32m   1042\u001b[0m     \u001b[0mshard_lengths\u001b[0m\u001b[0;34m,\u001b[0m \u001b[0mtotal_size\u001b[0m \u001b[0;34m=\u001b[0m \u001b[0mwriter\u001b[0m\u001b[0;34m.\u001b[0m\u001b[0mfinalize\u001b[0m\u001b[0;34m(\u001b[0m\u001b[0;34m)\u001b[0m\u001b[0;34m\u001b[0m\u001b[0;34m\u001b[0m\u001b[0m\n\u001b[1;32m   1043\u001b[0m     \u001b[0msplit_generator\u001b[0m\u001b[0;34m.\u001b[0m\u001b[0msplit_info\u001b[0m\u001b[0;34m.\u001b[0m\u001b[0mshard_lengths\u001b[0m\u001b[0;34m.\u001b[0m\u001b[0mextend\u001b[0m\u001b[0;34m(\u001b[0m\u001b[0mshard_lengths\u001b[0m\u001b[0;34m)\u001b[0m\u001b[0;34m\u001b[0m\u001b[0;34m\u001b[0m\u001b[0m\n",
            "\u001b[0;32m/usr/local/lib/python3.7/dist-packages/tensorflow_datasets/core/tfrecords_writer.py\u001b[0m in \u001b[0;36mwrite\u001b[0;34m(self, key, example)\u001b[0m\n\u001b[1;32m    200\u001b[0m     \"\"\"\n\u001b[1;32m    201\u001b[0m     \u001b[0mserialized_example\u001b[0m \u001b[0;34m=\u001b[0m \u001b[0mself\u001b[0m\u001b[0;34m.\u001b[0m\u001b[0m_serializer\u001b[0m\u001b[0;34m.\u001b[0m\u001b[0mserialize_example\u001b[0m\u001b[0;34m(\u001b[0m\u001b[0mexample\u001b[0m\u001b[0;34m)\u001b[0m\u001b[0;34m\u001b[0m\u001b[0;34m\u001b[0m\u001b[0m\n\u001b[0;32m--> 202\u001b[0;31m     \u001b[0mself\u001b[0m\u001b[0;34m.\u001b[0m\u001b[0m_shuffler\u001b[0m\u001b[0;34m.\u001b[0m\u001b[0madd\u001b[0m\u001b[0;34m(\u001b[0m\u001b[0mkey\u001b[0m\u001b[0;34m,\u001b[0m \u001b[0mserialized_example\u001b[0m\u001b[0;34m)\u001b[0m\u001b[0;34m\u001b[0m\u001b[0;34m\u001b[0m\u001b[0m\n\u001b[0m\u001b[1;32m    203\u001b[0m     \u001b[0mself\u001b[0m\u001b[0;34m.\u001b[0m\u001b[0m_num_examples\u001b[0m \u001b[0;34m+=\u001b[0m \u001b[0;36m1\u001b[0m\u001b[0;34m\u001b[0m\u001b[0;34m\u001b[0m\u001b[0m\n\u001b[1;32m    204\u001b[0m \u001b[0;34m\u001b[0m\u001b[0m\n",
            "\u001b[0;32m/usr/local/lib/python3.7/dist-packages/tensorflow_datasets/core/shuffle.py\u001b[0m in \u001b[0;36madd\u001b[0;34m(self, key, data)\u001b[0m\n\u001b[1;32m    219\u001b[0m     \u001b[0mself\u001b[0m\u001b[0;34m.\u001b[0m\u001b[0m_total_bytes\u001b[0m \u001b[0;34m+=\u001b[0m \u001b[0mlen\u001b[0m\u001b[0;34m(\u001b[0m\u001b[0mdata\u001b[0m\u001b[0;34m)\u001b[0m\u001b[0;34m\u001b[0m\u001b[0;34m\u001b[0m\u001b[0m\n\u001b[1;32m    220\u001b[0m     \u001b[0;32mif\u001b[0m \u001b[0mself\u001b[0m\u001b[0;34m.\u001b[0m\u001b[0m_in_memory\u001b[0m\u001b[0;34m:\u001b[0m\u001b[0;34m\u001b[0m\u001b[0;34m\u001b[0m\u001b[0m\n\u001b[0;32m--> 221\u001b[0;31m       \u001b[0mself\u001b[0m\u001b[0;34m.\u001b[0m\u001b[0m_add_to_mem_buffer\u001b[0m\u001b[0;34m(\u001b[0m\u001b[0mhkey\u001b[0m\u001b[0;34m,\u001b[0m \u001b[0mdata\u001b[0m\u001b[0;34m)\u001b[0m\u001b[0;34m\u001b[0m\u001b[0;34m\u001b[0m\u001b[0m\n\u001b[0m\u001b[1;32m    222\u001b[0m     \u001b[0;32melse\u001b[0m\u001b[0;34m:\u001b[0m\u001b[0;34m\u001b[0m\u001b[0;34m\u001b[0m\u001b[0m\n\u001b[1;32m    223\u001b[0m       \u001b[0mself\u001b[0m\u001b[0;34m.\u001b[0m\u001b[0m_add_to_bucket\u001b[0m\u001b[0;34m(\u001b[0m\u001b[0mhkey\u001b[0m\u001b[0;34m,\u001b[0m \u001b[0mdata\u001b[0m\u001b[0;34m)\u001b[0m\u001b[0;34m\u001b[0m\u001b[0;34m\u001b[0m\u001b[0m\n",
            "\u001b[0;32m/usr/local/lib/python3.7/dist-packages/tensorflow_datasets/core/shuffle.py\u001b[0m in \u001b[0;36m_add_to_mem_buffer\u001b[0;34m(self, hkey, data)\u001b[0m\n\u001b[1;32m    205\u001b[0m     \u001b[0;32mif\u001b[0m \u001b[0mself\u001b[0m\u001b[0;34m.\u001b[0m\u001b[0m_total_bytes\u001b[0m \u001b[0;34m>\u001b[0m \u001b[0mMAX_MEM_BUFFER_SIZE\u001b[0m\u001b[0;34m:\u001b[0m\u001b[0;34m\u001b[0m\u001b[0;34m\u001b[0m\u001b[0m\n\u001b[1;32m    206\u001b[0m       \u001b[0;32mfor\u001b[0m \u001b[0mhkey\u001b[0m\u001b[0;34m,\u001b[0m \u001b[0mdata\u001b[0m  \u001b[0;32min\u001b[0m \u001b[0mself\u001b[0m\u001b[0;34m.\u001b[0m\u001b[0m_mem_buffer\u001b[0m\u001b[0;34m:\u001b[0m\u001b[0;34m\u001b[0m\u001b[0;34m\u001b[0m\u001b[0m\n\u001b[0;32m--> 207\u001b[0;31m         \u001b[0mself\u001b[0m\u001b[0;34m.\u001b[0m\u001b[0m_add_to_bucket\u001b[0m\u001b[0;34m(\u001b[0m\u001b[0mhkey\u001b[0m\u001b[0;34m,\u001b[0m \u001b[0mdata\u001b[0m\u001b[0;34m)\u001b[0m\u001b[0;34m\u001b[0m\u001b[0;34m\u001b[0m\u001b[0m\n\u001b[0m\u001b[1;32m    208\u001b[0m       \u001b[0mself\u001b[0m\u001b[0;34m.\u001b[0m\u001b[0m_mem_buffer\u001b[0m \u001b[0;34m=\u001b[0m \u001b[0;32mNone\u001b[0m\u001b[0;34m\u001b[0m\u001b[0;34m\u001b[0m\u001b[0m\n\u001b[1;32m    209\u001b[0m       \u001b[0mself\u001b[0m\u001b[0;34m.\u001b[0m\u001b[0m_in_memory\u001b[0m \u001b[0;34m=\u001b[0m \u001b[0;32mFalse\u001b[0m\u001b[0;34m\u001b[0m\u001b[0;34m\u001b[0m\u001b[0m\n",
            "\u001b[0;32m/usr/local/lib/python3.7/dist-packages/tensorflow_datasets/core/shuffle.py\u001b[0m in \u001b[0;36m_add_to_bucket\u001b[0;34m(self, hkey, data)\u001b[0m\n\u001b[1;32m    199\u001b[0m   \u001b[0;32mdef\u001b[0m \u001b[0m_add_to_bucket\u001b[0m\u001b[0;34m(\u001b[0m\u001b[0mself\u001b[0m\u001b[0;34m,\u001b[0m \u001b[0mhkey\u001b[0m\u001b[0;34m,\u001b[0m \u001b[0mdata\u001b[0m\u001b[0;34m)\u001b[0m\u001b[0;34m:\u001b[0m\u001b[0;34m\u001b[0m\u001b[0;34m\u001b[0m\u001b[0m\n\u001b[1;32m    200\u001b[0m     \u001b[0mbucket_number\u001b[0m \u001b[0;34m=\u001b[0m \u001b[0mget_bucket_number\u001b[0m\u001b[0;34m(\u001b[0m\u001b[0mhkey\u001b[0m\u001b[0;34m,\u001b[0m \u001b[0mBUCKETS_NUMBER\u001b[0m\u001b[0;34m)\u001b[0m\u001b[0;34m\u001b[0m\u001b[0;34m\u001b[0m\u001b[0m\n\u001b[0;32m--> 201\u001b[0;31m     \u001b[0mself\u001b[0m\u001b[0;34m.\u001b[0m\u001b[0m_buckets\u001b[0m\u001b[0;34m[\u001b[0m\u001b[0mbucket_number\u001b[0m\u001b[0;34m]\u001b[0m\u001b[0;34m.\u001b[0m\u001b[0madd\u001b[0m\u001b[0;34m(\u001b[0m\u001b[0mhkey\u001b[0m\u001b[0;34m,\u001b[0m \u001b[0mdata\u001b[0m\u001b[0;34m)\u001b[0m\u001b[0;34m\u001b[0m\u001b[0;34m\u001b[0m\u001b[0m\n\u001b[0m\u001b[1;32m    202\u001b[0m \u001b[0;34m\u001b[0m\u001b[0m\n\u001b[1;32m    203\u001b[0m   \u001b[0;32mdef\u001b[0m \u001b[0m_add_to_mem_buffer\u001b[0m\u001b[0;34m(\u001b[0m\u001b[0mself\u001b[0m\u001b[0;34m,\u001b[0m \u001b[0mhkey\u001b[0m\u001b[0;34m,\u001b[0m \u001b[0mdata\u001b[0m\u001b[0;34m)\u001b[0m\u001b[0;34m:\u001b[0m\u001b[0;34m\u001b[0m\u001b[0;34m\u001b[0m\u001b[0m\n",
            "\u001b[0;32m/usr/local/lib/python3.7/dist-packages/tensorflow_datasets/core/shuffle.py\u001b[0m in \u001b[0;36madd\u001b[0;34m(self, key, data)\u001b[0m\n\u001b[1;32m    121\u001b[0m       \u001b[0mself\u001b[0m\u001b[0;34m.\u001b[0m\u001b[0m_fobj\u001b[0m \u001b[0;34m=\u001b[0m \u001b[0mtf\u001b[0m\u001b[0;34m.\u001b[0m\u001b[0mio\u001b[0m\u001b[0;34m.\u001b[0m\u001b[0mgfile\u001b[0m\u001b[0;34m.\u001b[0m\u001b[0mGFile\u001b[0m\u001b[0;34m(\u001b[0m\u001b[0mself\u001b[0m\u001b[0;34m.\u001b[0m\u001b[0m_path\u001b[0m\u001b[0;34m,\u001b[0m \u001b[0mmode\u001b[0m\u001b[0;34m=\u001b[0m\u001b[0;34m'wb'\u001b[0m\u001b[0;34m)\u001b[0m\u001b[0;34m\u001b[0m\u001b[0;34m\u001b[0m\u001b[0m\n\u001b[1;32m    122\u001b[0m     \u001b[0mdata_size\u001b[0m \u001b[0;34m=\u001b[0m \u001b[0mlen\u001b[0m\u001b[0;34m(\u001b[0m\u001b[0mdata\u001b[0m\u001b[0;34m)\u001b[0m\u001b[0;34m\u001b[0m\u001b[0;34m\u001b[0m\u001b[0m\n\u001b[0;32m--> 123\u001b[0;31m     \u001b[0mself\u001b[0m\u001b[0;34m.\u001b[0m\u001b[0m_fobj\u001b[0m\u001b[0;34m.\u001b[0m\u001b[0mwrite\u001b[0m\u001b[0;34m(\u001b[0m\u001b[0m_hkey_to_bytes\u001b[0m\u001b[0;34m(\u001b[0m\u001b[0mkey\u001b[0m\u001b[0;34m)\u001b[0m\u001b[0;34m)\u001b[0m\u001b[0;34m\u001b[0m\u001b[0;34m\u001b[0m\u001b[0m\n\u001b[0m\u001b[1;32m    124\u001b[0m     \u001b[0;31m# http://docs.python.org/3/library/struct.html#byte-order-size-and-alignment\u001b[0m\u001b[0;34m\u001b[0m\u001b[0;34m\u001b[0m\u001b[0;34m\u001b[0m\u001b[0m\n\u001b[1;32m    125\u001b[0m     \u001b[0;31m# The equal sign (\"=\") is important here, has it guarantees the standard\u001b[0m\u001b[0;34m\u001b[0m\u001b[0;34m\u001b[0m\u001b[0;34m\u001b[0m\u001b[0m\n",
            "\u001b[0;32m/usr/local/lib/python3.7/dist-packages/tensorflow/python/lib/io/file_io.py\u001b[0m in \u001b[0;36mwrite\u001b[0;34m(self, file_content)\u001b[0m\n\u001b[1;32m    100\u001b[0m   \u001b[0;32mdef\u001b[0m \u001b[0mwrite\u001b[0m\u001b[0;34m(\u001b[0m\u001b[0mself\u001b[0m\u001b[0;34m,\u001b[0m \u001b[0mfile_content\u001b[0m\u001b[0;34m)\u001b[0m\u001b[0;34m:\u001b[0m\u001b[0;34m\u001b[0m\u001b[0;34m\u001b[0m\u001b[0m\n\u001b[1;32m    101\u001b[0m     \u001b[0;34m\"\"\"Writes file_content to the file. Appends to the end of the file.\"\"\"\u001b[0m\u001b[0;34m\u001b[0m\u001b[0;34m\u001b[0m\u001b[0m\n\u001b[0;32m--> 102\u001b[0;31m     \u001b[0mself\u001b[0m\u001b[0;34m.\u001b[0m\u001b[0m_prewrite_check\u001b[0m\u001b[0;34m(\u001b[0m\u001b[0;34m)\u001b[0m\u001b[0;34m\u001b[0m\u001b[0;34m\u001b[0m\u001b[0m\n\u001b[0m\u001b[1;32m    103\u001b[0m     \u001b[0mself\u001b[0m\u001b[0;34m.\u001b[0m\u001b[0m_writable_file\u001b[0m\u001b[0;34m.\u001b[0m\u001b[0mappend\u001b[0m\u001b[0;34m(\u001b[0m\u001b[0mcompat\u001b[0m\u001b[0;34m.\u001b[0m\u001b[0mas_bytes\u001b[0m\u001b[0;34m(\u001b[0m\u001b[0mfile_content\u001b[0m\u001b[0;34m)\u001b[0m\u001b[0;34m)\u001b[0m\u001b[0;34m\u001b[0m\u001b[0;34m\u001b[0m\u001b[0m\n\u001b[1;32m    104\u001b[0m \u001b[0;34m\u001b[0m\u001b[0m\n",
            "\u001b[0;32m/usr/local/lib/python3.7/dist-packages/tensorflow/python/lib/io/file_io.py\u001b[0m in \u001b[0;36m_prewrite_check\u001b[0;34m(self)\u001b[0m\n\u001b[1;32m     86\u001b[0m                                            \"File isn't open for writing\")\n\u001b[1;32m     87\u001b[0m       self._writable_file = _pywrap_file_io.WritableFile(\n\u001b[0;32m---> 88\u001b[0;31m           compat.path_to_bytes(self.__name), compat.as_bytes(self.__mode))\n\u001b[0m\u001b[1;32m     89\u001b[0m \u001b[0;34m\u001b[0m\u001b[0m\n\u001b[1;32m     90\u001b[0m   \u001b[0;32mdef\u001b[0m \u001b[0m_prepare_value\u001b[0m\u001b[0;34m(\u001b[0m\u001b[0mself\u001b[0m\u001b[0;34m,\u001b[0m \u001b[0mval\u001b[0m\u001b[0;34m)\u001b[0m\u001b[0;34m:\u001b[0m\u001b[0;34m\u001b[0m\u001b[0;34m\u001b[0m\u001b[0m\n",
            "\u001b[0;31mKeyboardInterrupt\u001b[0m: "
          ]
        }
      ]
    },
    {
      "cell_type": "code",
      "metadata": {
        "id": "mDS8jE14tQ6O",
        "colab": {
          "base_uri": "https://localhost:8080/",
          "height": 444,
          "referenced_widgets": [
            "258cb5d8bbef4f4490686f82992d269d",
            "a7e0510a77d54024b77bdb00e457250b",
            "46974914b950440cbc575a2e395673dc",
            "bff75ff5c4cd4645a936c432bea19281",
            "6879343d2ac849e6a87c9fb118e24efd",
            "449192d390f2494a8ca8aa7aa47566b5",
            "d1a030413cdb4cf0959e4bb82a094e79",
            "f034c005512440efb8fecffea4e9ee44"
          ]
        },
        "outputId": "a6a9288b-c171-42a3-da24-e690cdd1022a"
      },
      "source": [
        "download_config = tfds.download.DownloadConfig(manual_dir='/gdrive/MyDrive/datasets/public_datasets/downloads/manual')\n",
        "\n",
        "ds = tfds.load(\"jsut\", download_and_prepare_kwargs={\"download_config\": download_config})"
      ],
      "execution_count": null,
      "outputs": [
        {
          "output_type": "stream",
          "text": [
            "\u001b[1mDownloading and preparing dataset jsut/1.1.0 (download: Unknown size, generated: Unknown size, total: Unknown size) to /root/tensorflow_datasets/jsut/1.1.0...\u001b[0m\n",
            "The manual directory is:  /gdrive/MyDrive/datasets/public_datasets/downloads/manual\n"
          ],
          "name": "stdout"
        },
        {
          "output_type": "display_data",
          "data": {
            "application/vnd.jupyter.widget-view+json": {
              "model_id": "258cb5d8bbef4f4490686f82992d269d",
              "version_minor": 0,
              "version_major": 2
            },
            "text/plain": [
              "HBox(children=(FloatProgress(value=1.0, bar_style='info', description='Extraction completed...', max=1.0, styl…"
            ]
          },
          "metadata": {
            "tags": []
          }
        },
        {
          "output_type": "stream",
          "text": [
            "\n"
          ],
          "name": "stdout"
        },
        {
          "output_type": "error",
          "ename": "KeyboardInterrupt",
          "evalue": "ignored",
          "traceback": [
            "\u001b[0;31m---------------------------------------------------------------------------\u001b[0m",
            "\u001b[0;31mKeyboardInterrupt\u001b[0m                         Traceback (most recent call last)",
            "\u001b[0;32m<ipython-input-22-2384352d8684>\u001b[0m in \u001b[0;36m<module>\u001b[0;34m()\u001b[0m\n\u001b[1;32m      1\u001b[0m \u001b[0mdownload_config\u001b[0m \u001b[0;34m=\u001b[0m \u001b[0mtfds\u001b[0m\u001b[0;34m.\u001b[0m\u001b[0mdownload\u001b[0m\u001b[0;34m.\u001b[0m\u001b[0mDownloadConfig\u001b[0m\u001b[0;34m(\u001b[0m\u001b[0mmanual_dir\u001b[0m\u001b[0;34m=\u001b[0m\u001b[0;34m'/gdrive/MyDrive/datasets/public_datasets/downloads/manual'\u001b[0m\u001b[0;34m)\u001b[0m\u001b[0;34m\u001b[0m\u001b[0;34m\u001b[0m\u001b[0m\n\u001b[1;32m      2\u001b[0m \u001b[0;34m\u001b[0m\u001b[0m\n\u001b[0;32m----> 3\u001b[0;31m \u001b[0mds\u001b[0m \u001b[0;34m=\u001b[0m \u001b[0mtfds\u001b[0m\u001b[0;34m.\u001b[0m\u001b[0mload\u001b[0m\u001b[0;34m(\u001b[0m\u001b[0;34m\"jsut\"\u001b[0m\u001b[0;34m,\u001b[0m \u001b[0mdownload_and_prepare_kwargs\u001b[0m\u001b[0;34m=\u001b[0m\u001b[0;34m{\u001b[0m\u001b[0;34m\"download_config\"\u001b[0m\u001b[0;34m:\u001b[0m \u001b[0mdownload_config\u001b[0m\u001b[0;34m}\u001b[0m\u001b[0;34m)\u001b[0m\u001b[0;34m\u001b[0m\u001b[0;34m\u001b[0m\u001b[0m\n\u001b[0m",
            "\u001b[0;32m/usr/local/lib/python3.7/dist-packages/tensorflow_datasets/core/load.py\u001b[0m in \u001b[0;36mload\u001b[0;34m(name, split, data_dir, batch_size, shuffle_files, download, as_supervised, decoders, read_config, with_info, builder_kwargs, download_and_prepare_kwargs, as_dataset_kwargs, try_gcs)\u001b[0m\n\u001b[1;32m    342\u001b[0m   \u001b[0;32mif\u001b[0m \u001b[0mdownload\u001b[0m\u001b[0;34m:\u001b[0m\u001b[0;34m\u001b[0m\u001b[0;34m\u001b[0m\u001b[0m\n\u001b[1;32m    343\u001b[0m     \u001b[0mdownload_and_prepare_kwargs\u001b[0m \u001b[0;34m=\u001b[0m \u001b[0mdownload_and_prepare_kwargs\u001b[0m \u001b[0;32mor\u001b[0m \u001b[0;34m{\u001b[0m\u001b[0;34m}\u001b[0m\u001b[0;34m\u001b[0m\u001b[0;34m\u001b[0m\u001b[0m\n\u001b[0;32m--> 344\u001b[0;31m     \u001b[0mdbuilder\u001b[0m\u001b[0;34m.\u001b[0m\u001b[0mdownload_and_prepare\u001b[0m\u001b[0;34m(\u001b[0m\u001b[0;34m**\u001b[0m\u001b[0mdownload_and_prepare_kwargs\u001b[0m\u001b[0;34m)\u001b[0m\u001b[0;34m\u001b[0m\u001b[0;34m\u001b[0m\u001b[0m\n\u001b[0m\u001b[1;32m    345\u001b[0m \u001b[0;34m\u001b[0m\u001b[0m\n\u001b[1;32m    346\u001b[0m   \u001b[0;32mif\u001b[0m \u001b[0mas_dataset_kwargs\u001b[0m \u001b[0;32mis\u001b[0m \u001b[0;32mNone\u001b[0m\u001b[0;34m:\u001b[0m\u001b[0;34m\u001b[0m\u001b[0;34m\u001b[0m\u001b[0m\n",
            "\u001b[0;32m/usr/local/lib/python3.7/dist-packages/tensorflow_datasets/core/dataset_builder.py\u001b[0m in \u001b[0;36mdownload_and_prepare\u001b[0;34m(self, download_dir, download_config)\u001b[0m\n\u001b[1;32m    385\u001b[0m           self._download_and_prepare(\n\u001b[1;32m    386\u001b[0m               \u001b[0mdl_manager\u001b[0m\u001b[0;34m=\u001b[0m\u001b[0mdl_manager\u001b[0m\u001b[0;34m,\u001b[0m\u001b[0;34m\u001b[0m\u001b[0;34m\u001b[0m\u001b[0m\n\u001b[0;32m--> 387\u001b[0;31m               download_config=download_config)\n\u001b[0m\u001b[1;32m    388\u001b[0m \u001b[0;34m\u001b[0m\u001b[0m\n\u001b[1;32m    389\u001b[0m           \u001b[0;31m# NOTE: If modifying the lines below to put additional information in\u001b[0m\u001b[0;34m\u001b[0m\u001b[0;34m\u001b[0m\u001b[0;34m\u001b[0m\u001b[0m\n",
            "\u001b[0;32m/usr/local/lib/python3.7/dist-packages/tensorflow_datasets/core/dataset_builder.py\u001b[0m in \u001b[0;36m_download_and_prepare\u001b[0;34m(self, dl_manager, download_config)\u001b[0m\n\u001b[1;32m   1022\u001b[0m     super(GeneratorBasedBuilder, self)._download_and_prepare(\n\u001b[1;32m   1023\u001b[0m         \u001b[0mdl_manager\u001b[0m\u001b[0;34m=\u001b[0m\u001b[0mdl_manager\u001b[0m\u001b[0;34m,\u001b[0m\u001b[0;34m\u001b[0m\u001b[0;34m\u001b[0m\u001b[0m\n\u001b[0;32m-> 1024\u001b[0;31m         \u001b[0mmax_examples_per_split\u001b[0m\u001b[0;34m=\u001b[0m\u001b[0mdownload_config\u001b[0m\u001b[0;34m.\u001b[0m\u001b[0mmax_examples_per_split\u001b[0m\u001b[0;34m,\u001b[0m\u001b[0;34m\u001b[0m\u001b[0;34m\u001b[0m\u001b[0m\n\u001b[0m\u001b[1;32m   1025\u001b[0m     )\n\u001b[1;32m   1026\u001b[0m \u001b[0;34m\u001b[0m\u001b[0m\n",
            "\u001b[0;32m/usr/local/lib/python3.7/dist-packages/tensorflow_datasets/core/dataset_builder.py\u001b[0m in \u001b[0;36m_download_and_prepare\u001b[0;34m(self, dl_manager, **prepare_split_kwargs)\u001b[0m\n\u001b[1;32m    960\u001b[0m         prepare_split_kwargs)\n\u001b[1;32m    961\u001b[0m     for split_generator in self._split_generators(\n\u001b[0;32m--> 962\u001b[0;31m         dl_manager, **split_generators_kwargs):\n\u001b[0m\u001b[1;32m    963\u001b[0m       \u001b[0;32mif\u001b[0m \u001b[0mstr\u001b[0m\u001b[0;34m(\u001b[0m\u001b[0msplit_generator\u001b[0m\u001b[0;34m.\u001b[0m\u001b[0msplit_info\u001b[0m\u001b[0;34m.\u001b[0m\u001b[0mname\u001b[0m\u001b[0;34m)\u001b[0m\u001b[0;34m.\u001b[0m\u001b[0mlower\u001b[0m\u001b[0;34m(\u001b[0m\u001b[0;34m)\u001b[0m \u001b[0;34m==\u001b[0m \u001b[0;34m\"all\"\u001b[0m\u001b[0;34m:\u001b[0m\u001b[0;34m\u001b[0m\u001b[0;34m\u001b[0m\u001b[0m\n\u001b[1;32m    964\u001b[0m         raise ValueError(\n",
            "\u001b[0;32m/content/public-datasets/jsut/jsut.py\u001b[0m in \u001b[0;36m_split_generators\u001b[0;34m(self, dl_manager)\u001b[0m\n\u001b[1;32m     77\u001b[0m \u001b[0;34m\u001b[0m\u001b[0m\n\u001b[1;32m     78\u001b[0m     \u001b[0;31m# Extract the manually downloaded `data.zip`\u001b[0m\u001b[0;34m\u001b[0m\u001b[0;34m\u001b[0m\u001b[0;34m\u001b[0m\u001b[0m\n\u001b[0;32m---> 79\u001b[0;31m     \u001b[0mextracted_path\u001b[0m \u001b[0;34m=\u001b[0m \u001b[0mdl_manager\u001b[0m\u001b[0;34m.\u001b[0m\u001b[0mextract\u001b[0m\u001b[0;34m(\u001b[0m\u001b[0marchive_path\u001b[0m\u001b[0;34m)\u001b[0m\u001b[0;34m\u001b[0m\u001b[0;34m\u001b[0m\u001b[0m\n\u001b[0m\u001b[1;32m     80\u001b[0m     return [\n\u001b[1;32m     81\u001b[0m         tfds.core.SplitGenerator(\n",
            "\u001b[0;32m/usr/local/lib/python3.7/dist-packages/tensorflow_datasets/core/download/download_manager.py\u001b[0m in \u001b[0;36mextract\u001b[0;34m(self, path_or_paths)\u001b[0m\n\u001b[1;32m    577\u001b[0m     \u001b[0;31m# Add progress bar to follow the download state\u001b[0m\u001b[0;34m\u001b[0m\u001b[0;34m\u001b[0m\u001b[0;34m\u001b[0m\u001b[0m\n\u001b[1;32m    578\u001b[0m     \u001b[0;32mwith\u001b[0m \u001b[0mself\u001b[0m\u001b[0;34m.\u001b[0m\u001b[0m_extractor\u001b[0m\u001b[0;34m.\u001b[0m\u001b[0mtqdm\u001b[0m\u001b[0;34m(\u001b[0m\u001b[0;34m)\u001b[0m\u001b[0;34m:\u001b[0m\u001b[0;34m\u001b[0m\u001b[0;34m\u001b[0m\u001b[0m\n\u001b[0;32m--> 579\u001b[0;31m       \u001b[0;32mreturn\u001b[0m \u001b[0m_map_promise\u001b[0m\u001b[0;34m(\u001b[0m\u001b[0mself\u001b[0m\u001b[0;34m.\u001b[0m\u001b[0m_extract\u001b[0m\u001b[0;34m,\u001b[0m \u001b[0mpath_or_paths\u001b[0m\u001b[0;34m)\u001b[0m\u001b[0;34m\u001b[0m\u001b[0;34m\u001b[0m\u001b[0m\n\u001b[0m\u001b[1;32m    580\u001b[0m \u001b[0;34m\u001b[0m\u001b[0m\n\u001b[1;32m    581\u001b[0m   \u001b[0;32mdef\u001b[0m \u001b[0mdownload_and_extract\u001b[0m\u001b[0;34m(\u001b[0m\u001b[0mself\u001b[0m\u001b[0;34m,\u001b[0m \u001b[0murl_or_urls\u001b[0m\u001b[0;34m)\u001b[0m\u001b[0;34m:\u001b[0m\u001b[0;34m\u001b[0m\u001b[0;34m\u001b[0m\u001b[0m\n",
            "\u001b[0;32m/usr/local/lib/python3.7/dist-packages/tensorflow_datasets/core/download/download_manager.py\u001b[0m in \u001b[0;36m_map_promise\u001b[0;34m(map_fn, all_inputs)\u001b[0m\n\u001b[1;32m    634\u001b[0m   \u001b[0;34m\"\"\"Map the function into each element and resolve the promise.\"\"\"\u001b[0m\u001b[0;34m\u001b[0m\u001b[0;34m\u001b[0m\u001b[0m\n\u001b[1;32m    635\u001b[0m   \u001b[0mall_promises\u001b[0m \u001b[0;34m=\u001b[0m \u001b[0mtf\u001b[0m\u001b[0;34m.\u001b[0m\u001b[0mnest\u001b[0m\u001b[0;34m.\u001b[0m\u001b[0mmap_structure\u001b[0m\u001b[0;34m(\u001b[0m\u001b[0mmap_fn\u001b[0m\u001b[0;34m,\u001b[0m \u001b[0mall_inputs\u001b[0m\u001b[0;34m)\u001b[0m  \u001b[0;31m# Apply the function\u001b[0m\u001b[0;34m\u001b[0m\u001b[0;34m\u001b[0m\u001b[0m\n\u001b[0;32m--> 636\u001b[0;31m   \u001b[0mres\u001b[0m \u001b[0;34m=\u001b[0m \u001b[0mtf\u001b[0m\u001b[0;34m.\u001b[0m\u001b[0mnest\u001b[0m\u001b[0;34m.\u001b[0m\u001b[0mmap_structure\u001b[0m\u001b[0;34m(\u001b[0m\u001b[0;32mlambda\u001b[0m \u001b[0mp\u001b[0m\u001b[0;34m:\u001b[0m \u001b[0mp\u001b[0m\u001b[0;34m.\u001b[0m\u001b[0mget\u001b[0m\u001b[0;34m(\u001b[0m\u001b[0;34m)\u001b[0m\u001b[0;34m,\u001b[0m \u001b[0mall_promises\u001b[0m\u001b[0;34m)\u001b[0m  \u001b[0;31m# Wait promises\u001b[0m\u001b[0;34m\u001b[0m\u001b[0;34m\u001b[0m\u001b[0m\n\u001b[0m\u001b[1;32m    637\u001b[0m   \u001b[0;32mreturn\u001b[0m \u001b[0mres\u001b[0m\u001b[0;34m\u001b[0m\u001b[0;34m\u001b[0m\u001b[0m\n",
            "\u001b[0;32m/usr/local/lib/python3.7/dist-packages/tensorflow/python/util/nest.py\u001b[0m in \u001b[0;36mmap_structure\u001b[0;34m(func, *structure, **kwargs)\u001b[0m\n\u001b[1;32m    657\u001b[0m \u001b[0;34m\u001b[0m\u001b[0m\n\u001b[1;32m    658\u001b[0m   return pack_sequence_as(\n\u001b[0;32m--> 659\u001b[0;31m       \u001b[0mstructure\u001b[0m\u001b[0;34m[\u001b[0m\u001b[0;36m0\u001b[0m\u001b[0;34m]\u001b[0m\u001b[0;34m,\u001b[0m \u001b[0;34m[\u001b[0m\u001b[0mfunc\u001b[0m\u001b[0;34m(\u001b[0m\u001b[0;34m*\u001b[0m\u001b[0mx\u001b[0m\u001b[0;34m)\u001b[0m \u001b[0;32mfor\u001b[0m \u001b[0mx\u001b[0m \u001b[0;32min\u001b[0m \u001b[0mentries\u001b[0m\u001b[0;34m]\u001b[0m\u001b[0;34m,\u001b[0m\u001b[0;34m\u001b[0m\u001b[0;34m\u001b[0m\u001b[0m\n\u001b[0m\u001b[1;32m    660\u001b[0m       expand_composites=expand_composites)\n\u001b[1;32m    661\u001b[0m \u001b[0;34m\u001b[0m\u001b[0m\n",
            "\u001b[0;32m/usr/local/lib/python3.7/dist-packages/tensorflow/python/util/nest.py\u001b[0m in \u001b[0;36m<listcomp>\u001b[0;34m(.0)\u001b[0m\n\u001b[1;32m    657\u001b[0m \u001b[0;34m\u001b[0m\u001b[0m\n\u001b[1;32m    658\u001b[0m   return pack_sequence_as(\n\u001b[0;32m--> 659\u001b[0;31m       \u001b[0mstructure\u001b[0m\u001b[0;34m[\u001b[0m\u001b[0;36m0\u001b[0m\u001b[0;34m]\u001b[0m\u001b[0;34m,\u001b[0m \u001b[0;34m[\u001b[0m\u001b[0mfunc\u001b[0m\u001b[0;34m(\u001b[0m\u001b[0;34m*\u001b[0m\u001b[0mx\u001b[0m\u001b[0;34m)\u001b[0m \u001b[0;32mfor\u001b[0m \u001b[0mx\u001b[0m \u001b[0;32min\u001b[0m \u001b[0mentries\u001b[0m\u001b[0;34m]\u001b[0m\u001b[0;34m,\u001b[0m\u001b[0;34m\u001b[0m\u001b[0;34m\u001b[0m\u001b[0m\n\u001b[0m\u001b[1;32m    660\u001b[0m       expand_composites=expand_composites)\n\u001b[1;32m    661\u001b[0m \u001b[0;34m\u001b[0m\u001b[0m\n",
            "\u001b[0;32m/usr/local/lib/python3.7/dist-packages/tensorflow_datasets/core/download/download_manager.py\u001b[0m in \u001b[0;36m<lambda>\u001b[0;34m(p)\u001b[0m\n\u001b[1;32m    634\u001b[0m   \u001b[0;34m\"\"\"Map the function into each element and resolve the promise.\"\"\"\u001b[0m\u001b[0;34m\u001b[0m\u001b[0;34m\u001b[0m\u001b[0m\n\u001b[1;32m    635\u001b[0m   \u001b[0mall_promises\u001b[0m \u001b[0;34m=\u001b[0m \u001b[0mtf\u001b[0m\u001b[0;34m.\u001b[0m\u001b[0mnest\u001b[0m\u001b[0;34m.\u001b[0m\u001b[0mmap_structure\u001b[0m\u001b[0;34m(\u001b[0m\u001b[0mmap_fn\u001b[0m\u001b[0;34m,\u001b[0m \u001b[0mall_inputs\u001b[0m\u001b[0;34m)\u001b[0m  \u001b[0;31m# Apply the function\u001b[0m\u001b[0;34m\u001b[0m\u001b[0;34m\u001b[0m\u001b[0m\n\u001b[0;32m--> 636\u001b[0;31m   \u001b[0mres\u001b[0m \u001b[0;34m=\u001b[0m \u001b[0mtf\u001b[0m\u001b[0;34m.\u001b[0m\u001b[0mnest\u001b[0m\u001b[0;34m.\u001b[0m\u001b[0mmap_structure\u001b[0m\u001b[0;34m(\u001b[0m\u001b[0;32mlambda\u001b[0m \u001b[0mp\u001b[0m\u001b[0;34m:\u001b[0m \u001b[0mp\u001b[0m\u001b[0;34m.\u001b[0m\u001b[0mget\u001b[0m\u001b[0;34m(\u001b[0m\u001b[0;34m)\u001b[0m\u001b[0;34m,\u001b[0m \u001b[0mall_promises\u001b[0m\u001b[0;34m)\u001b[0m  \u001b[0;31m# Wait promises\u001b[0m\u001b[0;34m\u001b[0m\u001b[0;34m\u001b[0m\u001b[0m\n\u001b[0m\u001b[1;32m    637\u001b[0m   \u001b[0;32mreturn\u001b[0m \u001b[0mres\u001b[0m\u001b[0;34m\u001b[0m\u001b[0;34m\u001b[0m\u001b[0m\n",
            "\u001b[0;32m/usr/local/lib/python3.7/dist-packages/promise/promise.py\u001b[0m in \u001b[0;36mget\u001b[0;34m(self, timeout)\u001b[0m\n\u001b[1;32m    509\u001b[0m         \u001b[0;31m# type: (Optional[float]) -> T\u001b[0m\u001b[0;34m\u001b[0m\u001b[0;34m\u001b[0m\u001b[0;34m\u001b[0m\u001b[0m\n\u001b[1;32m    510\u001b[0m         \u001b[0mtarget\u001b[0m \u001b[0;34m=\u001b[0m \u001b[0mself\u001b[0m\u001b[0;34m.\u001b[0m\u001b[0m_target\u001b[0m\u001b[0;34m(\u001b[0m\u001b[0;34m)\u001b[0m\u001b[0;34m\u001b[0m\u001b[0;34m\u001b[0m\u001b[0m\n\u001b[0;32m--> 511\u001b[0;31m         \u001b[0mself\u001b[0m\u001b[0;34m.\u001b[0m\u001b[0m_wait\u001b[0m\u001b[0;34m(\u001b[0m\u001b[0mtimeout\u001b[0m \u001b[0;32mor\u001b[0m \u001b[0mDEFAULT_TIMEOUT\u001b[0m\u001b[0;34m)\u001b[0m\u001b[0;34m\u001b[0m\u001b[0;34m\u001b[0m\u001b[0m\n\u001b[0m\u001b[1;32m    512\u001b[0m         \u001b[0;32mreturn\u001b[0m \u001b[0mself\u001b[0m\u001b[0;34m.\u001b[0m\u001b[0m_target_settled_value\u001b[0m\u001b[0;34m(\u001b[0m\u001b[0m_raise\u001b[0m\u001b[0;34m=\u001b[0m\u001b[0;32mTrue\u001b[0m\u001b[0;34m)\u001b[0m\u001b[0;34m\u001b[0m\u001b[0;34m\u001b[0m\u001b[0m\n\u001b[1;32m    513\u001b[0m \u001b[0;34m\u001b[0m\u001b[0m\n",
            "\u001b[0;32m/usr/local/lib/python3.7/dist-packages/promise/promise.py\u001b[0m in \u001b[0;36m_wait\u001b[0;34m(self, timeout)\u001b[0m\n\u001b[1;32m    504\u001b[0m     \u001b[0;32mdef\u001b[0m \u001b[0m_wait\u001b[0m\u001b[0;34m(\u001b[0m\u001b[0mself\u001b[0m\u001b[0;34m,\u001b[0m \u001b[0mtimeout\u001b[0m\u001b[0;34m=\u001b[0m\u001b[0;32mNone\u001b[0m\u001b[0;34m)\u001b[0m\u001b[0;34m:\u001b[0m\u001b[0;34m\u001b[0m\u001b[0;34m\u001b[0m\u001b[0m\n\u001b[1;32m    505\u001b[0m         \u001b[0;31m# type: (Optional[float]) -> None\u001b[0m\u001b[0;34m\u001b[0m\u001b[0;34m\u001b[0m\u001b[0;34m\u001b[0m\u001b[0m\n\u001b[0;32m--> 506\u001b[0;31m         \u001b[0mself\u001b[0m\u001b[0;34m.\u001b[0m\u001b[0mwait\u001b[0m\u001b[0;34m(\u001b[0m\u001b[0mself\u001b[0m\u001b[0;34m,\u001b[0m \u001b[0mtimeout\u001b[0m\u001b[0;34m)\u001b[0m\u001b[0;34m\u001b[0m\u001b[0;34m\u001b[0m\u001b[0m\n\u001b[0m\u001b[1;32m    507\u001b[0m \u001b[0;34m\u001b[0m\u001b[0m\n\u001b[1;32m    508\u001b[0m     \u001b[0;32mdef\u001b[0m \u001b[0mget\u001b[0m\u001b[0;34m(\u001b[0m\u001b[0mself\u001b[0m\u001b[0;34m,\u001b[0m \u001b[0mtimeout\u001b[0m\u001b[0;34m=\u001b[0m\u001b[0;32mNone\u001b[0m\u001b[0;34m)\u001b[0m\u001b[0;34m:\u001b[0m\u001b[0;34m\u001b[0m\u001b[0;34m\u001b[0m\u001b[0m\n",
            "\u001b[0;32m/usr/local/lib/python3.7/dist-packages/promise/promise.py\u001b[0m in \u001b[0;36mwait\u001b[0;34m(cls, promise, timeout)\u001b[0m\n\u001b[1;32m    500\u001b[0m     \u001b[0;32mdef\u001b[0m \u001b[0mwait\u001b[0m\u001b[0;34m(\u001b[0m\u001b[0mcls\u001b[0m\u001b[0;34m,\u001b[0m \u001b[0mpromise\u001b[0m\u001b[0;34m,\u001b[0m \u001b[0mtimeout\u001b[0m\u001b[0;34m=\u001b[0m\u001b[0;32mNone\u001b[0m\u001b[0;34m)\u001b[0m\u001b[0;34m:\u001b[0m\u001b[0;34m\u001b[0m\u001b[0;34m\u001b[0m\u001b[0m\n\u001b[1;32m    501\u001b[0m         \u001b[0;31m# type: (Promise, Optional[float]) -> None\u001b[0m\u001b[0;34m\u001b[0m\u001b[0;34m\u001b[0m\u001b[0;34m\u001b[0m\u001b[0m\n\u001b[0;32m--> 502\u001b[0;31m         \u001b[0masync_instance\u001b[0m\u001b[0;34m.\u001b[0m\u001b[0mwait\u001b[0m\u001b[0;34m(\u001b[0m\u001b[0mpromise\u001b[0m\u001b[0;34m,\u001b[0m \u001b[0mtimeout\u001b[0m\u001b[0;34m)\u001b[0m\u001b[0;34m\u001b[0m\u001b[0;34m\u001b[0m\u001b[0m\n\u001b[0m\u001b[1;32m    503\u001b[0m \u001b[0;34m\u001b[0m\u001b[0m\n\u001b[1;32m    504\u001b[0m     \u001b[0;32mdef\u001b[0m \u001b[0m_wait\u001b[0m\u001b[0;34m(\u001b[0m\u001b[0mself\u001b[0m\u001b[0;34m,\u001b[0m \u001b[0mtimeout\u001b[0m\u001b[0;34m=\u001b[0m\u001b[0;32mNone\u001b[0m\u001b[0;34m)\u001b[0m\u001b[0;34m:\u001b[0m\u001b[0;34m\u001b[0m\u001b[0;34m\u001b[0m\u001b[0m\n",
            "\u001b[0;32m/usr/local/lib/python3.7/dist-packages/promise/async_.py\u001b[0m in \u001b[0;36mwait\u001b[0;34m(self, promise, timeout)\u001b[0m\n\u001b[1;32m    115\u001b[0m                 \u001b[0;31m# fulfilled or rejected\u001b[0m\u001b[0;34m\u001b[0m\u001b[0;34m\u001b[0m\u001b[0;34m\u001b[0m\u001b[0m\n\u001b[1;32m    116\u001b[0m                 \u001b[0;32mreturn\u001b[0m\u001b[0;34m\u001b[0m\u001b[0;34m\u001b[0m\u001b[0m\n\u001b[0;32m--> 117\u001b[0;31m         \u001b[0mtarget\u001b[0m\u001b[0;34m.\u001b[0m\u001b[0mscheduler\u001b[0m\u001b[0;34m.\u001b[0m\u001b[0mwait\u001b[0m\u001b[0;34m(\u001b[0m\u001b[0mtarget\u001b[0m\u001b[0;34m,\u001b[0m \u001b[0mtimeout\u001b[0m\u001b[0;34m)\u001b[0m\u001b[0;34m\u001b[0m\u001b[0;34m\u001b[0m\u001b[0m\n\u001b[0m\u001b[1;32m    118\u001b[0m \u001b[0;34m\u001b[0m\u001b[0m\n\u001b[1;32m    119\u001b[0m     \u001b[0;32mdef\u001b[0m \u001b[0mdrain_queues\u001b[0m\u001b[0;34m(\u001b[0m\u001b[0mself\u001b[0m\u001b[0;34m)\u001b[0m\u001b[0;34m:\u001b[0m\u001b[0;34m\u001b[0m\u001b[0;34m\u001b[0m\u001b[0m\n",
            "\u001b[0;32m/usr/local/lib/python3.7/dist-packages/promise/schedulers/immediate.py\u001b[0m in \u001b[0;36mwait\u001b[0;34m(self, promise, timeout)\u001b[0m\n\u001b[1;32m     23\u001b[0m \u001b[0;34m\u001b[0m\u001b[0m\n\u001b[1;32m     24\u001b[0m         \u001b[0mpromise\u001b[0m\u001b[0;34m.\u001b[0m\u001b[0m_then\u001b[0m\u001b[0;34m(\u001b[0m\u001b[0mon_resolve_or_reject\u001b[0m\u001b[0;34m,\u001b[0m \u001b[0mon_resolve_or_reject\u001b[0m\u001b[0;34m)\u001b[0m\u001b[0;34m\u001b[0m\u001b[0;34m\u001b[0m\u001b[0m\n\u001b[0;32m---> 25\u001b[0;31m         \u001b[0mwaited\u001b[0m \u001b[0;34m=\u001b[0m \u001b[0me\u001b[0m\u001b[0;34m.\u001b[0m\u001b[0mwait\u001b[0m\u001b[0;34m(\u001b[0m\u001b[0mtimeout\u001b[0m\u001b[0;34m)\u001b[0m\u001b[0;34m\u001b[0m\u001b[0;34m\u001b[0m\u001b[0m\n\u001b[0m\u001b[1;32m     26\u001b[0m         \u001b[0;32mif\u001b[0m \u001b[0;32mnot\u001b[0m \u001b[0mwaited\u001b[0m\u001b[0;34m:\u001b[0m\u001b[0;34m\u001b[0m\u001b[0;34m\u001b[0m\u001b[0m\n\u001b[1;32m     27\u001b[0m             \u001b[0;32mraise\u001b[0m \u001b[0mException\u001b[0m\u001b[0;34m(\u001b[0m\u001b[0;34m\"Timeout\"\u001b[0m\u001b[0;34m)\u001b[0m\u001b[0;34m\u001b[0m\u001b[0;34m\u001b[0m\u001b[0m\n",
            "\u001b[0;32m/usr/lib/python3.7/threading.py\u001b[0m in \u001b[0;36mwait\u001b[0;34m(self, timeout)\u001b[0m\n\u001b[1;32m    550\u001b[0m             \u001b[0msignaled\u001b[0m \u001b[0;34m=\u001b[0m \u001b[0mself\u001b[0m\u001b[0;34m.\u001b[0m\u001b[0m_flag\u001b[0m\u001b[0;34m\u001b[0m\u001b[0;34m\u001b[0m\u001b[0m\n\u001b[1;32m    551\u001b[0m             \u001b[0;32mif\u001b[0m \u001b[0;32mnot\u001b[0m \u001b[0msignaled\u001b[0m\u001b[0;34m:\u001b[0m\u001b[0;34m\u001b[0m\u001b[0;34m\u001b[0m\u001b[0m\n\u001b[0;32m--> 552\u001b[0;31m                 \u001b[0msignaled\u001b[0m \u001b[0;34m=\u001b[0m \u001b[0mself\u001b[0m\u001b[0;34m.\u001b[0m\u001b[0m_cond\u001b[0m\u001b[0;34m.\u001b[0m\u001b[0mwait\u001b[0m\u001b[0;34m(\u001b[0m\u001b[0mtimeout\u001b[0m\u001b[0;34m)\u001b[0m\u001b[0;34m\u001b[0m\u001b[0;34m\u001b[0m\u001b[0m\n\u001b[0m\u001b[1;32m    553\u001b[0m             \u001b[0;32mreturn\u001b[0m \u001b[0msignaled\u001b[0m\u001b[0;34m\u001b[0m\u001b[0;34m\u001b[0m\u001b[0m\n\u001b[1;32m    554\u001b[0m \u001b[0;34m\u001b[0m\u001b[0m\n",
            "\u001b[0;32m/usr/lib/python3.7/threading.py\u001b[0m in \u001b[0;36mwait\u001b[0;34m(self, timeout)\u001b[0m\n\u001b[1;32m    294\u001b[0m         \u001b[0;32mtry\u001b[0m\u001b[0;34m:\u001b[0m    \u001b[0;31m# restore state no matter what (e.g., KeyboardInterrupt)\u001b[0m\u001b[0;34m\u001b[0m\u001b[0;34m\u001b[0m\u001b[0m\n\u001b[1;32m    295\u001b[0m             \u001b[0;32mif\u001b[0m \u001b[0mtimeout\u001b[0m \u001b[0;32mis\u001b[0m \u001b[0;32mNone\u001b[0m\u001b[0;34m:\u001b[0m\u001b[0;34m\u001b[0m\u001b[0;34m\u001b[0m\u001b[0m\n\u001b[0;32m--> 296\u001b[0;31m                 \u001b[0mwaiter\u001b[0m\u001b[0;34m.\u001b[0m\u001b[0macquire\u001b[0m\u001b[0;34m(\u001b[0m\u001b[0;34m)\u001b[0m\u001b[0;34m\u001b[0m\u001b[0;34m\u001b[0m\u001b[0m\n\u001b[0m\u001b[1;32m    297\u001b[0m                 \u001b[0mgotit\u001b[0m \u001b[0;34m=\u001b[0m \u001b[0;32mTrue\u001b[0m\u001b[0;34m\u001b[0m\u001b[0;34m\u001b[0m\u001b[0m\n\u001b[1;32m    298\u001b[0m             \u001b[0;32melse\u001b[0m\u001b[0;34m:\u001b[0m\u001b[0;34m\u001b[0m\u001b[0;34m\u001b[0m\u001b[0m\n",
            "\u001b[0;31mKeyboardInterrupt\u001b[0m: "
          ]
        }
      ]
    },
    {
      "cell_type": "code",
      "metadata": {
        "id": "I_3mlE9PakK5",
        "colab": {
          "base_uri": "https://localhost:8080/",
          "height": 597,
          "referenced_widgets": [
            "8b7cf8a2b3b84a089e6b8afd3ddcc16d",
            "c146c5c93c0e45a1a4d7e85a54aae87a",
            "f083ac10a1ef456fa9487c51c334e75a",
            "9a7e56a2c8f04841b9cc14a51b96272b",
            "a14dd149dfd0485999c7782ebcf7147f",
            "33de2d2e4a9d45b5808458b3372cd7fc",
            "f067032cd75446c8b29d0fc70cf1b7db",
            "cee4279551a04493905798612c462300"
          ]
        },
        "outputId": "42b6a4aa-bd48-47e8-9fa7-a959c03cf09b"
      },
      "source": [
        "download_config = tfds.download.DownloadConfig(manual_dir='/gdrive/MyDrive/datasets/tensorflow_datasets/')\n",
        "\n",
        "#builder = tfds.builder('jsut', data_dir='/gdrive/MyDrive/datasets/')\n",
        "builder = tfds.builder('jsut')\n",
        "builder.download_and_prepare(download_config=download_config)\n",
        "ds = builder.as_dataset(split='train', shuffle_files=True)\n",
        "print(ds)"
      ],
      "execution_count": null,
      "outputs": [
        {
          "output_type": "stream",
          "text": [
            "\u001b[1mDownloading and preparing dataset jsut/1.1.0 (download: Unknown size, generated: Unknown size, total: Unknown size) to /root/tensorflow_datasets/jsut/1.1.0...\u001b[0m\n",
            "The manual directory is:  /gdrive/MyDrive/datasets/tensorflow_datasets/\n"
          ],
          "name": "stdout"
        },
        {
          "output_type": "display_data",
          "data": {
            "application/vnd.jupyter.widget-view+json": {
              "model_id": "8b7cf8a2b3b84a089e6b8afd3ddcc16d",
              "version_minor": 0,
              "version_major": 2
            },
            "text/plain": [
              "HBox(children=(FloatProgress(value=1.0, bar_style='info', description='Extraction completed...', max=1.0, styl…"
            ]
          },
          "metadata": {
            "tags": []
          }
        },
        {
          "output_type": "stream",
          "text": [
            "\n"
          ],
          "name": "stdout"
        },
        {
          "output_type": "error",
          "ename": "ExtractError",
          "evalue": "ignored",
          "traceback": [
            "\u001b[0;31m---------------------------------------------------------------------------\u001b[0m",
            "\u001b[0;31mNotFoundError\u001b[0m                             Traceback (most recent call last)",
            "\u001b[0;32m/usr/local/lib/python3.7/dist-packages/tensorflow_datasets/core/download/extractor.py\u001b[0m in \u001b[0;36m_sync_extract\u001b[0;34m(self, from_path, method, to_path)\u001b[0m\n\u001b[1;32m     87\u001b[0m     \u001b[0;32mtry\u001b[0m\u001b[0;34m:\u001b[0m\u001b[0;34m\u001b[0m\u001b[0;34m\u001b[0m\u001b[0m\n\u001b[0;32m---> 88\u001b[0;31m       \u001b[0;32mfor\u001b[0m \u001b[0mpath\u001b[0m\u001b[0;34m,\u001b[0m \u001b[0mhandle\u001b[0m \u001b[0;32min\u001b[0m \u001b[0miter_archive\u001b[0m\u001b[0;34m(\u001b[0m\u001b[0mfrom_path\u001b[0m\u001b[0;34m,\u001b[0m \u001b[0mmethod\u001b[0m\u001b[0;34m)\u001b[0m\u001b[0;34m:\u001b[0m\u001b[0;34m\u001b[0m\u001b[0;34m\u001b[0m\u001b[0m\n\u001b[0m\u001b[1;32m     89\u001b[0m         \u001b[0mpath\u001b[0m \u001b[0;34m=\u001b[0m \u001b[0mtf\u001b[0m\u001b[0;34m.\u001b[0m\u001b[0mcompat\u001b[0m\u001b[0;34m.\u001b[0m\u001b[0mas_text\u001b[0m\u001b[0;34m(\u001b[0m\u001b[0mpath\u001b[0m\u001b[0;34m)\u001b[0m\u001b[0;34m\u001b[0m\u001b[0;34m\u001b[0m\u001b[0m\n",
            "\u001b[0;32m/usr/local/lib/python3.7/dist-packages/tensorflow_datasets/core/download/extractor.py\u001b[0m in \u001b[0;36miter_zip\u001b[0;34m(arch_f)\u001b[0m\n\u001b[1;32m    190\u001b[0m   \u001b[0;32mwith\u001b[0m \u001b[0m_open_or_pass\u001b[0m\u001b[0;34m(\u001b[0m\u001b[0march_f\u001b[0m\u001b[0;34m)\u001b[0m \u001b[0;32mas\u001b[0m \u001b[0mfobj\u001b[0m\u001b[0;34m:\u001b[0m\u001b[0;34m\u001b[0m\u001b[0;34m\u001b[0m\u001b[0m\n\u001b[0;32m--> 191\u001b[0;31m     \u001b[0mz\u001b[0m \u001b[0;34m=\u001b[0m \u001b[0mzipfile\u001b[0m\u001b[0;34m.\u001b[0m\u001b[0mZipFile\u001b[0m\u001b[0;34m(\u001b[0m\u001b[0mfobj\u001b[0m\u001b[0;34m)\u001b[0m\u001b[0;34m\u001b[0m\u001b[0;34m\u001b[0m\u001b[0m\n\u001b[0m\u001b[1;32m    192\u001b[0m     \u001b[0;32mfor\u001b[0m \u001b[0mmember\u001b[0m \u001b[0;32min\u001b[0m \u001b[0mz\u001b[0m\u001b[0;34m.\u001b[0m\u001b[0minfolist\u001b[0m\u001b[0;34m(\u001b[0m\u001b[0;34m)\u001b[0m\u001b[0;34m:\u001b[0m\u001b[0;34m\u001b[0m\u001b[0;34m\u001b[0m\u001b[0m\n",
            "\u001b[0;32m/usr/lib/python3.7/zipfile.py\u001b[0m in \u001b[0;36m__init__\u001b[0;34m(self, file, mode, compression, allowZip64, compresslevel)\u001b[0m\n\u001b[1;32m   1257\u001b[0m             \u001b[0;32mif\u001b[0m \u001b[0mmode\u001b[0m \u001b[0;34m==\u001b[0m \u001b[0;34m'r'\u001b[0m\u001b[0;34m:\u001b[0m\u001b[0;34m\u001b[0m\u001b[0;34m\u001b[0m\u001b[0m\n\u001b[0;32m-> 1258\u001b[0;31m                 \u001b[0mself\u001b[0m\u001b[0;34m.\u001b[0m\u001b[0m_RealGetContents\u001b[0m\u001b[0;34m(\u001b[0m\u001b[0;34m)\u001b[0m\u001b[0;34m\u001b[0m\u001b[0;34m\u001b[0m\u001b[0m\n\u001b[0m\u001b[1;32m   1259\u001b[0m             \u001b[0;32melif\u001b[0m \u001b[0mmode\u001b[0m \u001b[0;32min\u001b[0m \u001b[0;34m(\u001b[0m\u001b[0;34m'w'\u001b[0m\u001b[0;34m,\u001b[0m \u001b[0;34m'x'\u001b[0m\u001b[0;34m)\u001b[0m\u001b[0;34m:\u001b[0m\u001b[0;34m\u001b[0m\u001b[0;34m\u001b[0m\u001b[0m\n",
            "\u001b[0;32m/usr/lib/python3.7/zipfile.py\u001b[0m in \u001b[0;36m_RealGetContents\u001b[0;34m(self)\u001b[0m\n\u001b[1;32m   1320\u001b[0m         \u001b[0;32mtry\u001b[0m\u001b[0;34m:\u001b[0m\u001b[0;34m\u001b[0m\u001b[0;34m\u001b[0m\u001b[0m\n\u001b[0;32m-> 1321\u001b[0;31m             \u001b[0mendrec\u001b[0m \u001b[0;34m=\u001b[0m \u001b[0m_EndRecData\u001b[0m\u001b[0;34m(\u001b[0m\u001b[0mfp\u001b[0m\u001b[0;34m)\u001b[0m\u001b[0;34m\u001b[0m\u001b[0;34m\u001b[0m\u001b[0m\n\u001b[0m\u001b[1;32m   1322\u001b[0m         \u001b[0;32mexcept\u001b[0m \u001b[0mOSError\u001b[0m\u001b[0;34m:\u001b[0m\u001b[0;34m\u001b[0m\u001b[0;34m\u001b[0m\u001b[0m\n",
            "\u001b[0;32m/usr/lib/python3.7/zipfile.py\u001b[0m in \u001b[0;36m_EndRecData\u001b[0;34m(fpin)\u001b[0m\n\u001b[1;32m    258\u001b[0m     \u001b[0;31m# Determine file size\u001b[0m\u001b[0;34m\u001b[0m\u001b[0;34m\u001b[0m\u001b[0;34m\u001b[0m\u001b[0m\n\u001b[0;32m--> 259\u001b[0;31m     \u001b[0mfpin\u001b[0m\u001b[0;34m.\u001b[0m\u001b[0mseek\u001b[0m\u001b[0;34m(\u001b[0m\u001b[0;36m0\u001b[0m\u001b[0;34m,\u001b[0m \u001b[0;36m2\u001b[0m\u001b[0;34m)\u001b[0m\u001b[0;34m\u001b[0m\u001b[0;34m\u001b[0m\u001b[0m\n\u001b[0m\u001b[1;32m    260\u001b[0m     \u001b[0mfilesize\u001b[0m \u001b[0;34m=\u001b[0m \u001b[0mfpin\u001b[0m\u001b[0;34m.\u001b[0m\u001b[0mtell\u001b[0m\u001b[0;34m(\u001b[0m\u001b[0;34m)\u001b[0m\u001b[0;34m\u001b[0m\u001b[0;34m\u001b[0m\u001b[0m\n",
            "\u001b[0;32m/usr/local/lib/python3.7/dist-packages/tensorflow/python/util/deprecation.py\u001b[0m in \u001b[0;36mnew_func\u001b[0;34m(*args, **kwargs)\u001b[0m\n\u001b[1;32m    537\u001b[0m                 instructions)\n\u001b[0;32m--> 538\u001b[0;31m       \u001b[0;32mreturn\u001b[0m \u001b[0mfunc\u001b[0m\u001b[0;34m(\u001b[0m\u001b[0;34m*\u001b[0m\u001b[0margs\u001b[0m\u001b[0;34m,\u001b[0m \u001b[0;34m**\u001b[0m\u001b[0mkwargs\u001b[0m\u001b[0;34m)\u001b[0m\u001b[0;34m\u001b[0m\u001b[0;34m\u001b[0m\u001b[0m\n\u001b[0m\u001b[1;32m    539\u001b[0m \u001b[0;34m\u001b[0m\u001b[0m\n",
            "\u001b[0;32m/usr/local/lib/python3.7/dist-packages/tensorflow/python/lib/io/file_io.py\u001b[0m in \u001b[0;36mseek\u001b[0;34m(self, offset, whence, position)\u001b[0m\n\u001b[1;32m    139\u001b[0m     \u001b[0;31m# pylint: enable=g-doc-args\u001b[0m\u001b[0;34m\u001b[0m\u001b[0;34m\u001b[0m\u001b[0;34m\u001b[0m\u001b[0m\n\u001b[0;32m--> 140\u001b[0;31m     \u001b[0mself\u001b[0m\u001b[0;34m.\u001b[0m\u001b[0m_preread_check\u001b[0m\u001b[0;34m(\u001b[0m\u001b[0;34m)\u001b[0m\u001b[0;34m\u001b[0m\u001b[0;34m\u001b[0m\u001b[0m\n\u001b[0m\u001b[1;32m    141\u001b[0m     \u001b[0;31m# We needed to make offset a keyword argument for backwards-compatibility.\u001b[0m\u001b[0;34m\u001b[0m\u001b[0;34m\u001b[0m\u001b[0;34m\u001b[0m\u001b[0m\n",
            "\u001b[0;32m/usr/local/lib/python3.7/dist-packages/tensorflow/python/lib/io/file_io.py\u001b[0m in \u001b[0;36m_preread_check\u001b[0;34m(self)\u001b[0m\n\u001b[1;32m     79\u001b[0m       self._read_buf = _pywrap_file_io.BufferedInputStream(\n\u001b[0;32m---> 80\u001b[0;31m           compat.path_to_str(self.__name), 1024 * 512)\n\u001b[0m\u001b[1;32m     81\u001b[0m \u001b[0;34m\u001b[0m\u001b[0m\n",
            "\u001b[0;31mNotFoundError\u001b[0m: /gdrive/MyDrive/datasets/tensorflow_datasets//jsut_ver1.1.zip; No such file or directory",
            "\nDuring handling of the above exception, another exception occurred:\n",
            "\u001b[0;31mExtractError\u001b[0m                              Traceback (most recent call last)",
            "\u001b[0;32m<ipython-input-41-59013c0a9deb>\u001b[0m in \u001b[0;36m<module>\u001b[0;34m()\u001b[0m\n\u001b[1;32m      3\u001b[0m \u001b[0;31m#builder = tfds.builder('jsut', data_dir='/gdrive/MyDrive/datasets/')\u001b[0m\u001b[0;34m\u001b[0m\u001b[0;34m\u001b[0m\u001b[0;34m\u001b[0m\u001b[0m\n\u001b[1;32m      4\u001b[0m \u001b[0mbuilder\u001b[0m \u001b[0;34m=\u001b[0m \u001b[0mtfds\u001b[0m\u001b[0;34m.\u001b[0m\u001b[0mbuilder\u001b[0m\u001b[0;34m(\u001b[0m\u001b[0;34m'jsut'\u001b[0m\u001b[0;34m)\u001b[0m\u001b[0;34m\u001b[0m\u001b[0;34m\u001b[0m\u001b[0m\n\u001b[0;32m----> 5\u001b[0;31m \u001b[0mbuilder\u001b[0m\u001b[0;34m.\u001b[0m\u001b[0mdownload_and_prepare\u001b[0m\u001b[0;34m(\u001b[0m\u001b[0mdownload_config\u001b[0m\u001b[0;34m=\u001b[0m\u001b[0mdownload_config\u001b[0m\u001b[0;34m)\u001b[0m\u001b[0;34m\u001b[0m\u001b[0;34m\u001b[0m\u001b[0m\n\u001b[0m\u001b[1;32m      6\u001b[0m \u001b[0mds\u001b[0m \u001b[0;34m=\u001b[0m \u001b[0mbuilder\u001b[0m\u001b[0;34m.\u001b[0m\u001b[0mas_dataset\u001b[0m\u001b[0;34m(\u001b[0m\u001b[0msplit\u001b[0m\u001b[0;34m=\u001b[0m\u001b[0;34m'train'\u001b[0m\u001b[0;34m,\u001b[0m \u001b[0mshuffle_files\u001b[0m\u001b[0;34m=\u001b[0m\u001b[0;32mTrue\u001b[0m\u001b[0;34m)\u001b[0m\u001b[0;34m\u001b[0m\u001b[0;34m\u001b[0m\u001b[0m\n\u001b[1;32m      7\u001b[0m \u001b[0mprint\u001b[0m\u001b[0;34m(\u001b[0m\u001b[0mds\u001b[0m\u001b[0;34m)\u001b[0m\u001b[0;34m\u001b[0m\u001b[0;34m\u001b[0m\u001b[0m\n",
            "\u001b[0;32m/usr/local/lib/python3.7/dist-packages/tensorflow_datasets/core/dataset_builder.py\u001b[0m in \u001b[0;36mdownload_and_prepare\u001b[0;34m(self, download_dir, download_config)\u001b[0m\n\u001b[1;32m    385\u001b[0m           self._download_and_prepare(\n\u001b[1;32m    386\u001b[0m               \u001b[0mdl_manager\u001b[0m\u001b[0;34m=\u001b[0m\u001b[0mdl_manager\u001b[0m\u001b[0;34m,\u001b[0m\u001b[0;34m\u001b[0m\u001b[0;34m\u001b[0m\u001b[0m\n\u001b[0;32m--> 387\u001b[0;31m               download_config=download_config)\n\u001b[0m\u001b[1;32m    388\u001b[0m \u001b[0;34m\u001b[0m\u001b[0m\n\u001b[1;32m    389\u001b[0m           \u001b[0;31m# NOTE: If modifying the lines below to put additional information in\u001b[0m\u001b[0;34m\u001b[0m\u001b[0;34m\u001b[0m\u001b[0;34m\u001b[0m\u001b[0m\n",
            "\u001b[0;32m/usr/local/lib/python3.7/dist-packages/tensorflow_datasets/core/dataset_builder.py\u001b[0m in \u001b[0;36m_download_and_prepare\u001b[0;34m(self, dl_manager, download_config)\u001b[0m\n\u001b[1;32m   1022\u001b[0m     super(GeneratorBasedBuilder, self)._download_and_prepare(\n\u001b[1;32m   1023\u001b[0m         \u001b[0mdl_manager\u001b[0m\u001b[0;34m=\u001b[0m\u001b[0mdl_manager\u001b[0m\u001b[0;34m,\u001b[0m\u001b[0;34m\u001b[0m\u001b[0;34m\u001b[0m\u001b[0m\n\u001b[0;32m-> 1024\u001b[0;31m         \u001b[0mmax_examples_per_split\u001b[0m\u001b[0;34m=\u001b[0m\u001b[0mdownload_config\u001b[0m\u001b[0;34m.\u001b[0m\u001b[0mmax_examples_per_split\u001b[0m\u001b[0;34m,\u001b[0m\u001b[0;34m\u001b[0m\u001b[0;34m\u001b[0m\u001b[0m\n\u001b[0m\u001b[1;32m   1025\u001b[0m     )\n\u001b[1;32m   1026\u001b[0m \u001b[0;34m\u001b[0m\u001b[0m\n",
            "\u001b[0;32m/usr/local/lib/python3.7/dist-packages/tensorflow_datasets/core/dataset_builder.py\u001b[0m in \u001b[0;36m_download_and_prepare\u001b[0;34m(self, dl_manager, **prepare_split_kwargs)\u001b[0m\n\u001b[1;32m    960\u001b[0m         prepare_split_kwargs)\n\u001b[1;32m    961\u001b[0m     for split_generator in self._split_generators(\n\u001b[0;32m--> 962\u001b[0;31m         dl_manager, **split_generators_kwargs):\n\u001b[0m\u001b[1;32m    963\u001b[0m       \u001b[0;32mif\u001b[0m \u001b[0mstr\u001b[0m\u001b[0;34m(\u001b[0m\u001b[0msplit_generator\u001b[0m\u001b[0;34m.\u001b[0m\u001b[0msplit_info\u001b[0m\u001b[0;34m.\u001b[0m\u001b[0mname\u001b[0m\u001b[0;34m)\u001b[0m\u001b[0;34m.\u001b[0m\u001b[0mlower\u001b[0m\u001b[0;34m(\u001b[0m\u001b[0;34m)\u001b[0m \u001b[0;34m==\u001b[0m \u001b[0;34m\"all\"\u001b[0m\u001b[0;34m:\u001b[0m\u001b[0;34m\u001b[0m\u001b[0;34m\u001b[0m\u001b[0m\n\u001b[1;32m    964\u001b[0m         raise ValueError(\n",
            "\u001b[0;32m/content/public-datasets/jsut/jsut.py\u001b[0m in \u001b[0;36m_split_generators\u001b[0;34m(self, dl_manager)\u001b[0m\n\u001b[1;32m     77\u001b[0m \u001b[0;34m\u001b[0m\u001b[0m\n\u001b[1;32m     78\u001b[0m     \u001b[0;31m# Extract the manually downloaded `data.zip`\u001b[0m\u001b[0;34m\u001b[0m\u001b[0;34m\u001b[0m\u001b[0;34m\u001b[0m\u001b[0m\n\u001b[0;32m---> 79\u001b[0;31m     \u001b[0mextracted_path\u001b[0m \u001b[0;34m=\u001b[0m \u001b[0mdl_manager\u001b[0m\u001b[0;34m.\u001b[0m\u001b[0mextract\u001b[0m\u001b[0;34m(\u001b[0m\u001b[0marchive_path\u001b[0m\u001b[0;34m)\u001b[0m\u001b[0;34m\u001b[0m\u001b[0;34m\u001b[0m\u001b[0m\n\u001b[0m\u001b[1;32m     80\u001b[0m     return [\n\u001b[1;32m     81\u001b[0m         tfds.core.SplitGenerator(\n",
            "\u001b[0;32m/usr/local/lib/python3.7/dist-packages/tensorflow_datasets/core/download/download_manager.py\u001b[0m in \u001b[0;36mextract\u001b[0;34m(self, path_or_paths)\u001b[0m\n\u001b[1;32m    577\u001b[0m     \u001b[0;31m# Add progress bar to follow the download state\u001b[0m\u001b[0;34m\u001b[0m\u001b[0;34m\u001b[0m\u001b[0;34m\u001b[0m\u001b[0m\n\u001b[1;32m    578\u001b[0m     \u001b[0;32mwith\u001b[0m \u001b[0mself\u001b[0m\u001b[0;34m.\u001b[0m\u001b[0m_extractor\u001b[0m\u001b[0;34m.\u001b[0m\u001b[0mtqdm\u001b[0m\u001b[0;34m(\u001b[0m\u001b[0;34m)\u001b[0m\u001b[0;34m:\u001b[0m\u001b[0;34m\u001b[0m\u001b[0;34m\u001b[0m\u001b[0m\n\u001b[0;32m--> 579\u001b[0;31m       \u001b[0;32mreturn\u001b[0m \u001b[0m_map_promise\u001b[0m\u001b[0;34m(\u001b[0m\u001b[0mself\u001b[0m\u001b[0;34m.\u001b[0m\u001b[0m_extract\u001b[0m\u001b[0;34m,\u001b[0m \u001b[0mpath_or_paths\u001b[0m\u001b[0;34m)\u001b[0m\u001b[0;34m\u001b[0m\u001b[0;34m\u001b[0m\u001b[0m\n\u001b[0m\u001b[1;32m    580\u001b[0m \u001b[0;34m\u001b[0m\u001b[0m\n\u001b[1;32m    581\u001b[0m   \u001b[0;32mdef\u001b[0m \u001b[0mdownload_and_extract\u001b[0m\u001b[0;34m(\u001b[0m\u001b[0mself\u001b[0m\u001b[0;34m,\u001b[0m \u001b[0murl_or_urls\u001b[0m\u001b[0;34m)\u001b[0m\u001b[0;34m:\u001b[0m\u001b[0;34m\u001b[0m\u001b[0;34m\u001b[0m\u001b[0m\n",
            "\u001b[0;32m/usr/local/lib/python3.7/dist-packages/tensorflow_datasets/core/download/download_manager.py\u001b[0m in \u001b[0;36m_map_promise\u001b[0;34m(map_fn, all_inputs)\u001b[0m\n\u001b[1;32m    634\u001b[0m   \u001b[0;34m\"\"\"Map the function into each element and resolve the promise.\"\"\"\u001b[0m\u001b[0;34m\u001b[0m\u001b[0;34m\u001b[0m\u001b[0m\n\u001b[1;32m    635\u001b[0m   \u001b[0mall_promises\u001b[0m \u001b[0;34m=\u001b[0m \u001b[0mtf\u001b[0m\u001b[0;34m.\u001b[0m\u001b[0mnest\u001b[0m\u001b[0;34m.\u001b[0m\u001b[0mmap_structure\u001b[0m\u001b[0;34m(\u001b[0m\u001b[0mmap_fn\u001b[0m\u001b[0;34m,\u001b[0m \u001b[0mall_inputs\u001b[0m\u001b[0;34m)\u001b[0m  \u001b[0;31m# Apply the function\u001b[0m\u001b[0;34m\u001b[0m\u001b[0;34m\u001b[0m\u001b[0m\n\u001b[0;32m--> 636\u001b[0;31m   \u001b[0mres\u001b[0m \u001b[0;34m=\u001b[0m \u001b[0mtf\u001b[0m\u001b[0;34m.\u001b[0m\u001b[0mnest\u001b[0m\u001b[0;34m.\u001b[0m\u001b[0mmap_structure\u001b[0m\u001b[0;34m(\u001b[0m\u001b[0;32mlambda\u001b[0m \u001b[0mp\u001b[0m\u001b[0;34m:\u001b[0m \u001b[0mp\u001b[0m\u001b[0;34m.\u001b[0m\u001b[0mget\u001b[0m\u001b[0;34m(\u001b[0m\u001b[0;34m)\u001b[0m\u001b[0;34m,\u001b[0m \u001b[0mall_promises\u001b[0m\u001b[0;34m)\u001b[0m  \u001b[0;31m# Wait promises\u001b[0m\u001b[0;34m\u001b[0m\u001b[0;34m\u001b[0m\u001b[0m\n\u001b[0m\u001b[1;32m    637\u001b[0m   \u001b[0;32mreturn\u001b[0m \u001b[0mres\u001b[0m\u001b[0;34m\u001b[0m\u001b[0;34m\u001b[0m\u001b[0m\n",
            "\u001b[0;32m/usr/local/lib/python3.7/dist-packages/tensorflow/python/util/nest.py\u001b[0m in \u001b[0;36mmap_structure\u001b[0;34m(func, *structure, **kwargs)\u001b[0m\n\u001b[1;32m    657\u001b[0m \u001b[0;34m\u001b[0m\u001b[0m\n\u001b[1;32m    658\u001b[0m   return pack_sequence_as(\n\u001b[0;32m--> 659\u001b[0;31m       \u001b[0mstructure\u001b[0m\u001b[0;34m[\u001b[0m\u001b[0;36m0\u001b[0m\u001b[0;34m]\u001b[0m\u001b[0;34m,\u001b[0m \u001b[0;34m[\u001b[0m\u001b[0mfunc\u001b[0m\u001b[0;34m(\u001b[0m\u001b[0;34m*\u001b[0m\u001b[0mx\u001b[0m\u001b[0;34m)\u001b[0m \u001b[0;32mfor\u001b[0m \u001b[0mx\u001b[0m \u001b[0;32min\u001b[0m \u001b[0mentries\u001b[0m\u001b[0;34m]\u001b[0m\u001b[0;34m,\u001b[0m\u001b[0;34m\u001b[0m\u001b[0;34m\u001b[0m\u001b[0m\n\u001b[0m\u001b[1;32m    660\u001b[0m       expand_composites=expand_composites)\n\u001b[1;32m    661\u001b[0m \u001b[0;34m\u001b[0m\u001b[0m\n",
            "\u001b[0;32m/usr/local/lib/python3.7/dist-packages/tensorflow/python/util/nest.py\u001b[0m in \u001b[0;36m<listcomp>\u001b[0;34m(.0)\u001b[0m\n\u001b[1;32m    657\u001b[0m \u001b[0;34m\u001b[0m\u001b[0m\n\u001b[1;32m    658\u001b[0m   return pack_sequence_as(\n\u001b[0;32m--> 659\u001b[0;31m       \u001b[0mstructure\u001b[0m\u001b[0;34m[\u001b[0m\u001b[0;36m0\u001b[0m\u001b[0;34m]\u001b[0m\u001b[0;34m,\u001b[0m \u001b[0;34m[\u001b[0m\u001b[0mfunc\u001b[0m\u001b[0;34m(\u001b[0m\u001b[0;34m*\u001b[0m\u001b[0mx\u001b[0m\u001b[0;34m)\u001b[0m \u001b[0;32mfor\u001b[0m \u001b[0mx\u001b[0m \u001b[0;32min\u001b[0m \u001b[0mentries\u001b[0m\u001b[0;34m]\u001b[0m\u001b[0;34m,\u001b[0m\u001b[0;34m\u001b[0m\u001b[0;34m\u001b[0m\u001b[0m\n\u001b[0m\u001b[1;32m    660\u001b[0m       expand_composites=expand_composites)\n\u001b[1;32m    661\u001b[0m \u001b[0;34m\u001b[0m\u001b[0m\n",
            "\u001b[0;32m/usr/local/lib/python3.7/dist-packages/tensorflow_datasets/core/download/download_manager.py\u001b[0m in \u001b[0;36m<lambda>\u001b[0;34m(p)\u001b[0m\n\u001b[1;32m    634\u001b[0m   \u001b[0;34m\"\"\"Map the function into each element and resolve the promise.\"\"\"\u001b[0m\u001b[0;34m\u001b[0m\u001b[0;34m\u001b[0m\u001b[0m\n\u001b[1;32m    635\u001b[0m   \u001b[0mall_promises\u001b[0m \u001b[0;34m=\u001b[0m \u001b[0mtf\u001b[0m\u001b[0;34m.\u001b[0m\u001b[0mnest\u001b[0m\u001b[0;34m.\u001b[0m\u001b[0mmap_structure\u001b[0m\u001b[0;34m(\u001b[0m\u001b[0mmap_fn\u001b[0m\u001b[0;34m,\u001b[0m \u001b[0mall_inputs\u001b[0m\u001b[0;34m)\u001b[0m  \u001b[0;31m# Apply the function\u001b[0m\u001b[0;34m\u001b[0m\u001b[0;34m\u001b[0m\u001b[0m\n\u001b[0;32m--> 636\u001b[0;31m   \u001b[0mres\u001b[0m \u001b[0;34m=\u001b[0m \u001b[0mtf\u001b[0m\u001b[0;34m.\u001b[0m\u001b[0mnest\u001b[0m\u001b[0;34m.\u001b[0m\u001b[0mmap_structure\u001b[0m\u001b[0;34m(\u001b[0m\u001b[0;32mlambda\u001b[0m \u001b[0mp\u001b[0m\u001b[0;34m:\u001b[0m \u001b[0mp\u001b[0m\u001b[0;34m.\u001b[0m\u001b[0mget\u001b[0m\u001b[0;34m(\u001b[0m\u001b[0;34m)\u001b[0m\u001b[0;34m,\u001b[0m \u001b[0mall_promises\u001b[0m\u001b[0;34m)\u001b[0m  \u001b[0;31m# Wait promises\u001b[0m\u001b[0;34m\u001b[0m\u001b[0;34m\u001b[0m\u001b[0m\n\u001b[0m\u001b[1;32m    637\u001b[0m   \u001b[0;32mreturn\u001b[0m \u001b[0mres\u001b[0m\u001b[0;34m\u001b[0m\u001b[0;34m\u001b[0m\u001b[0m\n",
            "\u001b[0;32m/usr/local/lib/python3.7/dist-packages/promise/promise.py\u001b[0m in \u001b[0;36mget\u001b[0;34m(self, timeout)\u001b[0m\n\u001b[1;32m    510\u001b[0m         \u001b[0mtarget\u001b[0m \u001b[0;34m=\u001b[0m \u001b[0mself\u001b[0m\u001b[0;34m.\u001b[0m\u001b[0m_target\u001b[0m\u001b[0;34m(\u001b[0m\u001b[0;34m)\u001b[0m\u001b[0;34m\u001b[0m\u001b[0;34m\u001b[0m\u001b[0m\n\u001b[1;32m    511\u001b[0m         \u001b[0mself\u001b[0m\u001b[0;34m.\u001b[0m\u001b[0m_wait\u001b[0m\u001b[0;34m(\u001b[0m\u001b[0mtimeout\u001b[0m \u001b[0;32mor\u001b[0m \u001b[0mDEFAULT_TIMEOUT\u001b[0m\u001b[0;34m)\u001b[0m\u001b[0;34m\u001b[0m\u001b[0;34m\u001b[0m\u001b[0m\n\u001b[0;32m--> 512\u001b[0;31m         \u001b[0;32mreturn\u001b[0m \u001b[0mself\u001b[0m\u001b[0;34m.\u001b[0m\u001b[0m_target_settled_value\u001b[0m\u001b[0;34m(\u001b[0m\u001b[0m_raise\u001b[0m\u001b[0;34m=\u001b[0m\u001b[0;32mTrue\u001b[0m\u001b[0;34m)\u001b[0m\u001b[0;34m\u001b[0m\u001b[0;34m\u001b[0m\u001b[0m\n\u001b[0m\u001b[1;32m    513\u001b[0m \u001b[0;34m\u001b[0m\u001b[0m\n\u001b[1;32m    514\u001b[0m     \u001b[0;32mdef\u001b[0m \u001b[0m_target_settled_value\u001b[0m\u001b[0;34m(\u001b[0m\u001b[0mself\u001b[0m\u001b[0;34m,\u001b[0m \u001b[0m_raise\u001b[0m\u001b[0;34m=\u001b[0m\u001b[0;32mFalse\u001b[0m\u001b[0;34m)\u001b[0m\u001b[0;34m:\u001b[0m\u001b[0;34m\u001b[0m\u001b[0;34m\u001b[0m\u001b[0m\n",
            "\u001b[0;32m/usr/local/lib/python3.7/dist-packages/promise/promise.py\u001b[0m in \u001b[0;36m_target_settled_value\u001b[0;34m(self, _raise)\u001b[0m\n\u001b[1;32m    514\u001b[0m     \u001b[0;32mdef\u001b[0m \u001b[0m_target_settled_value\u001b[0m\u001b[0;34m(\u001b[0m\u001b[0mself\u001b[0m\u001b[0;34m,\u001b[0m \u001b[0m_raise\u001b[0m\u001b[0;34m=\u001b[0m\u001b[0;32mFalse\u001b[0m\u001b[0;34m)\u001b[0m\u001b[0;34m:\u001b[0m\u001b[0;34m\u001b[0m\u001b[0;34m\u001b[0m\u001b[0m\n\u001b[1;32m    515\u001b[0m         \u001b[0;31m# type: (bool) -> Any\u001b[0m\u001b[0;34m\u001b[0m\u001b[0;34m\u001b[0m\u001b[0;34m\u001b[0m\u001b[0m\n\u001b[0;32m--> 516\u001b[0;31m         \u001b[0;32mreturn\u001b[0m \u001b[0mself\u001b[0m\u001b[0;34m.\u001b[0m\u001b[0m_target\u001b[0m\u001b[0;34m(\u001b[0m\u001b[0;34m)\u001b[0m\u001b[0;34m.\u001b[0m\u001b[0m_settled_value\u001b[0m\u001b[0;34m(\u001b[0m\u001b[0m_raise\u001b[0m\u001b[0;34m)\u001b[0m\u001b[0;34m\u001b[0m\u001b[0;34m\u001b[0m\u001b[0m\n\u001b[0m\u001b[1;32m    517\u001b[0m \u001b[0;34m\u001b[0m\u001b[0m\n\u001b[1;32m    518\u001b[0m     \u001b[0m_value\u001b[0m \u001b[0;34m=\u001b[0m \u001b[0m_reason\u001b[0m \u001b[0;34m=\u001b[0m \u001b[0m_target_settled_value\u001b[0m\u001b[0;34m\u001b[0m\u001b[0;34m\u001b[0m\u001b[0m\n",
            "\u001b[0;32m/usr/local/lib/python3.7/dist-packages/promise/promise.py\u001b[0m in \u001b[0;36m_settled_value\u001b[0;34m(self, _raise)\u001b[0m\n\u001b[1;32m    224\u001b[0m             \u001b[0;32mif\u001b[0m \u001b[0m_raise\u001b[0m\u001b[0;34m:\u001b[0m\u001b[0;34m\u001b[0m\u001b[0;34m\u001b[0m\u001b[0m\n\u001b[1;32m    225\u001b[0m                 \u001b[0mraise_val\u001b[0m \u001b[0;34m=\u001b[0m \u001b[0mself\u001b[0m\u001b[0;34m.\u001b[0m\u001b[0m_fulfillment_handler0\u001b[0m\u001b[0;34m\u001b[0m\u001b[0;34m\u001b[0m\u001b[0m\n\u001b[0;32m--> 226\u001b[0;31m                 \u001b[0mreraise\u001b[0m\u001b[0;34m(\u001b[0m\u001b[0mtype\u001b[0m\u001b[0;34m(\u001b[0m\u001b[0mraise_val\u001b[0m\u001b[0;34m)\u001b[0m\u001b[0;34m,\u001b[0m \u001b[0mraise_val\u001b[0m\u001b[0;34m,\u001b[0m \u001b[0mself\u001b[0m\u001b[0;34m.\u001b[0m\u001b[0m_traceback\u001b[0m\u001b[0;34m)\u001b[0m\u001b[0;34m\u001b[0m\u001b[0;34m\u001b[0m\u001b[0m\n\u001b[0m\u001b[1;32m    227\u001b[0m             \u001b[0;32mreturn\u001b[0m \u001b[0mself\u001b[0m\u001b[0;34m.\u001b[0m\u001b[0m_fulfillment_handler0\u001b[0m\u001b[0;34m\u001b[0m\u001b[0;34m\u001b[0m\u001b[0m\n\u001b[1;32m    228\u001b[0m \u001b[0;34m\u001b[0m\u001b[0m\n",
            "\u001b[0;32m/usr/local/lib/python3.7/dist-packages/six.py\u001b[0m in \u001b[0;36mreraise\u001b[0;34m(tp, value, tb)\u001b[0m\n\u001b[1;32m    701\u001b[0m             \u001b[0;32mif\u001b[0m \u001b[0mvalue\u001b[0m\u001b[0;34m.\u001b[0m\u001b[0m__traceback__\u001b[0m \u001b[0;32mis\u001b[0m \u001b[0;32mnot\u001b[0m \u001b[0mtb\u001b[0m\u001b[0;34m:\u001b[0m\u001b[0;34m\u001b[0m\u001b[0;34m\u001b[0m\u001b[0m\n\u001b[1;32m    702\u001b[0m                 \u001b[0;32mraise\u001b[0m \u001b[0mvalue\u001b[0m\u001b[0;34m.\u001b[0m\u001b[0mwith_traceback\u001b[0m\u001b[0;34m(\u001b[0m\u001b[0mtb\u001b[0m\u001b[0;34m)\u001b[0m\u001b[0;34m\u001b[0m\u001b[0;34m\u001b[0m\u001b[0m\n\u001b[0;32m--> 703\u001b[0;31m             \u001b[0;32mraise\u001b[0m \u001b[0mvalue\u001b[0m\u001b[0;34m\u001b[0m\u001b[0;34m\u001b[0m\u001b[0m\n\u001b[0m\u001b[1;32m    704\u001b[0m         \u001b[0;32mfinally\u001b[0m\u001b[0;34m:\u001b[0m\u001b[0;34m\u001b[0m\u001b[0;34m\u001b[0m\u001b[0m\n\u001b[1;32m    705\u001b[0m             \u001b[0mvalue\u001b[0m \u001b[0;34m=\u001b[0m \u001b[0;32mNone\u001b[0m\u001b[0;34m\u001b[0m\u001b[0;34m\u001b[0m\u001b[0m\n",
            "\u001b[0;32m/usr/local/lib/python3.7/dist-packages/promise/promise.py\u001b[0m in \u001b[0;36mhandle_future_result\u001b[0;34m(future)\u001b[0m\n\u001b[1;32m    842\u001b[0m         \u001b[0;31m# type: (Any) -> None\u001b[0m\u001b[0;34m\u001b[0m\u001b[0;34m\u001b[0m\u001b[0;34m\u001b[0m\u001b[0m\n\u001b[1;32m    843\u001b[0m         \u001b[0;32mtry\u001b[0m\u001b[0;34m:\u001b[0m\u001b[0;34m\u001b[0m\u001b[0;34m\u001b[0m\u001b[0m\n\u001b[0;32m--> 844\u001b[0;31m             \u001b[0mresolve\u001b[0m\u001b[0;34m(\u001b[0m\u001b[0mfuture\u001b[0m\u001b[0;34m.\u001b[0m\u001b[0mresult\u001b[0m\u001b[0;34m(\u001b[0m\u001b[0;34m)\u001b[0m\u001b[0;34m)\u001b[0m\u001b[0;34m\u001b[0m\u001b[0;34m\u001b[0m\u001b[0m\n\u001b[0m\u001b[1;32m    845\u001b[0m         \u001b[0;32mexcept\u001b[0m \u001b[0mException\u001b[0m \u001b[0;32mas\u001b[0m \u001b[0me\u001b[0m\u001b[0;34m:\u001b[0m\u001b[0;34m\u001b[0m\u001b[0;34m\u001b[0m\u001b[0m\n\u001b[1;32m    846\u001b[0m             \u001b[0mtb\u001b[0m \u001b[0;34m=\u001b[0m \u001b[0mexc_info\u001b[0m\u001b[0;34m(\u001b[0m\u001b[0;34m)\u001b[0m\u001b[0;34m[\u001b[0m\u001b[0;36m2\u001b[0m\u001b[0;34m]\u001b[0m\u001b[0;34m\u001b[0m\u001b[0;34m\u001b[0m\u001b[0m\n",
            "\u001b[0;32m/usr/lib/python3.7/concurrent/futures/_base.py\u001b[0m in \u001b[0;36mresult\u001b[0;34m(self, timeout)\u001b[0m\n\u001b[1;32m    426\u001b[0m                 \u001b[0;32mraise\u001b[0m \u001b[0mCancelledError\u001b[0m\u001b[0;34m(\u001b[0m\u001b[0;34m)\u001b[0m\u001b[0;34m\u001b[0m\u001b[0;34m\u001b[0m\u001b[0m\n\u001b[1;32m    427\u001b[0m             \u001b[0;32melif\u001b[0m \u001b[0mself\u001b[0m\u001b[0;34m.\u001b[0m\u001b[0m_state\u001b[0m \u001b[0;34m==\u001b[0m \u001b[0mFINISHED\u001b[0m\u001b[0;34m:\u001b[0m\u001b[0;34m\u001b[0m\u001b[0;34m\u001b[0m\u001b[0m\n\u001b[0;32m--> 428\u001b[0;31m                 \u001b[0;32mreturn\u001b[0m \u001b[0mself\u001b[0m\u001b[0;34m.\u001b[0m\u001b[0m__get_result\u001b[0m\u001b[0;34m(\u001b[0m\u001b[0;34m)\u001b[0m\u001b[0;34m\u001b[0m\u001b[0;34m\u001b[0m\u001b[0m\n\u001b[0m\u001b[1;32m    429\u001b[0m \u001b[0;34m\u001b[0m\u001b[0m\n\u001b[1;32m    430\u001b[0m             \u001b[0mself\u001b[0m\u001b[0;34m.\u001b[0m\u001b[0m_condition\u001b[0m\u001b[0;34m.\u001b[0m\u001b[0mwait\u001b[0m\u001b[0;34m(\u001b[0m\u001b[0mtimeout\u001b[0m\u001b[0;34m)\u001b[0m\u001b[0;34m\u001b[0m\u001b[0;34m\u001b[0m\u001b[0m\n",
            "\u001b[0;32m/usr/lib/python3.7/concurrent/futures/_base.py\u001b[0m in \u001b[0;36m__get_result\u001b[0;34m(self)\u001b[0m\n\u001b[1;32m    382\u001b[0m     \u001b[0;32mdef\u001b[0m \u001b[0m__get_result\u001b[0m\u001b[0;34m(\u001b[0m\u001b[0mself\u001b[0m\u001b[0;34m)\u001b[0m\u001b[0;34m:\u001b[0m\u001b[0;34m\u001b[0m\u001b[0;34m\u001b[0m\u001b[0m\n\u001b[1;32m    383\u001b[0m         \u001b[0;32mif\u001b[0m \u001b[0mself\u001b[0m\u001b[0;34m.\u001b[0m\u001b[0m_exception\u001b[0m\u001b[0;34m:\u001b[0m\u001b[0;34m\u001b[0m\u001b[0;34m\u001b[0m\u001b[0m\n\u001b[0;32m--> 384\u001b[0;31m             \u001b[0;32mraise\u001b[0m \u001b[0mself\u001b[0m\u001b[0;34m.\u001b[0m\u001b[0m_exception\u001b[0m\u001b[0;34m\u001b[0m\u001b[0;34m\u001b[0m\u001b[0m\n\u001b[0m\u001b[1;32m    385\u001b[0m         \u001b[0;32melse\u001b[0m\u001b[0;34m:\u001b[0m\u001b[0;34m\u001b[0m\u001b[0;34m\u001b[0m\u001b[0m\n\u001b[1;32m    386\u001b[0m             \u001b[0;32mreturn\u001b[0m \u001b[0mself\u001b[0m\u001b[0;34m.\u001b[0m\u001b[0m_result\u001b[0m\u001b[0;34m\u001b[0m\u001b[0;34m\u001b[0m\u001b[0m\n",
            "\u001b[0;32m/usr/lib/python3.7/concurrent/futures/thread.py\u001b[0m in \u001b[0;36mrun\u001b[0;34m(self)\u001b[0m\n\u001b[1;32m     55\u001b[0m \u001b[0;34m\u001b[0m\u001b[0m\n\u001b[1;32m     56\u001b[0m         \u001b[0;32mtry\u001b[0m\u001b[0;34m:\u001b[0m\u001b[0;34m\u001b[0m\u001b[0;34m\u001b[0m\u001b[0m\n\u001b[0;32m---> 57\u001b[0;31m             \u001b[0mresult\u001b[0m \u001b[0;34m=\u001b[0m \u001b[0mself\u001b[0m\u001b[0;34m.\u001b[0m\u001b[0mfn\u001b[0m\u001b[0;34m(\u001b[0m\u001b[0;34m*\u001b[0m\u001b[0mself\u001b[0m\u001b[0;34m.\u001b[0m\u001b[0margs\u001b[0m\u001b[0;34m,\u001b[0m \u001b[0;34m**\u001b[0m\u001b[0mself\u001b[0m\u001b[0;34m.\u001b[0m\u001b[0mkwargs\u001b[0m\u001b[0;34m)\u001b[0m\u001b[0;34m\u001b[0m\u001b[0;34m\u001b[0m\u001b[0m\n\u001b[0m\u001b[1;32m     58\u001b[0m         \u001b[0;32mexcept\u001b[0m \u001b[0mBaseException\u001b[0m \u001b[0;32mas\u001b[0m \u001b[0mexc\u001b[0m\u001b[0;34m:\u001b[0m\u001b[0;34m\u001b[0m\u001b[0;34m\u001b[0m\u001b[0m\n\u001b[1;32m     59\u001b[0m             \u001b[0mself\u001b[0m\u001b[0;34m.\u001b[0m\u001b[0mfuture\u001b[0m\u001b[0;34m.\u001b[0m\u001b[0mset_exception\u001b[0m\u001b[0;34m(\u001b[0m\u001b[0mexc\u001b[0m\u001b[0;34m)\u001b[0m\u001b[0;34m\u001b[0m\u001b[0;34m\u001b[0m\u001b[0m\n",
            "\u001b[0;32m/usr/local/lib/python3.7/dist-packages/tensorflow_datasets/core/download/extractor.py\u001b[0m in \u001b[0;36m_sync_extract\u001b[0;34m(self, from_path, method, to_path)\u001b[0m\n\u001b[1;32m    101\u001b[0m             \u001b[0;34m'https://docs.python.org/3/using/windows.html#removing-the-max-path-limitation'\u001b[0m\u001b[0;34m\u001b[0m\u001b[0;34m\u001b[0m\u001b[0m\n\u001b[1;32m    102\u001b[0m         )\n\u001b[0;32m--> 103\u001b[0;31m       \u001b[0;32mraise\u001b[0m \u001b[0mExtractError\u001b[0m\u001b[0;34m(\u001b[0m\u001b[0mmsg\u001b[0m\u001b[0;34m)\u001b[0m\u001b[0;34m\u001b[0m\u001b[0;34m\u001b[0m\u001b[0m\n\u001b[0m\u001b[1;32m    104\u001b[0m     \u001b[0;31m# `tf.io.gfile.Rename(overwrite=True)` doesn't work for non empty\u001b[0m\u001b[0;34m\u001b[0m\u001b[0;34m\u001b[0m\u001b[0;34m\u001b[0m\u001b[0m\n\u001b[1;32m    105\u001b[0m     \u001b[0;31m# directories, so delete destination first, if it already exists.\u001b[0m\u001b[0;34m\u001b[0m\u001b[0;34m\u001b[0m\u001b[0;34m\u001b[0m\u001b[0m\n",
            "\u001b[0;31mExtractError\u001b[0m: Error while extracting /gdrive/MyDrive/datasets/tensorflow_datasets//jsut_ver1.1.zip to /root/tensorflow_datasets/downloads/extracted/ZIP.jsut_ver1.1.zip (file: None) : /gdrive/MyDrive/datasets/tensorflow_datasets//jsut_ver1.1.zip; No such file or directory"
          ]
        }
      ]
    },
    {
      "cell_type": "code",
      "metadata": {
        "id": "xGsxs5Qrf25D",
        "colab": {
          "base_uri": "https://localhost:8080/"
        },
        "outputId": "1e5efb6a-5f35-4666-a94f-2a392c770510"
      },
      "source": [
        "%cd public-datasets/"
      ],
      "execution_count": null,
      "outputs": [
        {
          "output_type": "stream",
          "text": [
            "/content/public-datasets\n"
          ],
          "name": "stdout"
        }
      ]
    },
    {
      "cell_type": "code",
      "metadata": {
        "id": "i4MO1ovctm6k",
        "colab": {
          "base_uri": "https://localhost:8080/",
          "height": 895
        },
        "outputId": "cb8f4da6-3bbc-4fa5-c7f1-a98458181531"
      },
      "source": [
        "%cd /content"
      ],
      "execution_count": null,
      "outputs": [
        {
          "output_type": "stream",
          "text": [
            "ERROR:root:Internal Python error in the inspect module.\n",
            "Below is the traceback from this internal error.\n",
            "\n"
          ],
          "name": "stderr"
        },
        {
          "output_type": "stream",
          "text": [
            "Traceback (most recent call last):\n",
            "  File \"/usr/local/lib/python3.7/dist-packages/IPython/core/interactiveshell.py\", line 2882, in run_code\n",
            "    exec(code_obj, self.user_global_ns, self.user_ns)\n",
            "  File \"<ipython-input-18-84160950ea11>\", line 1, in <module>\n",
            "    get_ipython().magic('cd /content')\n",
            "  File \"/usr/local/lib/python3.7/dist-packages/IPython/core/interactiveshell.py\", line 2160, in magic\n",
            "    return self.run_line_magic(magic_name, magic_arg_s)\n",
            "  File \"/usr/local/lib/python3.7/dist-packages/IPython/core/interactiveshell.py\", line 2081, in run_line_magic\n",
            "    result = fn(*args,**kwargs)\n",
            "  File \"<decorator-gen-84>\", line 2, in cd\n",
            "  File \"/usr/local/lib/python3.7/dist-packages/IPython/core/magic.py\", line 188, in <lambda>\n",
            "    call = lambda f, *a, **k: f(*a, **k)\n",
            "  File \"/usr/local/lib/python3.7/dist-packages/IPython/core/magics/osm.py\", line 288, in cd\n",
            "    oldcwd = py3compat.getcwd()\n",
            "FileNotFoundError: [Errno 2] No such file or directory\n",
            "\n",
            "During handling of the above exception, another exception occurred:\n",
            "\n",
            "Traceback (most recent call last):\n",
            "  File \"/usr/local/lib/python3.7/dist-packages/IPython/core/interactiveshell.py\", line 1823, in showtraceback\n",
            "    stb = value._render_traceback_()\n",
            "AttributeError: 'FileNotFoundError' object has no attribute '_render_traceback_'\n",
            "\n",
            "During handling of the above exception, another exception occurred:\n",
            "\n",
            "Traceback (most recent call last):\n",
            "  File \"/usr/local/lib/python3.7/dist-packages/IPython/core/ultratb.py\", line 1132, in get_records\n",
            "    return _fixed_getinnerframes(etb, number_of_lines_of_context, tb_offset)\n",
            "  File \"/usr/local/lib/python3.7/dist-packages/IPython/core/ultratb.py\", line 313, in wrapped\n",
            "    return f(*args, **kwargs)\n",
            "  File \"/usr/local/lib/python3.7/dist-packages/IPython/core/ultratb.py\", line 358, in _fixed_getinnerframes\n",
            "    records = fix_frame_records_filenames(inspect.getinnerframes(etb, context))\n",
            "  File \"/usr/lib/python3.7/inspect.py\", line 1502, in getinnerframes\n",
            "    frameinfo = (tb.tb_frame,) + getframeinfo(tb, context)\n",
            "  File \"/usr/lib/python3.7/inspect.py\", line 1460, in getframeinfo\n",
            "    filename = getsourcefile(frame) or getfile(frame)\n",
            "  File \"/usr/lib/python3.7/inspect.py\", line 696, in getsourcefile\n",
            "    if getattr(getmodule(object, filename), '__loader__', None) is not None:\n",
            "  File \"/usr/lib/python3.7/inspect.py\", line 725, in getmodule\n",
            "    file = getabsfile(object, _filename)\n",
            "  File \"/usr/lib/python3.7/inspect.py\", line 709, in getabsfile\n",
            "    return os.path.normcase(os.path.abspath(_filename))\n",
            "  File \"/usr/lib/python3.7/posixpath.py\", line 383, in abspath\n",
            "    cwd = os.getcwd()\n",
            "FileNotFoundError: [Errno 2] No such file or directory\n"
          ],
          "name": "stdout"
        },
        {
          "output_type": "error",
          "ename": "FileNotFoundError",
          "evalue": "ignored",
          "traceback": [
            "\u001b[0;31m---------------------------------------------------------------------------\u001b[0m"
          ]
        }
      ]
    },
    {
      "cell_type": "markdown",
      "metadata": {
        "id": "vtBGIpQzmkte"
      },
      "source": [
        "## Common Voice Dataset"
      ]
    },
    {
      "cell_type": "code",
      "metadata": {
        "id": "D8l3greXIp7N",
        "colab": {
          "base_uri": "https://localhost:8080/"
        },
        "outputId": "32de4127-e914-411b-f4bf-17f465cafae5"
      },
      "source": [
        "%cd public-datasets/"
      ],
      "execution_count": null,
      "outputs": [
        {
          "output_type": "stream",
          "text": [
            "/content/public-datasets\n"
          ],
          "name": "stdout"
        }
      ]
    },
    {
      "cell_type": "code",
      "metadata": {
        "id": "WAgwmnVkJAC7"
      },
      "source": [
        "import tensorflow_datasets as tfds"
      ],
      "execution_count": null,
      "outputs": []
    },
    {
      "cell_type": "code",
      "metadata": {
        "id": "kRGrYvrrBiH2",
        "colab": {
          "base_uri": "https://localhost:8080/"
        },
        "outputId": "778dd678-c155-455a-bcba-8e9093f17cad"
      },
      "source": [
        "import common_voice_v6"
      ],
      "execution_count": null,
      "outputs": [
        {
          "output_type": "execute_result",
          "data": {
            "text/plain": [
              "<module 'common_voice_v6' from '/content/public-datasets/common_voice_v6/__init__.py'>"
            ]
          },
          "metadata": {
            "tags": []
          },
          "execution_count": 3
        }
      ]
    },
    {
      "cell_type": "code",
      "metadata": {
        "id": "xwsQpS0pxSe-",
        "colab": {
          "base_uri": "https://localhost:8080/",
          "height": 256,
          "referenced_widgets": [
            "a33948be72ae42548985f16b562133b5",
            "d3b09051f32d4322be68c6d2fe2c2804",
            "a4f56b6f1bf94d1eb351b838012f3b14",
            "69e04eda37634c9a8bf221d3d5bb324e",
            "775b88e3c70546c6a96f5f26a6bae47a",
            "ff4cea735d5a4b3e8c7ac61c034bcfd6",
            "9a28bb681b6e4b679cf5a5d90eec913b",
            "37a0b1e232694f55a3dc83bc578a5468",
            "18437b6eb7f94083af762d9b8c6ec0b3",
            "1114d90568144ac7936b63ef7abc8c5f",
            "2bdb470a5a744b2191bd16de74239cd3",
            "17ec77c687aa4ba5bbf2b1f67d6e2bea",
            "1b2e09c279f442a5941edd6eb4cea8af",
            "86120cdb59e54fce9fea8d64c6c8403c",
            "acbc3cdadb8149c68f330dddb75995ce",
            "1bb857b63b634aeba77e24626800b9a9",
            "2ef11a4bcd30417aade7806da06872f0",
            "cce8a1a1f19343f893f2c0cabc25df14",
            "9f9c0ff8f7604591bcfb52537a8a26e3",
            "32756f7ac0474cbcbeca7385c4eebcc4",
            "eb48f2ffe6644f0ab0086fac2c742390",
            "f2d5f64a1ccd4ada8b0c8cc8f6dfa7ea",
            "6fd67dbb2b0d4030b909a0111fb70b83",
            "99ab8c0bf6ce41548b4bacc8e05a7175",
            "adce8a57f4844771994ca979ad4ca417",
            "182e5d0a663b46e1b98b02e2da95908d",
            "4f6fa9fac28d4729bb94ea9219f8c291",
            "434dbd3ccb3f4a00b37507db8104b334",
            "62764a660e584e05a5569278fd062e7c",
            "3bcfa00b75f24119bafd44f83d939070",
            "9a1bf66651314eceb4e3d8a8d60cb252",
            "3f74787ff9a748a99b7de4fc4a8042d4",
            "dbce540492d2492e8ff168bcedf2371a",
            "c2172db9c3bf48a9b1a9efc2b9d8a620",
            "cc0d2cc0384e40629cb17b3b98f8c6c6",
            "87135adbaa7c4c3a8a7218574d3f789e",
            "e0db3ea0e07746f79e5488f797bc540d",
            "67bc70c7b5e840579c06f671e4b6efac",
            "8f8e8c240874428d9a11cb246ed7f761",
            "a06c91ff5d484e9fb7fcc569fd3df138",
            "c07143f03e474ea88b1498cf78de4f69",
            "1c667dba2b2f44fdaeb08409de8f203f",
            "e4c8f711b4774a368f62edc9135c03cd",
            "ec2b4fd3503a4ef0996460903b33ff0c",
            "fea96f1702334e12af8ff8ffc2e3ac3d",
            "248ab45779714b28bdfe7f049f261e8c",
            "bb84a9555c6e4df8a50bdee536fe16ac",
            "d0b051edc9194f58b4bca02859737de6",
            "b749a526e8a44dcea3a52f729eb171c8",
            "7a1dac0715fc464aa4e88ad62f2c70eb",
            "65a8d9ef055646dca06e71d2677bb74c",
            "643e80acad284c37a34bd3a332944767",
            "c82ce030ffa445dda55b2ac9acae2fdb",
            "d031cf86185342168817fd9bb1e704dd",
            "8d38c77752fc4162a78223eb1b50b2db",
            "c80046ef70cf4ce0b1a10957258c1c54",
            "75771f1834594d1198ca93eaeea7c752",
            "dddfada486604743a365ac0d82ead118",
            "91b90f070ac048f7a6cc110de34a7b6e",
            "1696d89e201a4610b9c6f82ee7dad27f",
            "927df12d3f7449b0bfbd15163b2bb9bc",
            "215d474c74864e48a87d70bfd4920958",
            "341963c85fa045cda718e53789945922",
            "3eb96c0f47f8463a8b01b354f7b51418"
          ]
        },
        "outputId": "729ad395-9d25-43ba-8775-224f814478c8"
      },
      "source": [
        "#download_config = tfds.download.DownloadConfig(manual_dir='/gdrive/MyDrive/datasets/public_datasets/downloads/manual')\n",
        "download_config = tfds.download.DownloadConfig(manual_dir='/gdrive/MyDrive/datasets/public_datasets/downloads/manual/commonvoice')\n",
        "\n",
        "#ds = tfds.load(\"common_voice_v6/ja\", split='train', download_and_prepare_kwargs={\"download_config\": download_config})\n",
        "#ds = tfds.load(\"jsut\", download_and_prepare_kwargs={\"download_config\": download_config})\n",
        "\n",
        "#download_config = tfds.download.DownloadConfig(manual_dir='/gdrive/MyDrive/datasets/public_datasets/downloads/manual')\n",
        "\n",
        "ds = tfds.load(\"common_voice_v6/ja\", data_dir='/gdrive/MyDrive/datasets/public_datasets', download_and_prepare_kwargs={\"download_config\": download_config})"
      ],
      "execution_count": null,
      "outputs": [
        {
          "output_type": "stream",
          "text": [
            "\u001b[1mDownloading and preparing dataset Unknown size (download: Unknown size, generated: Unknown size, total: Unknown size) to /gdrive/MyDrive/datasets/public_datasets/common_voice_v6/ja/1.0.0...\u001b[0m\n",
            "The manual directory is:  /gdrive/MyDrive/datasets/public_datasets/downloads/manual/commonvoice\n"
          ],
          "name": "stdout"
        },
        {
          "output_type": "display_data",
          "data": {
            "application/vnd.jupyter.widget-view+json": {
              "model_id": "a33948be72ae42548985f16b562133b5",
              "version_minor": 0,
              "version_major": 2
            },
            "text/plain": [
              "HBox(children=(FloatProgress(value=1.0, bar_style='info', description='Extraction completed...', max=1.0, styl…"
            ]
          },
          "metadata": {
            "tags": []
          }
        },
        {
          "output_type": "stream",
          "text": [
            "\n",
            "\n"
          ],
          "name": "stdout"
        },
        {
          "output_type": "display_data",
          "data": {
            "application/vnd.jupyter.widget-view+json": {
              "model_id": "18437b6eb7f94083af762d9b8c6ec0b3",
              "version_minor": 0,
              "version_major": 2
            },
            "text/plain": [
              "HBox(children=(FloatProgress(value=0.0, description='Generating splits...', max=3.0, style=ProgressStyle(descr…"
            ]
          },
          "metadata": {
            "tags": []
          }
        },
        {
          "output_type": "display_data",
          "data": {
            "application/vnd.jupyter.widget-view+json": {
              "model_id": "2ef11a4bcd30417aade7806da06872f0",
              "version_minor": 0,
              "version_major": 2
            },
            "text/plain": [
              "HBox(children=(FloatProgress(value=1.0, bar_style='info', description='Generating train examples...', max=1.0,…"
            ]
          },
          "metadata": {
            "tags": []
          }
        },
        {
          "output_type": "stream",
          "text": [
            "Audio:  /gdrive/MyDrive/datasets/public_datasets/downloads/extracted/TAR.ja.tar/cv-corpus-6.1-2020-12-11/ja/clips\n",
            "Label:  /gdrive/MyDrive/datasets/public_datasets/downloads/extracted/TAR.ja.tar/cv-corpus-6.1-2020-12-11/ja/train.tsv\n"
          ],
          "name": "stdout"
        },
        {
          "output_type": "display_data",
          "data": {
            "application/vnd.jupyter.widget-view+json": {
              "model_id": "adce8a57f4844771994ca979ad4ca417",
              "version_minor": 0,
              "version_major": 2
            },
            "text/plain": [
              "HBox(children=(FloatProgress(value=0.0, description='Shuffling common_voice_v6-train.tfrecord...', max=722.0, …"
            ]
          },
          "metadata": {
            "tags": []
          }
        },
        {
          "output_type": "display_data",
          "data": {
            "application/vnd.jupyter.widget-view+json": {
              "model_id": "dbce540492d2492e8ff168bcedf2371a",
              "version_minor": 0,
              "version_major": 2
            },
            "text/plain": [
              "HBox(children=(FloatProgress(value=1.0, bar_style='info', description='Generating test examples...', max=1.0, …"
            ]
          },
          "metadata": {
            "tags": []
          }
        },
        {
          "output_type": "stream",
          "text": [
            "Audio:  /gdrive/MyDrive/datasets/public_datasets/downloads/extracted/TAR.ja.tar/cv-corpus-6.1-2020-12-11/ja/clips\n",
            "Label:  /gdrive/MyDrive/datasets/public_datasets/downloads/extracted/TAR.ja.tar/cv-corpus-6.1-2020-12-11/ja/test.tsv\n"
          ],
          "name": "stdout"
        },
        {
          "output_type": "display_data",
          "data": {
            "application/vnd.jupyter.widget-view+json": {
              "model_id": "c07143f03e474ea88b1498cf78de4f69",
              "version_minor": 0,
              "version_major": 2
            },
            "text/plain": [
              "HBox(children=(FloatProgress(value=0.0, description='Shuffling common_voice_v6-test.tfrecord...', max=632.0, s…"
            ]
          },
          "metadata": {
            "tags": []
          }
        },
        {
          "output_type": "display_data",
          "data": {
            "application/vnd.jupyter.widget-view+json": {
              "model_id": "b749a526e8a44dcea3a52f729eb171c8",
              "version_minor": 0,
              "version_major": 2
            },
            "text/plain": [
              "HBox(children=(FloatProgress(value=1.0, bar_style='info', description='Generating validation examples...', max…"
            ]
          },
          "metadata": {
            "tags": []
          }
        },
        {
          "output_type": "stream",
          "text": [
            "Audio:  /gdrive/MyDrive/datasets/public_datasets/downloads/extracted/TAR.ja.tar/cv-corpus-6.1-2020-12-11/ja/clips\n",
            "Label:  /gdrive/MyDrive/datasets/public_datasets/downloads/extracted/TAR.ja.tar/cv-corpus-6.1-2020-12-11/ja/validated.tsv\n"
          ],
          "name": "stdout"
        },
        {
          "output_type": "display_data",
          "data": {
            "application/vnd.jupyter.widget-view+json": {
              "model_id": "75771f1834594d1198ca93eaeea7c752",
              "version_minor": 0,
              "version_major": 2
            },
            "text/plain": [
              "HBox(children=(FloatProgress(value=0.0, description='Shuffling common_voice_v6-validation.tfrecord...', max=30…"
            ]
          },
          "metadata": {
            "tags": []
          }
        },
        {
          "output_type": "stream",
          "text": [
            "\u001b[1mDataset common_voice_v6 downloaded and prepared to /gdrive/MyDrive/datasets/public_datasets/common_voice_v6/ja/1.0.0. Subsequent calls will reuse this data.\u001b[0m\n"
          ],
          "name": "stdout"
        }
      ]
    },
    {
      "cell_type": "code",
      "metadata": {
        "id": "bIoAt6sQrJWg"
      },
      "source": [
        ""
      ],
      "execution_count": null,
      "outputs": []
    },
    {
      "cell_type": "markdown",
      "metadata": {
        "id": "LkrDdsaIzaed"
      },
      "source": [
        "# Tatoeba Japanese"
      ]
    },
    {
      "cell_type": "code",
      "metadata": {
        "id": "7NYhJuDyzrr9",
        "outputId": "6528098e-1c19-4347-b65f-1cff059aa377",
        "colab": {
          "base_uri": "https://localhost:8080/"
        }
      },
      "source": [
        "!pip install tfds-nightly\n",
        "!pip install pydub"
      ],
      "execution_count": 7,
      "outputs": [
        {
          "output_type": "stream",
          "text": [
            "Collecting tfds-nightly\n",
            "\u001b[?25l  Downloading https://files.pythonhosted.org/packages/87/3b/5ddbdb93704fa5786aff79d4c38786c27ef6e0aba841feb3e1b04e8f6c15/tfds_nightly-4.2.0.dev202102280107-py3-none-any.whl (3.8MB)\n",
            "\u001b[K     |████████████████████████████████| 3.8MB 10.8MB/s \n",
            "\u001b[?25hRequirement already satisfied: dill in /usr/local/lib/python3.7/dist-packages (from tfds-nightly) (0.3.3)\n",
            "Requirement already satisfied: tqdm in /usr/local/lib/python3.7/dist-packages (from tfds-nightly) (4.41.1)\n",
            "Requirement already satisfied: absl-py in /usr/local/lib/python3.7/dist-packages (from tfds-nightly) (0.10.0)\n",
            "Requirement already satisfied: numpy in /usr/local/lib/python3.7/dist-packages (from tfds-nightly) (1.19.5)\n",
            "Requirement already satisfied: future in /usr/local/lib/python3.7/dist-packages (from tfds-nightly) (0.16.0)\n",
            "Requirement already satisfied: termcolor in /usr/local/lib/python3.7/dist-packages (from tfds-nightly) (1.1.0)\n",
            "Requirement already satisfied: tensorflow-metadata in /usr/local/lib/python3.7/dist-packages (from tfds-nightly) (0.28.0)\n",
            "Requirement already satisfied: requests>=2.19.0 in /usr/local/lib/python3.7/dist-packages (from tfds-nightly) (2.23.0)\n",
            "Requirement already satisfied: attrs>=18.1.0 in /usr/local/lib/python3.7/dist-packages (from tfds-nightly) (20.3.0)\n",
            "Requirement already satisfied: promise in /usr/local/lib/python3.7/dist-packages (from tfds-nightly) (2.3)\n",
            "Requirement already satisfied: typing-extensions; python_version < \"3.8\" in /usr/local/lib/python3.7/dist-packages (from tfds-nightly) (3.7.4.3)\n",
            "Requirement already satisfied: six in /usr/local/lib/python3.7/dist-packages (from tfds-nightly) (1.15.0)\n",
            "Requirement already satisfied: protobuf>=3.12.2 in /usr/local/lib/python3.7/dist-packages (from tfds-nightly) (3.12.4)\n",
            "Requirement already satisfied: importlib-resources; python_version < \"3.9\" in /usr/local/lib/python3.7/dist-packages (from tfds-nightly) (5.1.0)\n",
            "Requirement already satisfied: googleapis-common-protos<2,>=1.52.0 in /usr/local/lib/python3.7/dist-packages (from tensorflow-metadata->tfds-nightly) (1.52.0)\n",
            "Requirement already satisfied: chardet<4,>=3.0.2 in /usr/local/lib/python3.7/dist-packages (from requests>=2.19.0->tfds-nightly) (3.0.4)\n",
            "Requirement already satisfied: certifi>=2017.4.17 in /usr/local/lib/python3.7/dist-packages (from requests>=2.19.0->tfds-nightly) (2020.12.5)\n",
            "Requirement already satisfied: idna<3,>=2.5 in /usr/local/lib/python3.7/dist-packages (from requests>=2.19.0->tfds-nightly) (2.10)\n",
            "Requirement already satisfied: urllib3!=1.25.0,!=1.25.1,<1.26,>=1.21.1 in /usr/local/lib/python3.7/dist-packages (from requests>=2.19.0->tfds-nightly) (1.24.3)\n",
            "Requirement already satisfied: setuptools in /usr/local/lib/python3.7/dist-packages (from protobuf>=3.12.2->tfds-nightly) (53.0.0)\n",
            "Requirement already satisfied: zipp>=0.4; python_version < \"3.8\" in /usr/local/lib/python3.7/dist-packages (from importlib-resources; python_version < \"3.9\"->tfds-nightly) (3.4.0)\n",
            "Installing collected packages: tfds-nightly\n",
            "Successfully installed tfds-nightly-4.2.0.dev202102280107\n",
            "Collecting pydub\n",
            "  Downloading https://files.pythonhosted.org/packages/7b/d1/fbfa79371a8cd9bb15c2e3c480d7e6e340ed5cc55005174e16f48418333a/pydub-0.24.1-py2.py3-none-any.whl\n",
            "Installing collected packages: pydub\n",
            "Successfully installed pydub-0.24.1\n"
          ],
          "name": "stdout"
        }
      ]
    },
    {
      "cell_type": "code",
      "metadata": {
        "id": "c9DabNofzfQq",
        "outputId": "d2943445-0b8f-4603-c360-c4cb51323408",
        "colab": {
          "base_uri": "https://localhost:8080/"
        }
      },
      "source": [
        "%cd public-datasets/"
      ],
      "execution_count": 1,
      "outputs": [
        {
          "output_type": "stream",
          "text": [
            "/content/public-datasets\n"
          ],
          "name": "stdout"
        }
      ]
    },
    {
      "cell_type": "code",
      "metadata": {
        "id": "r7ISuCoRzoz6"
      },
      "source": [
        "import tensorflow_datasets as tfds"
      ],
      "execution_count": 2,
      "outputs": []
    },
    {
      "cell_type": "code",
      "metadata": {
        "id": "1qn-ZhSRzo27"
      },
      "source": [
        "import tatoeba_japanese"
      ],
      "execution_count": 3,
      "outputs": []
    },
    {
      "cell_type": "code",
      "metadata": {
        "id": "PdzEvlQczo5n"
      },
      "source": [
        "download_config = tfds.download.DownloadConfig(manual_dir='/gdrive/MyDrive/datasets/public_datasets/downloads/manual/')\n",
        "\n",
        "ds = tfds.load(\"tatoeba_japanese\", data_dir='/gdrive/MyDrive/datasets/public_datasets', download_and_prepare_kwargs={\"download_config\": download_config})"
      ],
      "execution_count": 5,
      "outputs": []
    },
    {
      "cell_type": "markdown",
      "metadata": {
        "id": "HRGQivK3-HB2"
      },
      "source": [
        "# JVS Corpus"
      ]
    },
    {
      "cell_type": "code",
      "metadata": {
        "id": "qK5gqCHd-Jkp",
        "outputId": "494a87a6-8703-4deb-c9bc-1c03411636a7",
        "colab": {
          "base_uri": "https://localhost:8080/"
        }
      },
      "source": [
        "!pip install tfds-nightly\n",
        "!pip install pydub"
      ],
      "execution_count": 2,
      "outputs": [
        {
          "output_type": "stream",
          "text": [
            "Collecting tfds-nightly\n",
            "\u001b[?25l  Downloading https://files.pythonhosted.org/packages/87/3b/5ddbdb93704fa5786aff79d4c38786c27ef6e0aba841feb3e1b04e8f6c15/tfds_nightly-4.2.0.dev202102280107-py3-none-any.whl (3.8MB)\n",
            "\u001b[K     |████████████████████████████████| 3.8MB 4.7MB/s \n",
            "\u001b[?25hRequirement already satisfied: numpy in /usr/local/lib/python3.7/dist-packages (from tfds-nightly) (1.19.5)\n",
            "Requirement already satisfied: protobuf>=3.12.2 in /usr/local/lib/python3.7/dist-packages (from tfds-nightly) (3.12.4)\n",
            "Requirement already satisfied: termcolor in /usr/local/lib/python3.7/dist-packages (from tfds-nightly) (1.1.0)\n",
            "Requirement already satisfied: tensorflow-metadata in /usr/local/lib/python3.7/dist-packages (from tfds-nightly) (0.28.0)\n",
            "Requirement already satisfied: attrs>=18.1.0 in /usr/local/lib/python3.7/dist-packages (from tfds-nightly) (20.3.0)\n",
            "Requirement already satisfied: dill in /usr/local/lib/python3.7/dist-packages (from tfds-nightly) (0.3.3)\n",
            "Requirement already satisfied: absl-py in /usr/local/lib/python3.7/dist-packages (from tfds-nightly) (0.10.0)\n",
            "Requirement already satisfied: future in /usr/local/lib/python3.7/dist-packages (from tfds-nightly) (0.16.0)\n",
            "Requirement already satisfied: importlib-resources; python_version < \"3.9\" in /usr/local/lib/python3.7/dist-packages (from tfds-nightly) (5.1.0)\n",
            "Requirement already satisfied: requests>=2.19.0 in /usr/local/lib/python3.7/dist-packages (from tfds-nightly) (2.23.0)\n",
            "Requirement already satisfied: six in /usr/local/lib/python3.7/dist-packages (from tfds-nightly) (1.15.0)\n",
            "Requirement already satisfied: typing-extensions; python_version < \"3.8\" in /usr/local/lib/python3.7/dist-packages (from tfds-nightly) (3.7.4.3)\n",
            "Requirement already satisfied: promise in /usr/local/lib/python3.7/dist-packages (from tfds-nightly) (2.3)\n",
            "Requirement already satisfied: tqdm in /usr/local/lib/python3.7/dist-packages (from tfds-nightly) (4.41.1)\n",
            "Requirement already satisfied: setuptools in /usr/local/lib/python3.7/dist-packages (from protobuf>=3.12.2->tfds-nightly) (53.0.0)\n",
            "Requirement already satisfied: googleapis-common-protos<2,>=1.52.0 in /usr/local/lib/python3.7/dist-packages (from tensorflow-metadata->tfds-nightly) (1.52.0)\n",
            "Requirement already satisfied: zipp>=0.4; python_version < \"3.8\" in /usr/local/lib/python3.7/dist-packages (from importlib-resources; python_version < \"3.9\"->tfds-nightly) (3.4.0)\n",
            "Requirement already satisfied: chardet<4,>=3.0.2 in /usr/local/lib/python3.7/dist-packages (from requests>=2.19.0->tfds-nightly) (3.0.4)\n",
            "Requirement already satisfied: idna<3,>=2.5 in /usr/local/lib/python3.7/dist-packages (from requests>=2.19.0->tfds-nightly) (2.10)\n",
            "Requirement already satisfied: urllib3!=1.25.0,!=1.25.1,<1.26,>=1.21.1 in /usr/local/lib/python3.7/dist-packages (from requests>=2.19.0->tfds-nightly) (1.24.3)\n",
            "Requirement already satisfied: certifi>=2017.4.17 in /usr/local/lib/python3.7/dist-packages (from requests>=2.19.0->tfds-nightly) (2020.12.5)\n",
            "Installing collected packages: tfds-nightly\n",
            "Successfully installed tfds-nightly-4.2.0.dev202102280107\n",
            "Collecting pydub\n",
            "  Downloading https://files.pythonhosted.org/packages/7b/d1/fbfa79371a8cd9bb15c2e3c480d7e6e340ed5cc55005174e16f48418333a/pydub-0.24.1-py2.py3-none-any.whl\n",
            "Installing collected packages: pydub\n",
            "Successfully installed pydub-0.24.1\n"
          ],
          "name": "stdout"
        }
      ]
    },
    {
      "cell_type": "code",
      "metadata": {
        "id": "oofOpD-n-M7N",
        "outputId": "ed8201ea-9796-48de-a3d7-7433e82d5888",
        "colab": {
          "base_uri": "https://localhost:8080/"
        }
      },
      "source": [
        "%cd public-datasets/"
      ],
      "execution_count": 1,
      "outputs": [
        {
          "output_type": "stream",
          "text": [
            "/content/public-datasets\n"
          ],
          "name": "stdout"
        }
      ]
    },
    {
      "cell_type": "code",
      "metadata": {
        "id": "e-d0B9Aj-PQS"
      },
      "source": [
        "import tensorflow_datasets as tfds"
      ],
      "execution_count": 2,
      "outputs": []
    },
    {
      "cell_type": "code",
      "metadata": {
        "id": "wtMKX6HG-Qu8"
      },
      "source": [
        "import jvs"
      ],
      "execution_count": 3,
      "outputs": []
    },
    {
      "cell_type": "code",
      "metadata": {
        "id": "_r_UNsA_-U_n",
        "outputId": "b7ce88a1-a858-46ba-be2c-e6fb1b82c20e",
        "colab": {
          "base_uri": "https://localhost:8080/",
          "height": 1000,
          "referenced_widgets": [
            "dd24386c2109467f9cb864095466d9de",
            "1ceab0e54aea4219bd61d8a719756b58",
            "a112dd09e10b4c59916ab681527b1d40",
            "790a96d198cb4cae8ee7b6cf5087944f",
            "fa6291cbd8a1420a841b005e1111be3e",
            "d5a1bf32314045e991f6fb0d5ad2d9f1",
            "1d5f1d47a50a42959adb6cae7d50cb13",
            "96a3b64dcb95446991c2dc4a62cf854b",
            "098cd3ef31554d4f8443953d716a30a7",
            "49e93bdc1ec84807be24036a8b8542cc",
            "4ed4381670f4488dafe062a512694a52",
            "826e223a8cb145779d2d5b72ca94dc7e",
            "4ca46ba6f7fd42c390d2306cfcfa8118",
            "07f4ef09bf8b4261b3bb6752680579bc",
            "d3449503ca1f4d5db912510b47fe8454",
            "6ae259a2a0f94d089524e02ff7ce4e9e",
            "2cc7c888acf84da8bf3825f89e311350",
            "3c9a4b59908e44c1ae309bd063f15b88",
            "5b12bffdf31c4395bb27fcd51447ad0e",
            "1802074179394f758a3bdad17c59e9b7",
            "2998e07323bd45d1aa1c7ed79fac61d9",
            "13503b76495747fe9847414b2a5a6a0d",
            "9f160303b9fd4456b9d7cda00fd64678",
            "efbf75b4a8c745818154414c717f5c6a",
            "7492c0016bca4dc2b0b941edccbe8578",
            "94c96056d62d45e1b35856a3bd8996c9",
            "a6a8e0e5c0774de88d50727ba8781df6",
            "fd579717fd7b4058be01c408167f3266",
            "ca5dbd6ba5224edf8f1b379f484d2920",
            "2fc023a1df2e413eadf2264d52cf5d8e",
            "9b74a569925b4a7190878409981afc75",
            "911f16917f4e4fa1b13255fc79ebb4e7"
          ]
        }
      },
      "source": [
        "download_config = tfds.download.DownloadConfig(manual_dir='/gdrive/MyDrive/datasets/public_datasets/downloads/manual/')\n",
        "\n",
        "ds = tfds.load(\"jvs\", data_dir='/gdrive/MyDrive/datasets/public_datasets', download_and_prepare_kwargs={\"download_config\": download_config})"
      ],
      "execution_count": 4,
      "outputs": [
        {
          "output_type": "stream",
          "text": [
            "\u001b[1mDownloading and preparing dataset Unknown size (download: Unknown size, generated: Unknown size, total: Unknown size) to /gdrive/MyDrive/datasets/public_datasets/jvs/1.1.0...\u001b[0m\n",
            "The manual directory is:  /gdrive/MyDrive/datasets/public_datasets/downloads/manual\n"
          ],
          "name": "stdout"
        },
        {
          "output_type": "display_data",
          "data": {
            "application/vnd.jupyter.widget-view+json": {
              "model_id": "dd24386c2109467f9cb864095466d9de",
              "version_minor": 0,
              "version_major": 2
            },
            "text/plain": [
              "HBox(children=(FloatProgress(value=1.0, bar_style='info', description='Extraction completed...', max=1.0, styl…"
            ]
          },
          "metadata": {
            "tags": []
          }
        },
        {
          "output_type": "stream",
          "text": [
            "\n",
            "\n"
          ],
          "name": "stdout"
        },
        {
          "output_type": "display_data",
          "data": {
            "application/vnd.jupyter.widget-view+json": {
              "model_id": "098cd3ef31554d4f8443953d716a30a7",
              "version_minor": 0,
              "version_major": 2
            },
            "text/plain": [
              "HBox(children=(FloatProgress(value=0.0, description='Generating splits...', max=1.0, style=ProgressStyle(descr…"
            ]
          },
          "metadata": {
            "tags": []
          }
        },
        {
          "output_type": "display_data",
          "data": {
            "application/vnd.jupyter.widget-view+json": {
              "model_id": "2cc7c888acf84da8bf3825f89e311350",
              "version_minor": 0,
              "version_major": 2
            },
            "text/plain": [
              "HBox(children=(FloatProgress(value=1.0, bar_style='info', description='Generating train examples...', max=1.0,…"
            ]
          },
          "metadata": {
            "tags": []
          }
        },
        {
          "output_type": "stream",
          "text": [
            "Folder: /gdrive/MyDrive/datasets/public_datasets/downloads/extracted/ZIP.jvs_ver1.zip/jvs_ver1/jvs075/parallel100\n",
            "Folder: /gdrive/MyDrive/datasets/public_datasets/downloads/extracted/ZIP.jvs_ver1.zip/jvs_ver1/jvs075/whisper10\n",
            "Folder: /gdrive/MyDrive/datasets/public_datasets/downloads/extracted/ZIP.jvs_ver1.zip/jvs_ver1/jvs075/nonpara30\n",
            "Folder: /gdrive/MyDrive/datasets/public_datasets/downloads/extracted/ZIP.jvs_ver1.zip/jvs_ver1/jvs075/falset10\n",
            "Folder: /gdrive/MyDrive/datasets/public_datasets/downloads/extracted/ZIP.jvs_ver1.zip/jvs_ver1/jvs063/parallel100\n",
            "Folder: /gdrive/MyDrive/datasets/public_datasets/downloads/extracted/ZIP.jvs_ver1.zip/jvs_ver1/jvs063/whisper10\n",
            "Folder: /gdrive/MyDrive/datasets/public_datasets/downloads/extracted/ZIP.jvs_ver1.zip/jvs_ver1/jvs063/nonpara30\n",
            "Folder: /gdrive/MyDrive/datasets/public_datasets/downloads/extracted/ZIP.jvs_ver1.zip/jvs_ver1/jvs063/falset10\n",
            "Folder: /gdrive/MyDrive/datasets/public_datasets/downloads/extracted/ZIP.jvs_ver1.zip/jvs_ver1/jvs047/parallel100\n",
            "Folder: /gdrive/MyDrive/datasets/public_datasets/downloads/extracted/ZIP.jvs_ver1.zip/jvs_ver1/jvs047/whisper10\n",
            "Folder: /gdrive/MyDrive/datasets/public_datasets/downloads/extracted/ZIP.jvs_ver1.zip/jvs_ver1/jvs047/nonpara30\n",
            "Folder: /gdrive/MyDrive/datasets/public_datasets/downloads/extracted/ZIP.jvs_ver1.zip/jvs_ver1/jvs047/falset10\n",
            "Folder: /gdrive/MyDrive/datasets/public_datasets/downloads/extracted/ZIP.jvs_ver1.zip/jvs_ver1/jvs007/parallel100\n",
            "Folder: /gdrive/MyDrive/datasets/public_datasets/downloads/extracted/ZIP.jvs_ver1.zip/jvs_ver1/jvs007/whisper10\n",
            "Folder: /gdrive/MyDrive/datasets/public_datasets/downloads/extracted/ZIP.jvs_ver1.zip/jvs_ver1/jvs007/nonpara30\n",
            "Folder: /gdrive/MyDrive/datasets/public_datasets/downloads/extracted/ZIP.jvs_ver1.zip/jvs_ver1/jvs007/falset10\n",
            "Folder: /gdrive/MyDrive/datasets/public_datasets/downloads/extracted/ZIP.jvs_ver1.zip/jvs_ver1/jvs016/parallel100\n",
            "Folder: /gdrive/MyDrive/datasets/public_datasets/downloads/extracted/ZIP.jvs_ver1.zip/jvs_ver1/jvs016/whisper10\n",
            "Folder: /gdrive/MyDrive/datasets/public_datasets/downloads/extracted/ZIP.jvs_ver1.zip/jvs_ver1/jvs016/nonpara30\n",
            "Folder: /gdrive/MyDrive/datasets/public_datasets/downloads/extracted/ZIP.jvs_ver1.zip/jvs_ver1/jvs016/falset10\n",
            "Folder: /gdrive/MyDrive/datasets/public_datasets/downloads/extracted/ZIP.jvs_ver1.zip/jvs_ver1/jvs064/parallel100\n",
            "Folder: /gdrive/MyDrive/datasets/public_datasets/downloads/extracted/ZIP.jvs_ver1.zip/jvs_ver1/jvs064/whisper10\n",
            "Folder: /gdrive/MyDrive/datasets/public_datasets/downloads/extracted/ZIP.jvs_ver1.zip/jvs_ver1/jvs064/nonpara30\n",
            "Folder: /gdrive/MyDrive/datasets/public_datasets/downloads/extracted/ZIP.jvs_ver1.zip/jvs_ver1/jvs064/falset10\n",
            "Folder: /gdrive/MyDrive/datasets/public_datasets/downloads/extracted/ZIP.jvs_ver1.zip/jvs_ver1/jvs005/parallel100\n",
            "Folder: /gdrive/MyDrive/datasets/public_datasets/downloads/extracted/ZIP.jvs_ver1.zip/jvs_ver1/jvs005/whisper10\n",
            "Folder: /gdrive/MyDrive/datasets/public_datasets/downloads/extracted/ZIP.jvs_ver1.zip/jvs_ver1/jvs005/nonpara30\n",
            "Folder: /gdrive/MyDrive/datasets/public_datasets/downloads/extracted/ZIP.jvs_ver1.zip/jvs_ver1/jvs005/falset10\n",
            "Folder: /gdrive/MyDrive/datasets/public_datasets/downloads/extracted/ZIP.jvs_ver1.zip/jvs_ver1/jvs099/parallel100\n",
            "Folder: /gdrive/MyDrive/datasets/public_datasets/downloads/extracted/ZIP.jvs_ver1.zip/jvs_ver1/jvs099/whisper10\n",
            "Folder: /gdrive/MyDrive/datasets/public_datasets/downloads/extracted/ZIP.jvs_ver1.zip/jvs_ver1/jvs099/nonpara30\n",
            "Folder: /gdrive/MyDrive/datasets/public_datasets/downloads/extracted/ZIP.jvs_ver1.zip/jvs_ver1/jvs099/falset10\n",
            "Folder: /gdrive/MyDrive/datasets/public_datasets/downloads/extracted/ZIP.jvs_ver1.zip/jvs_ver1/jvs006/parallel100\n",
            "Folder: /gdrive/MyDrive/datasets/public_datasets/downloads/extracted/ZIP.jvs_ver1.zip/jvs_ver1/jvs006/whisper10\n",
            "Folder: /gdrive/MyDrive/datasets/public_datasets/downloads/extracted/ZIP.jvs_ver1.zip/jvs_ver1/jvs006/nonpara30\n",
            "Folder: /gdrive/MyDrive/datasets/public_datasets/downloads/extracted/ZIP.jvs_ver1.zip/jvs_ver1/jvs006/falset10\n",
            "Folder: /gdrive/MyDrive/datasets/public_datasets/downloads/extracted/ZIP.jvs_ver1.zip/jvs_ver1/jvs036/parallel100\n",
            "Folder: /gdrive/MyDrive/datasets/public_datasets/downloads/extracted/ZIP.jvs_ver1.zip/jvs_ver1/jvs036/whisper10\n",
            "Folder: /gdrive/MyDrive/datasets/public_datasets/downloads/extracted/ZIP.jvs_ver1.zip/jvs_ver1/jvs036/nonpara30\n",
            "Folder: /gdrive/MyDrive/datasets/public_datasets/downloads/extracted/ZIP.jvs_ver1.zip/jvs_ver1/jvs036/falset10\n",
            "Folder: /gdrive/MyDrive/datasets/public_datasets/downloads/extracted/ZIP.jvs_ver1.zip/jvs_ver1/jvs014/parallel100\n",
            "Folder: /gdrive/MyDrive/datasets/public_datasets/downloads/extracted/ZIP.jvs_ver1.zip/jvs_ver1/jvs014/whisper10\n",
            "Folder: /gdrive/MyDrive/datasets/public_datasets/downloads/extracted/ZIP.jvs_ver1.zip/jvs_ver1/jvs014/nonpara30\n",
            "Folder: /gdrive/MyDrive/datasets/public_datasets/downloads/extracted/ZIP.jvs_ver1.zip/jvs_ver1/jvs014/falset10\n",
            "Folder: /gdrive/MyDrive/datasets/public_datasets/downloads/extracted/ZIP.jvs_ver1.zip/jvs_ver1/jvs022/parallel100\n",
            "Folder: /gdrive/MyDrive/datasets/public_datasets/downloads/extracted/ZIP.jvs_ver1.zip/jvs_ver1/jvs022/whisper10\n",
            "Folder: /gdrive/MyDrive/datasets/public_datasets/downloads/extracted/ZIP.jvs_ver1.zip/jvs_ver1/jvs022/nonpara30\n",
            "Folder: /gdrive/MyDrive/datasets/public_datasets/downloads/extracted/ZIP.jvs_ver1.zip/jvs_ver1/jvs022/falset10\n",
            "Folder: /gdrive/MyDrive/datasets/public_datasets/downloads/extracted/ZIP.jvs_ver1.zip/jvs_ver1/jvs035/parallel100\n",
            "Folder: /gdrive/MyDrive/datasets/public_datasets/downloads/extracted/ZIP.jvs_ver1.zip/jvs_ver1/jvs035/whisper10\n",
            "Folder: /gdrive/MyDrive/datasets/public_datasets/downloads/extracted/ZIP.jvs_ver1.zip/jvs_ver1/jvs035/nonpara30\n",
            "Folder: /gdrive/MyDrive/datasets/public_datasets/downloads/extracted/ZIP.jvs_ver1.zip/jvs_ver1/jvs035/falset10\n",
            "Folder: /gdrive/MyDrive/datasets/public_datasets/downloads/extracted/ZIP.jvs_ver1.zip/jvs_ver1/jvs073/parallel100\n",
            "Folder: /gdrive/MyDrive/datasets/public_datasets/downloads/extracted/ZIP.jvs_ver1.zip/jvs_ver1/jvs073/whisper10\n",
            "Folder: /gdrive/MyDrive/datasets/public_datasets/downloads/extracted/ZIP.jvs_ver1.zip/jvs_ver1/jvs073/nonpara30\n",
            "Folder: /gdrive/MyDrive/datasets/public_datasets/downloads/extracted/ZIP.jvs_ver1.zip/jvs_ver1/jvs073/falset10\n",
            "Folder: /gdrive/MyDrive/datasets/public_datasets/downloads/extracted/ZIP.jvs_ver1.zip/jvs_ver1/jvs094/parallel100\n",
            "Folder: /gdrive/MyDrive/datasets/public_datasets/downloads/extracted/ZIP.jvs_ver1.zip/jvs_ver1/jvs094/whisper10\n",
            "Folder: /gdrive/MyDrive/datasets/public_datasets/downloads/extracted/ZIP.jvs_ver1.zip/jvs_ver1/jvs094/nonpara30\n",
            "Folder: /gdrive/MyDrive/datasets/public_datasets/downloads/extracted/ZIP.jvs_ver1.zip/jvs_ver1/jvs094/falset10\n",
            "Folder: /gdrive/MyDrive/datasets/public_datasets/downloads/extracted/ZIP.jvs_ver1.zip/jvs_ver1/jvs079/parallel100\n",
            "Folder: /gdrive/MyDrive/datasets/public_datasets/downloads/extracted/ZIP.jvs_ver1.zip/jvs_ver1/jvs079/whisper10\n",
            "Folder: /gdrive/MyDrive/datasets/public_datasets/downloads/extracted/ZIP.jvs_ver1.zip/jvs_ver1/jvs079/nonpara30\n",
            "Folder: /gdrive/MyDrive/datasets/public_datasets/downloads/extracted/ZIP.jvs_ver1.zip/jvs_ver1/jvs079/falset10\n",
            "Folder: /gdrive/MyDrive/datasets/public_datasets/downloads/extracted/ZIP.jvs_ver1.zip/jvs_ver1/jvs032/parallel100\n",
            "Folder: /gdrive/MyDrive/datasets/public_datasets/downloads/extracted/ZIP.jvs_ver1.zip/jvs_ver1/jvs032/whisper10\n",
            "Folder: /gdrive/MyDrive/datasets/public_datasets/downloads/extracted/ZIP.jvs_ver1.zip/jvs_ver1/jvs032/nonpara30\n",
            "Folder: /gdrive/MyDrive/datasets/public_datasets/downloads/extracted/ZIP.jvs_ver1.zip/jvs_ver1/jvs032/falset10\n",
            "Folder: /gdrive/MyDrive/datasets/public_datasets/downloads/extracted/ZIP.jvs_ver1.zip/jvs_ver1/jvs017/parallel100\n",
            "Folder: /gdrive/MyDrive/datasets/public_datasets/downloads/extracted/ZIP.jvs_ver1.zip/jvs_ver1/jvs017/whisper10\n",
            "Folder: /gdrive/MyDrive/datasets/public_datasets/downloads/extracted/ZIP.jvs_ver1.zip/jvs_ver1/jvs017/nonpara30\n",
            "Folder: /gdrive/MyDrive/datasets/public_datasets/downloads/extracted/ZIP.jvs_ver1.zip/jvs_ver1/jvs017/falset10\n",
            "Folder: /gdrive/MyDrive/datasets/public_datasets/downloads/extracted/ZIP.jvs_ver1.zip/jvs_ver1/jvs012/parallel100\n",
            "Folder: /gdrive/MyDrive/datasets/public_datasets/downloads/extracted/ZIP.jvs_ver1.zip/jvs_ver1/jvs012/whisper10\n",
            "Folder: /gdrive/MyDrive/datasets/public_datasets/downloads/extracted/ZIP.jvs_ver1.zip/jvs_ver1/jvs012/nonpara30\n",
            "Folder: /gdrive/MyDrive/datasets/public_datasets/downloads/extracted/ZIP.jvs_ver1.zip/jvs_ver1/jvs012/falset10\n",
            "Folder: /gdrive/MyDrive/datasets/public_datasets/downloads/extracted/ZIP.jvs_ver1.zip/jvs_ver1/jvs068/parallel100\n",
            "Folder: /gdrive/MyDrive/datasets/public_datasets/downloads/extracted/ZIP.jvs_ver1.zip/jvs_ver1/jvs068/whisper10\n",
            "Folder: /gdrive/MyDrive/datasets/public_datasets/downloads/extracted/ZIP.jvs_ver1.zip/jvs_ver1/jvs068/nonpara30\n",
            "Folder: /gdrive/MyDrive/datasets/public_datasets/downloads/extracted/ZIP.jvs_ver1.zip/jvs_ver1/jvs068/falset10\n",
            "Folder: /gdrive/MyDrive/datasets/public_datasets/downloads/extracted/ZIP.jvs_ver1.zip/jvs_ver1/jvs023/parallel100\n",
            "Folder: /gdrive/MyDrive/datasets/public_datasets/downloads/extracted/ZIP.jvs_ver1.zip/jvs_ver1/jvs023/whisper10\n",
            "Folder: /gdrive/MyDrive/datasets/public_datasets/downloads/extracted/ZIP.jvs_ver1.zip/jvs_ver1/jvs023/nonpara30\n",
            "Folder: /gdrive/MyDrive/datasets/public_datasets/downloads/extracted/ZIP.jvs_ver1.zip/jvs_ver1/jvs023/falset10\n",
            "Folder: /gdrive/MyDrive/datasets/public_datasets/downloads/extracted/ZIP.jvs_ver1.zip/jvs_ver1/jvs048/parallel100\n",
            "Folder: /gdrive/MyDrive/datasets/public_datasets/downloads/extracted/ZIP.jvs_ver1.zip/jvs_ver1/jvs048/whisper10\n",
            "Folder: /gdrive/MyDrive/datasets/public_datasets/downloads/extracted/ZIP.jvs_ver1.zip/jvs_ver1/jvs048/nonpara30\n",
            "Folder: /gdrive/MyDrive/datasets/public_datasets/downloads/extracted/ZIP.jvs_ver1.zip/jvs_ver1/jvs048/falset10\n",
            "Folder: /gdrive/MyDrive/datasets/public_datasets/downloads/extracted/ZIP.jvs_ver1.zip/jvs_ver1/jvs095/parallel100\n",
            "Folder: /gdrive/MyDrive/datasets/public_datasets/downloads/extracted/ZIP.jvs_ver1.zip/jvs_ver1/jvs095/whisper10\n",
            "Folder: /gdrive/MyDrive/datasets/public_datasets/downloads/extracted/ZIP.jvs_ver1.zip/jvs_ver1/jvs095/nonpara30\n",
            "Folder: /gdrive/MyDrive/datasets/public_datasets/downloads/extracted/ZIP.jvs_ver1.zip/jvs_ver1/jvs095/falset10\n",
            "Folder: /gdrive/MyDrive/datasets/public_datasets/downloads/extracted/ZIP.jvs_ver1.zip/jvs_ver1/jvs013/parallel100\n",
            "Folder: /gdrive/MyDrive/datasets/public_datasets/downloads/extracted/ZIP.jvs_ver1.zip/jvs_ver1/jvs013/whisper10\n",
            "Folder: /gdrive/MyDrive/datasets/public_datasets/downloads/extracted/ZIP.jvs_ver1.zip/jvs_ver1/jvs013/nonpara30\n",
            "Folder: /gdrive/MyDrive/datasets/public_datasets/downloads/extracted/ZIP.jvs_ver1.zip/jvs_ver1/jvs013/falset10\n",
            "Folder: /gdrive/MyDrive/datasets/public_datasets/downloads/extracted/ZIP.jvs_ver1.zip/jvs_ver1/jvs019/parallel100\n",
            "Folder: /gdrive/MyDrive/datasets/public_datasets/downloads/extracted/ZIP.jvs_ver1.zip/jvs_ver1/jvs019/whisper10\n",
            "Folder: /gdrive/MyDrive/datasets/public_datasets/downloads/extracted/ZIP.jvs_ver1.zip/jvs_ver1/jvs019/nonpara30\n",
            "Folder: /gdrive/MyDrive/datasets/public_datasets/downloads/extracted/ZIP.jvs_ver1.zip/jvs_ver1/jvs019/falset10\n",
            "Folder: /gdrive/MyDrive/datasets/public_datasets/downloads/extracted/ZIP.jvs_ver1.zip/jvs_ver1/jvs039/parallel100\n",
            "Folder: /gdrive/MyDrive/datasets/public_datasets/downloads/extracted/ZIP.jvs_ver1.zip/jvs_ver1/jvs039/whisper10\n",
            "Folder: /gdrive/MyDrive/datasets/public_datasets/downloads/extracted/ZIP.jvs_ver1.zip/jvs_ver1/jvs039/nonpara30\n",
            "Folder: /gdrive/MyDrive/datasets/public_datasets/downloads/extracted/ZIP.jvs_ver1.zip/jvs_ver1/jvs039/falset10\n",
            "Folder: /gdrive/MyDrive/datasets/public_datasets/downloads/extracted/ZIP.jvs_ver1.zip/jvs_ver1/jvs004/parallel100\n",
            "Folder: /gdrive/MyDrive/datasets/public_datasets/downloads/extracted/ZIP.jvs_ver1.zip/jvs_ver1/jvs004/whisper10\n",
            "Folder: /gdrive/MyDrive/datasets/public_datasets/downloads/extracted/ZIP.jvs_ver1.zip/jvs_ver1/jvs004/nonpara30\n",
            "Folder: /gdrive/MyDrive/datasets/public_datasets/downloads/extracted/ZIP.jvs_ver1.zip/jvs_ver1/jvs004/falset10\n",
            "Folder: /gdrive/MyDrive/datasets/public_datasets/downloads/extracted/ZIP.jvs_ver1.zip/jvs_ver1/jvs062/parallel100\n",
            "Folder: /gdrive/MyDrive/datasets/public_datasets/downloads/extracted/ZIP.jvs_ver1.zip/jvs_ver1/jvs062/whisper10\n",
            "Folder: /gdrive/MyDrive/datasets/public_datasets/downloads/extracted/ZIP.jvs_ver1.zip/jvs_ver1/jvs062/nonpara30\n",
            "Folder: /gdrive/MyDrive/datasets/public_datasets/downloads/extracted/ZIP.jvs_ver1.zip/jvs_ver1/jvs062/falset10\n",
            "Folder: /gdrive/MyDrive/datasets/public_datasets/downloads/extracted/ZIP.jvs_ver1.zip/jvs_ver1/jvs043/parallel100\n",
            "Folder: /gdrive/MyDrive/datasets/public_datasets/downloads/extracted/ZIP.jvs_ver1.zip/jvs_ver1/jvs043/whisper10\n",
            "Folder: /gdrive/MyDrive/datasets/public_datasets/downloads/extracted/ZIP.jvs_ver1.zip/jvs_ver1/jvs043/nonpara30\n",
            "Folder: /gdrive/MyDrive/datasets/public_datasets/downloads/extracted/ZIP.jvs_ver1.zip/jvs_ver1/jvs043/falset10\n",
            "Folder: /gdrive/MyDrive/datasets/public_datasets/downloads/extracted/ZIP.jvs_ver1.zip/jvs_ver1/jvs076/parallel100\n",
            "Folder: /gdrive/MyDrive/datasets/public_datasets/downloads/extracted/ZIP.jvs_ver1.zip/jvs_ver1/jvs076/whisper10\n",
            "Folder: /gdrive/MyDrive/datasets/public_datasets/downloads/extracted/ZIP.jvs_ver1.zip/jvs_ver1/jvs076/nonpara30\n",
            "Folder: /gdrive/MyDrive/datasets/public_datasets/downloads/extracted/ZIP.jvs_ver1.zip/jvs_ver1/jvs076/falset10\n",
            "Folder: /gdrive/MyDrive/datasets/public_datasets/downloads/extracted/ZIP.jvs_ver1.zip/jvs_ver1/jvs092/parallel100\n",
            "Folder: /gdrive/MyDrive/datasets/public_datasets/downloads/extracted/ZIP.jvs_ver1.zip/jvs_ver1/jvs092/whisper10\n",
            "Folder: /gdrive/MyDrive/datasets/public_datasets/downloads/extracted/ZIP.jvs_ver1.zip/jvs_ver1/jvs092/nonpara30\n",
            "Folder: /gdrive/MyDrive/datasets/public_datasets/downloads/extracted/ZIP.jvs_ver1.zip/jvs_ver1/jvs092/falset10\n",
            "Folder: /gdrive/MyDrive/datasets/public_datasets/downloads/extracted/ZIP.jvs_ver1.zip/jvs_ver1/jvs054/parallel100\n",
            "Folder: /gdrive/MyDrive/datasets/public_datasets/downloads/extracted/ZIP.jvs_ver1.zip/jvs_ver1/jvs054/whisper10\n",
            "Folder: /gdrive/MyDrive/datasets/public_datasets/downloads/extracted/ZIP.jvs_ver1.zip/jvs_ver1/jvs054/nonpara30\n",
            "Folder: /gdrive/MyDrive/datasets/public_datasets/downloads/extracted/ZIP.jvs_ver1.zip/jvs_ver1/jvs054/falset10\n",
            "Folder: /gdrive/MyDrive/datasets/public_datasets/downloads/extracted/ZIP.jvs_ver1.zip/jvs_ver1/jvs093/parallel100\n",
            "Folder: /gdrive/MyDrive/datasets/public_datasets/downloads/extracted/ZIP.jvs_ver1.zip/jvs_ver1/jvs093/whisper10\n",
            "Folder: /gdrive/MyDrive/datasets/public_datasets/downloads/extracted/ZIP.jvs_ver1.zip/jvs_ver1/jvs093/nonpara30\n",
            "Folder: /gdrive/MyDrive/datasets/public_datasets/downloads/extracted/ZIP.jvs_ver1.zip/jvs_ver1/jvs093/falset10\n",
            "Folder: /gdrive/MyDrive/datasets/public_datasets/downloads/extracted/ZIP.jvs_ver1.zip/jvs_ver1/jvs055/parallel100\n",
            "Folder: /gdrive/MyDrive/datasets/public_datasets/downloads/extracted/ZIP.jvs_ver1.zip/jvs_ver1/jvs055/whisper10\n",
            "Folder: /gdrive/MyDrive/datasets/public_datasets/downloads/extracted/ZIP.jvs_ver1.zip/jvs_ver1/jvs055/nonpara30\n",
            "Folder: /gdrive/MyDrive/datasets/public_datasets/downloads/extracted/ZIP.jvs_ver1.zip/jvs_ver1/jvs055/falset10\n",
            "Folder: /gdrive/MyDrive/datasets/public_datasets/downloads/extracted/ZIP.jvs_ver1.zip/jvs_ver1/jvs078/parallel100\n",
            "Folder: /gdrive/MyDrive/datasets/public_datasets/downloads/extracted/ZIP.jvs_ver1.zip/jvs_ver1/jvs078/whisper10\n",
            "Folder: /gdrive/MyDrive/datasets/public_datasets/downloads/extracted/ZIP.jvs_ver1.zip/jvs_ver1/jvs078/nonpara30\n",
            "Folder: /gdrive/MyDrive/datasets/public_datasets/downloads/extracted/ZIP.jvs_ver1.zip/jvs_ver1/jvs078/falset10\n",
            "Folder: /gdrive/MyDrive/datasets/public_datasets/downloads/extracted/ZIP.jvs_ver1.zip/jvs_ver1/jvs003/parallel100\n",
            "Folder: /gdrive/MyDrive/datasets/public_datasets/downloads/extracted/ZIP.jvs_ver1.zip/jvs_ver1/jvs003/whisper10\n",
            "Folder: /gdrive/MyDrive/datasets/public_datasets/downloads/extracted/ZIP.jvs_ver1.zip/jvs_ver1/jvs003/nonpara30\n",
            "Folder: /gdrive/MyDrive/datasets/public_datasets/downloads/extracted/ZIP.jvs_ver1.zip/jvs_ver1/jvs003/falset10\n",
            "Folder: /gdrive/MyDrive/datasets/public_datasets/downloads/extracted/ZIP.jvs_ver1.zip/jvs_ver1/jvs084/parallel100\n",
            "Folder: /gdrive/MyDrive/datasets/public_datasets/downloads/extracted/ZIP.jvs_ver1.zip/jvs_ver1/jvs084/whisper10\n",
            "Folder: /gdrive/MyDrive/datasets/public_datasets/downloads/extracted/ZIP.jvs_ver1.zip/jvs_ver1/jvs084/nonpara30\n",
            "Folder: /gdrive/MyDrive/datasets/public_datasets/downloads/extracted/ZIP.jvs_ver1.zip/jvs_ver1/jvs084/falset10\n",
            "Folder: /gdrive/MyDrive/datasets/public_datasets/downloads/extracted/ZIP.jvs_ver1.zip/jvs_ver1/jvs038/parallel100\n",
            "Folder: /gdrive/MyDrive/datasets/public_datasets/downloads/extracted/ZIP.jvs_ver1.zip/jvs_ver1/jvs038/whisper10\n",
            "Folder: /gdrive/MyDrive/datasets/public_datasets/downloads/extracted/ZIP.jvs_ver1.zip/jvs_ver1/jvs038/nonpara30\n",
            "Folder: /gdrive/MyDrive/datasets/public_datasets/downloads/extracted/ZIP.jvs_ver1.zip/jvs_ver1/jvs038/falset10\n",
            "Folder: /gdrive/MyDrive/datasets/public_datasets/downloads/extracted/ZIP.jvs_ver1.zip/jvs_ver1/jvs031/parallel100\n",
            "Folder: /gdrive/MyDrive/datasets/public_datasets/downloads/extracted/ZIP.jvs_ver1.zip/jvs_ver1/jvs031/whisper10\n",
            "Folder: /gdrive/MyDrive/datasets/public_datasets/downloads/extracted/ZIP.jvs_ver1.zip/jvs_ver1/jvs031/nonpara30\n",
            "Folder: /gdrive/MyDrive/datasets/public_datasets/downloads/extracted/ZIP.jvs_ver1.zip/jvs_ver1/jvs031/falset10\n",
            "Folder: /gdrive/MyDrive/datasets/public_datasets/downloads/extracted/ZIP.jvs_ver1.zip/jvs_ver1/jvs040/parallel100\n",
            "Folder: /gdrive/MyDrive/datasets/public_datasets/downloads/extracted/ZIP.jvs_ver1.zip/jvs_ver1/jvs040/whisper10\n",
            "Folder: /gdrive/MyDrive/datasets/public_datasets/downloads/extracted/ZIP.jvs_ver1.zip/jvs_ver1/jvs040/nonpara30\n",
            "Folder: /gdrive/MyDrive/datasets/public_datasets/downloads/extracted/ZIP.jvs_ver1.zip/jvs_ver1/jvs040/falset10\n",
            "Folder: /gdrive/MyDrive/datasets/public_datasets/downloads/extracted/ZIP.jvs_ver1.zip/jvs_ver1/jvs096/parallel100\n",
            "Folder: /gdrive/MyDrive/datasets/public_datasets/downloads/extracted/ZIP.jvs_ver1.zip/jvs_ver1/jvs096/whisper10\n",
            "Folder: /gdrive/MyDrive/datasets/public_datasets/downloads/extracted/ZIP.jvs_ver1.zip/jvs_ver1/jvs096/nonpara30\n",
            "Folder: /gdrive/MyDrive/datasets/public_datasets/downloads/extracted/ZIP.jvs_ver1.zip/jvs_ver1/jvs096/falset10\n",
            "Folder: /gdrive/MyDrive/datasets/public_datasets/downloads/extracted/ZIP.jvs_ver1.zip/jvs_ver1/jvs008/parallel100\n",
            "Folder: /gdrive/MyDrive/datasets/public_datasets/downloads/extracted/ZIP.jvs_ver1.zip/jvs_ver1/jvs008/whisper10\n",
            "Folder: /gdrive/MyDrive/datasets/public_datasets/downloads/extracted/ZIP.jvs_ver1.zip/jvs_ver1/jvs008/nonpara30\n",
            "Folder: /gdrive/MyDrive/datasets/public_datasets/downloads/extracted/ZIP.jvs_ver1.zip/jvs_ver1/jvs008/falset10\n",
            "Folder: /gdrive/MyDrive/datasets/public_datasets/downloads/extracted/ZIP.jvs_ver1.zip/jvs_ver1/jvs083/parallel100\n",
            "Folder: /gdrive/MyDrive/datasets/public_datasets/downloads/extracted/ZIP.jvs_ver1.zip/jvs_ver1/jvs083/whisper10\n",
            "Folder: /gdrive/MyDrive/datasets/public_datasets/downloads/extracted/ZIP.jvs_ver1.zip/jvs_ver1/jvs083/nonpara30\n",
            "Folder: /gdrive/MyDrive/datasets/public_datasets/downloads/extracted/ZIP.jvs_ver1.zip/jvs_ver1/jvs083/falset10\n",
            "Folder: /gdrive/MyDrive/datasets/public_datasets/downloads/extracted/ZIP.jvs_ver1.zip/jvs_ver1/jvs074/parallel100\n",
            "Folder: /gdrive/MyDrive/datasets/public_datasets/downloads/extracted/ZIP.jvs_ver1.zip/jvs_ver1/jvs074/whisper10\n",
            "Folder: /gdrive/MyDrive/datasets/public_datasets/downloads/extracted/ZIP.jvs_ver1.zip/jvs_ver1/jvs074/nonpara30\n",
            "Folder: /gdrive/MyDrive/datasets/public_datasets/downloads/extracted/ZIP.jvs_ver1.zip/jvs_ver1/jvs074/falset10\n",
            "Folder: /gdrive/MyDrive/datasets/public_datasets/downloads/extracted/ZIP.jvs_ver1.zip/jvs_ver1/jvs002/parallel100\n",
            "Folder: /gdrive/MyDrive/datasets/public_datasets/downloads/extracted/ZIP.jvs_ver1.zip/jvs_ver1/jvs002/whisper10\n",
            "Folder: /gdrive/MyDrive/datasets/public_datasets/downloads/extracted/ZIP.jvs_ver1.zip/jvs_ver1/jvs002/nonpara30\n",
            "Folder: /gdrive/MyDrive/datasets/public_datasets/downloads/extracted/ZIP.jvs_ver1.zip/jvs_ver1/jvs002/falset10\n",
            "Folder: /gdrive/MyDrive/datasets/public_datasets/downloads/extracted/ZIP.jvs_ver1.zip/jvs_ver1/jvs015/parallel100\n",
            "Folder: /gdrive/MyDrive/datasets/public_datasets/downloads/extracted/ZIP.jvs_ver1.zip/jvs_ver1/jvs015/whisper10\n",
            "Folder: /gdrive/MyDrive/datasets/public_datasets/downloads/extracted/ZIP.jvs_ver1.zip/jvs_ver1/jvs015/nonpara30\n",
            "Folder: /gdrive/MyDrive/datasets/public_datasets/downloads/extracted/ZIP.jvs_ver1.zip/jvs_ver1/jvs015/falset10\n",
            "Folder: /gdrive/MyDrive/datasets/public_datasets/downloads/extracted/ZIP.jvs_ver1.zip/jvs_ver1/jvs088/parallel100\n",
            "Folder: /gdrive/MyDrive/datasets/public_datasets/downloads/extracted/ZIP.jvs_ver1.zip/jvs_ver1/jvs088/whisper10\n",
            "Folder: /gdrive/MyDrive/datasets/public_datasets/downloads/extracted/ZIP.jvs_ver1.zip/jvs_ver1/jvs088/nonpara30\n",
            "Folder: /gdrive/MyDrive/datasets/public_datasets/downloads/extracted/ZIP.jvs_ver1.zip/jvs_ver1/jvs088/falset10\n",
            "Folder: /gdrive/MyDrive/datasets/public_datasets/downloads/extracted/ZIP.jvs_ver1.zip/jvs_ver1/jvs081/parallel100\n",
            "Folder: /gdrive/MyDrive/datasets/public_datasets/downloads/extracted/ZIP.jvs_ver1.zip/jvs_ver1/jvs081/whisper10\n",
            "Folder: /gdrive/MyDrive/datasets/public_datasets/downloads/extracted/ZIP.jvs_ver1.zip/jvs_ver1/jvs081/nonpara30\n",
            "Folder: /gdrive/MyDrive/datasets/public_datasets/downloads/extracted/ZIP.jvs_ver1.zip/jvs_ver1/jvs081/falset10\n",
            "Folder: /gdrive/MyDrive/datasets/public_datasets/downloads/extracted/ZIP.jvs_ver1.zip/jvs_ver1/jvs009/parallel100\n",
            "Folder: /gdrive/MyDrive/datasets/public_datasets/downloads/extracted/ZIP.jvs_ver1.zip/jvs_ver1/jvs009/whisper10\n",
            "Folder: /gdrive/MyDrive/datasets/public_datasets/downloads/extracted/ZIP.jvs_ver1.zip/jvs_ver1/jvs009/nonpara30\n",
            "Folder: /gdrive/MyDrive/datasets/public_datasets/downloads/extracted/ZIP.jvs_ver1.zip/jvs_ver1/jvs009/falset10\n",
            "Folder: /gdrive/MyDrive/datasets/public_datasets/downloads/extracted/ZIP.jvs_ver1.zip/jvs_ver1/jvs020/parallel100\n",
            "Folder: /gdrive/MyDrive/datasets/public_datasets/downloads/extracted/ZIP.jvs_ver1.zip/jvs_ver1/jvs020/whisper10\n",
            "Folder: /gdrive/MyDrive/datasets/public_datasets/downloads/extracted/ZIP.jvs_ver1.zip/jvs_ver1/jvs020/nonpara30\n",
            "Folder: /gdrive/MyDrive/datasets/public_datasets/downloads/extracted/ZIP.jvs_ver1.zip/jvs_ver1/jvs020/falset10\n",
            "Folder: /gdrive/MyDrive/datasets/public_datasets/downloads/extracted/ZIP.jvs_ver1.zip/jvs_ver1/jvs100/parallel100\n",
            "Folder: /gdrive/MyDrive/datasets/public_datasets/downloads/extracted/ZIP.jvs_ver1.zip/jvs_ver1/jvs100/whisper10\n",
            "Folder: /gdrive/MyDrive/datasets/public_datasets/downloads/extracted/ZIP.jvs_ver1.zip/jvs_ver1/jvs100/nonpara30\n",
            "Folder: /gdrive/MyDrive/datasets/public_datasets/downloads/extracted/ZIP.jvs_ver1.zip/jvs_ver1/jvs100/falset10\n",
            "Folder: /gdrive/MyDrive/datasets/public_datasets/downloads/extracted/ZIP.jvs_ver1.zip/jvs_ver1/jvs090/parallel100\n",
            "Folder: /gdrive/MyDrive/datasets/public_datasets/downloads/extracted/ZIP.jvs_ver1.zip/jvs_ver1/jvs090/whisper10\n",
            "Folder: /gdrive/MyDrive/datasets/public_datasets/downloads/extracted/ZIP.jvs_ver1.zip/jvs_ver1/jvs090/nonpara30\n",
            "Folder: /gdrive/MyDrive/datasets/public_datasets/downloads/extracted/ZIP.jvs_ver1.zip/jvs_ver1/jvs090/falset10\n",
            "Folder: /gdrive/MyDrive/datasets/public_datasets/downloads/extracted/ZIP.jvs_ver1.zip/jvs_ver1/jvs065/parallel100\n",
            "Folder: /gdrive/MyDrive/datasets/public_datasets/downloads/extracted/ZIP.jvs_ver1.zip/jvs_ver1/jvs065/whisper10\n",
            "Folder: /gdrive/MyDrive/datasets/public_datasets/downloads/extracted/ZIP.jvs_ver1.zip/jvs_ver1/jvs065/nonpara30\n",
            "Folder: /gdrive/MyDrive/datasets/public_datasets/downloads/extracted/ZIP.jvs_ver1.zip/jvs_ver1/jvs065/falset10\n",
            "Folder: /gdrive/MyDrive/datasets/public_datasets/downloads/extracted/ZIP.jvs_ver1.zip/jvs_ver1/jvs021/parallel100\n",
            "Folder: /gdrive/MyDrive/datasets/public_datasets/downloads/extracted/ZIP.jvs_ver1.zip/jvs_ver1/jvs021/whisper10\n",
            "Folder: /gdrive/MyDrive/datasets/public_datasets/downloads/extracted/ZIP.jvs_ver1.zip/jvs_ver1/jvs021/nonpara30\n",
            "Folder: /gdrive/MyDrive/datasets/public_datasets/downloads/extracted/ZIP.jvs_ver1.zip/jvs_ver1/jvs021/falset10\n",
            "Folder: /gdrive/MyDrive/datasets/public_datasets/downloads/extracted/ZIP.jvs_ver1.zip/jvs_ver1/jvs052/parallel100\n",
            "Folder: /gdrive/MyDrive/datasets/public_datasets/downloads/extracted/ZIP.jvs_ver1.zip/jvs_ver1/jvs052/whisper10\n",
            "Folder: /gdrive/MyDrive/datasets/public_datasets/downloads/extracted/ZIP.jvs_ver1.zip/jvs_ver1/jvs052/nonpara30\n",
            "Folder: /gdrive/MyDrive/datasets/public_datasets/downloads/extracted/ZIP.jvs_ver1.zip/jvs_ver1/jvs052/falset10\n",
            "Folder: /gdrive/MyDrive/datasets/public_datasets/downloads/extracted/ZIP.jvs_ver1.zip/jvs_ver1/jvs001/parallel100\n",
            "Folder: /gdrive/MyDrive/datasets/public_datasets/downloads/extracted/ZIP.jvs_ver1.zip/jvs_ver1/jvs001/whisper10\n",
            "Folder: /gdrive/MyDrive/datasets/public_datasets/downloads/extracted/ZIP.jvs_ver1.zip/jvs_ver1/jvs001/nonpara30\n",
            "Folder: /gdrive/MyDrive/datasets/public_datasets/downloads/extracted/ZIP.jvs_ver1.zip/jvs_ver1/jvs001/falset10\n",
            "Folder: /gdrive/MyDrive/datasets/public_datasets/downloads/extracted/ZIP.jvs_ver1.zip/jvs_ver1/jvs061/parallel100\n",
            "Folder: /gdrive/MyDrive/datasets/public_datasets/downloads/extracted/ZIP.jvs_ver1.zip/jvs_ver1/jvs061/whisper10\n",
            "Folder: /gdrive/MyDrive/datasets/public_datasets/downloads/extracted/ZIP.jvs_ver1.zip/jvs_ver1/jvs061/nonpara30\n",
            "Folder: /gdrive/MyDrive/datasets/public_datasets/downloads/extracted/ZIP.jvs_ver1.zip/jvs_ver1/jvs061/falset10\n",
            "Folder: /gdrive/MyDrive/datasets/public_datasets/downloads/extracted/ZIP.jvs_ver1.zip/jvs_ver1/jvs080/parallel100\n",
            "Folder: /gdrive/MyDrive/datasets/public_datasets/downloads/extracted/ZIP.jvs_ver1.zip/jvs_ver1/jvs080/whisper10\n",
            "Folder: /gdrive/MyDrive/datasets/public_datasets/downloads/extracted/ZIP.jvs_ver1.zip/jvs_ver1/jvs080/nonpara30\n",
            "Folder: /gdrive/MyDrive/datasets/public_datasets/downloads/extracted/ZIP.jvs_ver1.zip/jvs_ver1/jvs080/falset10\n",
            "Folder: /gdrive/MyDrive/datasets/public_datasets/downloads/extracted/ZIP.jvs_ver1.zip/jvs_ver1/jvs082/parallel100\n",
            "Folder: /gdrive/MyDrive/datasets/public_datasets/downloads/extracted/ZIP.jvs_ver1.zip/jvs_ver1/jvs082/whisper10\n",
            "Folder: /gdrive/MyDrive/datasets/public_datasets/downloads/extracted/ZIP.jvs_ver1.zip/jvs_ver1/jvs082/nonpara30\n",
            "Folder: /gdrive/MyDrive/datasets/public_datasets/downloads/extracted/ZIP.jvs_ver1.zip/jvs_ver1/jvs082/falset10\n",
            "Folder: /gdrive/MyDrive/datasets/public_datasets/downloads/extracted/ZIP.jvs_ver1.zip/jvs_ver1/jvs041/parallel100\n",
            "Folder: /gdrive/MyDrive/datasets/public_datasets/downloads/extracted/ZIP.jvs_ver1.zip/jvs_ver1/jvs041/whisper10\n",
            "Folder: /gdrive/MyDrive/datasets/public_datasets/downloads/extracted/ZIP.jvs_ver1.zip/jvs_ver1/jvs041/nonpara30\n",
            "Folder: /gdrive/MyDrive/datasets/public_datasets/downloads/extracted/ZIP.jvs_ver1.zip/jvs_ver1/jvs041/falset10\n",
            "Folder: /gdrive/MyDrive/datasets/public_datasets/downloads/extracted/ZIP.jvs_ver1.zip/jvs_ver1/jvs025/parallel100\n",
            "Folder: /gdrive/MyDrive/datasets/public_datasets/downloads/extracted/ZIP.jvs_ver1.zip/jvs_ver1/jvs025/whisper10\n",
            "Folder: /gdrive/MyDrive/datasets/public_datasets/downloads/extracted/ZIP.jvs_ver1.zip/jvs_ver1/jvs025/nonpara30\n",
            "Folder: /gdrive/MyDrive/datasets/public_datasets/downloads/extracted/ZIP.jvs_ver1.zip/jvs_ver1/jvs025/falset10\n",
            "Folder: /gdrive/MyDrive/datasets/public_datasets/downloads/extracted/ZIP.jvs_ver1.zip/jvs_ver1/jvs091/parallel100\n",
            "Folder: /gdrive/MyDrive/datasets/public_datasets/downloads/extracted/ZIP.jvs_ver1.zip/jvs_ver1/jvs091/whisper10\n",
            "Folder: /gdrive/MyDrive/datasets/public_datasets/downloads/extracted/ZIP.jvs_ver1.zip/jvs_ver1/jvs091/nonpara30\n",
            "Folder: /gdrive/MyDrive/datasets/public_datasets/downloads/extracted/ZIP.jvs_ver1.zip/jvs_ver1/jvs091/falset10\n",
            "Folder: /gdrive/MyDrive/datasets/public_datasets/downloads/extracted/ZIP.jvs_ver1.zip/jvs_ver1/jvs042/parallel100\n",
            "Folder: /gdrive/MyDrive/datasets/public_datasets/downloads/extracted/ZIP.jvs_ver1.zip/jvs_ver1/jvs042/whisper10\n",
            "Folder: /gdrive/MyDrive/datasets/public_datasets/downloads/extracted/ZIP.jvs_ver1.zip/jvs_ver1/jvs042/nonpara30\n",
            "Folder: /gdrive/MyDrive/datasets/public_datasets/downloads/extracted/ZIP.jvs_ver1.zip/jvs_ver1/jvs042/falset10\n",
            "Folder: /gdrive/MyDrive/datasets/public_datasets/downloads/extracted/ZIP.jvs_ver1.zip/jvs_ver1/jvs026/parallel100\n",
            "Folder: /gdrive/MyDrive/datasets/public_datasets/downloads/extracted/ZIP.jvs_ver1.zip/jvs_ver1/jvs026/whisper10\n",
            "Folder: /gdrive/MyDrive/datasets/public_datasets/downloads/extracted/ZIP.jvs_ver1.zip/jvs_ver1/jvs026/nonpara30\n",
            "Folder: /gdrive/MyDrive/datasets/public_datasets/downloads/extracted/ZIP.jvs_ver1.zip/jvs_ver1/jvs026/falset10\n",
            "Folder: /gdrive/MyDrive/datasets/public_datasets/downloads/extracted/ZIP.jvs_ver1.zip/jvs_ver1/jvs024/parallel100\n",
            "Folder: /gdrive/MyDrive/datasets/public_datasets/downloads/extracted/ZIP.jvs_ver1.zip/jvs_ver1/jvs024/whisper10\n",
            "Folder: /gdrive/MyDrive/datasets/public_datasets/downloads/extracted/ZIP.jvs_ver1.zip/jvs_ver1/jvs024/nonpara30\n",
            "Folder: /gdrive/MyDrive/datasets/public_datasets/downloads/extracted/ZIP.jvs_ver1.zip/jvs_ver1/jvs024/falset10\n",
            "Folder: /gdrive/MyDrive/datasets/public_datasets/downloads/extracted/ZIP.jvs_ver1.zip/jvs_ver1/jvs053/parallel100\n",
            "Folder: /gdrive/MyDrive/datasets/public_datasets/downloads/extracted/ZIP.jvs_ver1.zip/jvs_ver1/jvs053/whisper10\n",
            "Folder: /gdrive/MyDrive/datasets/public_datasets/downloads/extracted/ZIP.jvs_ver1.zip/jvs_ver1/jvs053/nonpara30\n",
            "Folder: /gdrive/MyDrive/datasets/public_datasets/downloads/extracted/ZIP.jvs_ver1.zip/jvs_ver1/jvs053/falset10\n",
            "Folder: /gdrive/MyDrive/datasets/public_datasets/downloads/extracted/ZIP.jvs_ver1.zip/jvs_ver1/jvs045/parallel100\n",
            "Folder: /gdrive/MyDrive/datasets/public_datasets/downloads/extracted/ZIP.jvs_ver1.zip/jvs_ver1/jvs045/whisper10\n",
            "Folder: /gdrive/MyDrive/datasets/public_datasets/downloads/extracted/ZIP.jvs_ver1.zip/jvs_ver1/jvs045/nonpara30\n",
            "Folder: /gdrive/MyDrive/datasets/public_datasets/downloads/extracted/ZIP.jvs_ver1.zip/jvs_ver1/jvs045/falset10\n",
            "Folder: /gdrive/MyDrive/datasets/public_datasets/downloads/extracted/ZIP.jvs_ver1.zip/jvs_ver1/jvs046/parallel100\n",
            "Folder: /gdrive/MyDrive/datasets/public_datasets/downloads/extracted/ZIP.jvs_ver1.zip/jvs_ver1/jvs046/whisper10\n",
            "Folder: /gdrive/MyDrive/datasets/public_datasets/downloads/extracted/ZIP.jvs_ver1.zip/jvs_ver1/jvs046/nonpara30\n",
            "Folder: /gdrive/MyDrive/datasets/public_datasets/downloads/extracted/ZIP.jvs_ver1.zip/jvs_ver1/jvs046/falset10\n",
            "Folder: /gdrive/MyDrive/datasets/public_datasets/downloads/extracted/ZIP.jvs_ver1.zip/jvs_ver1/jvs077/parallel100\n",
            "Folder: /gdrive/MyDrive/datasets/public_datasets/downloads/extracted/ZIP.jvs_ver1.zip/jvs_ver1/jvs077/whisper10\n",
            "Folder: /gdrive/MyDrive/datasets/public_datasets/downloads/extracted/ZIP.jvs_ver1.zip/jvs_ver1/jvs077/nonpara30\n",
            "Folder: /gdrive/MyDrive/datasets/public_datasets/downloads/extracted/ZIP.jvs_ver1.zip/jvs_ver1/jvs077/falset10\n",
            "Folder: /gdrive/MyDrive/datasets/public_datasets/downloads/extracted/ZIP.jvs_ver1.zip/jvs_ver1/jvs057/parallel100\n",
            "Folder: /gdrive/MyDrive/datasets/public_datasets/downloads/extracted/ZIP.jvs_ver1.zip/jvs_ver1/jvs057/whisper10\n",
            "Folder: /gdrive/MyDrive/datasets/public_datasets/downloads/extracted/ZIP.jvs_ver1.zip/jvs_ver1/jvs057/nonpara30\n",
            "Folder: /gdrive/MyDrive/datasets/public_datasets/downloads/extracted/ZIP.jvs_ver1.zip/jvs_ver1/jvs057/falset10\n",
            "Folder: /gdrive/MyDrive/datasets/public_datasets/downloads/extracted/ZIP.jvs_ver1.zip/jvs_ver1/jvs059/parallel100\n",
            "Folder: /gdrive/MyDrive/datasets/public_datasets/downloads/extracted/ZIP.jvs_ver1.zip/jvs_ver1/jvs059/whisper10\n",
            "Folder: /gdrive/MyDrive/datasets/public_datasets/downloads/extracted/ZIP.jvs_ver1.zip/jvs_ver1/jvs059/nonpara30\n",
            "Folder: /gdrive/MyDrive/datasets/public_datasets/downloads/extracted/ZIP.jvs_ver1.zip/jvs_ver1/jvs059/falset10\n",
            "Folder: /gdrive/MyDrive/datasets/public_datasets/downloads/extracted/ZIP.jvs_ver1.zip/jvs_ver1/jvs060/parallel100\n",
            "Folder: /gdrive/MyDrive/datasets/public_datasets/downloads/extracted/ZIP.jvs_ver1.zip/jvs_ver1/jvs060/whisper10\n",
            "Folder: /gdrive/MyDrive/datasets/public_datasets/downloads/extracted/ZIP.jvs_ver1.zip/jvs_ver1/jvs060/nonpara30\n",
            "Folder: /gdrive/MyDrive/datasets/public_datasets/downloads/extracted/ZIP.jvs_ver1.zip/jvs_ver1/jvs060/falset10\n",
            "Folder: /gdrive/MyDrive/datasets/public_datasets/downloads/extracted/ZIP.jvs_ver1.zip/jvs_ver1/jvs066/parallel100\n",
            "Folder: /gdrive/MyDrive/datasets/public_datasets/downloads/extracted/ZIP.jvs_ver1.zip/jvs_ver1/jvs066/whisper10\n",
            "Folder: /gdrive/MyDrive/datasets/public_datasets/downloads/extracted/ZIP.jvs_ver1.zip/jvs_ver1/jvs066/nonpara30\n",
            "Folder: /gdrive/MyDrive/datasets/public_datasets/downloads/extracted/ZIP.jvs_ver1.zip/jvs_ver1/jvs066/falset10\n",
            "Folder: /gdrive/MyDrive/datasets/public_datasets/downloads/extracted/ZIP.jvs_ver1.zip/jvs_ver1/jvs033/parallel100\n",
            "Folder: /gdrive/MyDrive/datasets/public_datasets/downloads/extracted/ZIP.jvs_ver1.zip/jvs_ver1/jvs033/whisper10\n",
            "Folder: /gdrive/MyDrive/datasets/public_datasets/downloads/extracted/ZIP.jvs_ver1.zip/jvs_ver1/jvs033/nonpara30\n",
            "Folder: /gdrive/MyDrive/datasets/public_datasets/downloads/extracted/ZIP.jvs_ver1.zip/jvs_ver1/jvs033/falset10\n",
            "Folder: /gdrive/MyDrive/datasets/public_datasets/downloads/extracted/ZIP.jvs_ver1.zip/jvs_ver1/jvs028/parallel100\n",
            "Folder: /gdrive/MyDrive/datasets/public_datasets/downloads/extracted/ZIP.jvs_ver1.zip/jvs_ver1/jvs028/whisper10\n",
            "Folder: /gdrive/MyDrive/datasets/public_datasets/downloads/extracted/ZIP.jvs_ver1.zip/jvs_ver1/jvs028/nonpara30\n",
            "Folder: /gdrive/MyDrive/datasets/public_datasets/downloads/extracted/ZIP.jvs_ver1.zip/jvs_ver1/jvs028/falset10\n",
            "Folder: /gdrive/MyDrive/datasets/public_datasets/downloads/extracted/ZIP.jvs_ver1.zip/jvs_ver1/jvs087/parallel100\n",
            "Folder: /gdrive/MyDrive/datasets/public_datasets/downloads/extracted/ZIP.jvs_ver1.zip/jvs_ver1/jvs087/whisper10\n",
            "Folder: /gdrive/MyDrive/datasets/public_datasets/downloads/extracted/ZIP.jvs_ver1.zip/jvs_ver1/jvs087/nonpara30\n",
            "Folder: /gdrive/MyDrive/datasets/public_datasets/downloads/extracted/ZIP.jvs_ver1.zip/jvs_ver1/jvs087/falset10\n",
            "Folder: /gdrive/MyDrive/datasets/public_datasets/downloads/extracted/ZIP.jvs_ver1.zip/jvs_ver1/jvs037/parallel100\n",
            "Folder: /gdrive/MyDrive/datasets/public_datasets/downloads/extracted/ZIP.jvs_ver1.zip/jvs_ver1/jvs037/whisper10\n",
            "Folder: /gdrive/MyDrive/datasets/public_datasets/downloads/extracted/ZIP.jvs_ver1.zip/jvs_ver1/jvs037/nonpara30\n",
            "Folder: /gdrive/MyDrive/datasets/public_datasets/downloads/extracted/ZIP.jvs_ver1.zip/jvs_ver1/jvs037/falset10\n",
            "Folder: /gdrive/MyDrive/datasets/public_datasets/downloads/extracted/ZIP.jvs_ver1.zip/jvs_ver1/jvs069/parallel100\n",
            "Folder: /gdrive/MyDrive/datasets/public_datasets/downloads/extracted/ZIP.jvs_ver1.zip/jvs_ver1/jvs069/whisper10\n",
            "Folder: /gdrive/MyDrive/datasets/public_datasets/downloads/extracted/ZIP.jvs_ver1.zip/jvs_ver1/jvs069/nonpara30\n",
            "Folder: /gdrive/MyDrive/datasets/public_datasets/downloads/extracted/ZIP.jvs_ver1.zip/jvs_ver1/jvs069/falset10\n",
            "Folder: /gdrive/MyDrive/datasets/public_datasets/downloads/extracted/ZIP.jvs_ver1.zip/jvs_ver1/jvs071/parallel100\n",
            "Folder: /gdrive/MyDrive/datasets/public_datasets/downloads/extracted/ZIP.jvs_ver1.zip/jvs_ver1/jvs071/whisper10\n",
            "Folder: /gdrive/MyDrive/datasets/public_datasets/downloads/extracted/ZIP.jvs_ver1.zip/jvs_ver1/jvs071/nonpara30\n",
            "Folder: /gdrive/MyDrive/datasets/public_datasets/downloads/extracted/ZIP.jvs_ver1.zip/jvs_ver1/jvs071/falset10\n",
            "Folder: /gdrive/MyDrive/datasets/public_datasets/downloads/extracted/ZIP.jvs_ver1.zip/jvs_ver1/jvs051/parallel100\n",
            "Folder: /gdrive/MyDrive/datasets/public_datasets/downloads/extracted/ZIP.jvs_ver1.zip/jvs_ver1/jvs051/whisper10\n",
            "Folder: /gdrive/MyDrive/datasets/public_datasets/downloads/extracted/ZIP.jvs_ver1.zip/jvs_ver1/jvs051/nonpara30\n",
            "Folder: /gdrive/MyDrive/datasets/public_datasets/downloads/extracted/ZIP.jvs_ver1.zip/jvs_ver1/jvs051/falset10\n",
            "Folder: /gdrive/MyDrive/datasets/public_datasets/downloads/extracted/ZIP.jvs_ver1.zip/jvs_ver1/jvs049/parallel100\n",
            "Folder: /gdrive/MyDrive/datasets/public_datasets/downloads/extracted/ZIP.jvs_ver1.zip/jvs_ver1/jvs049/whisper10\n",
            "Folder: /gdrive/MyDrive/datasets/public_datasets/downloads/extracted/ZIP.jvs_ver1.zip/jvs_ver1/jvs049/nonpara30\n",
            "Folder: /gdrive/MyDrive/datasets/public_datasets/downloads/extracted/ZIP.jvs_ver1.zip/jvs_ver1/jvs049/falset10\n",
            "Folder: /gdrive/MyDrive/datasets/public_datasets/downloads/extracted/ZIP.jvs_ver1.zip/jvs_ver1/jvs044/parallel100\n",
            "Folder: /gdrive/MyDrive/datasets/public_datasets/downloads/extracted/ZIP.jvs_ver1.zip/jvs_ver1/jvs044/whisper10\n",
            "Folder: /gdrive/MyDrive/datasets/public_datasets/downloads/extracted/ZIP.jvs_ver1.zip/jvs_ver1/jvs044/nonpara30\n",
            "Folder: /gdrive/MyDrive/datasets/public_datasets/downloads/extracted/ZIP.jvs_ver1.zip/jvs_ver1/jvs044/falset10\n",
            "Folder: /gdrive/MyDrive/datasets/public_datasets/downloads/extracted/ZIP.jvs_ver1.zip/jvs_ver1/jvs098/parallel100\n",
            "Folder: /gdrive/MyDrive/datasets/public_datasets/downloads/extracted/ZIP.jvs_ver1.zip/jvs_ver1/jvs098/whisper10\n",
            "Folder: /gdrive/MyDrive/datasets/public_datasets/downloads/extracted/ZIP.jvs_ver1.zip/jvs_ver1/jvs098/nonpara30\n",
            "Folder: /gdrive/MyDrive/datasets/public_datasets/downloads/extracted/ZIP.jvs_ver1.zip/jvs_ver1/jvs098/falset10\n",
            "Folder: /gdrive/MyDrive/datasets/public_datasets/downloads/extracted/ZIP.jvs_ver1.zip/jvs_ver1/jvs030/parallel100\n",
            "Folder: /gdrive/MyDrive/datasets/public_datasets/downloads/extracted/ZIP.jvs_ver1.zip/jvs_ver1/jvs030/whisper10\n",
            "Folder: /gdrive/MyDrive/datasets/public_datasets/downloads/extracted/ZIP.jvs_ver1.zip/jvs_ver1/jvs030/nonpara30\n",
            "Folder: /gdrive/MyDrive/datasets/public_datasets/downloads/extracted/ZIP.jvs_ver1.zip/jvs_ver1/jvs030/falset10\n",
            "Folder: /gdrive/MyDrive/datasets/public_datasets/downloads/extracted/ZIP.jvs_ver1.zip/jvs_ver1/jvs010/parallel100\n",
            "Folder: /gdrive/MyDrive/datasets/public_datasets/downloads/extracted/ZIP.jvs_ver1.zip/jvs_ver1/jvs010/whisper10\n",
            "Folder: /gdrive/MyDrive/datasets/public_datasets/downloads/extracted/ZIP.jvs_ver1.zip/jvs_ver1/jvs010/nonpara30\n",
            "Folder: /gdrive/MyDrive/datasets/public_datasets/downloads/extracted/ZIP.jvs_ver1.zip/jvs_ver1/jvs010/falset10\n",
            "Folder: /gdrive/MyDrive/datasets/public_datasets/downloads/extracted/ZIP.jvs_ver1.zip/jvs_ver1/jvs029/parallel100\n",
            "Folder: /gdrive/MyDrive/datasets/public_datasets/downloads/extracted/ZIP.jvs_ver1.zip/jvs_ver1/jvs029/whisper10\n",
            "Folder: /gdrive/MyDrive/datasets/public_datasets/downloads/extracted/ZIP.jvs_ver1.zip/jvs_ver1/jvs029/nonpara30\n",
            "Folder: /gdrive/MyDrive/datasets/public_datasets/downloads/extracted/ZIP.jvs_ver1.zip/jvs_ver1/jvs029/falset10\n",
            "Folder: /gdrive/MyDrive/datasets/public_datasets/downloads/extracted/ZIP.jvs_ver1.zip/jvs_ver1/jvs011/parallel100\n",
            "Folder: /gdrive/MyDrive/datasets/public_datasets/downloads/extracted/ZIP.jvs_ver1.zip/jvs_ver1/jvs011/whisper10\n",
            "Folder: /gdrive/MyDrive/datasets/public_datasets/downloads/extracted/ZIP.jvs_ver1.zip/jvs_ver1/jvs011/nonpara30\n",
            "Folder: /gdrive/MyDrive/datasets/public_datasets/downloads/extracted/ZIP.jvs_ver1.zip/jvs_ver1/jvs011/falset10\n",
            "Folder: /gdrive/MyDrive/datasets/public_datasets/downloads/extracted/ZIP.jvs_ver1.zip/jvs_ver1/jvs086/parallel100\n",
            "Folder: /gdrive/MyDrive/datasets/public_datasets/downloads/extracted/ZIP.jvs_ver1.zip/jvs_ver1/jvs086/whisper10\n",
            "Folder: /gdrive/MyDrive/datasets/public_datasets/downloads/extracted/ZIP.jvs_ver1.zip/jvs_ver1/jvs086/nonpara30\n",
            "Folder: /gdrive/MyDrive/datasets/public_datasets/downloads/extracted/ZIP.jvs_ver1.zip/jvs_ver1/jvs086/falset10\n",
            "Folder: /gdrive/MyDrive/datasets/public_datasets/downloads/extracted/ZIP.jvs_ver1.zip/jvs_ver1/jvs058/parallel100\n",
            "Folder: /gdrive/MyDrive/datasets/public_datasets/downloads/extracted/ZIP.jvs_ver1.zip/jvs_ver1/jvs058/whisper10\n",
            "Folder: /gdrive/MyDrive/datasets/public_datasets/downloads/extracted/ZIP.jvs_ver1.zip/jvs_ver1/jvs058/nonpara30\n",
            "Folder: /gdrive/MyDrive/datasets/public_datasets/downloads/extracted/ZIP.jvs_ver1.zip/jvs_ver1/jvs058/falset10\n",
            "Folder: /gdrive/MyDrive/datasets/public_datasets/downloads/extracted/ZIP.jvs_ver1.zip/jvs_ver1/jvs067/parallel100\n",
            "Folder: /gdrive/MyDrive/datasets/public_datasets/downloads/extracted/ZIP.jvs_ver1.zip/jvs_ver1/jvs067/whisper10\n",
            "Folder: /gdrive/MyDrive/datasets/public_datasets/downloads/extracted/ZIP.jvs_ver1.zip/jvs_ver1/jvs067/nonpara30\n",
            "Folder: /gdrive/MyDrive/datasets/public_datasets/downloads/extracted/ZIP.jvs_ver1.zip/jvs_ver1/jvs067/falset10\n",
            "Folder: /gdrive/MyDrive/datasets/public_datasets/downloads/extracted/ZIP.jvs_ver1.zip/jvs_ver1/jvs027/parallel100\n",
            "Folder: /gdrive/MyDrive/datasets/public_datasets/downloads/extracted/ZIP.jvs_ver1.zip/jvs_ver1/jvs027/whisper10\n",
            "Folder: /gdrive/MyDrive/datasets/public_datasets/downloads/extracted/ZIP.jvs_ver1.zip/jvs_ver1/jvs027/nonpara30\n",
            "Folder: /gdrive/MyDrive/datasets/public_datasets/downloads/extracted/ZIP.jvs_ver1.zip/jvs_ver1/jvs027/falset10\n",
            "Folder: /gdrive/MyDrive/datasets/public_datasets/downloads/extracted/ZIP.jvs_ver1.zip/jvs_ver1/jvs097/parallel100\n",
            "Folder: /gdrive/MyDrive/datasets/public_datasets/downloads/extracted/ZIP.jvs_ver1.zip/jvs_ver1/jvs097/whisper10\n",
            "Folder: /gdrive/MyDrive/datasets/public_datasets/downloads/extracted/ZIP.jvs_ver1.zip/jvs_ver1/jvs097/nonpara30\n",
            "Folder: /gdrive/MyDrive/datasets/public_datasets/downloads/extracted/ZIP.jvs_ver1.zip/jvs_ver1/jvs097/falset10\n",
            "Folder: /gdrive/MyDrive/datasets/public_datasets/downloads/extracted/ZIP.jvs_ver1.zip/jvs_ver1/jvs034/parallel100\n",
            "Folder: /gdrive/MyDrive/datasets/public_datasets/downloads/extracted/ZIP.jvs_ver1.zip/jvs_ver1/jvs034/whisper10\n",
            "Folder: /gdrive/MyDrive/datasets/public_datasets/downloads/extracted/ZIP.jvs_ver1.zip/jvs_ver1/jvs034/nonpara30\n",
            "Folder: /gdrive/MyDrive/datasets/public_datasets/downloads/extracted/ZIP.jvs_ver1.zip/jvs_ver1/jvs034/falset10\n",
            "Folder: /gdrive/MyDrive/datasets/public_datasets/downloads/extracted/ZIP.jvs_ver1.zip/jvs_ver1/jvs072/parallel100\n",
            "Folder: /gdrive/MyDrive/datasets/public_datasets/downloads/extracted/ZIP.jvs_ver1.zip/jvs_ver1/jvs072/whisper10\n",
            "Folder: /gdrive/MyDrive/datasets/public_datasets/downloads/extracted/ZIP.jvs_ver1.zip/jvs_ver1/jvs072/nonpara30\n",
            "Folder: /gdrive/MyDrive/datasets/public_datasets/downloads/extracted/ZIP.jvs_ver1.zip/jvs_ver1/jvs072/falset10\n",
            "Folder: /gdrive/MyDrive/datasets/public_datasets/downloads/extracted/ZIP.jvs_ver1.zip/jvs_ver1/jvs089/parallel100\n",
            "Folder: /gdrive/MyDrive/datasets/public_datasets/downloads/extracted/ZIP.jvs_ver1.zip/jvs_ver1/jvs089/whisper10\n",
            "Folder: /gdrive/MyDrive/datasets/public_datasets/downloads/extracted/ZIP.jvs_ver1.zip/jvs_ver1/jvs089/nonpara30\n",
            "Folder: /gdrive/MyDrive/datasets/public_datasets/downloads/extracted/ZIP.jvs_ver1.zip/jvs_ver1/jvs089/falset10\n",
            "Folder: /gdrive/MyDrive/datasets/public_datasets/downloads/extracted/ZIP.jvs_ver1.zip/jvs_ver1/jvs085/parallel100\n",
            "Folder: /gdrive/MyDrive/datasets/public_datasets/downloads/extracted/ZIP.jvs_ver1.zip/jvs_ver1/jvs085/whisper10\n",
            "Folder: /gdrive/MyDrive/datasets/public_datasets/downloads/extracted/ZIP.jvs_ver1.zip/jvs_ver1/jvs085/nonpara30\n",
            "Folder: /gdrive/MyDrive/datasets/public_datasets/downloads/extracted/ZIP.jvs_ver1.zip/jvs_ver1/jvs085/falset10\n",
            "Folder: /gdrive/MyDrive/datasets/public_datasets/downloads/extracted/ZIP.jvs_ver1.zip/jvs_ver1/jvs018/parallel100\n",
            "Folder: /gdrive/MyDrive/datasets/public_datasets/downloads/extracted/ZIP.jvs_ver1.zip/jvs_ver1/jvs018/whisper10\n",
            "Folder: /gdrive/MyDrive/datasets/public_datasets/downloads/extracted/ZIP.jvs_ver1.zip/jvs_ver1/jvs018/nonpara30\n",
            "Folder: /gdrive/MyDrive/datasets/public_datasets/downloads/extracted/ZIP.jvs_ver1.zip/jvs_ver1/jvs018/falset10\n",
            "Folder: /gdrive/MyDrive/datasets/public_datasets/downloads/extracted/ZIP.jvs_ver1.zip/jvs_ver1/jvs070/parallel100\n",
            "Folder: /gdrive/MyDrive/datasets/public_datasets/downloads/extracted/ZIP.jvs_ver1.zip/jvs_ver1/jvs070/whisper10\n",
            "Folder: /gdrive/MyDrive/datasets/public_datasets/downloads/extracted/ZIP.jvs_ver1.zip/jvs_ver1/jvs070/nonpara30\n",
            "Folder: /gdrive/MyDrive/datasets/public_datasets/downloads/extracted/ZIP.jvs_ver1.zip/jvs_ver1/jvs070/falset10\n",
            "Folder: /gdrive/MyDrive/datasets/public_datasets/downloads/extracted/ZIP.jvs_ver1.zip/jvs_ver1/jvs050/parallel100\n",
            "Folder: /gdrive/MyDrive/datasets/public_datasets/downloads/extracted/ZIP.jvs_ver1.zip/jvs_ver1/jvs050/whisper10\n",
            "Folder: /gdrive/MyDrive/datasets/public_datasets/downloads/extracted/ZIP.jvs_ver1.zip/jvs_ver1/jvs050/nonpara30\n",
            "Folder: /gdrive/MyDrive/datasets/public_datasets/downloads/extracted/ZIP.jvs_ver1.zip/jvs_ver1/jvs050/falset10\n",
            "Folder: /gdrive/MyDrive/datasets/public_datasets/downloads/extracted/ZIP.jvs_ver1.zip/jvs_ver1/jvs056/parallel100\n",
            "Folder: /gdrive/MyDrive/datasets/public_datasets/downloads/extracted/ZIP.jvs_ver1.zip/jvs_ver1/jvs056/whisper10\n",
            "Folder: /gdrive/MyDrive/datasets/public_datasets/downloads/extracted/ZIP.jvs_ver1.zip/jvs_ver1/jvs056/nonpara30\n",
            "Folder: /gdrive/MyDrive/datasets/public_datasets/downloads/extracted/ZIP.jvs_ver1.zip/jvs_ver1/jvs056/falset10\n"
          ],
          "name": "stdout"
        },
        {
          "output_type": "display_data",
          "data": {
            "application/vnd.jupyter.widget-view+json": {
              "model_id": "7492c0016bca4dc2b0b941edccbe8578",
              "version_minor": 0,
              "version_major": 2
            },
            "text/plain": [
              "HBox(children=(FloatProgress(value=0.0, description='Shuffling jvs-train.tfrecord...', max=14982.0, style=Prog…"
            ]
          },
          "metadata": {
            "tags": []
          }
        },
        {
          "output_type": "stream",
          "text": [
            "\r\u001b[1mDataset jvs downloaded and prepared to /gdrive/MyDrive/datasets/public_datasets/jvs/1.1.0. Subsequent calls will reuse this data.\u001b[0m\n"
          ],
          "name": "stdout"
        }
      ]
    },
    {
      "cell_type": "code",
      "metadata": {
        "id": "0Fku1GXHASUQ"
      },
      "source": [
        ""
      ],
      "execution_count": null,
      "outputs": []
    }
  ]
}