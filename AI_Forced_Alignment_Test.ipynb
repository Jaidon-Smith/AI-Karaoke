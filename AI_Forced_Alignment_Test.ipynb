{
  "nbformat": 4,
  "nbformat_minor": 0,
  "metadata": {
    "colab": {
      "name": "AI-Forced-Alignment-Test.ipynb",
      "provenance": [],
      "authorship_tag": "ABX9TyOSS7WlvsFjFSwXa7vKmjOD",
      "include_colab_link": true
    },
    "kernelspec": {
      "name": "python3",
      "display_name": "Python 3"
    },
    "widgets": {
      "application/vnd.jupyter.widget-state+json": {
        "992032fa612e4126b6c20043775d8591": {
          "model_module": "@jupyter-widgets/controls",
          "model_name": "HBoxModel",
          "state": {
            "_view_name": "HBoxView",
            "_dom_classes": [],
            "_model_name": "HBoxModel",
            "_view_module": "@jupyter-widgets/controls",
            "_model_module_version": "1.5.0",
            "_view_count": null,
            "_view_module_version": "1.5.0",
            "box_style": "",
            "layout": "IPY_MODEL_898919fde2234b63860430f56b909158",
            "_model_module": "@jupyter-widgets/controls",
            "children": [
              "IPY_MODEL_458f3f37b16346aa860df83f3aed631f",
              "IPY_MODEL_e14a3ad193b64fc28886a5dcfc7daa6b"
            ]
          }
        },
        "898919fde2234b63860430f56b909158": {
          "model_module": "@jupyter-widgets/base",
          "model_name": "LayoutModel",
          "state": {
            "_view_name": "LayoutView",
            "grid_template_rows": null,
            "right": null,
            "justify_content": null,
            "_view_module": "@jupyter-widgets/base",
            "overflow": null,
            "_model_module_version": "1.2.0",
            "_view_count": null,
            "flex_flow": null,
            "width": null,
            "min_width": null,
            "border": null,
            "align_items": null,
            "bottom": null,
            "_model_module": "@jupyter-widgets/base",
            "top": null,
            "grid_column": null,
            "overflow_y": null,
            "overflow_x": null,
            "grid_auto_flow": null,
            "grid_area": null,
            "grid_template_columns": null,
            "flex": null,
            "_model_name": "LayoutModel",
            "justify_items": null,
            "grid_row": null,
            "max_height": null,
            "align_content": null,
            "visibility": null,
            "align_self": null,
            "height": null,
            "min_height": null,
            "padding": null,
            "grid_auto_rows": null,
            "grid_gap": null,
            "max_width": null,
            "order": null,
            "_view_module_version": "1.2.0",
            "grid_template_areas": null,
            "object_position": null,
            "object_fit": null,
            "grid_auto_columns": null,
            "margin": null,
            "display": null,
            "left": null
          }
        },
        "458f3f37b16346aa860df83f3aed631f": {
          "model_module": "@jupyter-widgets/controls",
          "model_name": "FloatProgressModel",
          "state": {
            "_view_name": "ProgressView",
            "style": "IPY_MODEL_05348a08cd054fd69cbd4b4b731feb41",
            "_dom_classes": [],
            "description": "100%",
            "_model_name": "FloatProgressModel",
            "bar_style": "success",
            "max": 182379138,
            "_view_module": "@jupyter-widgets/controls",
            "_model_module_version": "1.5.0",
            "value": 182379138,
            "_view_count": null,
            "_view_module_version": "1.5.0",
            "orientation": "horizontal",
            "min": 0,
            "description_tooltip": null,
            "_model_module": "@jupyter-widgets/controls",
            "layout": "IPY_MODEL_14d7185cf26d4a2abcb75d4a53432989"
          }
        },
        "e14a3ad193b64fc28886a5dcfc7daa6b": {
          "model_module": "@jupyter-widgets/controls",
          "model_name": "HTMLModel",
          "state": {
            "_view_name": "HTMLView",
            "style": "IPY_MODEL_66b73fceb89a4a9fb43796c8715c7a96",
            "_dom_classes": [],
            "description": "",
            "_model_name": "HTMLModel",
            "placeholder": "​",
            "_view_module": "@jupyter-widgets/controls",
            "_model_module_version": "1.5.0",
            "value": " 174M/174M [00:01&lt;00:00, 133MB/s]",
            "_view_count": null,
            "_view_module_version": "1.5.0",
            "description_tooltip": null,
            "_model_module": "@jupyter-widgets/controls",
            "layout": "IPY_MODEL_281f6ec007874e4f906ef1939b7c54a9"
          }
        },
        "05348a08cd054fd69cbd4b4b731feb41": {
          "model_module": "@jupyter-widgets/controls",
          "model_name": "ProgressStyleModel",
          "state": {
            "_view_name": "StyleView",
            "_model_name": "ProgressStyleModel",
            "description_width": "initial",
            "_view_module": "@jupyter-widgets/base",
            "_model_module_version": "1.5.0",
            "_view_count": null,
            "_view_module_version": "1.2.0",
            "bar_color": null,
            "_model_module": "@jupyter-widgets/controls"
          }
        },
        "14d7185cf26d4a2abcb75d4a53432989": {
          "model_module": "@jupyter-widgets/base",
          "model_name": "LayoutModel",
          "state": {
            "_view_name": "LayoutView",
            "grid_template_rows": null,
            "right": null,
            "justify_content": null,
            "_view_module": "@jupyter-widgets/base",
            "overflow": null,
            "_model_module_version": "1.2.0",
            "_view_count": null,
            "flex_flow": null,
            "width": null,
            "min_width": null,
            "border": null,
            "align_items": null,
            "bottom": null,
            "_model_module": "@jupyter-widgets/base",
            "top": null,
            "grid_column": null,
            "overflow_y": null,
            "overflow_x": null,
            "grid_auto_flow": null,
            "grid_area": null,
            "grid_template_columns": null,
            "flex": null,
            "_model_name": "LayoutModel",
            "justify_items": null,
            "grid_row": null,
            "max_height": null,
            "align_content": null,
            "visibility": null,
            "align_self": null,
            "height": null,
            "min_height": null,
            "padding": null,
            "grid_auto_rows": null,
            "grid_gap": null,
            "max_width": null,
            "order": null,
            "_view_module_version": "1.2.0",
            "grid_template_areas": null,
            "object_position": null,
            "object_fit": null,
            "grid_auto_columns": null,
            "margin": null,
            "display": null,
            "left": null
          }
        },
        "66b73fceb89a4a9fb43796c8715c7a96": {
          "model_module": "@jupyter-widgets/controls",
          "model_name": "DescriptionStyleModel",
          "state": {
            "_view_name": "StyleView",
            "_model_name": "DescriptionStyleModel",
            "description_width": "",
            "_view_module": "@jupyter-widgets/base",
            "_model_module_version": "1.5.0",
            "_view_count": null,
            "_view_module_version": "1.2.0",
            "_model_module": "@jupyter-widgets/controls"
          }
        },
        "281f6ec007874e4f906ef1939b7c54a9": {
          "model_module": "@jupyter-widgets/base",
          "model_name": "LayoutModel",
          "state": {
            "_view_name": "LayoutView",
            "grid_template_rows": null,
            "right": null,
            "justify_content": null,
            "_view_module": "@jupyter-widgets/base",
            "overflow": null,
            "_model_module_version": "1.2.0",
            "_view_count": null,
            "flex_flow": null,
            "width": null,
            "min_width": null,
            "border": null,
            "align_items": null,
            "bottom": null,
            "_model_module": "@jupyter-widgets/base",
            "top": null,
            "grid_column": null,
            "overflow_y": null,
            "overflow_x": null,
            "grid_auto_flow": null,
            "grid_area": null,
            "grid_template_columns": null,
            "flex": null,
            "_model_name": "LayoutModel",
            "justify_items": null,
            "grid_row": null,
            "max_height": null,
            "align_content": null,
            "visibility": null,
            "align_self": null,
            "height": null,
            "min_height": null,
            "padding": null,
            "grid_auto_rows": null,
            "grid_gap": null,
            "max_width": null,
            "order": null,
            "_view_module_version": "1.2.0",
            "grid_template_areas": null,
            "object_position": null,
            "object_fit": null,
            "grid_auto_columns": null,
            "margin": null,
            "display": null,
            "left": null
          }
        },
        "36b739bd95a34743bdeb9a921a6368c0": {
          "model_module": "@jupyter-widgets/controls",
          "model_name": "HBoxModel",
          "state": {
            "_view_name": "HBoxView",
            "_dom_classes": [],
            "_model_name": "HBoxModel",
            "_view_module": "@jupyter-widgets/controls",
            "_model_module_version": "1.5.0",
            "_view_count": null,
            "_view_module_version": "1.5.0",
            "box_style": "",
            "layout": "IPY_MODEL_eb56e0d977cb40faa093c27dc2686600",
            "_model_module": "@jupyter-widgets/controls",
            "children": [
              "IPY_MODEL_0553fe2bb92b433c96454fb3be94aafb",
              "IPY_MODEL_399677aa2630475c933cb47b643afcb6"
            ]
          }
        },
        "eb56e0d977cb40faa093c27dc2686600": {
          "model_module": "@jupyter-widgets/base",
          "model_name": "LayoutModel",
          "state": {
            "_view_name": "LayoutView",
            "grid_template_rows": null,
            "right": null,
            "justify_content": null,
            "_view_module": "@jupyter-widgets/base",
            "overflow": null,
            "_model_module_version": "1.2.0",
            "_view_count": null,
            "flex_flow": null,
            "width": null,
            "min_width": null,
            "border": null,
            "align_items": null,
            "bottom": null,
            "_model_module": "@jupyter-widgets/base",
            "top": null,
            "grid_column": null,
            "overflow_y": null,
            "overflow_x": null,
            "grid_auto_flow": null,
            "grid_area": null,
            "grid_template_columns": null,
            "flex": null,
            "_model_name": "LayoutModel",
            "justify_items": null,
            "grid_row": null,
            "max_height": null,
            "align_content": null,
            "visibility": null,
            "align_self": null,
            "height": null,
            "min_height": null,
            "padding": null,
            "grid_auto_rows": null,
            "grid_gap": null,
            "max_width": null,
            "order": null,
            "_view_module_version": "1.2.0",
            "grid_template_areas": null,
            "object_position": null,
            "object_fit": null,
            "grid_auto_columns": null,
            "margin": null,
            "display": null,
            "left": null
          }
        },
        "0553fe2bb92b433c96454fb3be94aafb": {
          "model_module": "@jupyter-widgets/controls",
          "model_name": "FloatProgressModel",
          "state": {
            "_view_name": "ProgressView",
            "style": "IPY_MODEL_b3327e97651c4435a3cff55c495676a3",
            "_dom_classes": [],
            "description": "100%",
            "_model_name": "FloatProgressModel",
            "bar_style": "success",
            "max": 3163,
            "_view_module": "@jupyter-widgets/controls",
            "_model_module_version": "1.5.0",
            "value": 3163,
            "_view_count": null,
            "_view_module_version": "1.5.0",
            "orientation": "horizontal",
            "min": 0,
            "description_tooltip": null,
            "_model_module": "@jupyter-widgets/controls",
            "layout": "IPY_MODEL_636157e775fb467285f1264a01d760a7"
          }
        },
        "399677aa2630475c933cb47b643afcb6": {
          "model_module": "@jupyter-widgets/controls",
          "model_name": "HTMLModel",
          "state": {
            "_view_name": "HTMLView",
            "style": "IPY_MODEL_a2d57b0879d74c2891601128a7f785db",
            "_dom_classes": [],
            "description": "",
            "_model_name": "HTMLModel",
            "placeholder": "​",
            "_view_module": "@jupyter-widgets/controls",
            "_model_module_version": "1.5.0",
            "value": " 3.09k/3.09k [00:04&lt;00:00, 700B/s]",
            "_view_count": null,
            "_view_module_version": "1.5.0",
            "description_tooltip": null,
            "_model_module": "@jupyter-widgets/controls",
            "layout": "IPY_MODEL_06d49f887fb84a9288f24065c5213797"
          }
        },
        "b3327e97651c4435a3cff55c495676a3": {
          "model_module": "@jupyter-widgets/controls",
          "model_name": "ProgressStyleModel",
          "state": {
            "_view_name": "StyleView",
            "_model_name": "ProgressStyleModel",
            "description_width": "initial",
            "_view_module": "@jupyter-widgets/base",
            "_model_module_version": "1.5.0",
            "_view_count": null,
            "_view_module_version": "1.2.0",
            "bar_color": null,
            "_model_module": "@jupyter-widgets/controls"
          }
        },
        "636157e775fb467285f1264a01d760a7": {
          "model_module": "@jupyter-widgets/base",
          "model_name": "LayoutModel",
          "state": {
            "_view_name": "LayoutView",
            "grid_template_rows": null,
            "right": null,
            "justify_content": null,
            "_view_module": "@jupyter-widgets/base",
            "overflow": null,
            "_model_module_version": "1.2.0",
            "_view_count": null,
            "flex_flow": null,
            "width": null,
            "min_width": null,
            "border": null,
            "align_items": null,
            "bottom": null,
            "_model_module": "@jupyter-widgets/base",
            "top": null,
            "grid_column": null,
            "overflow_y": null,
            "overflow_x": null,
            "grid_auto_flow": null,
            "grid_area": null,
            "grid_template_columns": null,
            "flex": null,
            "_model_name": "LayoutModel",
            "justify_items": null,
            "grid_row": null,
            "max_height": null,
            "align_content": null,
            "visibility": null,
            "align_self": null,
            "height": null,
            "min_height": null,
            "padding": null,
            "grid_auto_rows": null,
            "grid_gap": null,
            "max_width": null,
            "order": null,
            "_view_module_version": "1.2.0",
            "grid_template_areas": null,
            "object_position": null,
            "object_fit": null,
            "grid_auto_columns": null,
            "margin": null,
            "display": null,
            "left": null
          }
        },
        "a2d57b0879d74c2891601128a7f785db": {
          "model_module": "@jupyter-widgets/controls",
          "model_name": "DescriptionStyleModel",
          "state": {
            "_view_name": "StyleView",
            "_model_name": "DescriptionStyleModel",
            "description_width": "",
            "_view_module": "@jupyter-widgets/base",
            "_model_module_version": "1.5.0",
            "_view_count": null,
            "_view_module_version": "1.2.0",
            "_model_module": "@jupyter-widgets/controls"
          }
        },
        "06d49f887fb84a9288f24065c5213797": {
          "model_module": "@jupyter-widgets/base",
          "model_name": "LayoutModel",
          "state": {
            "_view_name": "LayoutView",
            "grid_template_rows": null,
            "right": null,
            "justify_content": null,
            "_view_module": "@jupyter-widgets/base",
            "overflow": null,
            "_model_module_version": "1.2.0",
            "_view_count": null,
            "flex_flow": null,
            "width": null,
            "min_width": null,
            "border": null,
            "align_items": null,
            "bottom": null,
            "_model_module": "@jupyter-widgets/base",
            "top": null,
            "grid_column": null,
            "overflow_y": null,
            "overflow_x": null,
            "grid_auto_flow": null,
            "grid_area": null,
            "grid_template_columns": null,
            "flex": null,
            "_model_name": "LayoutModel",
            "justify_items": null,
            "grid_row": null,
            "max_height": null,
            "align_content": null,
            "visibility": null,
            "align_self": null,
            "height": null,
            "min_height": null,
            "padding": null,
            "grid_auto_rows": null,
            "grid_gap": null,
            "max_width": null,
            "order": null,
            "_view_module_version": "1.2.0",
            "grid_template_areas": null,
            "object_position": null,
            "object_fit": null,
            "grid_auto_columns": null,
            "margin": null,
            "display": null,
            "left": null
          }
        },
        "c0c27d873ebb4a40b83a9250f7102882": {
          "model_module": "@jupyter-widgets/controls",
          "model_name": "HBoxModel",
          "state": {
            "_view_name": "HBoxView",
            "_dom_classes": [],
            "_model_name": "HBoxModel",
            "_view_module": "@jupyter-widgets/controls",
            "_model_module_version": "1.5.0",
            "_view_count": null,
            "_view_module_version": "1.5.0",
            "box_style": "",
            "layout": "IPY_MODEL_1541392ac74a41aab68792bec4e9e626",
            "_model_module": "@jupyter-widgets/controls",
            "children": [
              "IPY_MODEL_0220d0517bb7424b9142a2e38c9cfade",
              "IPY_MODEL_42ea527af2114a7bb5cdc72777e07e64"
            ]
          }
        },
        "1541392ac74a41aab68792bec4e9e626": {
          "model_module": "@jupyter-widgets/base",
          "model_name": "LayoutModel",
          "state": {
            "_view_name": "LayoutView",
            "grid_template_rows": null,
            "right": null,
            "justify_content": null,
            "_view_module": "@jupyter-widgets/base",
            "overflow": null,
            "_model_module_version": "1.2.0",
            "_view_count": null,
            "flex_flow": null,
            "width": null,
            "min_width": null,
            "border": null,
            "align_items": null,
            "bottom": null,
            "_model_module": "@jupyter-widgets/base",
            "top": null,
            "grid_column": null,
            "overflow_y": null,
            "overflow_x": null,
            "grid_auto_flow": null,
            "grid_area": null,
            "grid_template_columns": null,
            "flex": null,
            "_model_name": "LayoutModel",
            "justify_items": null,
            "grid_row": null,
            "max_height": null,
            "align_content": null,
            "visibility": null,
            "align_self": null,
            "height": null,
            "min_height": null,
            "padding": null,
            "grid_auto_rows": null,
            "grid_gap": null,
            "max_width": null,
            "order": null,
            "_view_module_version": "1.2.0",
            "grid_template_areas": null,
            "object_position": null,
            "object_fit": null,
            "grid_auto_columns": null,
            "margin": null,
            "display": null,
            "left": null
          }
        },
        "0220d0517bb7424b9142a2e38c9cfade": {
          "model_module": "@jupyter-widgets/controls",
          "model_name": "FloatProgressModel",
          "state": {
            "_view_name": "ProgressView",
            "style": "IPY_MODEL_757a24dff531403493f927e95980de43",
            "_dom_classes": [],
            "description": "100%",
            "_model_name": "FloatProgressModel",
            "bar_style": "success",
            "max": 1036844,
            "_view_module": "@jupyter-widgets/controls",
            "_model_module_version": "1.5.0",
            "value": 1036844,
            "_view_count": null,
            "_view_module_version": "1.5.0",
            "orientation": "horizontal",
            "min": 0,
            "description_tooltip": null,
            "_model_module": "@jupyter-widgets/controls",
            "layout": "IPY_MODEL_aa5de25ecde44cca89ab67fa85fab297"
          }
        },
        "42ea527af2114a7bb5cdc72777e07e64": {
          "model_module": "@jupyter-widgets/controls",
          "model_name": "HTMLModel",
          "state": {
            "_view_name": "HTMLView",
            "style": "IPY_MODEL_8b8e2367deff49e89ddf535f57f3be19",
            "_dom_classes": [],
            "description": "",
            "_model_name": "HTMLModel",
            "placeholder": "​",
            "_view_module": "@jupyter-widgets/controls",
            "_model_module_version": "1.5.0",
            "value": " 0.99M/0.99M [00:00&lt;00:00, 2.64MB/s]",
            "_view_count": null,
            "_view_module_version": "1.5.0",
            "description_tooltip": null,
            "_model_module": "@jupyter-widgets/controls",
            "layout": "IPY_MODEL_dceffe34335949cdb9f074f2d8333421"
          }
        },
        "757a24dff531403493f927e95980de43": {
          "model_module": "@jupyter-widgets/controls",
          "model_name": "ProgressStyleModel",
          "state": {
            "_view_name": "StyleView",
            "_model_name": "ProgressStyleModel",
            "description_width": "initial",
            "_view_module": "@jupyter-widgets/base",
            "_model_module_version": "1.5.0",
            "_view_count": null,
            "_view_module_version": "1.2.0",
            "bar_color": null,
            "_model_module": "@jupyter-widgets/controls"
          }
        },
        "aa5de25ecde44cca89ab67fa85fab297": {
          "model_module": "@jupyter-widgets/base",
          "model_name": "LayoutModel",
          "state": {
            "_view_name": "LayoutView",
            "grid_template_rows": null,
            "right": null,
            "justify_content": null,
            "_view_module": "@jupyter-widgets/base",
            "overflow": null,
            "_model_module_version": "1.2.0",
            "_view_count": null,
            "flex_flow": null,
            "width": null,
            "min_width": null,
            "border": null,
            "align_items": null,
            "bottom": null,
            "_model_module": "@jupyter-widgets/base",
            "top": null,
            "grid_column": null,
            "overflow_y": null,
            "overflow_x": null,
            "grid_auto_flow": null,
            "grid_area": null,
            "grid_template_columns": null,
            "flex": null,
            "_model_name": "LayoutModel",
            "justify_items": null,
            "grid_row": null,
            "max_height": null,
            "align_content": null,
            "visibility": null,
            "align_self": null,
            "height": null,
            "min_height": null,
            "padding": null,
            "grid_auto_rows": null,
            "grid_gap": null,
            "max_width": null,
            "order": null,
            "_view_module_version": "1.2.0",
            "grid_template_areas": null,
            "object_position": null,
            "object_fit": null,
            "grid_auto_columns": null,
            "margin": null,
            "display": null,
            "left": null
          }
        },
        "8b8e2367deff49e89ddf535f57f3be19": {
          "model_module": "@jupyter-widgets/controls",
          "model_name": "DescriptionStyleModel",
          "state": {
            "_view_name": "StyleView",
            "_model_name": "DescriptionStyleModel",
            "description_width": "",
            "_view_module": "@jupyter-widgets/base",
            "_model_module_version": "1.5.0",
            "_view_count": null,
            "_view_module_version": "1.2.0",
            "_model_module": "@jupyter-widgets/controls"
          }
        },
        "dceffe34335949cdb9f074f2d8333421": {
          "model_module": "@jupyter-widgets/base",
          "model_name": "LayoutModel",
          "state": {
            "_view_name": "LayoutView",
            "grid_template_rows": null,
            "right": null,
            "justify_content": null,
            "_view_module": "@jupyter-widgets/base",
            "overflow": null,
            "_model_module_version": "1.2.0",
            "_view_count": null,
            "flex_flow": null,
            "width": null,
            "min_width": null,
            "border": null,
            "align_items": null,
            "bottom": null,
            "_model_module": "@jupyter-widgets/base",
            "top": null,
            "grid_column": null,
            "overflow_y": null,
            "overflow_x": null,
            "grid_auto_flow": null,
            "grid_area": null,
            "grid_template_columns": null,
            "flex": null,
            "_model_name": "LayoutModel",
            "justify_items": null,
            "grid_row": null,
            "max_height": null,
            "align_content": null,
            "visibility": null,
            "align_self": null,
            "height": null,
            "min_height": null,
            "padding": null,
            "grid_auto_rows": null,
            "grid_gap": null,
            "max_width": null,
            "order": null,
            "_view_module_version": "1.2.0",
            "grid_template_areas": null,
            "object_position": null,
            "object_fit": null,
            "grid_auto_columns": null,
            "margin": null,
            "display": null,
            "left": null
          }
        }
      }
    }
  },
  "cells": [
    {
      "cell_type": "markdown",
      "metadata": {
        "id": "view-in-github",
        "colab_type": "text"
      },
      "source": [
        "<a href=\"https://colab.research.google.com/github/Jaidon-Smith/AI-Karaoke/blob/main/AI_Forced_Alignment_Test.ipynb\" target=\"_parent\"><img src=\"https://colab.research.google.com/assets/colab-badge.svg\" alt=\"Open In Colab\"/></a>"
      ]
    },
    {
      "cell_type": "markdown",
      "metadata": {
        "id": "uQ6RZ12htRKp"
      },
      "source": [
        ""
      ]
    },
    {
      "cell_type": "code",
      "metadata": {
        "id": "PUsbuQOkqEpc",
        "colab": {
          "base_uri": "https://localhost:8080/"
        },
        "outputId": "25b54314-45b8-4a9c-870f-1d6e32686134"
      },
      "source": [
        "# intel-tensorflow is required to run on CPU\n",
        "!pip install torch torchaudio soundfile omegaconf intel-tensorflow tensorflow_hub"
      ],
      "execution_count": 1,
      "outputs": [
        {
          "output_type": "stream",
          "text": [
            "Requirement already satisfied: torch in /usr/local/lib/python3.6/dist-packages (1.7.0+cu101)\n",
            "Collecting torchaudio\n",
            "\u001b[?25l  Downloading https://files.pythonhosted.org/packages/2a/f9/618434cf4e46dc975871e1516f5499abef6564ab4366f9b2321ee536be14/torchaudio-0.7.2-cp36-cp36m-manylinux1_x86_64.whl (7.6MB)\n",
            "\u001b[K     |████████████████████████████████| 7.6MB 11.4MB/s \n",
            "\u001b[?25hRequirement already satisfied: soundfile in /usr/local/lib/python3.6/dist-packages (0.10.3.post1)\n",
            "Collecting omegaconf\n",
            "  Downloading https://files.pythonhosted.org/packages/d0/eb/9d63ce09dd8aa85767c65668d5414958ea29648a0eec80a4a7d311ec2684/omegaconf-2.0.6-py3-none-any.whl\n",
            "Collecting intel-tensorflow\n",
            "\u001b[?25l  Downloading https://files.pythonhosted.org/packages/0d/b3/cb770de19aae58f8ef594e4c8c795ce214141d77084ef087383d47154ada/intel_tensorflow-2.3.0-cp36-cp36m-manylinux2010_x86_64.whl (386.5MB)\n",
            "\u001b[K     |████████████████████████████████| 386.6MB 45kB/s \n",
            "\u001b[?25hRequirement already satisfied: tensorflow_hub in /usr/local/lib/python3.6/dist-packages (0.11.0)\n",
            "Requirement already satisfied: future in /usr/local/lib/python3.6/dist-packages (from torch) (0.16.0)\n",
            "Requirement already satisfied: dataclasses in /usr/local/lib/python3.6/dist-packages (from torch) (0.8)\n",
            "Requirement already satisfied: typing-extensions in /usr/local/lib/python3.6/dist-packages (from torch) (3.7.4.3)\n",
            "Requirement already satisfied: numpy in /usr/local/lib/python3.6/dist-packages (from torch) (1.19.5)\n",
            "Requirement already satisfied: cffi>=1.0 in /usr/local/lib/python3.6/dist-packages (from soundfile) (1.14.4)\n",
            "Collecting PyYAML>=5.1.*\n",
            "\u001b[?25l  Downloading https://files.pythonhosted.org/packages/7a/5b/bc0b5ab38247bba158504a410112b6c03f153c652734ece1849749e5f518/PyYAML-5.4.1-cp36-cp36m-manylinux1_x86_64.whl (640kB)\n",
            "\u001b[K     |████████████████████████████████| 645kB 42.1MB/s \n",
            "\u001b[?25hRequirement already satisfied: six>=1.12.0 in /usr/local/lib/python3.6/dist-packages (from intel-tensorflow) (1.15.0)\n",
            "Requirement already satisfied: astunparse==1.6.3 in /usr/local/lib/python3.6/dist-packages (from intel-tensorflow) (1.6.3)\n",
            "Requirement already satisfied: gast==0.3.3 in /usr/local/lib/python3.6/dist-packages (from intel-tensorflow) (0.3.3)\n",
            "Requirement already satisfied: keras-preprocessing<1.2,>=1.1.1 in /usr/local/lib/python3.6/dist-packages (from intel-tensorflow) (1.1.2)\n",
            "Requirement already satisfied: protobuf>=3.9.2 in /usr/local/lib/python3.6/dist-packages (from intel-tensorflow) (3.12.4)\n",
            "Requirement already satisfied: wheel>=0.26 in /usr/local/lib/python3.6/dist-packages (from intel-tensorflow) (0.36.2)\n",
            "Requirement already satisfied: absl-py>=0.7.0 in /usr/local/lib/python3.6/dist-packages (from intel-tensorflow) (0.10.0)\n",
            "Requirement already satisfied: grpcio>=1.8.6 in /usr/local/lib/python3.6/dist-packages (from intel-tensorflow) (1.32.0)\n",
            "Requirement already satisfied: h5py<2.11.0,>=2.10.0 in /usr/local/lib/python3.6/dist-packages (from intel-tensorflow) (2.10.0)\n",
            "Requirement already satisfied: scipy==1.4.1 in /usr/local/lib/python3.6/dist-packages (from intel-tensorflow) (1.4.1)\n",
            "Requirement already satisfied: termcolor>=1.1.0 in /usr/local/lib/python3.6/dist-packages (from intel-tensorflow) (1.1.0)\n",
            "Requirement already satisfied: wrapt>=1.11.1 in /usr/local/lib/python3.6/dist-packages (from intel-tensorflow) (1.12.1)\n",
            "Requirement already satisfied: opt-einsum>=2.3.2 in /usr/local/lib/python3.6/dist-packages (from intel-tensorflow) (3.3.0)\n",
            "Requirement already satisfied: google-pasta>=0.1.8 in /usr/local/lib/python3.6/dist-packages (from intel-tensorflow) (0.2.0)\n",
            "Requirement already satisfied: tensorboard<3,>=2.3.0 in /usr/local/lib/python3.6/dist-packages (from intel-tensorflow) (2.4.1)\n",
            "Collecting tensorflow-estimator<2.4.0,>=2.3.0\n",
            "\u001b[?25l  Downloading https://files.pythonhosted.org/packages/e9/ed/5853ec0ae380cba4588eab1524e18ece1583b65f7ae0e97321f5ff9dfd60/tensorflow_estimator-2.3.0-py2.py3-none-any.whl (459kB)\n",
            "\u001b[K     |████████████████████████████████| 460kB 49.0MB/s \n",
            "\u001b[?25hRequirement already satisfied: pycparser in /usr/local/lib/python3.6/dist-packages (from cffi>=1.0->soundfile) (2.20)\n",
            "Requirement already satisfied: setuptools in /usr/local/lib/python3.6/dist-packages (from protobuf>=3.9.2->intel-tensorflow) (51.3.3)\n",
            "Requirement already satisfied: markdown>=2.6.8 in /usr/local/lib/python3.6/dist-packages (from tensorboard<3,>=2.3.0->intel-tensorflow) (3.3.3)\n",
            "Requirement already satisfied: google-auth-oauthlib<0.5,>=0.4.1 in /usr/local/lib/python3.6/dist-packages (from tensorboard<3,>=2.3.0->intel-tensorflow) (0.4.2)\n",
            "Requirement already satisfied: requests<3,>=2.21.0 in /usr/local/lib/python3.6/dist-packages (from tensorboard<3,>=2.3.0->intel-tensorflow) (2.23.0)\n",
            "Requirement already satisfied: werkzeug>=0.11.15 in /usr/local/lib/python3.6/dist-packages (from tensorboard<3,>=2.3.0->intel-tensorflow) (1.0.1)\n",
            "Requirement already satisfied: google-auth<2,>=1.6.3 in /usr/local/lib/python3.6/dist-packages (from tensorboard<3,>=2.3.0->intel-tensorflow) (1.17.2)\n",
            "Requirement already satisfied: tensorboard-plugin-wit>=1.6.0 in /usr/local/lib/python3.6/dist-packages (from tensorboard<3,>=2.3.0->intel-tensorflow) (1.8.0)\n",
            "Requirement already satisfied: importlib-metadata; python_version < \"3.8\" in /usr/local/lib/python3.6/dist-packages (from markdown>=2.6.8->tensorboard<3,>=2.3.0->intel-tensorflow) (3.4.0)\n",
            "Requirement already satisfied: requests-oauthlib>=0.7.0 in /usr/local/lib/python3.6/dist-packages (from google-auth-oauthlib<0.5,>=0.4.1->tensorboard<3,>=2.3.0->intel-tensorflow) (1.3.0)\n",
            "Requirement already satisfied: urllib3!=1.25.0,!=1.25.1,<1.26,>=1.21.1 in /usr/local/lib/python3.6/dist-packages (from requests<3,>=2.21.0->tensorboard<3,>=2.3.0->intel-tensorflow) (1.24.3)\n",
            "Requirement already satisfied: idna<3,>=2.5 in /usr/local/lib/python3.6/dist-packages (from requests<3,>=2.21.0->tensorboard<3,>=2.3.0->intel-tensorflow) (2.10)\n",
            "Requirement already satisfied: chardet<4,>=3.0.2 in /usr/local/lib/python3.6/dist-packages (from requests<3,>=2.21.0->tensorboard<3,>=2.3.0->intel-tensorflow) (3.0.4)\n",
            "Requirement already satisfied: certifi>=2017.4.17 in /usr/local/lib/python3.6/dist-packages (from requests<3,>=2.21.0->tensorboard<3,>=2.3.0->intel-tensorflow) (2020.12.5)\n",
            "Requirement already satisfied: cachetools<5.0,>=2.0.0 in /usr/local/lib/python3.6/dist-packages (from google-auth<2,>=1.6.3->tensorboard<3,>=2.3.0->intel-tensorflow) (4.2.1)\n",
            "Requirement already satisfied: rsa<5,>=3.1.4; python_version >= \"3\" in /usr/local/lib/python3.6/dist-packages (from google-auth<2,>=1.6.3->tensorboard<3,>=2.3.0->intel-tensorflow) (4.7)\n",
            "Requirement already satisfied: pyasn1-modules>=0.2.1 in /usr/local/lib/python3.6/dist-packages (from google-auth<2,>=1.6.3->tensorboard<3,>=2.3.0->intel-tensorflow) (0.2.8)\n",
            "Requirement already satisfied: zipp>=0.5 in /usr/local/lib/python3.6/dist-packages (from importlib-metadata; python_version < \"3.8\"->markdown>=2.6.8->tensorboard<3,>=2.3.0->intel-tensorflow) (3.4.0)\n",
            "Requirement already satisfied: oauthlib>=3.0.0 in /usr/local/lib/python3.6/dist-packages (from requests-oauthlib>=0.7.0->google-auth-oauthlib<0.5,>=0.4.1->tensorboard<3,>=2.3.0->intel-tensorflow) (3.1.0)\n",
            "Requirement already satisfied: pyasn1>=0.1.3 in /usr/local/lib/python3.6/dist-packages (from rsa<5,>=3.1.4; python_version >= \"3\"->google-auth<2,>=1.6.3->tensorboard<3,>=2.3.0->intel-tensorflow) (0.4.8)\n",
            "\u001b[31mERROR: tensorflow 2.4.1 has requirement tensorflow-estimator<2.5.0,>=2.4.0, but you'll have tensorflow-estimator 2.3.0 which is incompatible.\u001b[0m\n",
            "\u001b[31mERROR: torchaudio 0.7.2 has requirement torch==1.7.1, but you'll have torch 1.7.0+cu101 which is incompatible.\u001b[0m\n",
            "\u001b[31mERROR: intel-tensorflow 2.3.0 has requirement numpy<1.19.0,>=1.16.0, but you'll have numpy 1.19.5 which is incompatible.\u001b[0m\n",
            "Installing collected packages: torchaudio, PyYAML, omegaconf, tensorflow-estimator, intel-tensorflow\n",
            "  Found existing installation: PyYAML 3.13\n",
            "    Uninstalling PyYAML-3.13:\n",
            "      Successfully uninstalled PyYAML-3.13\n",
            "  Found existing installation: tensorflow-estimator 2.4.0\n",
            "    Uninstalling tensorflow-estimator-2.4.0:\n",
            "      Successfully uninstalled tensorflow-estimator-2.4.0\n",
            "Successfully installed PyYAML-5.4.1 intel-tensorflow-2.3.0 omegaconf-2.0.6 tensorflow-estimator-2.3.0 torchaudio-0.7.2\n"
          ],
          "name": "stdout"
        }
      ]
    },
    {
      "cell_type": "code",
      "metadata": {
        "colab": {
          "base_uri": "https://localhost:8080/",
          "height": 286,
          "referenced_widgets": [
            "992032fa612e4126b6c20043775d8591",
            "898919fde2234b63860430f56b909158",
            "458f3f37b16346aa860df83f3aed631f",
            "e14a3ad193b64fc28886a5dcfc7daa6b",
            "05348a08cd054fd69cbd4b4b731feb41",
            "14d7185cf26d4a2abcb75d4a53432989",
            "66b73fceb89a4a9fb43796c8715c7a96",
            "281f6ec007874e4f906ef1939b7c54a9",
            "36b739bd95a34743bdeb9a921a6368c0",
            "eb56e0d977cb40faa093c27dc2686600",
            "0553fe2bb92b433c96454fb3be94aafb",
            "399677aa2630475c933cb47b643afcb6",
            "b3327e97651c4435a3cff55c495676a3",
            "636157e775fb467285f1264a01d760a7",
            "a2d57b0879d74c2891601128a7f785db",
            "06d49f887fb84a9288f24065c5213797",
            "c0c27d873ebb4a40b83a9250f7102882",
            "1541392ac74a41aab68792bec4e9e626",
            "0220d0517bb7424b9142a2e38c9cfade",
            "42ea527af2114a7bb5cdc72777e07e64",
            "757a24dff531403493f927e95980de43",
            "aa5de25ecde44cca89ab67fa85fab297",
            "8b8e2367deff49e89ddf535f57f3be19",
            "dceffe34335949cdb9f074f2d8333421"
          ]
        },
        "id": "kIq3_mg1tSjb",
        "outputId": "7006749e-2c36-454a-df2b-e2751ebc7143"
      },
      "source": [
        "#speech_file = 'speech_orig.wav'\n",
        "speech_file = '/content/recorded.wav'\n",
        "\n",
        "\n",
        "import os\n",
        "import torch\n",
        "import tensorflow as tf\n",
        "import tensorflow_hub as tf_hub\n",
        "from omegaconf import OmegaConf\n",
        "\n",
        "language = 'en'\n",
        "\n",
        "# load provided utils using torch.hub for brevity\n",
        "_, decoder, utils = torch.hub.load('snakers4/silero-models', model='silero_stt', language=language)\n",
        "(read_batch, split_into_batches,\n",
        " read_audio, prepare_model_input) = utils\n",
        "\n",
        "# see available models\n",
        "torch.hub.download_url_to_file('https://raw.githubusercontent.com/snakers4/silero-models/master/models.yml', 'models.yml')\n",
        "models = OmegaConf.load('models.yml')\n",
        "available_languages = list(models.stt_models.keys())\n",
        "assert language in available_languages\n",
        "\n",
        "# load the actual tf model\n",
        "tf_model = tf_hub.load(models.stt_models.get(language).latest.tf)\n",
        "\n",
        "# download a single file, any format compatible with TorchAudio (soundfile backend)\n",
        "torch.hub.download_url_to_file(models.stt_models.get(language).latest.meta.sample, dst = speech_file, progress=True)\n",
        "test_files = [speech_file]\n",
        "batches = split_into_batches(test_files, batch_size=10)\n",
        "input = prepare_model_input(read_batch(batches[0]))\n",
        "\n",
        "# tf inference\n",
        "res = tf_model.signatures[\"serving_default\"](tf.constant(input.numpy()))['output_0']\n",
        "print(decoder(torch.Tensor(res.numpy())[0]))\n"
      ],
      "execution_count": 2,
      "outputs": [
        {
          "output_type": "stream",
          "text": [
            "Downloading: \"https://github.com/snakers4/silero-models/archive/master.zip\" to /root/.cache/torch/hub/master.zip\n",
            "/usr/local/lib/python3.6/dist-packages/torchaudio/backend/utils.py:54: UserWarning: \"sox\" backend is being deprecated. The default backend will be changed to \"sox_io\" backend in 0.8.0 and \"sox\" backend will be removed in 0.9.0. Please migrate to \"sox_io\" backend. Please refer to https://github.com/pytorch/audio/issues/903 for the detail.\n",
            "  '\"sox\" backend is being deprecated. '\n",
            "/usr/local/lib/python3.6/dist-packages/torchaudio/backend/utils.py:64: UserWarning: The interface of \"soundfile\" backend is planned to change in 0.8.0 to match that of \"sox_io\" backend and the current interface will be removed in 0.9.0. To use the new interface, do `torchaudio.USE_SOUNDFILE_LEGACY_INTERFACE = False` before setting the backend to \"soundfile\". Please refer to https://github.com/pytorch/audio/issues/903 for the detail.\n",
            "  'The interface of \"soundfile\" backend is planned to change in 0.8.0 to '\n"
          ],
          "name": "stderr"
        },
        {
          "output_type": "display_data",
          "data": {
            "application/vnd.jupyter.widget-view+json": {
              "model_id": "992032fa612e4126b6c20043775d8591",
              "version_minor": 0,
              "version_major": 2
            },
            "text/plain": [
              "HBox(children=(FloatProgress(value=0.0, max=182379138.0), HTML(value='')))"
            ]
          },
          "metadata": {
            "tags": []
          }
        },
        {
          "output_type": "stream",
          "text": [
            "\n"
          ],
          "name": "stdout"
        },
        {
          "output_type": "display_data",
          "data": {
            "application/vnd.jupyter.widget-view+json": {
              "model_id": "36b739bd95a34743bdeb9a921a6368c0",
              "version_minor": 0,
              "version_major": 2
            },
            "text/plain": [
              "HBox(children=(FloatProgress(value=0.0, max=3163.0), HTML(value='')))"
            ]
          },
          "metadata": {
            "tags": []
          }
        },
        {
          "output_type": "stream",
          "text": [
            "\n"
          ],
          "name": "stdout"
        },
        {
          "output_type": "display_data",
          "data": {
            "application/vnd.jupyter.widget-view+json": {
              "model_id": "c0c27d873ebb4a40b83a9250f7102882",
              "version_minor": 0,
              "version_major": 2
            },
            "text/plain": [
              "HBox(children=(FloatProgress(value=0.0, max=1036844.0), HTML(value='')))"
            ]
          },
          "metadata": {
            "tags": []
          }
        },
        {
          "output_type": "stream",
          "text": [
            "\n",
            "the birch canoe slit on the smooth planks blared the sheet to the dark blue background it's easy to tell a depth of a well four hours of steady work faced us\n"
          ],
          "name": "stdout"
        }
      ]
    },
    {
      "cell_type": "code",
      "metadata": {
        "colab": {
          "base_uri": "https://localhost:8080/"
        },
        "id": "Oly0g2hyNRvm",
        "outputId": "bc4299d6-ffed-4951-b6c2-a4a6f2d33b4a"
      },
      "source": [
        "speech_file = '/content/recorded.wav'\n",
        "test_files = [speech_file]\n",
        "batches = split_into_batches(test_files, batch_size=10)\n",
        "input = prepare_model_input(read_batch(batches[0]))\n",
        "\n",
        "# tf inference\n",
        "res = tf_model.signatures[\"serving_default\"](tf.constant(input.numpy()))['output_0']\n",
        "print(decoder(torch.Tensor(res.numpy())[0]))"
      ],
      "execution_count": 3,
      "outputs": [
        {
          "output_type": "stream",
          "text": [
            "the birch canoe slit on the smooth planks blared the sheet to the dark blue background it's easy to tell a depth of a well four hours of steady work faced us\n"
          ],
          "name": "stdout"
        }
      ]
    },
    {
      "cell_type": "code",
      "metadata": {
        "colab": {
          "base_uri": "https://localhost:8080/"
        },
        "id": "ECZWHyk0NgKX",
        "outputId": "a6ed6fc0-22ad-4532-ea44-530f0e348373"
      },
      "source": [
        "batches"
      ],
      "execution_count": 4,
      "outputs": [
        {
          "output_type": "execute_result",
          "data": {
            "text/plain": [
              "[['/content/recorded.wav']]"
            ]
          },
          "metadata": {
            "tags": []
          },
          "execution_count": 4
        }
      ]
    },
    {
      "cell_type": "code",
      "metadata": {
        "colab": {
          "base_uri": "https://localhost:8080/"
        },
        "id": "O6j31ICK6nmJ",
        "outputId": "5e0cae89-ef32-4c84-fb9c-9784fd82c0bb"
      },
      "source": [
        "tf_model"
      ],
      "execution_count": 5,
      "outputs": [
        {
          "output_type": "execute_result",
          "data": {
            "text/plain": [
              "<tensorflow.python.saved_model.load.Loader._recreate_base_user_object.<locals>._UserObject at 0x7f412d864b00>"
            ]
          },
          "metadata": {
            "tags": []
          },
          "execution_count": 5
        }
      ]
    },
    {
      "cell_type": "code",
      "metadata": {
        "colab": {
          "base_uri": "https://localhost:8080/"
        },
        "id": "SHUR93YQ7szS",
        "outputId": "490fecf8-9019-442b-cba2-f1da39ad00d3"
      },
      "source": [
        "res"
      ],
      "execution_count": 6,
      "outputs": [
        {
          "output_type": "execute_result",
          "data": {
            "text/plain": [
              "<tf.Tensor: shape=(1, 136, 999), dtype=float32, numpy=\n",
              "array([[[9.9562091e-01, 2.1983167e-06, 4.2956420e-03, ...,\n",
              "         7.4658174e-06, 6.9315388e-06, 1.2493891e-05],\n",
              "        [2.3445152e-02, 1.3809526e-05, 9.7602135e-01, ...,\n",
              "         3.1058439e-06, 1.8454997e-06, 3.6289552e-05],\n",
              "        [2.6382593e-02, 6.0946192e-08, 8.4973122e-05, ...,\n",
              "         1.2406194e-05, 1.3228365e-06, 9.7339523e-01],\n",
              "        ...,\n",
              "        [9.9961817e-01, 1.4285600e-06, 9.0514332e-06, ...,\n",
              "         6.1206563e-05, 6.5136360e-06, 2.0248137e-05],\n",
              "        [9.9961817e-01, 1.4284988e-06, 9.0513813e-06, ...,\n",
              "         6.1204344e-05, 6.5132758e-06, 2.0246360e-05],\n",
              "        [9.9961817e-01, 1.4285682e-06, 9.0528920e-06, ...,\n",
              "         6.1196864e-05, 6.5128470e-06, 2.0243986e-05]]], dtype=float32)>"
            ]
          },
          "metadata": {
            "tags": []
          },
          "execution_count": 6
        }
      ]
    },
    {
      "cell_type": "code",
      "metadata": {
        "colab": {
          "base_uri": "https://localhost:8080/"
        },
        "id": "JLO2I-Kp8eP3",
        "outputId": "80e976e1-a771-4a01-f8ef-7e91c98def97"
      },
      "source": [
        "decoder"
      ],
      "execution_count": 7,
      "outputs": [
        {
          "output_type": "execute_result",
          "data": {
            "text/plain": [
              "<utils.Decoder at 0x7f4131f2a710>"
            ]
          },
          "metadata": {
            "tags": []
          },
          "execution_count": 7
        }
      ]
    },
    {
      "cell_type": "code",
      "metadata": {
        "colab": {
          "base_uri": "https://localhost:8080/"
        },
        "id": "iBCPf5xw_4US",
        "outputId": "5f3f21bb-b048-403a-82db-c884c5adb55a"
      },
      "source": [
        "# construct a shape[1,136,999] tensor where the columns consist of a single 1 in one of the 136 and the others 0\n",
        "# In this way I may find out what the 136 means\n",
        "\n",
        "import numpy as np\n",
        "value = 0\n",
        "the_tensor = []\n",
        "for i in range(136):\n",
        "  if i == value:\n",
        "    the_tensor.append(list(np.ones(999)))\n",
        "  else:\n",
        "    the_tensor.append(list(np.zeros(999)))\n",
        "\n",
        "the_tensor = np.array(the_tensor)\n",
        "the_tensor = the_tensor[np.newaxis, :]\n",
        "#print(the_tensor.shape)\n",
        "the_tensor = tf.convert_to_tensor(the_tensor)\n",
        "print(the_tensor)\n"
      ],
      "execution_count": 8,
      "outputs": [
        {
          "output_type": "stream",
          "text": [
            "tf.Tensor(\n",
            "[[[1. 1. 1. ... 1. 1. 1.]\n",
            "  [0. 0. 0. ... 0. 0. 0.]\n",
            "  [0. 0. 0. ... 0. 0. 0.]\n",
            "  ...\n",
            "  [0. 0. 0. ... 0. 0. 0.]\n",
            "  [0. 0. 0. ... 0. 0. 0.]\n",
            "  [0. 0. 0. ... 0. 0. 0.]]], shape=(1, 136, 999), dtype=float64)\n"
          ],
          "name": "stdout"
        }
      ]
    },
    {
      "cell_type": "code",
      "metadata": {
        "colab": {
          "base_uri": "https://localhost:8080/"
        },
        "id": "EQsjLo5WB99T",
        "outputId": "90cb6f6c-15d5-4d3f-9281-ad087283611f"
      },
      "source": [
        "#res = tf_model.signatures[\"serving_default\"](tf.constant(input.numpy()))['output_0']\n",
        "print(decoder(torch.Tensor(the_tensor.numpy())[0]))\n",
        "\n",
        "# Test that the 999 does refer to time, and thus halving it will shorten the output\n",
        "res = tf_model.signatures[\"serving_default\"](tf.constant(input.numpy()))['output_0']\n",
        "print(decoder(torch.Tensor(res.numpy())[0]))"
      ],
      "execution_count": 9,
      "outputs": [
        {
          "output_type": "stream",
          "text": [
            "\n",
            "the birch canoe slit on the smooth planks blared the sheet to the dark blue background it's easy to tell a depth of a well four hours of steady work faced us\n"
          ],
          "name": "stdout"
        }
      ]
    },
    {
      "cell_type": "code",
      "metadata": {
        "colab": {
          "base_uri": "https://localhost:8080/",
          "height": 120
        },
        "id": "4O2Zlg0-C5Ln",
        "outputId": "6f76bbff-3330-4963-e135-3ed1cfcc842c"
      },
      "source": [
        "res1, res2 = tf.split(res, [500,499],2)\n",
        "print(res1.shape)\n",
        "#print(decoder(torch.Tensor(res1.numpy())[0]))\n",
        "'''---------------------------------------------------------------------------\n",
        "AssertionError                            Traceback (most recent call last)\n",
        "<ipython-input-38-617167afc803> in <module>()\n",
        "      1 res1, res2 = tf.split(res, [500,499],2)\n",
        "      2 print(res1.shape)\n",
        "----> 3 print(decoder(torch.Tensor(res1.numpy())[0]))\n",
        "\n",
        "1 frames\n",
        "/root/.cache/torch/hub/snakers4_silero-models_master/utils.py in process(self, probs, wav_len, word_align)\n",
        "     62     def process(self,\n",
        "     63                 probs, wav_len, word_align):\n",
        "---> 64         assert len(self.labels) == probs.shape[1]\n",
        "     65         for_string = []\n",
        "     66         argm = torch.argmax(probs, axis=1)\n",
        "\n",
        "AssertionError: '''"
      ],
      "execution_count": 10,
      "outputs": [
        {
          "output_type": "stream",
          "text": [
            "(1, 136, 500)\n"
          ],
          "name": "stdout"
        },
        {
          "output_type": "execute_result",
          "data": {
            "application/vnd.google.colaboratory.intrinsic+json": {
              "type": "string"
            },
            "text/plain": [
              "'---------------------------------------------------------------------------\\nAssertionError                            Traceback (most recent call last)\\n<ipython-input-38-617167afc803> in <module>()\\n      1 res1, res2 = tf.split(res, [500,499],2)\\n      2 print(res1.shape)\\n----> 3 print(decoder(torch.Tensor(res1.numpy())[0]))\\n\\n1 frames\\n/root/.cache/torch/hub/snakers4_silero-models_master/utils.py in process(self, probs, wav_len, word_align)\\n     62     def process(self,\\n     63                 probs, wav_len, word_align):\\n---> 64         assert len(self.labels) == probs.shape[1]\\n     65         for_string = []\\n     66         argm = torch.argmax(probs, axis=1)\\n\\nAssertionError: '"
            ]
          },
          "metadata": {
            "tags": []
          },
          "execution_count": 10
        }
      ]
    },
    {
      "cell_type": "code",
      "metadata": {
        "colab": {
          "base_uri": "https://localhost:8080/"
        },
        "id": "_CKh2qauIAJv",
        "outputId": "5a8ef839-30b9-40d4-a5e6-2f38cde5c903"
      },
      "source": [
        "# construct a shape[1,136,999] tensore where the columns consist of a single 1 in one of the 136 and the others 0\n",
        "# In this way I may find out what the 136 means\n",
        "\n",
        "import numpy as np\n",
        "value = 11\n",
        "the_tensor = []\n",
        "for i in range(999):\n",
        "  if i == value:\n",
        "    temp = list(np.ones(136))\n",
        "    temp[10] = 0\n",
        "    the_tensor.append(temp)\n",
        "  else:\n",
        "    temp = list(np.zeros(136))\n",
        "    the_tensor.append(temp)\n",
        "    if i == 12:\n",
        "      temp[10] = 1\n",
        "\n",
        "\n",
        "the_tensor = np.array(the_tensor)\n",
        "the_tensor = np.swapaxes(the_tensor, 0, 1)\n",
        "the_tensor = the_tensor[np.newaxis, :]\n",
        "#print(the_tensor.shape)\n",
        "the_tensor = tf.convert_to_tensor(the_tensor)\n",
        "print(the_tensor)\n",
        "\n",
        "print(decoder(torch.Tensor(the_tensor.numpy())[0]))"
      ],
      "execution_count": 11,
      "outputs": [
        {
          "output_type": "stream",
          "text": [
            "tf.Tensor(\n",
            "[[[0. 0. 0. ... 0. 0. 0.]\n",
            "  [0. 0. 0. ... 0. 0. 0.]\n",
            "  [0. 0. 0. ... 0. 0. 0.]\n",
            "  ...\n",
            "  [0. 0. 0. ... 0. 0. 0.]\n",
            "  [0. 0. 0. ... 0. 0. 0.]\n",
            "  [0. 0. 0. ... 0. 0. 0.]]], shape=(1, 136, 999), dtype=float64)\n",
            "entoen\n"
          ],
          "name": "stdout"
        }
      ]
    },
    {
      "cell_type": "code",
      "metadata": {
        "cellView": "form",
        "colab": {
          "base_uri": "https://localhost:8080/"
        },
        "id": "0mxEjrFM2l4m",
        "outputId": "2b7f9f23-6239-4102-fbc7-03133dea0716"
      },
      "source": [
        "#@title Install dependencies\n",
        "\n",
        "!pip install -q omegaconf\n",
        "!pip install -q torchaudio\n",
        "!pip install -q soundfile\n",
        "!pip install -q pydub\n",
        "\n",
        "import os\n",
        "from os.path import exists\n",
        "\n",
        "if not exists('silero-models'):\n",
        "  !git clone -q --depth 1 https://github.com/snakers4/silero-models\n",
        "\n",
        "%cd silero-models\n",
        "\n",
        "# silero imports\n",
        "import torch\n",
        "import random\n",
        "from glob import glob\n",
        "from omegaconf import OmegaConf\n",
        "from utils import (init_jit_model, \n",
        "                   split_into_batches,\n",
        "                   read_audio,\n",
        "                   read_batch,\n",
        "                   prepare_model_input)\n",
        "from colab_utils import (record_audio,\n",
        "                         audio_bytes_to_np,\n",
        "                         upload_audio)\n",
        "\n",
        "device = torch.device('cpu')   # you can use any pytorch device\n",
        "models = OmegaConf.load('models.yml')\n",
        "\n",
        "# imports for uploading/recording\n",
        "import numpy as np\n",
        "import ipywidgets as widgets\n",
        "from scipy.io import wavfile\n",
        "from IPython.display import Audio, display, clear_output\n",
        "from torchaudio.functional import vad\n"
      ],
      "execution_count": 12,
      "outputs": [
        {
          "output_type": "stream",
          "text": [
            "\u001b[K     |████████████████████████████████| 776.8MB 25kB/s \n",
            "\u001b[31mERROR: torchvision 0.8.1+cu101 has requirement torch==1.7.0, but you'll have torch 1.7.1 which is incompatible.\u001b[0m\n",
            "\u001b[?25h/content/silero-models\n"
          ],
          "name": "stdout"
        }
      ]
    },
    {
      "cell_type": "code",
      "metadata": {
        "colab": {
          "base_uri": "https://localhost:8080/",
          "height": 109
        },
        "id": "o_Vc1mRs132V",
        "outputId": "9587049c-866f-4470-8b59-f86260f7c4ff"
      },
      "source": [
        "sample_rate = 16000\n",
        "\n",
        "clear_output()\n",
        "audio = record_audio(10)\n",
        "wavfile.write('/content/recorded.wav', sample_rate, (32767*audio).numpy().astype(np.int16))\n",
        "\n",
        "\n",
        "#button = widgets.Button(description=\"Record Speech\")\n",
        "#button.on_click(_record_audio)\n",
        "#display(button)\n",
        "\n",
        "display(Audio(audio, rate=sample_rate, autoplay=True))\n",
        "wavfile.write('test.wav', sample_rate, (32767*audio).numpy().astype(np.int16))\n",
        "  "
      ],
      "execution_count": 13,
      "outputs": [
        {
          "output_type": "stream",
          "text": [
            "Starting recording for 10 seconds...\n"
          ],
          "name": "stdout"
        },
        {
          "output_type": "display_data",
          "data": {
            "application/javascript": [
              "\n",
              "      const sleep  = time => new Promise(resolve => setTimeout(resolve, time))\n",
              "      const b2text = blob => new Promise(resolve => {\n",
              "        const reader = new FileReader()\n",
              "        reader.onloadend = e => resolve(e.srcElement.result)\n",
              "        reader.readAsDataURL(blob)\n",
              "      })\n",
              "      var record = time => new Promise(async resolve => {\n",
              "        stream = await navigator.mediaDevices.getUserMedia({ audio: true })\n",
              "        recorder = new MediaRecorder(stream)\n",
              "        chunks = []\n",
              "        recorder.ondataavailable = e => chunks.push(e.data)\n",
              "        recorder.start()\n",
              "        await sleep(time)\n",
              "        recorder.onstop = async ()=>{\n",
              "          blob = new Blob(chunks)\n",
              "          text = await b2text(blob)\n",
              "          resolve(text)\n",
              "        }\n",
              "        recorder.stop()\n",
              "      })\n",
              "      "
            ],
            "text/plain": [
              "<IPython.core.display.Javascript object>"
            ]
          },
          "metadata": {
            "tags": []
          }
        },
        {
          "output_type": "stream",
          "text": [
            "Finished recording!\n"
          ],
          "name": "stdout"
        },
        {
          "output_type": "display_data",
          "data": {
            "text/html": [
              "\n",
              "                <audio controls=\"controls\" autoplay=\"autoplay\">\n",
              "                    <source src=\"data:audio/wav;base64,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\" type=\"audio/wav\" />\n",
              "                    Your browser does not support the audio element.\n",
              "                </audio>\n",
              "              "
            ],
            "text/plain": [
              "<IPython.lib.display.Audio object>"
            ]
          },
          "metadata": {
            "tags": []
          }
        }
      ]
    },
    {
      "cell_type": "code",
      "metadata": {
        "colab": {
          "base_uri": "https://localhost:8080/"
        },
        "id": "AhSS6PrJ4TmD",
        "outputId": "3121a57b-cd19-4cdf-fd83-7f2342a8f508"
      },
      "source": [
        "len(decoder.labels)"
      ],
      "execution_count": 14,
      "outputs": [
        {
          "output_type": "execute_result",
          "data": {
            "text/plain": [
              "999"
            ]
          },
          "metadata": {
            "tags": []
          },
          "execution_count": 14
        }
      ]
    },
    {
      "cell_type": "code",
      "metadata": {
        "colab": {
          "base_uri": "https://localhost:8080/"
        },
        "id": "ykZGv6JpGycW",
        "outputId": "21ec9854-1abb-48dc-8f15-341eb598982b"
      },
      "source": [
        "decoder.blank_idx"
      ],
      "execution_count": 15,
      "outputs": [
        {
          "output_type": "execute_result",
          "data": {
            "text/plain": [
              "0"
            ]
          },
          "metadata": {
            "tags": []
          },
          "execution_count": 15
        }
      ]
    },
    {
      "cell_type": "code",
      "metadata": {
        "colab": {
          "base_uri": "https://localhost:8080/",
          "height": 35
        },
        "id": "8QWf9DLmHDau",
        "outputId": "b6c767fc-7c05-42f8-f3e8-82442a41028d"
      },
      "source": [
        "speech_file = '/content/recorded.wav'\n",
        "test_files = [speech_file]\n",
        "batches = split_into_batches(test_files, batch_size=10)\n",
        "input = prepare_model_input(read_batch(batches[0]))\n",
        "\n",
        "# For each frame print the grapheme that is the most likely\n",
        "graphemes = decoder.labels\n",
        "res = tf_model.signatures[\"serving_default\"](tf.constant(input.numpy()))['output_0']\n",
        "res_array = np.array(res)\n",
        "res_array[0].shape\n",
        "result = np.argmax(res_array, axis=2)\n",
        "\n",
        "text = []\n",
        "for i in result[0].tolist():\n",
        "  text.append(graphemes[i])\n",
        "\n",
        "\"\".join(text)"
      ],
      "execution_count": 16,
      "outputs": [
        {
          "output_type": "execute_result",
          "data": {
            "application/vnd.google.colaboratory.intrinsic+json": {
              "type": "string"
            },
            "text/plain": [
              "'__________________           __   _______________________        _____               _change___          _s_________________'"
            ]
          },
          "metadata": {
            "tags": []
          },
          "execution_count": 16
        }
      ]
    },
    {
      "cell_type": "code",
      "metadata": {
        "id": "lo-SZyr6SHw-"
      },
      "source": [
        "result = np.argmax(res_array, axis=2)\n",
        "\n",
        "#result = f(result)"
      ],
      "execution_count": 17,
      "outputs": []
    },
    {
      "cell_type": "code",
      "metadata": {
        "id": "5j84VIzZURMO"
      },
      "source": [
        ""
      ],
      "execution_count": 18,
      "outputs": []
    },
    {
      "cell_type": "code",
      "metadata": {
        "colab": {
          "base_uri": "https://localhost:8080/"
        },
        "id": "2ZxBfHwzUdXV",
        "outputId": "2588e750-7730-429f-b02a-a24d51174436"
      },
      "source": [
        "result[0].tolist()"
      ],
      "execution_count": 19,
      "outputs": [
        {
          "output_type": "execute_result",
          "data": {
            "text/plain": [
              "[0,\n",
              " 0,\n",
              " 0,\n",
              " 0,\n",
              " 0,\n",
              " 0,\n",
              " 0,\n",
              " 0,\n",
              " 0,\n",
              " 0,\n",
              " 0,\n",
              " 0,\n",
              " 0,\n",
              " 0,\n",
              " 0,\n",
              " 0,\n",
              " 0,\n",
              " 0,\n",
              " 998,\n",
              " 998,\n",
              " 998,\n",
              " 998,\n",
              " 998,\n",
              " 998,\n",
              " 998,\n",
              " 998,\n",
              " 998,\n",
              " 998,\n",
              " 998,\n",
              " 0,\n",
              " 0,\n",
              " 998,\n",
              " 998,\n",
              " 998,\n",
              " 0,\n",
              " 0,\n",
              " 0,\n",
              " 0,\n",
              " 0,\n",
              " 0,\n",
              " 0,\n",
              " 0,\n",
              " 0,\n",
              " 0,\n",
              " 0,\n",
              " 0,\n",
              " 0,\n",
              " 0,\n",
              " 0,\n",
              " 0,\n",
              " 0,\n",
              " 0,\n",
              " 0,\n",
              " 0,\n",
              " 0,\n",
              " 0,\n",
              " 0,\n",
              " 998,\n",
              " 998,\n",
              " 998,\n",
              " 998,\n",
              " 998,\n",
              " 998,\n",
              " 998,\n",
              " 998,\n",
              " 0,\n",
              " 0,\n",
              " 0,\n",
              " 0,\n",
              " 0,\n",
              " 998,\n",
              " 998,\n",
              " 998,\n",
              " 998,\n",
              " 998,\n",
              " 998,\n",
              " 998,\n",
              " 998,\n",
              " 998,\n",
              " 998,\n",
              " 998,\n",
              " 998,\n",
              " 998,\n",
              " 998,\n",
              " 998,\n",
              " 0,\n",
              " 742,\n",
              " 0,\n",
              " 0,\n",
              " 0,\n",
              " 998,\n",
              " 998,\n",
              " 998,\n",
              " 998,\n",
              " 998,\n",
              " 998,\n",
              " 998,\n",
              " 998,\n",
              " 998,\n",
              " 998,\n",
              " 0,\n",
              " 975,\n",
              " 0,\n",
              " 0,\n",
              " 0,\n",
              " 0,\n",
              " 0,\n",
              " 0,\n",
              " 0,\n",
              " 0,\n",
              " 0,\n",
              " 0,\n",
              " 0,\n",
              " 0,\n",
              " 0,\n",
              " 0,\n",
              " 0,\n",
              " 0,\n",
              " 0]"
            ]
          },
          "metadata": {
            "tags": []
          },
          "execution_count": 19
        }
      ]
    },
    {
      "cell_type": "code",
      "metadata": {
        "colab": {
          "base_uri": "https://localhost:8080/",
          "height": 392
        },
        "id": "vevff7zrUhjB",
        "outputId": "fe695524-d647-4cec-c3d3-4d68bffb1d6e"
      },
      "source": [
        "#Testing singing\n",
        "speech_file = '/content/fireflies_voc_1min.wav'\n",
        "test_files = [speech_file]\n",
        "batches = split_into_batches(test_files, batch_size=10)\n",
        "input = prepare_model_input(read_batch(batches[0]))\n",
        "\n",
        "# For each frame print the grapheme that is the most likely\n",
        "graphemes = decoder.labels\n",
        "res = tf_model.signatures[\"serving_default\"](tf.constant(input.numpy()))['output_0']\n",
        "res_array = np.array(res)\n",
        "res_array[0].shape\n",
        "result = np.argmax(res_array, axis=2)\n",
        "\n",
        "text = []\n",
        "for i in result[0].tolist():\n",
        "  text.append(graphemes[i])\n",
        "\n",
        "\"\".join(text)"
      ],
      "execution_count": 20,
      "outputs": [
        {
          "output_type": "error",
          "ename": "OSError",
          "evalue": "ignored",
          "traceback": [
            "\u001b[0;31m---------------------------------------------------------------------------\u001b[0m",
            "\u001b[0;31mOSError\u001b[0m                                   Traceback (most recent call last)",
            "\u001b[0;32m<ipython-input-20-2b8c3fd301e2>\u001b[0m in \u001b[0;36m<module>\u001b[0;34m()\u001b[0m\n\u001b[1;32m      3\u001b[0m \u001b[0mtest_files\u001b[0m \u001b[0;34m=\u001b[0m \u001b[0;34m[\u001b[0m\u001b[0mspeech_file\u001b[0m\u001b[0;34m]\u001b[0m\u001b[0;34m\u001b[0m\u001b[0;34m\u001b[0m\u001b[0m\n\u001b[1;32m      4\u001b[0m \u001b[0mbatches\u001b[0m \u001b[0;34m=\u001b[0m \u001b[0msplit_into_batches\u001b[0m\u001b[0;34m(\u001b[0m\u001b[0mtest_files\u001b[0m\u001b[0;34m,\u001b[0m \u001b[0mbatch_size\u001b[0m\u001b[0;34m=\u001b[0m\u001b[0;36m10\u001b[0m\u001b[0;34m)\u001b[0m\u001b[0;34m\u001b[0m\u001b[0;34m\u001b[0m\u001b[0m\n\u001b[0;32m----> 5\u001b[0;31m \u001b[0minput\u001b[0m \u001b[0;34m=\u001b[0m \u001b[0mprepare_model_input\u001b[0m\u001b[0;34m(\u001b[0m\u001b[0mread_batch\u001b[0m\u001b[0;34m(\u001b[0m\u001b[0mbatches\u001b[0m\u001b[0;34m[\u001b[0m\u001b[0;36m0\u001b[0m\u001b[0;34m]\u001b[0m\u001b[0;34m)\u001b[0m\u001b[0;34m)\u001b[0m\u001b[0;34m\u001b[0m\u001b[0;34m\u001b[0m\u001b[0m\n\u001b[0m\u001b[1;32m      6\u001b[0m \u001b[0;34m\u001b[0m\u001b[0m\n\u001b[1;32m      7\u001b[0m \u001b[0;31m# For each frame print the grapheme that is the most likely\u001b[0m\u001b[0;34m\u001b[0m\u001b[0;34m\u001b[0m\u001b[0;34m\u001b[0m\u001b[0m\n",
            "\u001b[0;32m/root/.cache/torch/hub/snakers4_silero-models_master/utils.py\u001b[0m in \u001b[0;36mread_batch\u001b[0;34m(audio_paths)\u001b[0m\n\u001b[1;32m     14\u001b[0m     return [read_audio(audio_path)\n\u001b[1;32m     15\u001b[0m             \u001b[0;32mfor\u001b[0m \u001b[0maudio_path\u001b[0m\u001b[0;34m\u001b[0m\u001b[0;34m\u001b[0m\u001b[0m\n\u001b[0;32m---> 16\u001b[0;31m             in audio_paths]\n\u001b[0m\u001b[1;32m     17\u001b[0m \u001b[0;34m\u001b[0m\u001b[0m\n\u001b[1;32m     18\u001b[0m \u001b[0;34m\u001b[0m\u001b[0m\n",
            "\u001b[0;32m/root/.cache/torch/hub/snakers4_silero-models_master/utils.py\u001b[0m in \u001b[0;36m<listcomp>\u001b[0;34m(.0)\u001b[0m\n\u001b[1;32m     13\u001b[0m \u001b[0;32mdef\u001b[0m \u001b[0mread_batch\u001b[0m\u001b[0;34m(\u001b[0m\u001b[0maudio_paths\u001b[0m\u001b[0;34m:\u001b[0m \u001b[0mList\u001b[0m\u001b[0;34m[\u001b[0m\u001b[0mstr\u001b[0m\u001b[0;34m]\u001b[0m\u001b[0;34m)\u001b[0m\u001b[0;34m:\u001b[0m\u001b[0;34m\u001b[0m\u001b[0;34m\u001b[0m\u001b[0m\n\u001b[1;32m     14\u001b[0m     return [read_audio(audio_path)\n\u001b[0;32m---> 15\u001b[0;31m             \u001b[0;32mfor\u001b[0m \u001b[0maudio_path\u001b[0m\u001b[0;34m\u001b[0m\u001b[0;34m\u001b[0m\u001b[0m\n\u001b[0m\u001b[1;32m     16\u001b[0m             in audio_paths]\n\u001b[1;32m     17\u001b[0m \u001b[0;34m\u001b[0m\u001b[0m\n",
            "\u001b[0;32m/root/.cache/torch/hub/snakers4_silero-models_master/utils.py\u001b[0m in \u001b[0;36mread_audio\u001b[0;34m(path, target_sr)\u001b[0m\n\u001b[1;32m     28\u001b[0m \u001b[0;34m\u001b[0m\u001b[0m\n\u001b[1;32m     29\u001b[0m     \u001b[0;32massert\u001b[0m \u001b[0mtorchaudio\u001b[0m\u001b[0;34m.\u001b[0m\u001b[0mget_audio_backend\u001b[0m\u001b[0;34m(\u001b[0m\u001b[0;34m)\u001b[0m \u001b[0;34m==\u001b[0m \u001b[0;34m'soundfile'\u001b[0m\u001b[0;34m\u001b[0m\u001b[0;34m\u001b[0m\u001b[0m\n\u001b[0;32m---> 30\u001b[0;31m     \u001b[0mwav\u001b[0m\u001b[0;34m,\u001b[0m \u001b[0msr\u001b[0m \u001b[0;34m=\u001b[0m \u001b[0mtorchaudio\u001b[0m\u001b[0;34m.\u001b[0m\u001b[0mload\u001b[0m\u001b[0;34m(\u001b[0m\u001b[0mpath\u001b[0m\u001b[0;34m)\u001b[0m\u001b[0;34m\u001b[0m\u001b[0;34m\u001b[0m\u001b[0m\n\u001b[0m\u001b[1;32m     31\u001b[0m \u001b[0;34m\u001b[0m\u001b[0m\n\u001b[1;32m     32\u001b[0m     \u001b[0;32mif\u001b[0m \u001b[0mwav\u001b[0m\u001b[0;34m.\u001b[0m\u001b[0msize\u001b[0m\u001b[0;34m(\u001b[0m\u001b[0;36m0\u001b[0m\u001b[0;34m)\u001b[0m \u001b[0;34m>\u001b[0m \u001b[0;36m1\u001b[0m\u001b[0;34m:\u001b[0m\u001b[0;34m\u001b[0m\u001b[0;34m\u001b[0m\u001b[0m\n",
            "\u001b[0;32m/usr/local/lib/python3.6/dist-packages/torchaudio/backend/soundfile_backend.py\u001b[0m in \u001b[0;36mload\u001b[0;34m(filepath, out, normalization, channels_first, num_frames, offset, signalinfo, encodinginfo, filetype)\u001b[0m\n\u001b[1;32m     48\u001b[0m     \u001b[0;31m# check if valid file\u001b[0m\u001b[0;34m\u001b[0m\u001b[0;34m\u001b[0m\u001b[0;34m\u001b[0m\u001b[0m\n\u001b[1;32m     49\u001b[0m     \u001b[0;32mif\u001b[0m \u001b[0;32mnot\u001b[0m \u001b[0mos\u001b[0m\u001b[0;34m.\u001b[0m\u001b[0mpath\u001b[0m\u001b[0;34m.\u001b[0m\u001b[0misfile\u001b[0m\u001b[0;34m(\u001b[0m\u001b[0mfilepath\u001b[0m\u001b[0;34m)\u001b[0m\u001b[0;34m:\u001b[0m\u001b[0;34m\u001b[0m\u001b[0;34m\u001b[0m\u001b[0m\n\u001b[0;32m---> 50\u001b[0;31m         \u001b[0;32mraise\u001b[0m \u001b[0mOSError\u001b[0m\u001b[0;34m(\u001b[0m\u001b[0;34m\"{} not found or is a directory\"\u001b[0m\u001b[0;34m.\u001b[0m\u001b[0mformat\u001b[0m\u001b[0;34m(\u001b[0m\u001b[0mfilepath\u001b[0m\u001b[0;34m)\u001b[0m\u001b[0;34m)\u001b[0m\u001b[0;34m\u001b[0m\u001b[0;34m\u001b[0m\u001b[0m\n\u001b[0m\u001b[1;32m     51\u001b[0m \u001b[0;34m\u001b[0m\u001b[0m\n\u001b[1;32m     52\u001b[0m     \u001b[0;32mif\u001b[0m \u001b[0mnum_frames\u001b[0m \u001b[0;34m<\u001b[0m \u001b[0;34m-\u001b[0m\u001b[0;36m1\u001b[0m\u001b[0;34m:\u001b[0m\u001b[0;34m\u001b[0m\u001b[0;34m\u001b[0m\u001b[0m\n",
            "\u001b[0;31mOSError\u001b[0m: /content/fireflies_voc_1min.wav not found or is a directory"
          ]
        }
      ]
    },
    {
      "cell_type": "code",
      "metadata": {
        "colab": {
          "base_uri": "https://localhost:8080/"
        },
        "id": "JHUrc3mYeo-e",
        "outputId": "7b0c11f1-8c3c-49fb-b93c-6f19701c60c5"
      },
      "source": [
        "decoder.blank_idx"
      ],
      "execution_count": 21,
      "outputs": [
        {
          "output_type": "execute_result",
          "data": {
            "text/plain": [
              "0"
            ]
          },
          "metadata": {
            "tags": []
          },
          "execution_count": 21
        }
      ]
    },
    {
      "cell_type": "code",
      "metadata": {
        "colab": {
          "base_uri": "https://localhost:8080/"
        },
        "id": "LzTCZilJg8cr",
        "outputId": "ae38e459-a29f-4d63-eda0-5e91f6eabfea"
      },
      "source": [
        "np.argsort(res_array, axis=2)[0][100]\n",
        "#result = np.argmax(res_array, axis=2)\n",
        "#result[0][100]"
      ],
      "execution_count": 22,
      "outputs": [
        {
          "output_type": "execute_result",
          "data": {
            "text/plain": [
              "array([685, 822, 617, 653, 841, 821, 768, 933, 865, 833, 513, 940, 741,\n",
              "       890, 905, 968, 777, 772, 456, 844, 306, 577, 720, 660, 705, 799,\n",
              "       606, 882, 364, 761, 455, 541, 560, 950, 934, 717, 700, 919, 914,\n",
              "       946, 901, 349, 351, 483, 942, 442, 673, 838, 793, 960, 495, 798,\n",
              "       623, 837, 675, 764, 866, 936, 683, 562, 796, 362, 638, 828, 657,\n",
              "       884, 938, 687, 342, 913, 707, 785, 883, 835, 780, 311, 855, 731,\n",
              "       418, 808, 794, 912, 583, 877, 925, 691, 818, 923, 361, 920, 590,\n",
              "       806, 394, 250, 561, 512, 792, 277, 847, 718, 504, 830, 471, 750,\n",
              "       177, 614, 861, 664, 499, 400, 629, 557, 602, 903, 801, 628, 693,\n",
              "       650, 384, 710, 681, 347, 420, 645, 856, 702, 642, 377, 379, 965,\n",
              "       758, 586, 383, 454, 138, 737, 622, 514, 921, 726, 787, 609, 232,\n",
              "       478, 162, 876, 763, 850, 459, 547, 797, 762, 676,  96, 745, 888,\n",
              "       407, 966, 811, 635, 452, 630, 221, 714, 784, 131, 597, 875, 462,\n",
              "       310, 527, 857, 749, 771, 337, 697, 217, 819, 449, 176, 618, 331,\n",
              "       910, 904, 826, 153, 894, 795, 472, 816, 789, 953, 307, 582, 665,\n",
              "       216, 281, 641, 325, 237, 298, 932, 585, 612, 786, 540, 679, 265,\n",
              "       840, 313, 264, 238, 704, 563, 867, 759, 593, 846, 594, 788, 896,\n",
              "       906, 370, 425, 722, 918, 738, 643, 832, 291, 500, 878, 575, 632,\n",
              "       375, 781, 817, 301, 849, 951, 791, 598, 419, 812, 426, 776, 757,\n",
              "       528, 898, 728, 825, 492, 800, 939, 521, 727, 283, 937, 959, 605,\n",
              "       554, 644, 824, 390, 589, 695, 416, 121, 760, 559, 929, 852, 542,\n",
              "       922, 858, 863, 253, 423, 539, 829, 242, 734, 441, 711, 209, 569,\n",
              "       615, 694, 520, 911, 941, 570, 173, 909, 805, 415, 834, 873, 511,\n",
              "       654, 431,  46, 315, 578, 902, 769, 371, 895, 212, 823, 688, 343,\n",
              "       249, 160, 443, 843, 300, 184, 279, 634, 604, 505, 625, 684, 543,\n",
              "       599, 564, 373, 886, 611, 517,  60, 548, 831, 677, 334, 256, 320,\n",
              "       369, 748, 477, 869, 719,  77, 964, 105, 620, 601, 366, 413, 363,\n",
              "       994, 198, 917, 154, 403, 610, 588, 640, 474, 356, 924, 666, 128,\n",
              "       670, 197, 900, 927, 573, 207, 655, 967, 387, 566, 851, 755, 747,\n",
              "       724, 116, 285, 464, 814, 344, 572, 626, 723, 476, 170, 636, 404,\n",
              "       802, 947, 574, 346, 732, 716, 479, 447, 270,  84, 871, 494, 907,\n",
              "       739, 648, 142, 526, 156, 740, 410, 935, 952, 272, 385, 332, 368,\n",
              "       957, 699, 234, 434, 358, 859, 744,  95, 893, 928, 892, 656, 584,\n",
              "       854, 608, 189, 506, 545, 550, 191, 725, 481, 621, 931,  31, 258,\n",
              "       864, 354, 312, 480, 297, 516,  90, 742, 278, 245, 619, 365, 607,\n",
              "       102, 398, 880, 487, 595, 523, 430, 208, 438, 274, 171, 340, 251,\n",
              "       239, 659, 158, 669, 155, 446, 729, 600, 616, 206, 652, 220, 186,\n",
              "       486, 807, 502, 433, 706, 203, 490, 318, 294, 497, 668, 314, 813,\n",
              "       235, 411, 381, 767, 417, 735, 213, 350, 231, 408,  34, 151, 860,\n",
              "       409, 580, 393, 169, 658, 210, 463, 552, 448, 774,  52, 187, 827,\n",
              "       437, 123, 842, 531, 193, 178, 510, 395, 532, 809, 945, 113, 323,\n",
              "       166, 962, 244, 396, 485, 148, 284, 752, 754, 475, 304, 190, 378,\n",
              "       319, 553, 196, 948,  89, 275, 292, 646, 926, 181, 633, 293, 348,\n",
              "       649, 674, 712, 963, 779, 360, 427, 406, 140, 468, 402, 515, 161,\n",
              "       839, 382, 260, 662, 956, 309, 226, 881,  94, 228, 120, 130, 836,\n",
              "       872, 820, 874, 302, 199, 243, 862, 961, 766, 522, 782, 465, 686,\n",
              "       556, 576, 661, 733, 672, 305, 327, 565, 845, 647, 367, 424, 338,\n",
              "        39, 482, 682, 107, 690, 804, 743, 134, 248, 637, 222,  98, 261,\n",
              "       341, 488, 195, 335, 374, 458, 751, 296, 525, 803,  63, 355, 783,\n",
              "       765, 194, 111, 868, 696, 137, 730, 470, 885, 587, 899, 592, 204,\n",
              "       421, 944, 518, 496, 889, 535, 631, 211, 192, 280, 439, 389, 713,\n",
              "       236, 491, 536, 268, 183, 201, 887,  27, 164, 172, 667, 466, 157,\n",
              "       848, 428, 117, 689,  68, 533, 943, 180, 949, 252, 288, 484, 399,\n",
              "       440, 225,  48, 870,  24, 215, 401, 457,  33, 230, 182, 853, 321,\n",
              "       276, 175, 955, 324, 397, 168,  71,  86,  76, 392, 141, 692, 136,\n",
              "       603, 308,  50, 507, 703, 200, 916, 339,  79, 591, 436, 109,  82,\n",
              "       469, 240, 571, 498, 174,  62, 147, 651, 188, 218, 352, 223, 503,\n",
              "       219, 501, 118, 257,  37, 114,  19,  72, 202, 150, 639,  18,  99,\n",
              "       555,  53, 596, 709, 624, 322,  93, 879, 538, 380,  35, 112, 509,\n",
              "       680,  80, 273, 958, 460,  30, 770, 214, 104, 701, 715, 524,  20,\n",
              "       262, 534,  75, 345, 435,  43, 451, 287,  81, 388, 746, 263, 103,\n",
              "       412, 227, 101,  57,  65, 908, 930, 149, 167, 773, 414, 246, 289,\n",
              "       126, 429, 519, 247, 989, 581, 529, 266, 333, 461, 303, 336, 815,\n",
              "        64, 983, 551,  23,  14,  54, 132, 328, 790, 376, 627, 915, 489,\n",
              "       357,  40,  36,  47,  66, 255, 546, 144, 229,  42, 267, 453, 133,\n",
              "       241,  13, 391, 992, 163, 290, 973, 671, 567, 698, 450, 508, 537,\n",
              "        28, 549,  32,  67, 977, 996, 467,  44, 125,   6, 986, 995, 444,\n",
              "       708, 299, 135, 159, 106, 978, 432, 372, 810, 100,  69, 286, 386,\n",
              "       736, 122, 493,   4, 271,  49,  56,  83, 753,   7, 165, 317, 139,\n",
              "       422, 544, 282, 316,  61, 146, 295, 359, 473, 224, 269, 143,  22,\n",
              "       205, 185, 179,  73, 152,   2,  12,  88, 982, 613, 115, 233,  29,\n",
              "        74, 145, 971, 985,  70,   9, 329,  25, 678, 775, 984,  10,  51,\n",
              "        87, 993, 988,  58, 579, 980, 897, 997,   1, 663,  16, 530,  41,\n",
              "       974, 972, 558, 891, 353, 254, 976, 445, 756, 326, 568, 129, 954,\n",
              "       979,  17,  26, 990,  21,  85,  92,  15, 721, 405, 778, 969, 987,\n",
              "        55, 127, 110,   8, 330,  59, 119, 108,  38,  97,   3, 981,  11,\n",
              "         5, 970,  45,  78, 124, 975, 259,  91, 991, 998,   0])"
            ]
          },
          "metadata": {
            "tags": []
          },
          "execution_count": 22
        }
      ]
    },
    {
      "cell_type": "code",
      "metadata": {
        "colab": {
          "base_uri": "https://localhost:8080/",
          "height": 137
        },
        "id": "sqtZtR8li8Dt",
        "outputId": "5a7f7b55-bfbe-44dd-857a-934a49fb0a02"
      },
      "source": [
        "\n",
        "\n",
        "\n",
        "#Testing singing with empty removed\n",
        "speech_file = '/content/fireflies_voc_1min.wav'\n",
        "test_files = [speech_file]\n",
        "batches = split_into_batches(test_files, batch_size=10)\n",
        "input = prepare_model_input(read_batch(batches[0]))\n",
        "\n",
        "# For each frame print the grapheme that is the most likely\n",
        "graphemes = decoder.labels\n",
        "res = tf_model.signatures[\"serving_default\"](tf.constant(input.numpy()))['output_0']\n",
        "res_array = np.array(res)\n",
        "res_array[0].shape\n",
        "result = np.argmax(res_array, axis=2)\n",
        "\n",
        "original = result[0].copy()\n",
        "for i,val in enumerate(original):\n",
        "  #print(val)\n",
        "  if val == 0:\n",
        "    #print(np.argsort(res_array, axis=2)[0][i][-2])\n",
        "    #result[0][i] = np.argsort(res_array, axis=2)[0][i][-2]\n",
        "    result[0][i] = np.argpartition(res_array, -2, axis=2)[0][i][-2]\n",
        "\n",
        "text = []\n",
        "for i in result[0].tolist():\n",
        "  text.append(graphemes[i])\n",
        "\n",
        "\"\".join(text)\n"
      ],
      "execution_count": 25,
      "outputs": [
        {
          "output_type": "execute_result",
          "data": {
            "application/vnd.google.colaboratory.intrinsic+json": {
              "type": "string"
            },
            "text/plain": [
              "\"spspspspspspiispiiiiiiiii   ii  what   not     believeave  or      eyeseyes'eds    if  can   millillion   f ireire   ffliesesededss    my    up   the allall  as i   fell as  ly avevedveve    iiiiii22iiiiiiii222ii2222   becauseuse  they   foundll  they   open       airirirs     and leave    your drorops  everyevery   where    you   makeak  me   will   but    i  would  just   stand   and'nsss      starirss   sss iiiiiiiiiii22    i    like     make   mymymymy selfselfll   i inginginging i2222222222222    it   and   it a    i2222222ss  iiiii2sss2222    ssolowwve  ohohoh2 ohohoh22222i2222222   it   are   to say   that i   rathertherthersssss     why ingig      i m  less   lyeeingitiiii'2   becauseuse   everyevery  thth     is   nevernever  atactt   to   seeinginginginginging22222222222amanssssiiiiiiiiiii2    but   i  get   a  thousandthousands    hourouvesvesvesvessss   from   ten   thousandthousand    lightininenning    lovesvesves     is  they   tried  to teach   me    outout     d nsss   iiiiiiiiiiiiiiiispii' ii222    a ho   strroong  ababove   i   airsss\""
            ]
          },
          "metadata": {
            "tags": []
          },
          "execution_count": 25
        }
      ]
    },
    {
      "cell_type": "code",
      "metadata": {
        "colab": {
          "base_uri": "https://localhost:8080/",
          "height": 137
        },
        "id": "jrLshGMBmJv9",
        "outputId": "9f0a536f-16c6-41ff-c9c7-2c1548008821"
      },
      "source": [
        "\n",
        "\n",
        "\n",
        "#Testing singing with empty removed\n",
        "speech_file = '/content/jepsen_voc.wav'\n",
        "test_files = [speech_file]\n",
        "batches = split_into_batches(test_files, batch_size=10)\n",
        "input = prepare_model_input(read_batch(batches[0]))\n",
        "\n",
        "# For each frame print the grapheme that is the most likely\n",
        "graphemes = decoder.labels\n",
        "res = tf_model.signatures[\"serving_default\"](tf.constant(input.numpy()))['output_0']\n",
        "res_array = np.array(res)\n",
        "res_array[0].shape\n",
        "result = np.argmax(res_array, axis=2)\n",
        "\n",
        "#original = result[0].copy()\n",
        "#for i,val in enumerate(original):\n",
        "  #print(val)\n",
        "#  if val == 0:\n",
        "    #print(np.argsort(res_array, axis=2)[0][i][-2])\n",
        "    #result[0][i] = np.argsort(res_array, axis=2)[0][i][-2]\n",
        "#    result[0][i] = np.argpartition(res_array, -2, axis=2)[0][i][-2]\n",
        "\n",
        "text = []\n",
        "for i in result[0].tolist():\n",
        "  text.append(graphemes[i])\n",
        "\n",
        "\"\".join(text)\n"
      ],
      "execution_count": 94,
      "outputs": [
        {
          "output_type": "execute_result",
          "data": {
            "application/vnd.google.colaboratory.intrinsic+json": {
              "type": "string"
            },
            "text/plain": [
              "\"____maybebe  's  right____________  maybebe there_  is  something  the  mat_ter with me_________________  i  _just   i don 't see how   world  that make   such  _wonderderful  things_____  could  be bad______  look  at  this  stuff_______  isn t  any  me_________  would     _think_    my_  _col_lect__ions_   comple__te_______  wouldn 't   _think_        girl________    _good_  who  _have____________   _every___thing________________  look_  at this_  _twelve____  tre_asas_ures_  and   all_______  _how   many  _won_dders_   can   want_  ca_verver__  who_____   look_      around_  you   you  think_________ _sure_________   she 's got_    _every___thingthing____________      get  getad  to  think  is    _   of plent_y_________ i 've got   who      from   what's it'  go _______________  you  want thing  over  us__________  i   got  _twent_y____________ _but_  who  _care__s____________  no_  big_  do_al_______________  i    want____  _____________________________________________________________________________  _       be______  who    the  _people_  are_____________ _      _see_______  on_ a _see_  __   _dance__ _say________  _wal__   _around___    almost______________  when  you   call_______________  _see________________________       in  your things__  you dondon't   get_  you   _for__________  leg__s___  i  re_cred_ your   for  jumumpp in  _d_ance_  ing____ _so_     along__  down__ _______  what's  that  word  again____________  _she___________________     who    they  want__________   who   they    on_________   who     i  __sayay_______ ________________________  _want_  of     freeree_______  who      i  could  be__________ _______  that__________________________   _what  would  i   give________  if   i  can    live___  out_  of   these_____ _one_ _ more_______________ _what_  what   i   _pay________    _send   a _day__   _warm   on__   the  _s___________________ _that       on   land__________  they     _____understand_______  that they don  't     reap_from_  them_   their   daughghters_____________ _right   young   _women_______________  _sick  a or  women___________  for_______   to   _say________________________________________  _i   ready_     know_   what_       people_   know_______________  _ask_ in  my  question______  and   get_   some_   and__werwer______  what_'s_     why_   your    _   what  does  it______     the word_________ ________________________ _oh  and   then   my__ _child_________  who_   and  i ________________  to    _ex__lo_____  _ ___________________________________________________________________ ________________  _see_____________________________  _which_____  i_________  be____________________________ _________________________________________ _____________________________________________________________________________________________________________________________________________________________________________________________________________________________________________________________________________________________________________________________________________________________\""
            ]
          },
          "metadata": {
            "tags": []
          },
          "execution_count": 94
        }
      ]
    },
    {
      "cell_type": "code",
      "metadata": {
        "colab": {
          "base_uri": "https://localhost:8080/"
        },
        "id": "DprAt2SUr9C0",
        "outputId": "8614e5ac-8c97-4553-dbea-bd27ecdc9bff"
      },
      "source": [
        "decoder.labels"
      ],
      "execution_count": 24,
      "outputs": [
        {
          "output_type": "execute_result",
          "data": {
            "text/plain": [
              "['_',\n",
              " 'th',\n",
              " 'the',\n",
              " 'in',\n",
              " 'an',\n",
              " 're',\n",
              " 'er',\n",
              " 'on',\n",
              " 'at',\n",
              " 'ou',\n",
              " 'is',\n",
              " 'en',\n",
              " 'to',\n",
              " 'and',\n",
              " 'ed',\n",
              " 'al',\n",
              " 'as',\n",
              " 'it',\n",
              " 'ing',\n",
              " 'or',\n",
              " 'of',\n",
              " 'es',\n",
              " 'ar',\n",
              " 'he',\n",
              " 'le',\n",
              " 'st',\n",
              " 'se',\n",
              " 'om',\n",
              " 'ic',\n",
              " 'be',\n",
              " 'we',\n",
              " 'ly',\n",
              " 'that',\n",
              " 'no',\n",
              " 'wh',\n",
              " 've',\n",
              " 'ha',\n",
              " 'you',\n",
              " 'ch',\n",
              " 'ion',\n",
              " 'il',\n",
              " 'ent',\n",
              " 'ro',\n",
              " 'me',\n",
              " 'id',\n",
              " 'ac',\n",
              " 'gh',\n",
              " 'for',\n",
              " 'was',\n",
              " 'lo',\n",
              " 'ver',\n",
              " 'ut',\n",
              " 'li',\n",
              " 'ld',\n",
              " 'ay',\n",
              " 'ad',\n",
              " 'so',\n",
              " 'ir',\n",
              " 'im',\n",
              " 'un',\n",
              " 'wi',\n",
              " 'ter',\n",
              " 'are',\n",
              " 'with',\n",
              " 'ke',\n",
              " 'ge',\n",
              " 'do',\n",
              " 'ur',\n",
              " 'all',\n",
              " 'ce',\n",
              " 'ab',\n",
              " 'mo',\n",
              " 'go',\n",
              " 'pe',\n",
              " 'ne',\n",
              " 'this',\n",
              " 'ri',\n",
              " 'ght',\n",
              " 'de',\n",
              " 'one',\n",
              " 'us',\n",
              " 'am',\n",
              " 'out',\n",
              " 'fe',\n",
              " 'but',\n",
              " 'po',\n",
              " 'his',\n",
              " 'te',\n",
              " 'ho',\n",
              " 'ther',\n",
              " 'not',\n",
              " 'con',\n",
              " 'com',\n",
              " 'll',\n",
              " 'they',\n",
              " 'if',\n",
              " 'ould',\n",
              " 'su',\n",
              " 'have',\n",
              " 'ct',\n",
              " 'ain',\n",
              " 'our',\n",
              " 'ation',\n",
              " 'fr',\n",
              " 'ill',\n",
              " 'now',\n",
              " 'sa',\n",
              " 'had',\n",
              " 'tr',\n",
              " 'her',\n",
              " 'per',\n",
              " 'ant',\n",
              " 'oun',\n",
              " 'my',\n",
              " 'ul',\n",
              " 'ca',\n",
              " 'by',\n",
              " 'what',\n",
              " 'red',\n",
              " 'res',\n",
              " 'od',\n",
              " 'ome',\n",
              " 'ess',\n",
              " 'man',\n",
              " 'ex',\n",
              " 'she',\n",
              " 'pl',\n",
              " 'co',\n",
              " 'wor',\n",
              " 'pro',\n",
              " 'up',\n",
              " 'thing',\n",
              " 'there',\n",
              " 'ple',\n",
              " 'ag',\n",
              " 'can',\n",
              " 'qu',\n",
              " 'art',\n",
              " 'ally',\n",
              " 'ok',\n",
              " 'from',\n",
              " 'ust',\n",
              " 'very',\n",
              " 'sh',\n",
              " 'ind',\n",
              " 'est',\n",
              " 'some',\n",
              " 'ate',\n",
              " 'wn',\n",
              " 'ti',\n",
              " 'fo',\n",
              " 'ard',\n",
              " 'ap',\n",
              " 'him',\n",
              " 'were',\n",
              " 'ich',\n",
              " 'here',\n",
              " 'bo',\n",
              " 'ity',\n",
              " 'um',\n",
              " 'ive',\n",
              " 'ous',\n",
              " 'way',\n",
              " 'end',\n",
              " 'ig',\n",
              " 'pr',\n",
              " 'which',\n",
              " 'ma',\n",
              " 'ist',\n",
              " 'them',\n",
              " 'like',\n",
              " 'who',\n",
              " 'ers',\n",
              " 'when',\n",
              " 'act',\n",
              " 'use',\n",
              " 'about',\n",
              " 'ound',\n",
              " 'gr',\n",
              " 'et',\n",
              " 'ide',\n",
              " 'ight',\n",
              " 'ast',\n",
              " 'king',\n",
              " 'would',\n",
              " 'ci',\n",
              " 'their',\n",
              " 'other',\n",
              " 'see',\n",
              " 'ment',\n",
              " 'ong',\n",
              " 'wo',\n",
              " 'ven',\n",
              " 'know',\n",
              " 'how',\n",
              " 'said',\n",
              " 'ine',\n",
              " 'ure',\n",
              " 'more',\n",
              " 'der',\n",
              " 'sel',\n",
              " 'br',\n",
              " 'ren',\n",
              " 'ack',\n",
              " 'ol',\n",
              " 'ta',\n",
              " 'low',\n",
              " 'ough',\n",
              " 'then',\n",
              " 'peo',\n",
              " 'ye',\n",
              " 'ace',\n",
              " 'people',\n",
              " 'ink',\n",
              " 'ort',\n",
              " 'your',\n",
              " 'will',\n",
              " 'than',\n",
              " 'pp',\n",
              " 'any',\n",
              " 'ish',\n",
              " 'look',\n",
              " 'la',\n",
              " 'just',\n",
              " 'tor',\n",
              " 'ice',\n",
              " 'itt',\n",
              " 'af',\n",
              " 'these',\n",
              " 'sp',\n",
              " 'has',\n",
              " 'gre',\n",
              " 'been',\n",
              " 'ty',\n",
              " 'ies',\n",
              " 'ie',\n",
              " 'get',\n",
              " 'able',\n",
              " 'day',\n",
              " 'could',\n",
              " 'bl',\n",
              " 'two',\n",
              " 'time',\n",
              " 'beca',\n",
              " 'into',\n",
              " 'age',\n",
              " 'ans',\n",
              " 'mis',\n",
              " 'new',\n",
              " 'ree',\n",
              " 'ble',\n",
              " 'ite',\n",
              " 'si',\n",
              " 'urn',\n",
              " 'ass',\n",
              " 'cl',\n",
              " 'ber',\n",
              " 'str',\n",
              " 'think',\n",
              " 'dis',\n",
              " 'mar',\n",
              " 'ence',\n",
              " 'pt',\n",
              " 'self',\n",
              " 'ated',\n",
              " 'did',\n",
              " 'el',\n",
              " 'don',\n",
              " 'ck',\n",
              " 'ph',\n",
              " 'ars',\n",
              " 'ach',\n",
              " 'fore',\n",
              " 'its',\n",
              " 'part',\n",
              " 'ang',\n",
              " 'cre',\n",
              " 'well',\n",
              " 'ions',\n",
              " 'where',\n",
              " 'ves',\n",
              " 'ved',\n",
              " 'em',\n",
              " 'good',\n",
              " 'because',\n",
              " 'over',\n",
              " 'ud',\n",
              " 'ts',\n",
              " 'off',\n",
              " 'turn',\n",
              " 'cr',\n",
              " 'right',\n",
              " 'ress',\n",
              " 'most',\n",
              " 'every',\n",
              " 'pre',\n",
              " 'fa',\n",
              " 'fir',\n",
              " 'ild',\n",
              " 'pos',\n",
              " 'down',\n",
              " 'work',\n",
              " 'ade',\n",
              " 'say',\n",
              " 'med',\n",
              " 'also',\n",
              " 'litt',\n",
              " 'little',\n",
              " 'ance',\n",
              " 'come',\n",
              " 'ving',\n",
              " 'only',\n",
              " 'ful',\n",
              " 'ought',\n",
              " 'want',\n",
              " 'going',\n",
              " 'spe',\n",
              " 'ps',\n",
              " 'ater',\n",
              " 'first',\n",
              " 'after',\n",
              " 'ue',\n",
              " 'ose',\n",
              " 'mu',\n",
              " 'iz',\n",
              " 'ire',\n",
              " 'int',\n",
              " 'rest',\n",
              " 'ser',\n",
              " 'coun',\n",
              " 'des',\n",
              " 'light',\n",
              " 'son',\n",
              " 'let',\n",
              " 'ical',\n",
              " 'ick',\n",
              " 'ra',\n",
              " 'back',\n",
              " 'mon',\n",
              " 'ase',\n",
              " 'ign',\n",
              " 'ep',\n",
              " 'world',\n",
              " 'may',\n",
              " 'read',\n",
              " 'form',\n",
              " 'much',\n",
              " 'even',\n",
              " 'should',\n",
              " 'again',\n",
              " 'make',\n",
              " 'long',\n",
              " 'sto',\n",
              " 'cont',\n",
              " 'put',\n",
              " 'thr',\n",
              " 'under',\n",
              " 'cor',\n",
              " 'bet',\n",
              " 'jo',\n",
              " 'car',\n",
              " 'ile',\n",
              " 'went',\n",
              " 'yes',\n",
              " 'ually',\n",
              " 'row',\n",
              " 'hand',\n",
              " 'ak',\n",
              " 'call',\n",
              " 'ary',\n",
              " 'ia',\n",
              " 'many',\n",
              " 'cho',\n",
              " 'things',\n",
              " 'try',\n",
              " 'gl',\n",
              " 'ens',\n",
              " 'really',\n",
              " 'happ',\n",
              " 'great',\n",
              " 'dif',\n",
              " 'bu',\n",
              " 'hi',\n",
              " 'made',\n",
              " 'room',\n",
              " 'ange',\n",
              " 'cent',\n",
              " 'ious',\n",
              " 'je',\n",
              " 'three',\n",
              " 'ward',\n",
              " 'op',\n",
              " 'gen',\n",
              " 'those',\n",
              " 'life',\n",
              " 'tal',\n",
              " 'pa',\n",
              " 'through',\n",
              " 'und',\n",
              " 'cess',\n",
              " 'before',\n",
              " 'du',\n",
              " 'side',\n",
              " 'need',\n",
              " 'less',\n",
              " 'inter',\n",
              " 'ting',\n",
              " 'ry',\n",
              " 'ise',\n",
              " 'na',\n",
              " 'men',\n",
              " 'ave',\n",
              " 'fl',\n",
              " 'ction',\n",
              " 'pres',\n",
              " 'old',\n",
              " 'something',\n",
              " 'miss',\n",
              " 'never',\n",
              " 'got',\n",
              " 'feren',\n",
              " 'imp',\n",
              " 'sy',\n",
              " 'ations',\n",
              " 'tain',\n",
              " 'ning',\n",
              " 'ked',\n",
              " 'sm',\n",
              " 'take',\n",
              " 'ten',\n",
              " 'ted',\n",
              " 'ip',\n",
              " 'col',\n",
              " 'own',\n",
              " 'stand',\n",
              " 'add',\n",
              " 'min',\n",
              " 'wer',\n",
              " 'ms',\n",
              " 'ces',\n",
              " 'gu',\n",
              " 'land',\n",
              " 'bod',\n",
              " 'log',\n",
              " 'cour',\n",
              " 'ob',\n",
              " 'vo',\n",
              " 'ition',\n",
              " 'hu',\n",
              " 'came',\n",
              " 'comp',\n",
              " 'cur',\n",
              " 'being',\n",
              " 'comm',\n",
              " 'years',\n",
              " 'ily',\n",
              " 'wom',\n",
              " 'cer',\n",
              " 'kind',\n",
              " 'thought',\n",
              " 'such',\n",
              " 'tell',\n",
              " 'child',\n",
              " 'nor',\n",
              " 'bro',\n",
              " 'ial',\n",
              " 'pu',\n",
              " 'does',\n",
              " 'head',\n",
              " 'clo',\n",
              " 'ear',\n",
              " 'led',\n",
              " 'llow',\n",
              " 'ste',\n",
              " 'ness',\n",
              " 'too',\n",
              " 'start',\n",
              " 'mor',\n",
              " 'used',\n",
              " 'par',\n",
              " 'play',\n",
              " 'ents',\n",
              " 'tri',\n",
              " 'upon',\n",
              " 'tim',\n",
              " 'num',\n",
              " 'ds',\n",
              " 'ever',\n",
              " 'cle',\n",
              " 'ef',\n",
              " 'wr',\n",
              " 'vis',\n",
              " 'ian',\n",
              " 'sur',\n",
              " 'same',\n",
              " 'might',\n",
              " 'fin',\n",
              " 'differen',\n",
              " 'sho',\n",
              " 'why',\n",
              " 'body',\n",
              " 'mat',\n",
              " 'beg',\n",
              " 'vers',\n",
              " 'ouse',\n",
              " 'actually',\n",
              " 'ft',\n",
              " 'ath',\n",
              " 'hel',\n",
              " 'sha',\n",
              " 'ating',\n",
              " 'ual',\n",
              " 'found',\n",
              " 'ways',\n",
              " 'must',\n",
              " 'four',\n",
              " 'gi',\n",
              " 'val',\n",
              " 'di',\n",
              " 'tre',\n",
              " 'still',\n",
              " 'tory',\n",
              " 'ates',\n",
              " 'high',\n",
              " 'set',\n",
              " 'care',\n",
              " 'ced',\n",
              " 'last',\n",
              " 'find',\n",
              " 'au',\n",
              " 'inte',\n",
              " 'ev',\n",
              " 'ger',\n",
              " 'thank',\n",
              " 'ss',\n",
              " 'ict',\n",
              " 'ton',\n",
              " 'cal',\n",
              " 'nat',\n",
              " 'les',\n",
              " 'bed',\n",
              " 'away',\n",
              " 'place',\n",
              " 'house',\n",
              " 'che',\n",
              " 'ject',\n",
              " 'sol',\n",
              " 'another',\n",
              " 'ited',\n",
              " 'att',\n",
              " 'face',\n",
              " 'show',\n",
              " 'ner',\n",
              " 'ken',\n",
              " 'far',\n",
              " 'ys',\n",
              " 'lect',\n",
              " 'lie',\n",
              " 'tem',\n",
              " 'ened',\n",
              " 'night',\n",
              " 'while',\n",
              " 'looking',\n",
              " 'ah',\n",
              " 'wal',\n",
              " 'dr',\n",
              " 'real',\n",
              " 'cha',\n",
              " 'exp',\n",
              " 'war',\n",
              " 'five',\n",
              " 'pol',\n",
              " 'fri',\n",
              " 'wa',\n",
              " 'cy',\n",
              " 'fect',\n",
              " 'xt',\n",
              " 'left',\n",
              " 'give',\n",
              " 'soci',\n",
              " 'cond',\n",
              " 'char',\n",
              " 'bor',\n",
              " 'point',\n",
              " 'number',\n",
              " 'mister',\n",
              " 'called',\n",
              " 'six',\n",
              " 'bre',\n",
              " 'vi',\n",
              " 'without',\n",
              " 'person',\n",
              " 'air',\n",
              " 'different',\n",
              " 'lot',\n",
              " 'bit',\n",
              " 'pass',\n",
              " 'ular',\n",
              " 'youn',\n",
              " 'won',\n",
              " 'main',\n",
              " 'cri',\n",
              " 'ings',\n",
              " 'den',\n",
              " 'water',\n",
              " 'human',\n",
              " 'around',\n",
              " 'quest',\n",
              " 'ters',\n",
              " 'ities',\n",
              " 'feel',\n",
              " 'each',\n",
              " 'friend',\n",
              " 'sub',\n",
              " 'though',\n",
              " 'saw',\n",
              " 'ks',\n",
              " 'hund',\n",
              " 'hundred',\n",
              " 'times',\n",
              " 'lar',\n",
              " 'ff',\n",
              " 'amer',\n",
              " 'scho',\n",
              " 'sci',\n",
              " 'ors',\n",
              " 'lt',\n",
              " 'arch',\n",
              " 'fact',\n",
              " 'hal',\n",
              " 'himself',\n",
              " 'gener',\n",
              " 'mean',\n",
              " 'vol',\n",
              " 'school',\n",
              " 'ason',\n",
              " 'fam',\n",
              " 'ult',\n",
              " 'mind',\n",
              " 'itch',\n",
              " 'ped',\n",
              " 'home',\n",
              " 'young',\n",
              " 'took',\n",
              " 'big',\n",
              " 'love',\n",
              " 'reg',\n",
              " 'eng',\n",
              " 'sure',\n",
              " 'vent',\n",
              " 'ls',\n",
              " 'ot',\n",
              " 'ince',\n",
              " 'thous',\n",
              " 'eight',\n",
              " 'thousand',\n",
              " 'better',\n",
              " 'mom',\n",
              " 'appe',\n",
              " 'once',\n",
              " 'ied',\n",
              " 'mus',\n",
              " 'stem',\n",
              " 'sing',\n",
              " 'ident',\n",
              " 'als',\n",
              " 'uh',\n",
              " 'mem',\n",
              " 'produ',\n",
              " 'stud',\n",
              " 'power',\n",
              " 'atch',\n",
              " 'bas',\n",
              " 'father',\n",
              " 'av',\n",
              " 'nothing',\n",
              " 'gir',\n",
              " 'pect',\n",
              " 'unt',\n",
              " 'few',\n",
              " 'kes',\n",
              " 'eyes',\n",
              " 'sk',\n",
              " 'always',\n",
              " 'ared',\n",
              " 'toge',\n",
              " 'stru',\n",
              " 'together',\n",
              " 'ics',\n",
              " 'bus',\n",
              " 'fort',\n",
              " 'ween',\n",
              " 'rep',\n",
              " 'ically',\n",
              " 'small',\n",
              " 'ga',\n",
              " 'mer',\n",
              " 'ned',\n",
              " 'ins',\n",
              " 'between',\n",
              " 'yet',\n",
              " 'stre',\n",
              " 'hard',\n",
              " 'system',\n",
              " 'course',\n",
              " 'year',\n",
              " 'cept',\n",
              " 'publ',\n",
              " 'sim',\n",
              " 'sou',\n",
              " 'ready',\n",
              " 'follow',\n",
              " 'present',\n",
              " 'rel',\n",
              " 'turned',\n",
              " 'sw',\n",
              " 'possi',\n",
              " 'mother',\n",
              " 'io',\n",
              " 'bar',\n",
              " 'ished',\n",
              " 'dec',\n",
              " 'ments',\n",
              " 'pri',\n",
              " 'next',\n",
              " 'ross',\n",
              " 'both',\n",
              " 'ship',\n",
              " 'ures',\n",
              " 'americ',\n",
              " 'eas',\n",
              " 'asked',\n",
              " 'iness',\n",
              " 'serv',\n",
              " 'ists',\n",
              " 'ash',\n",
              " 'uni',\n",
              " 'build',\n",
              " 'phone',\n",
              " 'lau',\n",
              " 'ctor',\n",
              " 'belie',\n",
              " 'change',\n",
              " 'interest',\n",
              " 'peri',\n",
              " 'children',\n",
              " 'thir',\n",
              " 'lear',\n",
              " 'plan',\n",
              " 'import',\n",
              " 'ational',\n",
              " 'har',\n",
              " 'ines',\n",
              " 'dist',\n",
              " 'selves',\n",
              " 'city',\n",
              " 'sen',\n",
              " 'run',\n",
              " 'law',\n",
              " 'ghter',\n",
              " 'proble',\n",
              " 'woman',\n",
              " 'done',\n",
              " 'heart',\n",
              " 'book',\n",
              " 'aut',\n",
              " 'ris',\n",
              " 'lim',\n",
              " 'looked',\n",
              " 'vid',\n",
              " 'fu',\n",
              " 'bab',\n",
              " 'ately',\n",
              " 'ord',\n",
              " 'ket',\n",
              " 'oc',\n",
              " 'doing',\n",
              " 'area',\n",
              " 'tech',\n",
              " 'win',\n",
              " 'name',\n",
              " 'second',\n",
              " 'certain',\n",
              " 'pat',\n",
              " 'lad',\n",
              " 'quite',\n",
              " 'told',\n",
              " 'ific',\n",
              " 'ative',\n",
              " 'uring',\n",
              " 'gg',\n",
              " 'half',\n",
              " 'reason',\n",
              " 'moment',\n",
              " 'ility',\n",
              " 'ution',\n",
              " 'shall',\n",
              " 'aur',\n",
              " 'enough',\n",
              " 'idea',\n",
              " 'open',\n",
              " 'understand',\n",
              " 'vie',\n",
              " 'contin',\n",
              " 'mal',\n",
              " 'hor',\n",
              " 'qui',\n",
              " 'address',\n",
              " 'heard',\n",
              " 'help',\n",
              " 'inst',\n",
              " 'oney',\n",
              " 'whole',\n",
              " 'gover',\n",
              " 'commun',\n",
              " 'exam',\n",
              " 'near',\n",
              " 'didn',\n",
              " 'logy',\n",
              " 'oh',\n",
              " 'tru',\n",
              " 'lang',\n",
              " 'restaur',\n",
              " 'restaurant',\n",
              " 'design',\n",
              " 'ze',\n",
              " 'talk',\n",
              " 'leg',\n",
              " 'line',\n",
              " 'ank',\n",
              " 'ond',\n",
              " 'country',\n",
              " 'ute',\n",
              " 'howe',\n",
              " 'hold',\n",
              " 'live',\n",
              " 'comple',\n",
              " 'however',\n",
              " 'ized',\n",
              " 'ush',\n",
              " 'seen',\n",
              " 'bye',\n",
              " 'fer',\n",
              " 'ital',\n",
              " 'women',\n",
              " 'net',\n",
              " 'state',\n",
              " 'bur',\n",
              " 'fac',\n",
              " 'whe',\n",
              " 'important',\n",
              " 'dar',\n",
              " 'nine',\n",
              " 'sat',\n",
              " 'fic',\n",
              " 'known',\n",
              " 'having',\n",
              " 'against',\n",
              " 'soon',\n",
              " 'ety',\n",
              " 'langu',\n",
              " 'public',\n",
              " 'sil',\n",
              " 'best',\n",
              " 'az',\n",
              " 'knew',\n",
              " 'black',\n",
              " 'velo',\n",
              " 'sort',\n",
              " 'seven',\n",
              " 'imag',\n",
              " 'lead',\n",
              " 'cap',\n",
              " 'ask',\n",
              " 'alth',\n",
              " 'ature',\n",
              " 'nam',\n",
              " 'began',\n",
              " 'white',\n",
              " 'sent',\n",
              " 'sound',\n",
              " 'vir',\n",
              " 'days',\n",
              " 'anything',\n",
              " 'yeah',\n",
              " 'ub',\n",
              " 'blo',\n",
              " 'sun',\n",
              " 'story',\n",
              " 'dire',\n",
              " 'money',\n",
              " 'trans',\n",
              " 'mil',\n",
              " 'org',\n",
              " 'grow',\n",
              " 'cord',\n",
              " 'pped',\n",
              " 'cus',\n",
              " 'spo',\n",
              " 'sign',\n",
              " 'beaut',\n",
              " 'goodbye',\n",
              " 'inde',\n",
              " 'large',\n",
              " 'question',\n",
              " 'often',\n",
              " 'hour',\n",
              " 'que',\n",
              " 'pur',\n",
              " 'town',\n",
              " 'ield',\n",
              " 'coming',\n",
              " 'door',\n",
              " 'lig',\n",
              " 'ling',\n",
              " 'incl',\n",
              " 'partic',\n",
              " 'keep',\n",
              " 'engl',\n",
              " 'move',\n",
              " 'later',\n",
              " 'ants',\n",
              " 'food',\n",
              " 'lights',\n",
              " 'bal',\n",
              " 'words',\n",
              " 'list',\n",
              " 'aw',\n",
              " 'allow',\n",
              " 'aren',\n",
              " 'pret',\n",
              " 'tern',\n",
              " 'today',\n",
              " 'believe',\n",
              " 'almost',\n",
              " 'bir',\n",
              " 'word',\n",
              " 'possible',\n",
              " 'ither',\n",
              " 'case',\n",
              " 'ried',\n",
              " 'ural',\n",
              " 'round',\n",
              " 'twent',\n",
              " 'develo',\n",
              " 'plain',\n",
              " 'ended',\n",
              " 'iting',\n",
              " 'chang',\n",
              " 'sc',\n",
              " 'boy',\n",
              " 'gy',\n",
              " 'since',\n",
              " 'ones',\n",
              " 'suc',\n",
              " 'cas',\n",
              " 'national',\n",
              " 'plac',\n",
              " 'teen',\n",
              " 'pose',\n",
              " 'started',\n",
              " 'mas',\n",
              " 'fi',\n",
              " 'fif',\n",
              " 'afr',\n",
              " 'fully',\n",
              " 'grou',\n",
              " 'wards',\n",
              " 'girl',\n",
              " 'e',\n",
              " 't',\n",
              " 'a',\n",
              " 'o',\n",
              " 'i',\n",
              " 'n',\n",
              " 's',\n",
              " 'h',\n",
              " 'r',\n",
              " 'l',\n",
              " 'd',\n",
              " 'u',\n",
              " 'c',\n",
              " 'm',\n",
              " 'w',\n",
              " 'f',\n",
              " 'g',\n",
              " 'y',\n",
              " 'p',\n",
              " 'b',\n",
              " 'v',\n",
              " 'k',\n",
              " \"'\",\n",
              " 'x',\n",
              " 'j',\n",
              " 'q',\n",
              " 'z',\n",
              " '-',\n",
              " '2',\n",
              " ' ']"
            ]
          },
          "metadata": {
            "tags": []
          },
          "execution_count": 24
        }
      ]
    },
    {
      "cell_type": "code",
      "metadata": {
        "id": "xWSv8zffZ00c"
      },
      "source": [
        "import math\n",
        "\n",
        "subproblems = []\n",
        "def minimal_token(text, tokens):\n",
        "  global subproblems\n",
        "  subproblems = [None for i in range(len(text))]\n",
        "  solution = minimal_token_recursive(text, 0, tokens)\n",
        "  return solution\n",
        "\n",
        "def minimal_token_recursive(text, index, tokens):\n",
        "  global subproblems\n",
        "  if index >= len(text):\n",
        "    return (0,[])\n",
        "  # If we haven't calculated the solution before, calculate it now\n",
        "  if subproblems[index] is None:\n",
        "    subproblems[index] = minimal_token_recursive_calculate(text, index, tokens)\n",
        "    \n",
        "  return subproblems[index]\n",
        "  \n",
        "\n",
        "\n",
        "def minimal_token_recursive_calculate(text, index, tokens):\n",
        "  minimum = None\n",
        "  minimum_token = None\n",
        "  for i, token in enumerate(tokens):\n",
        "    if str.find(text[index:], token) == 0:\n",
        "      subproblem = minimal_token_recursive(text, index+len(token), tokens)\n",
        "      if subproblem is None:\n",
        "        raise Exception(\"Sub none\")\n",
        "      if minimum is None or subproblem[0] < minimum[0]:\n",
        "        minimum = subproblem\n",
        "        minimum_token = i\n",
        "  if minimum == None:\n",
        "    #raise Exception(\"This text cannot be represented\")\n",
        "    # or instead just return something with a large cost\n",
        "    return (math.inf, [])\n",
        "  \n",
        "  new_list = minimum[1].copy()\n",
        "  new_list.insert(0, minimum_token)\n",
        "  return (1 + minimum[0], new_list)\n",
        "\n",
        "  \n"
      ],
      "execution_count": 88,
      "outputs": []
    },
    {
      "cell_type": "code",
      "metadata": {
        "colab": {
          "base_uri": "https://localhost:8080/"
        },
        "id": "TQFhYKiAiedZ",
        "outputId": "fd08b613-20e0-40a8-c827-2e5e3a13d5cf"
      },
      "source": [
        "#minimal_token(\"the inovation sensation\", decoder.labels)\n",
        "minimal_token(\"the\", decoder.labels)"
      ],
      "execution_count": 90,
      "outputs": [
        {
          "output_type": "execute_result",
          "data": {
            "text/plain": [
              "(1, [2])"
            ]
          },
          "metadata": {
            "tags": []
          },
          "execution_count": 90
        }
      ]
    },
    {
      "cell_type": "code",
      "metadata": {
        "colab": {
          "base_uri": "https://localhost:8080/"
        },
        "id": "kUmpZ9Qmiuji",
        "outputId": "c1872acb-3f9a-4146-cb81-48ec64d8a6a7"
      },
      "source": [
        "decoder."
      ],
      "execution_count": 33,
      "outputs": [
        {
          "output_type": "execute_result",
          "data": {
            "text/plain": [
              "[None, None, None, None, None]"
            ]
          },
          "metadata": {
            "tags": []
          },
          "execution_count": 33
        }
      ]
    },
    {
      "cell_type": "code",
      "metadata": {
        "colab": {
          "base_uri": "https://localhost:8080/"
        },
        "id": "sLtLo1Cyivrv",
        "outputId": "7ffde9c2-d6cb-4137-a599-082ab0ff04a3"
      },
      "source": [
        "str.find(\"hello\", \"ll\")"
      ],
      "execution_count": 38,
      "outputs": [
        {
          "output_type": "execute_result",
          "data": {
            "text/plain": [
              "2"
            ]
          },
          "metadata": {
            "tags": []
          },
          "execution_count": 38
        }
      ]
    },
    {
      "cell_type": "code",
      "metadata": {
        "colab": {
          "base_uri": "https://localhost:8080/",
          "height": 35
        },
        "id": "nCc1NVH8js63",
        "outputId": "ec6a3be9-d7b0-4cb1-a93f-2c6c1bc16571"
      },
      "source": [
        "\"hello\"[0:]"
      ],
      "execution_count": 39,
      "outputs": [
        {
          "output_type": "execute_result",
          "data": {
            "application/vnd.google.colaboratory.intrinsic+json": {
              "type": "string"
            },
            "text/plain": [
              "'hello'"
            ]
          },
          "metadata": {
            "tags": []
          },
          "execution_count": 39
        }
      ]
    },
    {
      "cell_type": "code",
      "metadata": {
        "colab": {
          "base_uri": "https://localhost:8080/"
        },
        "id": "iQJwip-Olj1F",
        "outputId": "9ccf13f0-1348-4443-8849-2d93bf9fd7fb"
      },
      "source": [
        "k = [1,2]\n",
        "k.insert(2,0)\n",
        "k"
      ],
      "execution_count": 41,
      "outputs": [
        {
          "output_type": "execute_result",
          "data": {
            "text/plain": [
              "[1, 2, 0]"
            ]
          },
          "metadata": {
            "tags": []
          },
          "execution_count": 41
        }
      ]
    },
    {
      "cell_type": "code",
      "metadata": {
        "colab": {
          "base_uri": "https://localhost:8080/"
        },
        "id": "M4ZVlXAkmuHr",
        "outputId": "98739c51-8763-428b-cbb9-4f44abe34560"
      },
      "source": [
        "minimal_token(\"hello\", [\"he\", \"llo\", \"l\", \"lo\", \"o\"])"
      ],
      "execution_count": 64,
      "outputs": [
        {
          "output_type": "stream",
          "text": [
            "he\n",
            "he\n",
            "llo\n",
            "l\n",
            "he\n",
            "llo\n",
            "l\n",
            "he\n",
            "llo\n",
            "l\n",
            "lo\n",
            "o\n",
            "1 ['o']\n",
            "lo\n",
            "o\n",
            "1 ['lo']\n",
            "lo\n",
            "o\n",
            "1 ['llo']\n",
            "llo\n",
            "l\n",
            "lo\n",
            "o\n",
            "2 ['he', 'llo']\n"
          ],
          "name": "stdout"
        },
        {
          "output_type": "execute_result",
          "data": {
            "text/plain": [
              "(2, ['he', 'llo'])"
            ]
          },
          "metadata": {
            "tags": []
          },
          "execution_count": 64
        }
      ]
    },
    {
      "cell_type": "code",
      "metadata": {
        "colab": {
          "base_uri": "https://localhost:8080/"
        },
        "id": "Afn7P1tgrCz0",
        "outputId": "fc07faee-f54b-4224-8207-2de5f26f1663"
      },
      "source": [
        "minimal_token(\"hello\", [\"he\", \"llo\", \"l\", \"lo\"])"
      ],
      "execution_count": 69,
      "outputs": [
        {
          "output_type": "stream",
          "text": [
            "he\n",
            "he\n",
            "llo\n",
            "l\n",
            "he\n",
            "llo\n",
            "l\n",
            "he\n",
            "llo\n",
            "l\n",
            "lo\n",
            "lo\n",
            "1 ['lo']\n",
            "lo\n",
            "1 ['llo']\n",
            "llo\n",
            "l\n",
            "lo\n",
            "2 ['he', 'llo']\n"
          ],
          "name": "stdout"
        },
        {
          "output_type": "execute_result",
          "data": {
            "text/plain": [
              "(2, ['he', 'llo'])"
            ]
          },
          "metadata": {
            "tags": []
          },
          "execution_count": 69
        }
      ]
    },
    {
      "cell_type": "code",
      "metadata": {
        "id": "hWPtM3uRnErl"
      },
      "source": [
        "test = [1].append(k)\n",
        "test"
      ],
      "execution_count": 45,
      "outputs": []
    },
    {
      "cell_type": "code",
      "metadata": {
        "colab": {
          "base_uri": "https://localhost:8080/"
        },
        "id": "Z2x5uPeGnHR9",
        "outputId": "ab269d89-e722-4d22-c110-88330a523d01"
      },
      "source": [
        "res.shape"
      ],
      "execution_count": 95,
      "outputs": [
        {
          "output_type": "execute_result",
          "data": {
            "text/plain": [
              "TensorShape([1, 2453, 999])"
            ]
          },
          "metadata": {
            "tags": []
          },
          "execution_count": 95
        }
      ]
    },
    {
      "cell_type": "code",
      "metadata": {
        "colab": {
          "base_uri": "https://localhost:8080/"
        },
        "id": "sdnVqB_ynUkh",
        "outputId": "875e53fd-9af6-4613-b6a4-d01756850e5f"
      },
      "source": [
        "the_string = '''look at this stuff isnt it neat wouldn't you think my collection's complete wouldn't you think i'm the girl girl who has everything'''\n",
        "\n",
        "minimal_token(the_string, decoder.labels)"
      ],
      "execution_count": 93,
      "outputs": [
        {
          "output_type": "execute_result",
          "data": {
            "text/plain": [
              "(64,\n",
              " [221,\n",
              "  998,\n",
              "  8,\n",
              "  998,\n",
              "  75,\n",
              "  998,\n",
              "  25,\n",
              "  980,\n",
              "  621,\n",
              "  998,\n",
              "  10,\n",
              "  974,\n",
              "  970,\n",
              "  998,\n",
              "  17,\n",
              "  998,\n",
              "  74,\n",
              "  8,\n",
              "  998,\n",
              "  184,\n",
              "  974,\n",
              "  991,\n",
              "  970,\n",
              "  998,\n",
              "  37,\n",
              "  998,\n",
              "  258,\n",
              "  998,\n",
              "  113,\n",
              "  998,\n",
              "  432,\n",
              "  24,\n",
              "  413,\n",
              "  991,\n",
              "  975,\n",
              "  998,\n",
              "  836,\n",
              "  87,\n",
              "  998,\n",
              "  184,\n",
              "  974,\n",
              "  991,\n",
              "  970,\n",
              "  998,\n",
              "  37,\n",
              "  998,\n",
              "  258,\n",
              "  998,\n",
              "  973,\n",
              "  991,\n",
              "  982,\n",
              "  998,\n",
              "  2,\n",
              "  998,\n",
              "  968,\n",
              "  998,\n",
              "  968,\n",
              "  998,\n",
              "  171,\n",
              "  998,\n",
              "  230,\n",
              "  998,\n",
              "  294,\n",
              "  131])"
            ]
          },
          "metadata": {
            "tags": []
          },
          "execution_count": 93
        }
      ]
    },
    {
      "cell_type": "code",
      "metadata": {
        "id": "2CR7hcaXvXz8"
      },
      "source": [
        "import math\n",
        "\n",
        "\n",
        "subproblems = []\n",
        "def forced_alignment(correct_text, text_from_speech):\n",
        "  global subproblems\n",
        "\n",
        "  time_values = np.array(text_from_speech).shape[0]\n",
        "\n",
        "  for i in range(len(correct_text)):\n",
        "    subproblems.append([])\n",
        "    for j in range(time_values):\n",
        "      subproblems[-1].append(None)\n",
        "\n",
        "  for i in range(len(correct_text)):\n",
        "    for j in range(time_values):\n",
        "      forced_alignment_recursive(correct_text, text_from_speech, i, j)\n",
        "\n",
        "  \n",
        "  solution = forced_alignment_recursive(correct_text, text_from_speech, len(correct_text) - 1, time_values - 1)\n",
        "  return solution\n",
        "\n",
        "def forced_alignment_recursive(correct_text, text_from_speech, text_index, time):\n",
        "  global subproblems\n",
        "  \n",
        "  if time < text_index or text_index < 0:\n",
        "    return (-math.inf, [])\n",
        "  if time == 0:\n",
        "    return (0, [0])\n",
        "  \n",
        "\n",
        "  # If we haven't calculated the solution before, calculate it now\n",
        "  if subproblems[text_index][time] is None:\n",
        "    subproblems[text_index][time] = forced_alignment_recursive_calculate(correct_text, text_from_speech, text_index, time)\n",
        "    \n",
        "  return subproblems[text_index][time]\n",
        "  \n",
        "\n",
        "\n",
        "def forced_alignment_recursive_calculate(correct_text, text_from_speech, text_index, time):\n",
        "  text = correct_text[text_index]\n",
        "  probability = math.log(text_from_speech[time][text])\n",
        "\n",
        "  \n",
        "\n",
        "\n",
        "  \n",
        "\n",
        "  \n",
        "  options = [forced_alignment_recursive(correct_text, text_from_speech, text_index, time - 1),\n",
        "             forced_alignment_recursive(correct_text, text_from_speech, text_index - 1, time - 1),\n",
        "  ]\n",
        "\n",
        "  option_probabilities = [i[0] for i in options]\n",
        "  options_index = np.argmax(option_probabilities)\n",
        "\n",
        "  indexes = options[options_index][1].copy()\n",
        "  indexes.append(text_index)\n",
        "  return (options[options_index][0] + probability, indexes)\n",
        "\n",
        "\n",
        "\n",
        "\n",
        "\n",
        "\n",
        "\n",
        "  '''minimum = None\n",
        "  minimum_token = None\n",
        "  for i, token in enumerate(tokens):\n",
        "    if str.find(text[index:], token) == 0:\n",
        "      subproblem = forced_alignment_recursive(text, index+len(token), tokens)\n",
        "      if subproblem is None:\n",
        "        raise Exception(\"Sub none\")\n",
        "      if minimum is None or subproblem[0] < minimum[0]:\n",
        "        minimum = subproblem\n",
        "        minimum_token = i\n",
        "  if minimum == None:\n",
        "    #raise Exception(\"This text cannot be represented\")\n",
        "    # or instead just return something with a large cost\n",
        "    return (math.inf, [])\n",
        "  \n",
        "  new_list = minimum[1].copy()\n",
        "  new_list.insert(0, minimum_token)\n",
        "  return (1 + minimum[0], new_list)'''\n",
        "\n",
        "  \n"
      ],
      "execution_count": 157,
      "outputs": []
    },
    {
      "cell_type": "code",
      "metadata": {
        "colab": {
          "base_uri": "https://localhost:8080/"
        },
        "id": "Lch4iXhMJB0S",
        "outputId": "159b75b8-f3ce-42f9-fd52-ba0bdf9e9824"
      },
      "source": [
        "test = [1,3]\n",
        "np.argmax(test)"
      ],
      "execution_count": 96,
      "outputs": [
        {
          "output_type": "execute_result",
          "data": {
            "text/plain": [
              "1"
            ]
          },
          "metadata": {
            "tags": []
          },
          "execution_count": 96
        }
      ]
    },
    {
      "cell_type": "code",
      "metadata": {
        "colab": {
          "base_uri": "https://localhost:8080/"
        },
        "id": "MqXP1GolJEW2",
        "outputId": "d41e9a09-e1e5-4c59-ed61-9974391da410"
      },
      "source": [
        "math.log(5)"
      ],
      "execution_count": 97,
      "outputs": [
        {
          "output_type": "execute_result",
          "data": {
            "text/plain": [
              "1.6094379124341003"
            ]
          },
          "metadata": {
            "tags": []
          },
          "execution_count": 97
        }
      ]
    },
    {
      "cell_type": "code",
      "metadata": {
        "id": "cftD61H6JsGv"
      },
      "source": [
        "text = '''you would not believe your eyes if ten million fireflies lit up the world as i fell asleep cause they fill the open air and leave teardrops everywhere you'd think me rude but i would just stand and stare i'd like to make myself believe that planet earth turns slowly it's hard to say that i'd rather stay awake when i'm asleep cause everything is never as it seems cause i'd get a thousand hugs from ten thousand lightning bugs as they tried to teach me how to dance a foxtrot above my head'''"
      ],
      "execution_count": 102,
      "outputs": []
    },
    {
      "cell_type": "code",
      "metadata": {
        "id": "GOe_ApV4RLVm"
      },
      "source": [
        "correct_text = minimal_token(text, decoder.labels)[1]\n",
        "\n",
        "speech_file = '/content/fireflies_voc_1min.wav'\n",
        "test_files = [speech_file]\n",
        "batches = split_into_batches(test_files, batch_size=10)\n",
        "input = prepare_model_input(read_batch(batches[0]))\n",
        "\n",
        "graphemes = decoder.labels\n",
        "res = tf_model.signatures[\"serving_default\"](tf.constant(input.numpy()))['output_0']\n",
        "text_from_speech = np.array(res)[0]"
      ],
      "execution_count": 114,
      "outputs": []
    },
    {
      "cell_type": "code",
      "metadata": {
        "colab": {
          "base_uri": "https://localhost:8080/"
        },
        "id": "G_-cxsxQSgW9",
        "outputId": "3187c6aa-1b2f-4175-d070-1cfd405a3aec"
      },
      "source": [
        "text_from_speech.shape"
      ],
      "execution_count": 115,
      "outputs": [
        {
          "output_type": "execute_result",
          "data": {
            "text/plain": [
              "(716, 999)"
            ]
          },
          "metadata": {
            "tags": []
          },
          "execution_count": 115
        }
      ]
    },
    {
      "cell_type": "code",
      "metadata": {
        "id": "zme8XNNDY59u",
        "outputId": "6a915e56-62be-4e68-dfb2-53ec9a3dd112",
        "colab": {
          "base_uri": "https://localhost:8080/"
        }
      },
      "source": [
        "#forced_alignment_recursive(correct_text, text_from_speech, len(correct_text) - 1, time_values - 1)\n",
        "#forced_alignment_recursive(correct_text, text_from_speech, 1, 1)\n",
        "subproblems"
      ],
      "execution_count": 136,
      "outputs": [
        {
          "output_type": "execute_result",
          "data": {
            "text/plain": [
              "[]"
            ]
          },
          "metadata": {
            "tags": []
          },
          "execution_count": 136
        }
      ]
    },
    {
      "cell_type": "code",
      "metadata": {
        "colab": {
          "base_uri": "https://localhost:8080/"
        },
        "id": "kxVfOI34RQWM",
        "outputId": "c5b82c58-4a13-4846-f709-8350bc3b339c"
      },
      "source": [
        "result = forced_alignment(correct_text, text_from_speech)\n",
        "result = [decoder.labels[correct_text[i]] for i in result[1]]\n",
        "print(result)"
      ],
      "execution_count": 162,
      "outputs": [
        {
          "output_type": "stream",
          "text": [
            "['you', ' ', ' ', ' ', ' ', ' ', ' ', ' ', ' ', ' ', ' ', ' ', ' ', ' ', ' ', ' ', ' ', ' ', ' ', ' ', ' ', ' ', ' ', ' ', ' ', 'would', ' ', ' ', ' ', 'not', ' ', ' ', ' ', ' ', ' ', 'believe', ' ', ' ', ' ', 'your', ' ', ' ', ' ', ' ', ' ', ' ', 'eyes', 'eyes', ' ', ' ', ' ', ' ', ' ', ' ', ' ', 'if', ' ', ' ', 'ten', ' ', ' ', ' ', 'mil', 'mil', 'li', 'on', ' ', ' ', ' ', ' ', ' ', ' ', ' ', ' ', ' ', ' ', 'fir', 'ef', 'li', 'es', 'es', 'es', ' ', 'li', 't', ' ', ' ', ' ', ' ', ' ', ' ', ' ', ' ', ' ', 'up', ' ', ' ', ' ', 'the', ' ', 'world', ' ', ' ', ' ', 'as', ' ', 'i', ' ', ' ', ' ', 'fe', 'll', ' ', 'as', 'as', 'le', 'le', 'ep', ' ', ' ', ' ', ' ', ' ', ' ', ' ', ' ', ' ', ' ', ' ', ' ', ' ', ' ', ' ', ' ', ' ', ' ', ' ', ' ', ' ', ' ', ' ', ' ', ' ', ' ', ' ', ' ', ' ', ' ', ' ', ' ', ' ', ' ', ' ', ' ', 'ca', 'use', ' ', ' ', 'they', ' ', ' ', ' ', 'fi', 'll', ' ', ' ', 'the', ' ', ' ', ' ', 'open', ' ', ' ', ' ', ' ', ' ', ' ', ' ', 'air', 'air', ' ', ' ', ' ', ' ', ' ', ' ', ' ', 'and', ' ', 'le', 'ave', ' ', ' ', ' ', ' ', 'te', 'ard', 'ro', 'ro', 'ro', 'ps', ' ', ' ', 'every', 'every', 'every', 'where', 'where', 'where', ' ', ' ', ' ', ' ', 'you', \"'\", 'd', ' ', 'think', ' ', ' ', ' ', 'me', ' ', ' ', ' ', 'r', 'ud', 'e', ' ', 'but', ' ', ' ', ' ', ' ', 'i', ' ', ' ', 'would', ' ', ' ', 'just', ' ', ' ', ' ', 'stand', ' ', ' ', ' ', 'and', ' ', ' ', ' ', ' ', ' ', ' ', ' ', ' ', ' ', ' ', ' ', 'st', 'are', 'are', ' ', ' ', ' ', ' ', ' ', ' ', ' ', ' ', ' ', 'i', 'i', 'i', 'i', 'i', 'i', 'i', 'i', 'i', 'i', 'i', \"'\", 'd', ' ', ' ', ' ', ' ', ' ', ' ', ' ', ' ', ' ', 'like', ' ', ' ', 'to', ' ', ' ', 'make', ' ', ' ', ' ', 'my', 'my', 'my', 'my', 'my', 'self', 'self', ' ', ' ', ' ', ' ', 'believe', ' ', ' ', ' ', ' ', ' ', ' ', ' ', ' ', ' ', ' ', ' ', ' ', ' ', ' ', ' ', ' ', ' ', ' ', ' ', ' ', ' ', ' ', ' ', ' ', 'that', ' ', ' ', ' ', 'plan', 'et', ' ', ' ', ' ', ' ', 'ear', 'th', ' ', ' ', ' ', ' ', ' ', 'turn', 's', 's', 's', 's', 's', 's', 's', 's', 's', 's', 's', 's', 's', 's', 's', 's', 's', 's', 's', 's', 's', 's', ' ', ' ', ' ', ' ', 's', 'low', 'low', 'low', 'ly', ' ', ' ', ' ', ' ', ' ', ' ', ' ', ' ', ' ', ' ', ' ', ' ', ' ', ' ', ' ', ' ', 'it', 'it', 'it', \"'\", \"'\", \"'\", 's', ' ', ' ', ' ', ' ', ' ', ' ', ' ', 'hard', ' ', ' ', ' ', 'to', ' ', 'say', ' ', ' ', ' ', 'that', ' ', 'i', \"'\", 'd', ' ', 'ra', 'ther', 'ther', 'ther', ' ', 'st', 'st', 'ay', ' ', ' ', ' ', ' ', ' ', ' ', ' ', ' ', 'aw', 'ak', 'e', ' ', ' ', 'when', ' ', ' ', 'i', \"'\", 'm', ' ', ' ', ' ', ' ', ' ', 'as', 'le', 'ep', 'ep', ' ', ' ', ' ', ' ', ' ', ' ', ' ', ' ', ' ', ' ', ' ', 'ca', 'use', ' ', ' ', ' ', 'every', 'every', 'thing', ' ', ' ', ' ', ' ', ' ', ' ', ' ', ' ', 'is', ' ', ' ', ' ', 'never', 'never', ' ', ' ', 'as', ' ', ' ', ' ', ' ', ' ', 'it', ' ', ' ', ' ', 'see', 'see', 'ms', ' ', ' ', 'ca', 'use', ' ', 'i', 'i', 'i', 'i', 'i', 'i', 'i', 'i', 'i', 'i', 'i', 'i', 'i', 'i', 'i', 'i', 'i', 'i', 'i', 'i', 'i', 'i', 'i', 'i', 'i', \"'\", 'd', ' ', ' ', ' ', ' ', ' ', ' ', ' ', ' ', ' ', ' ', ' ', 'get', ' ', ' ', ' ', 'a', ' ', ' ', 'thousand', 'thousand', 'thousand', ' ', ' ', ' ', ' ', ' ', ' ', 'hu', 'g', 's', 's', 's', 's', 's', ' ', ' ', ' ', 'from', ' ', ' ', ' ', 'ten', ' ', ' ', ' ', 'thousand', 'thousand', ' ', ' ', ' ', ' ', 'light', 'light', 'ning', 'ning', 'ning', ' ', ' ', ' ', ' ', 'bu', 'g', 'g', 's', ' ', ' ', ' ', ' ', ' ', 'as', ' ', ' ', 'they', ' ', ' ', ' ', 'tr', 'ied', ' ', ' ', 'to', ' ', 'te', 'ach', ' ', ' ', ' ', 'me', ' ', ' ', ' ', ' ', 'how', ' ', ' ', ' ', ' ', 'to', ' ', 'd', 'ance', ' ', ' ', ' ', ' ', ' ', ' ', ' ', ' ', ' ', ' ', ' ', ' ', ' ', ' ', ' ', ' ', ' ', ' ', ' ', ' ', ' ', ' ', ' ', ' ', ' ', ' ', ' ', ' ', ' ', ' ', ' ', ' ', ' ', ' ', ' ', ' ', ' ', 'a', ' ', ' ', ' ', 'fo', 'xt', 'ro', 'ro', 't', ' ', ' ', 'ab', 'ab', 'o', 've', ' ', ' ', ' ', 'my', ' ', ' ', ' ', ' ', ' ', ' ', ' ', 'head']\n"
          ],
          "name": "stdout"
        }
      ]
    },
    {
      "cell_type": "code",
      "metadata": {
        "colab": {
          "base_uri": "https://localhost:8080/",
          "height": 460
        },
        "id": "T_pSB6VzTL6b",
        "outputId": "4f903524-618e-4a0e-dfd4-26116494de79"
      },
      "source": [
        "subproblems"
      ],
      "execution_count": 142,
      "outputs": [
        {
          "output_type": "error",
          "ename": "KeyboardInterrupt",
          "evalue": "ignored",
          "traceback": [
            "\u001b[0;31m---------------------------------------------------------------------------\u001b[0m",
            "\u001b[0;31mKeyError\u001b[0m                                  Traceback (most recent call last)",
            "\u001b[0;32m/usr/local/lib/python3.6/dist-packages/IPython/lib/pretty.py\u001b[0m in \u001b[0;36mpretty\u001b[0;34m(self, obj)\u001b[0m\n\u001b[1;32m    371\u001b[0m             \u001b[0;32mtry\u001b[0m\u001b[0;34m:\u001b[0m\u001b[0;34m\u001b[0m\u001b[0;34m\u001b[0m\u001b[0m\n\u001b[0;32m--> 372\u001b[0;31m                 \u001b[0mprinter\u001b[0m \u001b[0;34m=\u001b[0m \u001b[0mself\u001b[0m\u001b[0;34m.\u001b[0m\u001b[0msingleton_pprinters\u001b[0m\u001b[0;34m[\u001b[0m\u001b[0mobj_id\u001b[0m\u001b[0;34m]\u001b[0m\u001b[0;34m\u001b[0m\u001b[0;34m\u001b[0m\u001b[0m\n\u001b[0m\u001b[1;32m    373\u001b[0m             \u001b[0;32mexcept\u001b[0m \u001b[0;34m(\u001b[0m\u001b[0mTypeError\u001b[0m\u001b[0;34m,\u001b[0m \u001b[0mKeyError\u001b[0m\u001b[0;34m)\u001b[0m\u001b[0;34m:\u001b[0m\u001b[0;34m\u001b[0m\u001b[0;34m\u001b[0m\u001b[0m\n",
            "\u001b[0;31mKeyError\u001b[0m: 10915648",
            "\nDuring handling of the above exception, another exception occurred:\n",
            "\u001b[0;31mKeyboardInterrupt\u001b[0m                         Traceback (most recent call last)",
            "\u001b[0;32m<ipython-input-142-872a1cfa805b>\u001b[0m in \u001b[0;36m<module>\u001b[0;34m()\u001b[0m\n\u001b[0;32m----> 1\u001b[0;31m \u001b[0msubproblems\u001b[0m\u001b[0;34m\u001b[0m\u001b[0;34m\u001b[0m\u001b[0m\n\u001b[0m",
            "\u001b[0;32m/usr/local/lib/python3.6/dist-packages/IPython/core/displayhook.py\u001b[0m in \u001b[0;36m__call__\u001b[0;34m(self, result)\u001b[0m\n\u001b[1;32m    244\u001b[0m             \u001b[0mself\u001b[0m\u001b[0;34m.\u001b[0m\u001b[0mstart_displayhook\u001b[0m\u001b[0;34m(\u001b[0m\u001b[0;34m)\u001b[0m\u001b[0;34m\u001b[0m\u001b[0;34m\u001b[0m\u001b[0m\n\u001b[1;32m    245\u001b[0m             \u001b[0mself\u001b[0m\u001b[0;34m.\u001b[0m\u001b[0mwrite_output_prompt\u001b[0m\u001b[0;34m(\u001b[0m\u001b[0;34m)\u001b[0m\u001b[0;34m\u001b[0m\u001b[0;34m\u001b[0m\u001b[0m\n\u001b[0;32m--> 246\u001b[0;31m             \u001b[0mformat_dict\u001b[0m\u001b[0;34m,\u001b[0m \u001b[0mmd_dict\u001b[0m \u001b[0;34m=\u001b[0m \u001b[0mself\u001b[0m\u001b[0;34m.\u001b[0m\u001b[0mcompute_format_data\u001b[0m\u001b[0;34m(\u001b[0m\u001b[0mresult\u001b[0m\u001b[0;34m)\u001b[0m\u001b[0;34m\u001b[0m\u001b[0;34m\u001b[0m\u001b[0m\n\u001b[0m\u001b[1;32m    247\u001b[0m             \u001b[0mself\u001b[0m\u001b[0;34m.\u001b[0m\u001b[0mupdate_user_ns\u001b[0m\u001b[0;34m(\u001b[0m\u001b[0mresult\u001b[0m\u001b[0;34m)\u001b[0m\u001b[0;34m\u001b[0m\u001b[0;34m\u001b[0m\u001b[0m\n\u001b[1;32m    248\u001b[0m             \u001b[0mself\u001b[0m\u001b[0;34m.\u001b[0m\u001b[0mfill_exec_result\u001b[0m\u001b[0;34m(\u001b[0m\u001b[0mresult\u001b[0m\u001b[0;34m)\u001b[0m\u001b[0;34m\u001b[0m\u001b[0;34m\u001b[0m\u001b[0m\n",
            "\u001b[0;32m/usr/local/lib/python3.6/dist-packages/IPython/core/displayhook.py\u001b[0m in \u001b[0;36mcompute_format_data\u001b[0;34m(self, result)\u001b[0m\n\u001b[1;32m    148\u001b[0m \u001b[0;34m\u001b[0m\u001b[0m\n\u001b[1;32m    149\u001b[0m         \"\"\"\n\u001b[0;32m--> 150\u001b[0;31m         \u001b[0;32mreturn\u001b[0m \u001b[0mself\u001b[0m\u001b[0;34m.\u001b[0m\u001b[0mshell\u001b[0m\u001b[0;34m.\u001b[0m\u001b[0mdisplay_formatter\u001b[0m\u001b[0;34m.\u001b[0m\u001b[0mformat\u001b[0m\u001b[0;34m(\u001b[0m\u001b[0mresult\u001b[0m\u001b[0;34m)\u001b[0m\u001b[0;34m\u001b[0m\u001b[0;34m\u001b[0m\u001b[0m\n\u001b[0m\u001b[1;32m    151\u001b[0m \u001b[0;34m\u001b[0m\u001b[0m\n\u001b[1;32m    152\u001b[0m     \u001b[0;31m# This can be set to True by the write_output_prompt method in a subclass\u001b[0m\u001b[0;34m\u001b[0m\u001b[0;34m\u001b[0m\u001b[0;34m\u001b[0m\u001b[0m\n",
            "\u001b[0;32m/usr/local/lib/python3.6/dist-packages/IPython/core/formatters.py\u001b[0m in \u001b[0;36mformat\u001b[0;34m(self, obj, include, exclude)\u001b[0m\n\u001b[1;32m    171\u001b[0m             \u001b[0mmd\u001b[0m \u001b[0;34m=\u001b[0m \u001b[0;32mNone\u001b[0m\u001b[0;34m\u001b[0m\u001b[0;34m\u001b[0m\u001b[0m\n\u001b[1;32m    172\u001b[0m             \u001b[0;32mtry\u001b[0m\u001b[0;34m:\u001b[0m\u001b[0;34m\u001b[0m\u001b[0;34m\u001b[0m\u001b[0m\n\u001b[0;32m--> 173\u001b[0;31m                 \u001b[0mdata\u001b[0m \u001b[0;34m=\u001b[0m \u001b[0mformatter\u001b[0m\u001b[0;34m(\u001b[0m\u001b[0mobj\u001b[0m\u001b[0;34m)\u001b[0m\u001b[0;34m\u001b[0m\u001b[0;34m\u001b[0m\u001b[0m\n\u001b[0m\u001b[1;32m    174\u001b[0m             \u001b[0;32mexcept\u001b[0m\u001b[0;34m:\u001b[0m\u001b[0;34m\u001b[0m\u001b[0;34m\u001b[0m\u001b[0m\n\u001b[1;32m    175\u001b[0m                 \u001b[0;31m# FIXME: log the exception\u001b[0m\u001b[0;34m\u001b[0m\u001b[0;34m\u001b[0m\u001b[0;34m\u001b[0m\u001b[0m\n",
            "\u001b[0;32m<decorator-gen-10>\u001b[0m in \u001b[0;36m__call__\u001b[0;34m(self, obj)\u001b[0m\n",
            "\u001b[0;32m/usr/local/lib/python3.6/dist-packages/IPython/core/formatters.py\u001b[0m in \u001b[0;36mcatch_format_error\u001b[0;34m(method, self, *args, **kwargs)\u001b[0m\n\u001b[1;32m    215\u001b[0m     \u001b[0;34m\"\"\"show traceback on failed format call\"\"\"\u001b[0m\u001b[0;34m\u001b[0m\u001b[0;34m\u001b[0m\u001b[0m\n\u001b[1;32m    216\u001b[0m     \u001b[0;32mtry\u001b[0m\u001b[0;34m:\u001b[0m\u001b[0;34m\u001b[0m\u001b[0;34m\u001b[0m\u001b[0m\n\u001b[0;32m--> 217\u001b[0;31m         \u001b[0mr\u001b[0m \u001b[0;34m=\u001b[0m \u001b[0mmethod\u001b[0m\u001b[0;34m(\u001b[0m\u001b[0mself\u001b[0m\u001b[0;34m,\u001b[0m \u001b[0;34m*\u001b[0m\u001b[0margs\u001b[0m\u001b[0;34m,\u001b[0m \u001b[0;34m**\u001b[0m\u001b[0mkwargs\u001b[0m\u001b[0;34m)\u001b[0m\u001b[0;34m\u001b[0m\u001b[0;34m\u001b[0m\u001b[0m\n\u001b[0m\u001b[1;32m    218\u001b[0m     \u001b[0;32mexcept\u001b[0m \u001b[0mNotImplementedError\u001b[0m\u001b[0;34m:\u001b[0m\u001b[0;34m\u001b[0m\u001b[0;34m\u001b[0m\u001b[0m\n\u001b[1;32m    219\u001b[0m         \u001b[0;31m# don't warn on NotImplementedErrors\u001b[0m\u001b[0;34m\u001b[0m\u001b[0;34m\u001b[0m\u001b[0;34m\u001b[0m\u001b[0m\n",
            "\u001b[0;32m/usr/local/lib/python3.6/dist-packages/IPython/core/formatters.py\u001b[0m in \u001b[0;36m__call__\u001b[0;34m(self, obj)\u001b[0m\n\u001b[1;32m    697\u001b[0m                 \u001b[0mtype_pprinters\u001b[0m\u001b[0;34m=\u001b[0m\u001b[0mself\u001b[0m\u001b[0;34m.\u001b[0m\u001b[0mtype_printers\u001b[0m\u001b[0;34m,\u001b[0m\u001b[0;34m\u001b[0m\u001b[0;34m\u001b[0m\u001b[0m\n\u001b[1;32m    698\u001b[0m                 deferred_pprinters=self.deferred_printers)\n\u001b[0;32m--> 699\u001b[0;31m             \u001b[0mprinter\u001b[0m\u001b[0;34m.\u001b[0m\u001b[0mpretty\u001b[0m\u001b[0;34m(\u001b[0m\u001b[0mobj\u001b[0m\u001b[0;34m)\u001b[0m\u001b[0;34m\u001b[0m\u001b[0;34m\u001b[0m\u001b[0m\n\u001b[0m\u001b[1;32m    700\u001b[0m             \u001b[0mprinter\u001b[0m\u001b[0;34m.\u001b[0m\u001b[0mflush\u001b[0m\u001b[0;34m(\u001b[0m\u001b[0;34m)\u001b[0m\u001b[0;34m\u001b[0m\u001b[0;34m\u001b[0m\u001b[0m\n\u001b[1;32m    701\u001b[0m             \u001b[0;32mreturn\u001b[0m \u001b[0mstream\u001b[0m\u001b[0;34m.\u001b[0m\u001b[0mgetvalue\u001b[0m\u001b[0;34m(\u001b[0m\u001b[0;34m)\u001b[0m\u001b[0;34m\u001b[0m\u001b[0;34m\u001b[0m\u001b[0m\n",
            "\u001b[0;32m/usr/local/lib/python3.6/dist-packages/IPython/lib/pretty.py\u001b[0m in \u001b[0;36mpretty\u001b[0;34m(self, obj)\u001b[0m\n\u001b[1;32m    381\u001b[0m                 \u001b[0;32mif\u001b[0m \u001b[0mcls\u001b[0m \u001b[0;32min\u001b[0m \u001b[0mself\u001b[0m\u001b[0;34m.\u001b[0m\u001b[0mtype_pprinters\u001b[0m\u001b[0;34m:\u001b[0m\u001b[0;34m\u001b[0m\u001b[0;34m\u001b[0m\u001b[0m\n\u001b[1;32m    382\u001b[0m                     \u001b[0;31m# printer registered in self.type_pprinters\u001b[0m\u001b[0;34m\u001b[0m\u001b[0;34m\u001b[0m\u001b[0;34m\u001b[0m\u001b[0m\n\u001b[0;32m--> 383\u001b[0;31m                     \u001b[0;32mreturn\u001b[0m \u001b[0mself\u001b[0m\u001b[0;34m.\u001b[0m\u001b[0mtype_pprinters\u001b[0m\u001b[0;34m[\u001b[0m\u001b[0mcls\u001b[0m\u001b[0;34m]\u001b[0m\u001b[0;34m(\u001b[0m\u001b[0mobj\u001b[0m\u001b[0;34m,\u001b[0m \u001b[0mself\u001b[0m\u001b[0;34m,\u001b[0m \u001b[0mcycle\u001b[0m\u001b[0;34m)\u001b[0m\u001b[0;34m\u001b[0m\u001b[0;34m\u001b[0m\u001b[0m\n\u001b[0m\u001b[1;32m    384\u001b[0m                 \u001b[0;32melse\u001b[0m\u001b[0;34m:\u001b[0m\u001b[0;34m\u001b[0m\u001b[0;34m\u001b[0m\u001b[0m\n\u001b[1;32m    385\u001b[0m                     \u001b[0;31m# deferred printer\u001b[0m\u001b[0;34m\u001b[0m\u001b[0;34m\u001b[0m\u001b[0;34m\u001b[0m\u001b[0m\n",
            "\u001b[0;32m/usr/local/lib/python3.6/dist-packages/IPython/lib/pretty.py\u001b[0m in \u001b[0;36minner\u001b[0;34m(obj, p, cycle)\u001b[0m\n\u001b[1;32m    565\u001b[0m                 \u001b[0mp\u001b[0m\u001b[0;34m.\u001b[0m\u001b[0mtext\u001b[0m\u001b[0;34m(\u001b[0m\u001b[0;34m','\u001b[0m\u001b[0;34m)\u001b[0m\u001b[0;34m\u001b[0m\u001b[0;34m\u001b[0m\u001b[0m\n\u001b[1;32m    566\u001b[0m                 \u001b[0mp\u001b[0m\u001b[0;34m.\u001b[0m\u001b[0mbreakable\u001b[0m\u001b[0;34m(\u001b[0m\u001b[0;34m)\u001b[0m\u001b[0;34m\u001b[0m\u001b[0;34m\u001b[0m\u001b[0m\n\u001b[0;32m--> 567\u001b[0;31m             \u001b[0mp\u001b[0m\u001b[0;34m.\u001b[0m\u001b[0mpretty\u001b[0m\u001b[0;34m(\u001b[0m\u001b[0mx\u001b[0m\u001b[0;34m)\u001b[0m\u001b[0;34m\u001b[0m\u001b[0;34m\u001b[0m\u001b[0m\n\u001b[0m\u001b[1;32m    568\u001b[0m         \u001b[0;32mif\u001b[0m \u001b[0mlen\u001b[0m\u001b[0;34m(\u001b[0m\u001b[0mobj\u001b[0m\u001b[0;34m)\u001b[0m \u001b[0;34m==\u001b[0m \u001b[0;36m1\u001b[0m \u001b[0;32mand\u001b[0m \u001b[0mtype\u001b[0m\u001b[0;34m(\u001b[0m\u001b[0mobj\u001b[0m\u001b[0;34m)\u001b[0m \u001b[0;32mis\u001b[0m \u001b[0mtuple\u001b[0m\u001b[0;34m:\u001b[0m\u001b[0;34m\u001b[0m\u001b[0;34m\u001b[0m\u001b[0m\n\u001b[1;32m    569\u001b[0m             \u001b[0;31m# Special case for 1-item tuples.\u001b[0m\u001b[0;34m\u001b[0m\u001b[0;34m\u001b[0m\u001b[0;34m\u001b[0m\u001b[0m\n",
            "\u001b[0;32m/usr/local/lib/python3.6/dist-packages/IPython/lib/pretty.py\u001b[0m in \u001b[0;36mpretty\u001b[0;34m(self, obj)\u001b[0m\n\u001b[1;32m    381\u001b[0m                 \u001b[0;32mif\u001b[0m \u001b[0mcls\u001b[0m \u001b[0;32min\u001b[0m \u001b[0mself\u001b[0m\u001b[0;34m.\u001b[0m\u001b[0mtype_pprinters\u001b[0m\u001b[0;34m:\u001b[0m\u001b[0;34m\u001b[0m\u001b[0;34m\u001b[0m\u001b[0m\n\u001b[1;32m    382\u001b[0m                     \u001b[0;31m# printer registered in self.type_pprinters\u001b[0m\u001b[0;34m\u001b[0m\u001b[0;34m\u001b[0m\u001b[0;34m\u001b[0m\u001b[0m\n\u001b[0;32m--> 383\u001b[0;31m                     \u001b[0;32mreturn\u001b[0m \u001b[0mself\u001b[0m\u001b[0;34m.\u001b[0m\u001b[0mtype_pprinters\u001b[0m\u001b[0;34m[\u001b[0m\u001b[0mcls\u001b[0m\u001b[0;34m]\u001b[0m\u001b[0;34m(\u001b[0m\u001b[0mobj\u001b[0m\u001b[0;34m,\u001b[0m \u001b[0mself\u001b[0m\u001b[0;34m,\u001b[0m \u001b[0mcycle\u001b[0m\u001b[0;34m)\u001b[0m\u001b[0;34m\u001b[0m\u001b[0;34m\u001b[0m\u001b[0m\n\u001b[0m\u001b[1;32m    384\u001b[0m                 \u001b[0;32melse\u001b[0m\u001b[0;34m:\u001b[0m\u001b[0;34m\u001b[0m\u001b[0;34m\u001b[0m\u001b[0m\n\u001b[1;32m    385\u001b[0m                     \u001b[0;31m# deferred printer\u001b[0m\u001b[0;34m\u001b[0m\u001b[0;34m\u001b[0m\u001b[0;34m\u001b[0m\u001b[0m\n",
            "\u001b[0;32m/usr/local/lib/python3.6/dist-packages/IPython/lib/pretty.py\u001b[0m in \u001b[0;36minner\u001b[0;34m(obj, p, cycle)\u001b[0m\n\u001b[1;32m    565\u001b[0m                 \u001b[0mp\u001b[0m\u001b[0;34m.\u001b[0m\u001b[0mtext\u001b[0m\u001b[0;34m(\u001b[0m\u001b[0;34m','\u001b[0m\u001b[0;34m)\u001b[0m\u001b[0;34m\u001b[0m\u001b[0;34m\u001b[0m\u001b[0m\n\u001b[1;32m    566\u001b[0m                 \u001b[0mp\u001b[0m\u001b[0;34m.\u001b[0m\u001b[0mbreakable\u001b[0m\u001b[0;34m(\u001b[0m\u001b[0;34m)\u001b[0m\u001b[0;34m\u001b[0m\u001b[0;34m\u001b[0m\u001b[0m\n\u001b[0;32m--> 567\u001b[0;31m             \u001b[0mp\u001b[0m\u001b[0;34m.\u001b[0m\u001b[0mpretty\u001b[0m\u001b[0;34m(\u001b[0m\u001b[0mx\u001b[0m\u001b[0;34m)\u001b[0m\u001b[0;34m\u001b[0m\u001b[0;34m\u001b[0m\u001b[0m\n\u001b[0m\u001b[1;32m    568\u001b[0m         \u001b[0;32mif\u001b[0m \u001b[0mlen\u001b[0m\u001b[0;34m(\u001b[0m\u001b[0mobj\u001b[0m\u001b[0;34m)\u001b[0m \u001b[0;34m==\u001b[0m \u001b[0;36m1\u001b[0m \u001b[0;32mand\u001b[0m \u001b[0mtype\u001b[0m\u001b[0;34m(\u001b[0m\u001b[0mobj\u001b[0m\u001b[0;34m)\u001b[0m \u001b[0;32mis\u001b[0m \u001b[0mtuple\u001b[0m\u001b[0;34m:\u001b[0m\u001b[0;34m\u001b[0m\u001b[0;34m\u001b[0m\u001b[0m\n\u001b[1;32m    569\u001b[0m             \u001b[0;31m# Special case for 1-item tuples.\u001b[0m\u001b[0;34m\u001b[0m\u001b[0;34m\u001b[0m\u001b[0;34m\u001b[0m\u001b[0m\n",
            "\u001b[0;32m/usr/local/lib/python3.6/dist-packages/IPython/lib/pretty.py\u001b[0m in \u001b[0;36mpretty\u001b[0;34m(self, obj)\u001b[0m\n\u001b[1;32m    381\u001b[0m                 \u001b[0;32mif\u001b[0m \u001b[0mcls\u001b[0m \u001b[0;32min\u001b[0m \u001b[0mself\u001b[0m\u001b[0;34m.\u001b[0m\u001b[0mtype_pprinters\u001b[0m\u001b[0;34m:\u001b[0m\u001b[0;34m\u001b[0m\u001b[0;34m\u001b[0m\u001b[0m\n\u001b[1;32m    382\u001b[0m                     \u001b[0;31m# printer registered in self.type_pprinters\u001b[0m\u001b[0;34m\u001b[0m\u001b[0;34m\u001b[0m\u001b[0;34m\u001b[0m\u001b[0m\n\u001b[0;32m--> 383\u001b[0;31m                     \u001b[0;32mreturn\u001b[0m \u001b[0mself\u001b[0m\u001b[0;34m.\u001b[0m\u001b[0mtype_pprinters\u001b[0m\u001b[0;34m[\u001b[0m\u001b[0mcls\u001b[0m\u001b[0;34m]\u001b[0m\u001b[0;34m(\u001b[0m\u001b[0mobj\u001b[0m\u001b[0;34m,\u001b[0m \u001b[0mself\u001b[0m\u001b[0;34m,\u001b[0m \u001b[0mcycle\u001b[0m\u001b[0;34m)\u001b[0m\u001b[0;34m\u001b[0m\u001b[0;34m\u001b[0m\u001b[0m\n\u001b[0m\u001b[1;32m    384\u001b[0m                 \u001b[0;32melse\u001b[0m\u001b[0;34m:\u001b[0m\u001b[0;34m\u001b[0m\u001b[0;34m\u001b[0m\u001b[0m\n\u001b[1;32m    385\u001b[0m                     \u001b[0;31m# deferred printer\u001b[0m\u001b[0;34m\u001b[0m\u001b[0;34m\u001b[0m\u001b[0;34m\u001b[0m\u001b[0m\n",
            "\u001b[0;32m/usr/local/lib/python3.6/dist-packages/IPython/lib/pretty.py\u001b[0m in \u001b[0;36minner\u001b[0;34m(obj, p, cycle)\u001b[0m\n\u001b[1;32m    565\u001b[0m                 \u001b[0mp\u001b[0m\u001b[0;34m.\u001b[0m\u001b[0mtext\u001b[0m\u001b[0;34m(\u001b[0m\u001b[0;34m','\u001b[0m\u001b[0;34m)\u001b[0m\u001b[0;34m\u001b[0m\u001b[0;34m\u001b[0m\u001b[0m\n\u001b[1;32m    566\u001b[0m                 \u001b[0mp\u001b[0m\u001b[0;34m.\u001b[0m\u001b[0mbreakable\u001b[0m\u001b[0;34m(\u001b[0m\u001b[0;34m)\u001b[0m\u001b[0;34m\u001b[0m\u001b[0;34m\u001b[0m\u001b[0m\n\u001b[0;32m--> 567\u001b[0;31m             \u001b[0mp\u001b[0m\u001b[0;34m.\u001b[0m\u001b[0mpretty\u001b[0m\u001b[0;34m(\u001b[0m\u001b[0mx\u001b[0m\u001b[0;34m)\u001b[0m\u001b[0;34m\u001b[0m\u001b[0;34m\u001b[0m\u001b[0m\n\u001b[0m\u001b[1;32m    568\u001b[0m         \u001b[0;32mif\u001b[0m \u001b[0mlen\u001b[0m\u001b[0;34m(\u001b[0m\u001b[0mobj\u001b[0m\u001b[0;34m)\u001b[0m \u001b[0;34m==\u001b[0m \u001b[0;36m1\u001b[0m \u001b[0;32mand\u001b[0m \u001b[0mtype\u001b[0m\u001b[0;34m(\u001b[0m\u001b[0mobj\u001b[0m\u001b[0;34m)\u001b[0m \u001b[0;32mis\u001b[0m \u001b[0mtuple\u001b[0m\u001b[0;34m:\u001b[0m\u001b[0;34m\u001b[0m\u001b[0;34m\u001b[0m\u001b[0m\n\u001b[1;32m    569\u001b[0m             \u001b[0;31m# Special case for 1-item tuples.\u001b[0m\u001b[0;34m\u001b[0m\u001b[0;34m\u001b[0m\u001b[0;34m\u001b[0m\u001b[0m\n",
            "\u001b[0;32m/usr/local/lib/python3.6/dist-packages/IPython/lib/pretty.py\u001b[0m in \u001b[0;36mpretty\u001b[0;34m(self, obj)\u001b[0m\n\u001b[1;32m    381\u001b[0m                 \u001b[0;32mif\u001b[0m \u001b[0mcls\u001b[0m \u001b[0;32min\u001b[0m \u001b[0mself\u001b[0m\u001b[0;34m.\u001b[0m\u001b[0mtype_pprinters\u001b[0m\u001b[0;34m:\u001b[0m\u001b[0;34m\u001b[0m\u001b[0;34m\u001b[0m\u001b[0m\n\u001b[1;32m    382\u001b[0m                     \u001b[0;31m# printer registered in self.type_pprinters\u001b[0m\u001b[0;34m\u001b[0m\u001b[0;34m\u001b[0m\u001b[0;34m\u001b[0m\u001b[0m\n\u001b[0;32m--> 383\u001b[0;31m                     \u001b[0;32mreturn\u001b[0m \u001b[0mself\u001b[0m\u001b[0;34m.\u001b[0m\u001b[0mtype_pprinters\u001b[0m\u001b[0;34m[\u001b[0m\u001b[0mcls\u001b[0m\u001b[0;34m]\u001b[0m\u001b[0;34m(\u001b[0m\u001b[0mobj\u001b[0m\u001b[0;34m,\u001b[0m \u001b[0mself\u001b[0m\u001b[0;34m,\u001b[0m \u001b[0mcycle\u001b[0m\u001b[0;34m)\u001b[0m\u001b[0;34m\u001b[0m\u001b[0;34m\u001b[0m\u001b[0m\n\u001b[0m\u001b[1;32m    384\u001b[0m                 \u001b[0;32melse\u001b[0m\u001b[0;34m:\u001b[0m\u001b[0;34m\u001b[0m\u001b[0;34m\u001b[0m\u001b[0m\n\u001b[1;32m    385\u001b[0m                     \u001b[0;31m# deferred printer\u001b[0m\u001b[0;34m\u001b[0m\u001b[0;34m\u001b[0m\u001b[0;34m\u001b[0m\u001b[0m\n",
            "\u001b[0;32m/usr/local/lib/python3.6/dist-packages/IPython/lib/pretty.py\u001b[0m in \u001b[0;36minner\u001b[0;34m(obj, p, cycle)\u001b[0m\n\u001b[1;32m    565\u001b[0m                 \u001b[0mp\u001b[0m\u001b[0;34m.\u001b[0m\u001b[0mtext\u001b[0m\u001b[0;34m(\u001b[0m\u001b[0;34m','\u001b[0m\u001b[0;34m)\u001b[0m\u001b[0;34m\u001b[0m\u001b[0;34m\u001b[0m\u001b[0m\n\u001b[1;32m    566\u001b[0m                 \u001b[0mp\u001b[0m\u001b[0;34m.\u001b[0m\u001b[0mbreakable\u001b[0m\u001b[0;34m(\u001b[0m\u001b[0;34m)\u001b[0m\u001b[0;34m\u001b[0m\u001b[0;34m\u001b[0m\u001b[0m\n\u001b[0;32m--> 567\u001b[0;31m             \u001b[0mp\u001b[0m\u001b[0;34m.\u001b[0m\u001b[0mpretty\u001b[0m\u001b[0;34m(\u001b[0m\u001b[0mx\u001b[0m\u001b[0;34m)\u001b[0m\u001b[0;34m\u001b[0m\u001b[0;34m\u001b[0m\u001b[0m\n\u001b[0m\u001b[1;32m    568\u001b[0m         \u001b[0;32mif\u001b[0m \u001b[0mlen\u001b[0m\u001b[0;34m(\u001b[0m\u001b[0mobj\u001b[0m\u001b[0;34m)\u001b[0m \u001b[0;34m==\u001b[0m \u001b[0;36m1\u001b[0m \u001b[0;32mand\u001b[0m \u001b[0mtype\u001b[0m\u001b[0;34m(\u001b[0m\u001b[0mobj\u001b[0m\u001b[0;34m)\u001b[0m \u001b[0;32mis\u001b[0m \u001b[0mtuple\u001b[0m\u001b[0;34m:\u001b[0m\u001b[0;34m\u001b[0m\u001b[0;34m\u001b[0m\u001b[0m\n\u001b[1;32m    569\u001b[0m             \u001b[0;31m# Special case for 1-item tuples.\u001b[0m\u001b[0;34m\u001b[0m\u001b[0;34m\u001b[0m\u001b[0;34m\u001b[0m\u001b[0m\n",
            "\u001b[0;32m/usr/local/lib/python3.6/dist-packages/IPython/lib/pretty.py\u001b[0m in \u001b[0;36mpretty\u001b[0;34m(self, obj)\u001b[0m\n\u001b[1;32m    371\u001b[0m             \u001b[0;32mtry\u001b[0m\u001b[0;34m:\u001b[0m\u001b[0;34m\u001b[0m\u001b[0;34m\u001b[0m\u001b[0m\n\u001b[1;32m    372\u001b[0m                 \u001b[0mprinter\u001b[0m \u001b[0;34m=\u001b[0m \u001b[0mself\u001b[0m\u001b[0;34m.\u001b[0m\u001b[0msingleton_pprinters\u001b[0m\u001b[0;34m[\u001b[0m\u001b[0mobj_id\u001b[0m\u001b[0;34m]\u001b[0m\u001b[0;34m\u001b[0m\u001b[0;34m\u001b[0m\u001b[0m\n\u001b[0;32m--> 373\u001b[0;31m             \u001b[0;32mexcept\u001b[0m \u001b[0;34m(\u001b[0m\u001b[0mTypeError\u001b[0m\u001b[0;34m,\u001b[0m \u001b[0mKeyError\u001b[0m\u001b[0;34m)\u001b[0m\u001b[0;34m:\u001b[0m\u001b[0;34m\u001b[0m\u001b[0;34m\u001b[0m\u001b[0m\n\u001b[0m\u001b[1;32m    374\u001b[0m                 \u001b[0;32mpass\u001b[0m\u001b[0;34m\u001b[0m\u001b[0;34m\u001b[0m\u001b[0m\n\u001b[1;32m    375\u001b[0m             \u001b[0;32melse\u001b[0m\u001b[0;34m:\u001b[0m\u001b[0;34m\u001b[0m\u001b[0;34m\u001b[0m\u001b[0m\n",
            "\u001b[0;31mKeyboardInterrupt\u001b[0m: "
          ]
        }
      ]
    },
    {
      "cell_type": "code",
      "metadata": {
        "id": "8eQxhrT_a0Yc",
        "outputId": "87cbfbe5-9682-4c0d-db7c-e0df2d6694f1",
        "colab": {
          "base_uri": "https://localhost:8080/"
        }
      },
      "source": [
        "test = np.array(subproblems)"
      ],
      "execution_count": 151,
      "outputs": [
        {
          "output_type": "stream",
          "text": [
            "/usr/local/lib/python3.6/dist-packages/ipykernel_launcher.py:1: VisibleDeprecationWarning: Creating an ndarray from ragged nested sequences (which is a list-or-tuple of lists-or-tuples-or ndarrays with different lengths or shapes) is deprecated. If you meant to do this, you must specify 'dtype=object' when creating the ndarray\n",
            "  \"\"\"Entry point for launching an IPython kernel.\n"
          ],
          "name": "stderr"
        }
      ]
    },
    {
      "cell_type": "code",
      "metadata": {
        "id": "qkSZ6dbmbKBc",
        "outputId": "fb63de35-fc7d-4a81-fe4c-d78f7123896e",
        "colab": {
          "base_uri": "https://localhost:8080/"
        }
      },
      "source": [
        "test.shape"
      ],
      "execution_count": 145,
      "outputs": [
        {
          "output_type": "execute_result",
          "data": {
            "text/plain": [
              "(247, 716)"
            ]
          },
          "metadata": {
            "tags": []
          },
          "execution_count": 145
        }
      ]
    },
    {
      "cell_type": "code",
      "metadata": {
        "id": "EsppkodebpDm",
        "outputId": "53f87f34-ccea-41fb-d894-6d8ee50b0412",
        "colab": {
          "base_uri": "https://localhost:8080/"
        }
      },
      "source": [
        "test[10][10]"
      ],
      "execution_count": 152,
      "outputs": [
        {
          "output_type": "execute_result",
          "data": {
            "text/plain": [
              "(-inf, [10])"
            ]
          },
          "metadata": {
            "tags": []
          },
          "execution_count": 152
        }
      ]
    },
    {
      "cell_type": "code",
      "metadata": {
        "id": "odVybKC3btfY",
        "outputId": "3b3000b9-f4c5-46bc-b3b9-c8f48573fe79",
        "colab": {
          "base_uri": "https://localhost:8080/"
        }
      },
      "source": [
        "text_from_speech"
      ],
      "execution_count": 148,
      "outputs": [
        {
          "output_type": "execute_result",
          "data": {
            "text/plain": [
              "array([[9.9777907e-01, 1.0155298e-05, 3.0716743e-05, ..., 1.3978097e-05,\n",
              "        7.5386620e-06, 1.6055184e-05],\n",
              "       [9.9767643e-01, 1.0758812e-05, 1.6359705e-05, ..., 1.0408000e-05,\n",
              "        5.4513293e-06, 3.1531268e-05],\n",
              "       [9.9757701e-01, 1.0993117e-05, 2.0236279e-05, ..., 1.0957790e-05,\n",
              "        5.8924015e-06, 2.8305192e-05],\n",
              "       ...,\n",
              "       [9.9007308e-01, 8.3693310e-05, 2.7314860e-05, ..., 7.7893361e-05,\n",
              "        8.9203546e-05, 1.4436091e-04],\n",
              "       [9.9237907e-01, 4.8827249e-05, 1.2536126e-04, ..., 1.0637233e-04,\n",
              "        6.2168918e-05, 3.0697611e-05],\n",
              "       [9.9616086e-01, 1.7994542e-05, 1.5976321e-04, ..., 1.7268624e-04,\n",
              "        2.6818667e-05, 8.2173436e-05]], dtype=float32)"
            ]
          },
          "metadata": {
            "tags": []
          },
          "execution_count": 148
        }
      ]
    },
    {
      "cell_type": "code",
      "metadata": {
        "id": "g5wDbG7VcFqj"
      },
      "source": [
        ""
      ],
      "execution_count": null,
      "outputs": []
    }
  ]
}