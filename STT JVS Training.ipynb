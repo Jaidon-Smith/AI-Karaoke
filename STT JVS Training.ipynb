{
  "nbformat": 4,
  "nbformat_minor": 0,
  "metadata": {
    "accelerator": "GPU",
    "colab": {
      "name": "Untitled22.ipynb",
      "provenance": [],
      "toc_visible": true,
      "include_colab_link": true
    },
    "kernelspec": {
      "name": "python3",
      "display_name": "Python 3"
    }
  },
  "cells": [
    {
      "cell_type": "markdown",
      "metadata": {
        "id": "view-in-github",
        "colab_type": "text"
      },
      "source": [
        "<a href=\"https://colab.research.google.com/github/Jaidon-Smith/AI-Karaoke/blob/main/STT%20JVS%20Training.ipynb\" target=\"_parent\"><img src=\"https://colab.research.google.com/assets/colab-badge.svg\" alt=\"Open In Colab\"/></a>"
      ]
    },
    {
      "cell_type": "code",
      "metadata": {
        "id": "mY28ZxsZiUPu"
      },
      "source": [
        "COLAB_ENVIRONMENT = True\n",
        "CLEAR_LOGS = True\n",
        "CLEAR_CHECKPOINTS = True"
      ],
      "execution_count": null,
      "outputs": []
    },
    {
      "cell_type": "code",
      "metadata": {
        "id": "3Gd6aJXBjCqA"
      },
      "source": [
        "if COLAB_ENVIRONMENT:\n",
        "  from google.colab import auth\n",
        "  auth.authenticate_user()\n"
      ],
      "execution_count": null,
      "outputs": []
    },
    {
      "cell_type": "code",
      "metadata": {
        "colab": {
          "base_uri": "https://localhost:8080/"
        },
        "id": "xnmItTWZe0ay",
        "outputId": "b537a7b3-8121-4ce1-fbfe-0c7bfe4dc661"
      },
      "source": [
        "if COLAB_ENVIRONMENT:\n",
        "  !pip install tfds-nightly\n",
        "  !pip install pydub\n",
        "  !pip install tensorflow-io\n",
        "else:\n",
        "  !pip install --user tfds-nightly\n",
        "  !pip install --user pydub\n",
        "  !pip install --user tensorflow-io"
      ],
      "execution_count": null,
      "outputs": [
        {
          "output_type": "stream",
          "text": [
            "Requirement already satisfied: tfds-nightly in /usr/local/lib/python3.7/dist-packages (4.2.0.dev202103160106)\n",
            "Requirement already satisfied: numpy in /usr/local/lib/python3.7/dist-packages (from tfds-nightly) (1.19.5)\n",
            "Requirement already satisfied: future in /usr/local/lib/python3.7/dist-packages (from tfds-nightly) (0.16.0)\n",
            "Requirement already satisfied: tqdm in /usr/local/lib/python3.7/dist-packages (from tfds-nightly) (4.41.1)\n",
            "Requirement already satisfied: dill in /usr/local/lib/python3.7/dist-packages (from tfds-nightly) (0.3.3)\n",
            "Requirement already satisfied: termcolor in /usr/local/lib/python3.7/dist-packages (from tfds-nightly) (1.1.0)\n",
            "Requirement already satisfied: tensorflow-metadata in /usr/local/lib/python3.7/dist-packages (from tfds-nightly) (0.28.0)\n",
            "Requirement already satisfied: six in /usr/local/lib/python3.7/dist-packages (from tfds-nightly) (1.15.0)\n",
            "Requirement already satisfied: protobuf>=3.12.2 in /usr/local/lib/python3.7/dist-packages (from tfds-nightly) (3.12.4)\n",
            "Requirement already satisfied: requests>=2.19.0 in /usr/local/lib/python3.7/dist-packages (from tfds-nightly) (2.23.0)\n",
            "Requirement already satisfied: promise in /usr/local/lib/python3.7/dist-packages (from tfds-nightly) (2.3)\n",
            "Requirement already satisfied: absl-py in /usr/local/lib/python3.7/dist-packages (from tfds-nightly) (0.10.0)\n",
            "Requirement already satisfied: attrs>=18.1.0 in /usr/local/lib/python3.7/dist-packages (from tfds-nightly) (20.3.0)\n",
            "Requirement already satisfied: typing-extensions; python_version < \"3.8\" in /usr/local/lib/python3.7/dist-packages (from tfds-nightly) (3.7.4.3)\n",
            "Requirement already satisfied: importlib-resources; python_version < \"3.9\" in /usr/local/lib/python3.7/dist-packages (from tfds-nightly) (5.1.2)\n",
            "Requirement already satisfied: googleapis-common-protos<2,>=1.52.0 in /usr/local/lib/python3.7/dist-packages (from tensorflow-metadata->tfds-nightly) (1.53.0)\n",
            "Requirement already satisfied: setuptools in /usr/local/lib/python3.7/dist-packages (from protobuf>=3.12.2->tfds-nightly) (54.0.0)\n",
            "Requirement already satisfied: chardet<4,>=3.0.2 in /usr/local/lib/python3.7/dist-packages (from requests>=2.19.0->tfds-nightly) (3.0.4)\n",
            "Requirement already satisfied: urllib3!=1.25.0,!=1.25.1,<1.26,>=1.21.1 in /usr/local/lib/python3.7/dist-packages (from requests>=2.19.0->tfds-nightly) (1.24.3)\n",
            "Requirement already satisfied: certifi>=2017.4.17 in /usr/local/lib/python3.7/dist-packages (from requests>=2.19.0->tfds-nightly) (2020.12.5)\n",
            "Requirement already satisfied: idna<3,>=2.5 in /usr/local/lib/python3.7/dist-packages (from requests>=2.19.0->tfds-nightly) (2.10)\n",
            "Requirement already satisfied: zipp>=0.4; python_version < \"3.8\" in /usr/local/lib/python3.7/dist-packages (from importlib-resources; python_version < \"3.9\"->tfds-nightly) (3.4.1)\n",
            "Requirement already satisfied: pydub in /usr/local/lib/python3.7/dist-packages (0.25.1)\n",
            "Requirement already satisfied: tensorflow-io in /usr/local/lib/python3.7/dist-packages (0.17.0)\n",
            "Requirement already satisfied: tensorflow<2.5.0,>=2.4.0 in /usr/local/lib/python3.7/dist-packages (from tensorflow-io) (2.4.1)\n",
            "Requirement already satisfied: absl-py~=0.10 in /usr/local/lib/python3.7/dist-packages (from tensorflow<2.5.0,>=2.4.0->tensorflow-io) (0.10.0)\n",
            "Requirement already satisfied: astunparse~=1.6.3 in /usr/local/lib/python3.7/dist-packages (from tensorflow<2.5.0,>=2.4.0->tensorflow-io) (1.6.3)\n",
            "Requirement already satisfied: wheel~=0.35 in /usr/local/lib/python3.7/dist-packages (from tensorflow<2.5.0,>=2.4.0->tensorflow-io) (0.36.2)\n",
            "Requirement already satisfied: wrapt~=1.12.1 in /usr/local/lib/python3.7/dist-packages (from tensorflow<2.5.0,>=2.4.0->tensorflow-io) (1.12.1)\n",
            "Requirement already satisfied: google-pasta~=0.2 in /usr/local/lib/python3.7/dist-packages (from tensorflow<2.5.0,>=2.4.0->tensorflow-io) (0.2.0)\n",
            "Requirement already satisfied: gast==0.3.3 in /usr/local/lib/python3.7/dist-packages (from tensorflow<2.5.0,>=2.4.0->tensorflow-io) (0.3.3)\n",
            "Requirement already satisfied: termcolor~=1.1.0 in /usr/local/lib/python3.7/dist-packages (from tensorflow<2.5.0,>=2.4.0->tensorflow-io) (1.1.0)\n",
            "Requirement already satisfied: tensorflow-estimator<2.5.0,>=2.4.0 in /usr/local/lib/python3.7/dist-packages (from tensorflow<2.5.0,>=2.4.0->tensorflow-io) (2.4.0)\n",
            "Requirement already satisfied: numpy~=1.19.2 in /usr/local/lib/python3.7/dist-packages (from tensorflow<2.5.0,>=2.4.0->tensorflow-io) (1.19.5)\n",
            "Requirement already satisfied: typing-extensions~=3.7.4 in /usr/local/lib/python3.7/dist-packages (from tensorflow<2.5.0,>=2.4.0->tensorflow-io) (3.7.4.3)\n",
            "Requirement already satisfied: six~=1.15.0 in /usr/local/lib/python3.7/dist-packages (from tensorflow<2.5.0,>=2.4.0->tensorflow-io) (1.15.0)\n",
            "Requirement already satisfied: grpcio~=1.32.0 in /usr/local/lib/python3.7/dist-packages (from tensorflow<2.5.0,>=2.4.0->tensorflow-io) (1.32.0)\n",
            "Requirement already satisfied: tensorboard~=2.4 in /usr/local/lib/python3.7/dist-packages (from tensorflow<2.5.0,>=2.4.0->tensorflow-io) (2.4.1)\n",
            "Requirement already satisfied: flatbuffers~=1.12.0 in /usr/local/lib/python3.7/dist-packages (from tensorflow<2.5.0,>=2.4.0->tensorflow-io) (1.12)\n",
            "Requirement already satisfied: protobuf>=3.9.2 in /usr/local/lib/python3.7/dist-packages (from tensorflow<2.5.0,>=2.4.0->tensorflow-io) (3.12.4)\n",
            "Requirement already satisfied: keras-preprocessing~=1.1.2 in /usr/local/lib/python3.7/dist-packages (from tensorflow<2.5.0,>=2.4.0->tensorflow-io) (1.1.2)\n",
            "Requirement already satisfied: h5py~=2.10.0 in /usr/local/lib/python3.7/dist-packages (from tensorflow<2.5.0,>=2.4.0->tensorflow-io) (2.10.0)\n",
            "Requirement already satisfied: opt-einsum~=3.3.0 in /usr/local/lib/python3.7/dist-packages (from tensorflow<2.5.0,>=2.4.0->tensorflow-io) (3.3.0)\n",
            "Requirement already satisfied: werkzeug>=0.11.15 in /usr/local/lib/python3.7/dist-packages (from tensorboard~=2.4->tensorflow<2.5.0,>=2.4.0->tensorflow-io) (1.0.1)\n",
            "Requirement already satisfied: google-auth-oauthlib<0.5,>=0.4.1 in /usr/local/lib/python3.7/dist-packages (from tensorboard~=2.4->tensorflow<2.5.0,>=2.4.0->tensorflow-io) (0.4.3)\n",
            "Requirement already satisfied: requests<3,>=2.21.0 in /usr/local/lib/python3.7/dist-packages (from tensorboard~=2.4->tensorflow<2.5.0,>=2.4.0->tensorflow-io) (2.23.0)\n",
            "Requirement already satisfied: tensorboard-plugin-wit>=1.6.0 in /usr/local/lib/python3.7/dist-packages (from tensorboard~=2.4->tensorflow<2.5.0,>=2.4.0->tensorflow-io) (1.8.0)\n",
            "Requirement already satisfied: google-auth<2,>=1.6.3 in /usr/local/lib/python3.7/dist-packages (from tensorboard~=2.4->tensorflow<2.5.0,>=2.4.0->tensorflow-io) (1.27.1)\n",
            "Requirement already satisfied: setuptools>=41.0.0 in /usr/local/lib/python3.7/dist-packages (from tensorboard~=2.4->tensorflow<2.5.0,>=2.4.0->tensorflow-io) (54.0.0)\n",
            "Requirement already satisfied: markdown>=2.6.8 in /usr/local/lib/python3.7/dist-packages (from tensorboard~=2.4->tensorflow<2.5.0,>=2.4.0->tensorflow-io) (3.3.4)\n",
            "Requirement already satisfied: requests-oauthlib>=0.7.0 in /usr/local/lib/python3.7/dist-packages (from google-auth-oauthlib<0.5,>=0.4.1->tensorboard~=2.4->tensorflow<2.5.0,>=2.4.0->tensorflow-io) (1.3.0)\n",
            "Requirement already satisfied: idna<3,>=2.5 in /usr/local/lib/python3.7/dist-packages (from requests<3,>=2.21.0->tensorboard~=2.4->tensorflow<2.5.0,>=2.4.0->tensorflow-io) (2.10)\n",
            "Requirement already satisfied: certifi>=2017.4.17 in /usr/local/lib/python3.7/dist-packages (from requests<3,>=2.21.0->tensorboard~=2.4->tensorflow<2.5.0,>=2.4.0->tensorflow-io) (2020.12.5)\n",
            "Requirement already satisfied: urllib3!=1.25.0,!=1.25.1,<1.26,>=1.21.1 in /usr/local/lib/python3.7/dist-packages (from requests<3,>=2.21.0->tensorboard~=2.4->tensorflow<2.5.0,>=2.4.0->tensorflow-io) (1.24.3)\n",
            "Requirement already satisfied: chardet<4,>=3.0.2 in /usr/local/lib/python3.7/dist-packages (from requests<3,>=2.21.0->tensorboard~=2.4->tensorflow<2.5.0,>=2.4.0->tensorflow-io) (3.0.4)\n",
            "Requirement already satisfied: pyasn1-modules>=0.2.1 in /usr/local/lib/python3.7/dist-packages (from google-auth<2,>=1.6.3->tensorboard~=2.4->tensorflow<2.5.0,>=2.4.0->tensorflow-io) (0.2.8)\n",
            "Requirement already satisfied: rsa<5,>=3.1.4; python_version >= \"3.6\" in /usr/local/lib/python3.7/dist-packages (from google-auth<2,>=1.6.3->tensorboard~=2.4->tensorflow<2.5.0,>=2.4.0->tensorflow-io) (4.7.2)\n",
            "Requirement already satisfied: cachetools<5.0,>=2.0.0 in /usr/local/lib/python3.7/dist-packages (from google-auth<2,>=1.6.3->tensorboard~=2.4->tensorflow<2.5.0,>=2.4.0->tensorflow-io) (4.2.1)\n",
            "Requirement already satisfied: importlib-metadata; python_version < \"3.8\" in /usr/local/lib/python3.7/dist-packages (from markdown>=2.6.8->tensorboard~=2.4->tensorflow<2.5.0,>=2.4.0->tensorflow-io) (3.7.2)\n",
            "Requirement already satisfied: oauthlib>=3.0.0 in /usr/local/lib/python3.7/dist-packages (from requests-oauthlib>=0.7.0->google-auth-oauthlib<0.5,>=0.4.1->tensorboard~=2.4->tensorflow<2.5.0,>=2.4.0->tensorflow-io) (3.1.0)\n",
            "Requirement already satisfied: pyasn1<0.5.0,>=0.4.6 in /usr/local/lib/python3.7/dist-packages (from pyasn1-modules>=0.2.1->google-auth<2,>=1.6.3->tensorboard~=2.4->tensorflow<2.5.0,>=2.4.0->tensorflow-io) (0.4.8)\n",
            "Requirement already satisfied: zipp>=0.5 in /usr/local/lib/python3.7/dist-packages (from importlib-metadata; python_version < \"3.8\"->markdown>=2.6.8->tensorboard~=2.4->tensorflow<2.5.0,>=2.4.0->tensorflow-io) (3.4.1)\n"
          ],
          "name": "stdout"
        }
      ]
    },
    {
      "cell_type": "code",
      "metadata": {
        "id": "CaxFPa1ne2Xm"
      },
      "source": [
        "import tensorflow_datasets as tfds\n",
        "import tensorflow as tf\n",
        "import numpy as np\n",
        "import time\n",
        "import tensorflow_io as tfio"
      ],
      "execution_count": null,
      "outputs": []
    },
    {
      "cell_type": "code",
      "metadata": {
        "colab": {
          "base_uri": "https://localhost:8080/"
        },
        "id": "GpLtjhXMepL-",
        "outputId": "c17ca81d-ed06-49be-a78f-2d1daeb96572"
      },
      "source": [
        "!git clone https://github.com/Jaidon-Smith/public_datasets.git"
      ],
      "execution_count": null,
      "outputs": [
        {
          "output_type": "stream",
          "text": [
            "fatal: destination path 'public_datasets' already exists and is not an empty directory.\n"
          ],
          "name": "stdout"
        }
      ]
    },
    {
      "cell_type": "code",
      "metadata": {
        "id": "sNJwUAvCiUPr"
      },
      "source": [
        "BATCH_SIZE = 8"
      ],
      "execution_count": null,
      "outputs": []
    },
    {
      "cell_type": "markdown",
      "metadata": {
        "id": "s8OZoOWZCXvm"
      },
      "source": [
        "# Setting Up TensorBoard"
      ]
    },
    {
      "cell_type": "code",
      "metadata": {
        "id": "AbmSdYojCgDz"
      },
      "source": [
        "from datetime import datetime"
      ],
      "execution_count": null,
      "outputs": []
    },
    {
      "cell_type": "code",
      "metadata": {
        "id": "LP5tugbE-vbI"
      },
      "source": [
        "logdir = 'gs://general-304503/notebook_logs/jvs_convolutions_stt_17_3_21/logs'\n",
        "checkpoint_path = 'gs://general-304503/notebook_logs/jvs_convolutions_stt_17_3_21/checkpoints'"
      ],
      "execution_count": null,
      "outputs": []
    },
    {
      "cell_type": "code",
      "metadata": {
        "id": "WZrsymk7E5DH",
        "colab": {
          "base_uri": "https://localhost:8080/"
        },
        "outputId": "5efe6d7f-d282-448e-88fa-25fcd9046720"
      },
      "source": [
        "# Initialise Logs\n",
        "if CLEAR_LOGS:\n",
        "  !gsutil rm -r $logdir\n",
        "if CLEAR_CHECKPOINTS:\n",
        "    !gsutil rm -r $checkpoint_path"
      ],
      "execution_count": null,
      "outputs": [
        {
          "output_type": "stream",
          "text": [
            "Removing gs://general-304503/notebook_logs/jvs_transformer_stt_12_3_21/logs/#1615897758914502...\n",
            "Removing gs://general-304503/notebook_logs/jvs_transformer_stt_12_3_21/logs/events.out.tfevents.1615897758.afad393a2500.58.754617.v2#1615898128600315...\n",
            "/ [2 objects]                                                                   \n",
            "Operation completed over 2 objects.                                              \n"
          ],
          "name": "stdout"
        }
      ]
    },
    {
      "cell_type": "code",
      "metadata": {
        "id": "VimJg7KRCb3G"
      },
      "source": [
        "# Creates a file writer for the log directory.\n",
        "file_writer = tf.summary.create_file_writer(logdir)"
      ],
      "execution_count": null,
      "outputs": []
    },
    {
      "cell_type": "markdown",
      "metadata": {
        "id": "pkMA6i1TVy1S"
      },
      "source": [
        "# Building the Model"
      ]
    },
    {
      "cell_type": "code",
      "metadata": {
        "colab": {
          "base_uri": "https://localhost:8080/"
        },
        "id": "Jqg6ZtdIiUPx",
        "outputId": "5104be69-6371-44c6-bd91-0629abbb9ab2"
      },
      "source": [
        "!wget --no-check-certificate 'https://docs.google.com/uc?export=download&id=1treUWLprQkcGOXeiFPofOvtk4iPZhsJq' -O hiragana_jsut.model"
      ],
      "execution_count": null,
      "outputs": [
        {
          "output_type": "stream",
          "text": [
            "--2021-03-16 12:35:56--  https://docs.google.com/uc?export=download&id=1treUWLprQkcGOXeiFPofOvtk4iPZhsJq\n",
            "Resolving docs.google.com (docs.google.com)... 172.217.13.78, 2607:f8b0:4004:808::200e\n",
            "Connecting to docs.google.com (docs.google.com)|172.217.13.78|:443... connected.\n",
            "HTTP request sent, awaiting response... 302 Moved Temporarily\n",
            "Location: https://doc-0g-28-docs.googleusercontent.com/docs/securesc/ha0ro937gcuc7l7deffksulhg5h7mbp1/ggqieg3959mfcks6m5bl7hjmq9hadplf/1615898100000/04186398190322129029/*/1treUWLprQkcGOXeiFPofOvtk4iPZhsJq?e=download [following]\n",
            "Warning: wildcards not supported in HTTP.\n",
            "--2021-03-16 12:35:56--  https://doc-0g-28-docs.googleusercontent.com/docs/securesc/ha0ro937gcuc7l7deffksulhg5h7mbp1/ggqieg3959mfcks6m5bl7hjmq9hadplf/1615898100000/04186398190322129029/*/1treUWLprQkcGOXeiFPofOvtk4iPZhsJq?e=download\n",
            "Resolving doc-0g-28-docs.googleusercontent.com (doc-0g-28-docs.googleusercontent.com)... 172.217.13.225, 2607:f8b0:4004:809::2001\n",
            "Connecting to doc-0g-28-docs.googleusercontent.com (doc-0g-28-docs.googleusercontent.com)|172.217.13.225|:443... connected.\n",
            "HTTP request sent, awaiting response... 200 OK\n",
            "Length: 276245 (270K) [application/octet-stream]\n",
            "Saving to: ‘hiragana_jsut.model’\n",
            "\n",
            "hiragana_jsut.model 100%[===================>] 269.77K  --.-KB/s    in 0.03s   \n",
            "\n",
            "2021-03-16 12:35:56 (8.29 MB/s) - ‘hiragana_jsut.model’ saved [276245/276245]\n",
            "\n"
          ],
          "name": "stdout"
        }
      ]
    },
    {
      "cell_type": "code",
      "metadata": {
        "colab": {
          "base_uri": "https://localhost:8080/"
        },
        "id": "JBFpGwTo9kUs",
        "outputId": "155e12e4-44f6-4db0-e535-e087807fe4c2"
      },
      "source": [
        "!pip install --quiet tensorflow-text\n",
        "\n",
        "import tensorflow_text as text\n",
        "from tensorflow.python.platform import gfile\n",
        "\n",
        "model_file = 'hiragana_jsut.model'\n",
        "model = gfile.GFile(model_file, 'rb').read()\n",
        "\n",
        "tokenizer = text.SentencepieceTokenizer(model=model)\n",
        "\n",
        "input_vocab_size = tokenizer.vocab_size().numpy()\n",
        "print(input_vocab_size)"
      ],
      "execution_count": null,
      "outputs": [
        {
          "output_type": "stream",
          "text": [
            "2000\n"
          ],
          "name": "stdout"
        }
      ]
    },
    {
      "cell_type": "code",
      "metadata": {
        "colab": {
          "base_uri": "https://localhost:8080/"
        },
        "id": "zyeaq-FTCB7X",
        "outputId": "ec24796d-6558-465a-a43e-fdb51557967c"
      },
      "source": [
        "if COLAB_ENVIRONMENT:\n",
        "  !pip install pykakasi\n",
        "else:\n",
        "  !pip install --user pykakasi"
      ],
      "execution_count": null,
      "outputs": [
        {
          "output_type": "stream",
          "text": [
            "Requirement already satisfied: pykakasi in /usr/local/lib/python3.7/dist-packages (2.0.6)\n",
            "Requirement already satisfied: klepto in /usr/local/lib/python3.7/dist-packages (from pykakasi) (0.2.0)\n",
            "Requirement already satisfied: importlib-metadata; python_version < \"3.8\" in /usr/local/lib/python3.7/dist-packages (from pykakasi) (3.7.2)\n",
            "Requirement already satisfied: dill>=0.3.3 in /usr/local/lib/python3.7/dist-packages (from klepto->pykakasi) (0.3.3)\n",
            "Requirement already satisfied: pox>=0.2.9 in /usr/local/lib/python3.7/dist-packages (from klepto->pykakasi) (0.2.9)\n",
            "Requirement already satisfied: zipp>=0.5 in /usr/local/lib/python3.7/dist-packages (from importlib-metadata; python_version < \"3.8\"->pykakasi) (3.4.1)\n",
            "Requirement already satisfied: typing-extensions>=3.6.4; python_version < \"3.8\" in /usr/local/lib/python3.7/dist-packages (from importlib-metadata; python_version < \"3.8\"->pykakasi) (3.7.4.3)\n"
          ],
          "name": "stdout"
        }
      ]
    },
    {
      "cell_type": "code",
      "metadata": {
        "id": "rWcfthvAEbZI"
      },
      "source": [
        "import pykakasi\n",
        "converter = pykakasi.kakasi()"
      ],
      "execution_count": null,
      "outputs": []
    },
    {
      "cell_type": "code",
      "metadata": {
        "id": "154oNA4E6hEg"
      },
      "source": [
        "def preprocess_text(old_text):\n",
        "  text = old_text\n",
        "  text = tokenizer.tokenize(text)\n",
        "  text = tf.pad(text, paddings=[[0 , 200 - tf.shape(text)[0]]])\n",
        "  return text"
      ],
      "execution_count": null,
      "outputs": []
    },
    {
      "cell_type": "code",
      "metadata": {
        "id": "LiqQD4F8j8YJ"
      },
      "source": [
        "def preprocess_text_no_pad(old_text):\n",
        "  text = old_text\n",
        "  text = tokenizer.tokenize(text)\n",
        "  text = tf.shape(text)[0]\n",
        "  return text"
      ],
      "execution_count": null,
      "outputs": []
    },
    {
      "cell_type": "code",
      "metadata": {
        "id": "VxIOOV5_pS58"
      },
      "source": [
        "def preprocess_audio(old_audio, original_sample_rate):\n",
        "  audio = old_audio/tf.int16.max\n",
        "  audio = tf.cast(audio, tf.float32)\n",
        "  audio = tfio.audio.resample(audio, original_sample_rate, 24000)\n",
        "  audio = tf.signal.stft(audio, frame_length=2047, frame_step=1024)\n",
        "  audio = tf.pad(audio, paddings=[[0 , 500 - tf.shape(audio)[0]], [0,0]])\n",
        "  return audio"
      ],
      "execution_count": null,
      "outputs": []
    },
    {
      "cell_type": "code",
      "metadata": {
        "id": "nCRZuRVb4H_d"
      },
      "source": [
        "def preprocess_audio_no_pad(old_audio, original_sample_rate):\n",
        "  audio = old_audio/tf.int16.max\n",
        "  audio = tf.cast(audio, tf.float32)\n",
        "  audio = tfio.audio.resample(audio, original_sample_rate, 24000)\n",
        "  audio = tf.signal.stft(audio, frame_length=2047, frame_step=1024)\n",
        "  audio = tf.shape(audio)[0]\n",
        "  return audio"
      ],
      "execution_count": null,
      "outputs": []
    },
    {
      "cell_type": "code",
      "metadata": {
        "id": "SSaiGkuUZYFL"
      },
      "source": [
        "download_config = tfds.download.DownloadConfig(manual_dir='gs://general-304503/public_datasets/downloads/manual')\n",
        "\n",
        "jsut_dataset, info = tfds.load(\n",
        "                    \"jsut\",\n",
        "                    split=\"train\",\n",
        "                    data_dir='gs://general-304503/public_datasets',\n",
        "                    download_and_prepare_kwargs={\"download_config\": download_config},\n",
        "                    with_info = True)"
      ],
      "execution_count": null,
      "outputs": []
    },
    {
      "cell_type": "code",
      "metadata": {
        "id": "p4dWKtfoEyKy"
      },
      "source": [
        "def convert_to_kana(text):\n",
        "  #kana = converter.convert('蝦夷に籠もる旧幕府軍に対する攻撃の指揮を執る。')\n",
        "  new_text = text.numpy().decode('utf-8')\n",
        "  kana = converter.convert(new_text)\n",
        "  return ''.join([i['hira'] for i in kana])"
      ],
      "execution_count": null,
      "outputs": []
    },
    {
      "cell_type": "code",
      "metadata": {
        "id": "dsITXisWE81g"
      },
      "source": [
        "jsut_dataset = jsut_dataset.map(lambda x: {\"id\": x[\"id\"],\n",
        "                                 \"speech\": x[\"speech\"],\n",
        "                                 \"text\": tf.py_function(convert_to_kana, [x[\"text\"]], Tout=tf.string)})"
      ],
      "execution_count": null,
      "outputs": []
    },
    {
      "cell_type": "code",
      "metadata": {
        "id": "5TEZzObuMtUW"
      },
      "source": [
        "jsut_dataset = jsut_dataset.map(lambda x: {\"id\": x[\"id\"],\n",
        "                                 \"speech\": preprocess_audio(x[\"speech\"], 48000),\n",
        "                                 \"speech_lengths\": preprocess_audio_no_pad(x[\"speech\"], 48000),\n",
        "                                 \"text\": tf.py_function(preprocess_text, [x[\"text\"]], Tout=tf.int32),\n",
        "                                 \"text_lengths\": tf.py_function(preprocess_text_no_pad, [x[\"text\"]], Tout=tf.int32)})"
      ],
      "execution_count": null,
      "outputs": []
    },
    {
      "cell_type": "code",
      "metadata": {
        "id": "htZ7O_L6ZPMm"
      },
      "source": [
        "jsut_dataset = jsut_dataset.batch(BATCH_SIZE)\n",
        "jsut_dataset = jsut_dataset.prefetch(tf.data.AUTOTUNE)"
      ],
      "execution_count": null,
      "outputs": []
    },
    {
      "cell_type": "markdown",
      "metadata": {
        "id": "1lm95V3vntL6"
      },
      "source": [
        "## jvs dataset"
      ]
    },
    {
      "cell_type": "code",
      "metadata": {
        "id": "u1GQRngMnrUx"
      },
      "source": [
        "download_config = tfds.download.DownloadConfig(manual_dir='gs://general-304503/public_datasets/downloads/manual')\n",
        "\n",
        "jvs_dataset, info = tfds.load(\n",
        "                    \"jvs\",\n",
        "                    split=\"train\",\n",
        "                    data_dir='gs://general-304503/public_datasets',\n",
        "                    download_and_prepare_kwargs={\"download_config\": download_config},\n",
        "                    with_info = True)"
      ],
      "execution_count": null,
      "outputs": []
    },
    {
      "cell_type": "code",
      "metadata": {
        "id": "Yc2xw1UvnrUx"
      },
      "source": [
        "jvs_dataset = jvs_dataset.map(lambda x: {\"id\": x[\"id\"],\n",
        "                                 \"speech\": x[\"speech\"],\n",
        "                                 \"text\": tf.py_function(convert_to_kana, [x[\"text\"]], Tout=tf.string)})"
      ],
      "execution_count": null,
      "outputs": []
    },
    {
      "cell_type": "code",
      "metadata": {
        "id": "pOMQs6x_nrUx"
      },
      "source": [
        "jvs_dataset = jvs_dataset.map(lambda x: {\"id\": x[\"id\"],\n",
        "                                 \"speech\": preprocess_audio(x[\"speech\"], 48000),\n",
        "                                 \"speech_lengths\": preprocess_audio_no_pad(x[\"speech\"], 48000),\n",
        "                                 \"text\": tf.py_function(preprocess_text, [x[\"text\"]], Tout=tf.int32),\n",
        "                                 \"text_lengths\": tf.py_function(preprocess_text_no_pad, [x[\"text\"]], Tout=tf.int32)})"
      ],
      "execution_count": null,
      "outputs": []
    },
    {
      "cell_type": "code",
      "metadata": {
        "id": "Iv1ibtCpnrUy"
      },
      "source": [
        "jvs_dataset = jvs_dataset.batch(BATCH_SIZE)\n",
        "jvs_dataset = jvs_dataset.prefetch(tf.data.AUTOTUNE)"
      ],
      "execution_count": null,
      "outputs": []
    },
    {
      "cell_type": "markdown",
      "metadata": {
        "id": "d5WxMKAI-CF3"
      },
      "source": [
        "\n",
        "\n",
        "```python\n",
        "ds = jvs_dataset.take(1)\n",
        "\n",
        "for i in ds:\n",
        "  data = i\n",
        "  break\n",
        "\n",
        "speech = data['speech']\n",
        "text = data['text']\n",
        "id = data['id']\n",
        "speech_lengths = data['speech_lengths']\n",
        "text_lengths = data['text_lengths']\n",
        "\n",
        "tokenizer.detokenize(text.numpy()[1]).numpy().decode('utf-8')\n",
        "```\n",
        "\n"
      ]
    },
    {
      "cell_type": "code",
      "metadata": {
        "colab": {
          "base_uri": "https://localhost:8080/"
        },
        "id": "T-EgkkRmnrUy",
        "outputId": "5b543842-55c5-4fc9-fcaf-e2009830d617"
      },
      "source": [
        "input_vocab_size = tokenizer.vocab_size()\n",
        "print(input_vocab_size)"
      ],
      "execution_count": null,
      "outputs": [
        {
          "output_type": "stream",
          "text": [
            "tf.Tensor(2000, shape=(), dtype=int32)\n"
          ],
          "name": "stdout"
        }
      ]
    },
    {
      "cell_type": "markdown",
      "metadata": {
        "id": "-cjiiyX82XU5"
      },
      "source": [
        "# Using Transformer Encoder Blocks"
      ]
    },
    {
      "cell_type": "code",
      "metadata": {
        "id": "xCSRf4_0wZHZ"
      },
      "source": [
        "d_model = 512"
      ],
      "execution_count": null,
      "outputs": []
    },
    {
      "cell_type": "code",
      "metadata": {
        "id": "CJ1HYBRd6NQu"
      },
      "source": [
        "def get_angles(pos, i, d_model):\n",
        "  angle_rates = 1 / np.power(10000, (2 * (i//2)) / np.float32(d_model))\n",
        "  return pos * angle_rates\n",
        "\n",
        "def positional_encoding(position, d_model):\n",
        "  angle_rads = get_angles(np.arange(position)[:, np.newaxis],\n",
        "                          np.arange(d_model)[np.newaxis, :],\n",
        "                          d_model)\n",
        "\n",
        "  # apply sin to even indices in the array; 2i\n",
        "  angle_rads[:, 0::2] = np.sin(angle_rads[:, 0::2])\n",
        "\n",
        "  # apply cos to odd indices in the array; 2i+1\n",
        "  angle_rads[:, 1::2] = np.cos(angle_rads[:, 1::2])\n",
        "\n",
        "  pos_encoding = angle_rads[np.newaxis, ...]\n",
        "\n",
        "  return tf.cast(pos_encoding, dtype=tf.float32)"
      ],
      "execution_count": null,
      "outputs": []
    },
    {
      "cell_type": "code",
      "metadata": {
        "id": "_fHkHLsK22m5"
      },
      "source": [
        "def scaled_dot_product_attention(q, k, v):\n",
        "  \"\"\"Calculate the attention weights.\n",
        "  q, k, v must have matching leading dimensions.\n",
        "  k, v must have matching penultimate dimension, i.e.: seq_len_k = seq_len_v.\n",
        "  \n",
        "  Args:\n",
        "    q: query shape == (..., seq_len_q, depth)\n",
        "    k: key shape == (..., seq_len_k, depth)\n",
        "    v: value shape == (..., seq_len_v, depth_v)\n",
        "    \n",
        "  Returns:\n",
        "    output, attention_weights\n",
        "  \"\"\"\n",
        "\n",
        "  matmul_qk = tf.matmul(q, k, transpose_b=True)  # (..., seq_len_q, seq_len_k)\n",
        "  \n",
        "  # scale matmul_qk\n",
        "  dk = tf.cast(tf.shape(k)[-1], tf.float32)\n",
        "  scaled_attention_logits = matmul_qk / tf.math.sqrt(dk)\n",
        "\n",
        "\n",
        "  # softmax is normalized on the last axis (seq_len_k) so that the scores\n",
        "  # add up to 1.\n",
        "  attention_weights = tf.nn.softmax(scaled_attention_logits, axis=-1)  # (..., seq_len_q, seq_len_k)\n",
        "\n",
        "  output = tf.matmul(attention_weights, v)  # (..., seq_len_q, depth_v)\n",
        "\n",
        "  return output, attention_weights"
      ],
      "execution_count": null,
      "outputs": []
    },
    {
      "cell_type": "code",
      "metadata": {
        "id": "wWLWmM3MPr5V"
      },
      "source": [
        "class MultiHeadAttention(tf.keras.layers.Layer):\n",
        "  def __init__(self, d_model, num_heads):\n",
        "    super(MultiHeadAttention, self).__init__()\n",
        "    self.num_heads = num_heads\n",
        "    self.d_model = d_model\n",
        "    \n",
        "    assert d_model % self.num_heads == 0\n",
        "    \n",
        "    self.depth = d_model // self.num_heads\n",
        "    \n",
        "    self.wq = tf.keras.layers.Dense(d_model)\n",
        "    self.wk = tf.keras.layers.Dense(d_model)\n",
        "    self.wv = tf.keras.layers.Dense(d_model)\n",
        "    \n",
        "    self.dense = tf.keras.layers.Dense(d_model)\n",
        "        \n",
        "  def split_heads(self, x, batch_size):\n",
        "    \"\"\"Split the last dimension into (num_heads, depth).\n",
        "    Transpose the result such that the shape is (batch_size, num_heads, seq_len, depth)\n",
        "    \"\"\"\n",
        "    x = tf.reshape(x, (batch_size, -1, self.num_heads, self.depth))\n",
        "    return tf.transpose(x, perm=[0, 2, 1, 3])\n",
        "    \n",
        "  def call(self, v, k, q):\n",
        "    batch_size = tf.shape(q)[0]\n",
        "    \n",
        "    q = self.wq(q)  # (batch_size, seq_len, d_model)\n",
        "    k = self.wk(k)  # (batch_size, seq_len, d_model)\n",
        "    v = self.wv(v)  # (batch_size, seq_len, d_model)\n",
        "    \n",
        "    q = self.split_heads(q, batch_size)  # (batch_size, num_heads, seq_len_q, depth)\n",
        "    k = self.split_heads(k, batch_size)  # (batch_size, num_heads, seq_len_k, depth)\n",
        "    v = self.split_heads(v, batch_size)  # (batch_size, num_heads, seq_len_v, depth)\n",
        "    \n",
        "    # scaled_attention.shape == (batch_size, num_heads, seq_len_q, depth)\n",
        "    # attention_weights.shape == (batch_size, num_heads, seq_len_q, seq_len_k)\n",
        "    scaled_attention, attention_weights = scaled_dot_product_attention(\n",
        "        q, k, v)\n",
        "    \n",
        "    scaled_attention = tf.transpose(scaled_attention, perm=[0, 2, 1, 3])  # (batch_size, seq_len_q, num_heads, depth)\n",
        "\n",
        "    concat_attention = tf.reshape(scaled_attention, \n",
        "                                  (batch_size, -1, self.d_model))  # (batch_size, seq_len_q, d_model)\n",
        "\n",
        "    output = self.dense(concat_attention)  # (batch_size, seq_len_q, d_model)\n",
        "        \n",
        "    return output, attention_weights"
      ],
      "execution_count": null,
      "outputs": []
    },
    {
      "cell_type": "code",
      "metadata": {
        "id": "eR9vt3slYa6Z"
      },
      "source": [
        "def point_wise_feed_forward_network(d_model, dff):\n",
        "  return tf.keras.Sequential([\n",
        "      tf.keras.layers.Dense(dff, activation='relu'),  # (batch_size, seq_len, dff)\n",
        "      tf.keras.layers.Dense(d_model)  # (batch_size, seq_len, d_model)\n",
        "  ])"
      ],
      "execution_count": null,
      "outputs": []
    },
    {
      "cell_type": "code",
      "metadata": {
        "id": "JpqOGPpKYfuf"
      },
      "source": [
        "class EncoderLayer(tf.keras.layers.Layer):\n",
        "  def __init__(self, d_model, num_heads, dff, rate=0.1):\n",
        "    super(EncoderLayer, self).__init__()\n",
        "\n",
        "    self.mha = MultiHeadAttention(d_model, num_heads)\n",
        "    self.ffn = point_wise_feed_forward_network(d_model, dff)\n",
        "\n",
        "    self.layernorm1 = tf.keras.layers.LayerNormalization(epsilon=1e-6)\n",
        "    self.layernorm2 = tf.keras.layers.LayerNormalization(epsilon=1e-6)\n",
        "    \n",
        "    self.dropout1 = tf.keras.layers.Dropout(rate)\n",
        "    self.dropout2 = tf.keras.layers.Dropout(rate)\n",
        "    \n",
        "  def call(self, x, training):\n",
        "\n",
        "    attn_output, _ = self.mha(x, x, x)  # (batch_size, input_seq_len, d_model)\n",
        "    attn_output = self.dropout1(attn_output, training=training)\n",
        "    out1 = self.layernorm1(x + attn_output)  # (batch_size, input_seq_len, d_model)\n",
        "    \n",
        "    ffn_output = self.ffn(out1)  # (batch_size, input_seq_len, d_model)\n",
        "    ffn_output = self.dropout2(ffn_output, training=training)\n",
        "    out2 = self.layernorm2(out1 + ffn_output)  # (batch_size, input_seq_len, d_model)\n",
        "    \n",
        "    return out2"
      ],
      "execution_count": null,
      "outputs": []
    },
    {
      "cell_type": "code",
      "metadata": {
        "id": "F2lvYoMO4j1w"
      },
      "source": [
        "class Encoder(tf.keras.layers.Layer):\n",
        "  def __init__(self, num_layers, d_model, num_heads, dff,\n",
        "               maximum_position_encoding, rate=0.1):\n",
        "    super(Encoder, self).__init__()\n",
        "\n",
        "    self.d_model = d_model\n",
        "    self.num_layers = num_layers\n",
        "    \n",
        "    #self.embedding = tf.keras.layers.Embedding(input_vocab_size, d_model)\n",
        "    self.embedding = tf.keras.layers.Dense(d_model)\n",
        "\n",
        "    self.pos_encoding = positional_encoding(maximum_position_encoding, \n",
        "                                            self.d_model)\n",
        "    \n",
        "    \n",
        "    self.enc_layers = [EncoderLayer(d_model, num_heads, dff, rate) \n",
        "                       for _ in range(num_layers)]\n",
        "  \n",
        "    self.dropout = tf.keras.layers.Dropout(rate)\n",
        "        \n",
        "  def call(self, x, training=True):\n",
        "\n",
        "    seq_len = tf.shape(x)[1]\n",
        "    \n",
        "    # adding embedding and position encoding.\n",
        "    x = self.embedding(x)  # (batch_size, input_seq_len, d_model)\n",
        "    x *= tf.math.sqrt(tf.cast(self.d_model, tf.float32)) # Makes input larger by a constant\n",
        "    x += self.pos_encoding[:, :seq_len, :]\n",
        "\n",
        "    x = self.dropout(x, training=training)\n",
        "    \n",
        "    for i in range(self.num_layers):\n",
        "      x = self.enc_layers[i](x, training)\n",
        "    \n",
        "    return x  # (batch_size, input_seq_len, d_model)"
      ],
      "execution_count": null,
      "outputs": []
    },
    {
      "cell_type": "code",
      "metadata": {
        "id": "rIkO24ZTsYng"
      },
      "source": [
        "class CustomSchedule(tf.keras.optimizers.schedules.LearningRateSchedule):\n",
        "  def __init__(self, d_model, warmup_steps=4000):\n",
        "    super(CustomSchedule, self).__init__()\n",
        "\n",
        "    self.d_model = d_model\n",
        "    self.d_model = tf.cast(self.d_model, tf.float32)\n",
        "\n",
        "    self.warmup_steps = warmup_steps\n",
        "\n",
        "  def __call__(self, step):\n",
        "    arg1 = tf.math.rsqrt(step)\n",
        "    arg2 = step * (self.warmup_steps ** -1.5)\n",
        "\n",
        "    return tf.math.rsqrt(self.d_model) * tf.math.minimum(arg1, arg2)"
      ],
      "execution_count": null,
      "outputs": []
    },
    {
      "cell_type": "code",
      "metadata": {
        "id": "kFvfDRy_sgBc"
      },
      "source": [
        "learning_rate = CustomSchedule(d_model)\n",
        "\n",
        "optimizer = tf.keras.optimizers.Adam(learning_rate, beta_1=0.9, beta_2=0.98, \n",
        "                                     epsilon=1e-9)"
      ],
      "execution_count": null,
      "outputs": []
    },
    {
      "cell_type": "code",
      "metadata": {
        "id": "MaKn44ztspmJ"
      },
      "source": [
        "train_loss = tf.keras.metrics.Mean(name='train_loss')\n",
        "validation_loss = tf.keras.metrics.Mean(name='validation_loss')\n",
        "instant_loss = tf.keras.metrics.Mean(name='instant_loss')\n",
        "\n",
        "epoch_train_loss = tf.keras.metrics.Mean(name='epoch_train_loss')"
      ],
      "execution_count": null,
      "outputs": []
    },
    {
      "cell_type": "code",
      "metadata": {
        "id": "GVPnnLizwA3m"
      },
      "source": [
        "class Transformer(tf.keras.Model):\n",
        "  def __init__(self, num_layers, d_model, num_heads, dff, maximum_position_encoding):\n",
        "    super(Transformer, self).__init__()\n",
        "    self.encoder = Encoder(num_layers, d_model, num_heads, dff, \n",
        "                           maximum_position_encoding)\n",
        "    self.final_layer = tf.keras.layers.Dense(input_vocab_size)\n",
        "\n",
        "  def call(self, inp, training=True):\n",
        "    enc_output = self.encoder(inp, training)  # (batch_size, inp_seq_len, d_model)\n",
        "    final_output = self.final_layer(enc_output)  # (batch_size, tar_seq_len, target_vocab_size)\n",
        "    return final_output\n",
        "\n",
        "transformer = Transformer(num_layers=6,\n",
        "          d_model=d_model,\n",
        "          num_heads=8,\n",
        "          dff=2048, \n",
        "          maximum_position_encoding=10000)"
      ],
      "execution_count": null,
      "outputs": []
    },
    {
      "cell_type": "code",
      "metadata": {
        "id": "vkF8khEZiUQG"
      },
      "source": [
        "#transformer.summary()"
      ],
      "execution_count": null,
      "outputs": []
    },
    {
      "cell_type": "code",
      "metadata": {
        "id": "1Y1kDSm9st_Q"
      },
      "source": [
        "batch_counter = tf.Variable(-1, name=\"batch_counter\", dtype=tf.int32)\n",
        "epoch_counter = tf.Variable(0, name=\"epoch_counter\", dtype=tf.int32)\n",
        "\n",
        "ckpt = tf.train.Checkpoint(transformer=transformer,\n",
        "                           optimizer=optimizer,\n",
        "                          batch_counter=batch_counter,\n",
        "                           epoch_counter=epoch_counter)\n",
        "\n",
        "#ckpt = tf.train.Checkpoint(transformer=transformer,\n",
        "#                           optimizer=optimizer)\n",
        "\n",
        "ckpt_manager = tf.train.CheckpointManager(ckpt, checkpoint_path, max_to_keep=5)\n",
        "\n",
        "# if a checkpoint exists, restore the latest checkpoint.\n",
        "if ckpt_manager.latest_checkpoint:\n",
        "  ckpt.restore(ckpt_manager.latest_checkpoint)\n",
        "  print ('Latest checkpoint restored!!')"
      ],
      "execution_count": null,
      "outputs": []
    },
    {
      "cell_type": "code",
      "metadata": {
        "id": "hXw3bhf7tGfJ"
      },
      "source": [
        "@tf.function\n",
        "def train_step(speech, text, speech_lengths, text_lengths):\n",
        "  with tf.GradientTape() as tape:\n",
        "    logits = transformer(speech)\n",
        "\n",
        "    labels = text\n",
        "    label_length = text_lengths\n",
        "    logit_length = speech_lengths\n",
        "    unique = tf.nn.ctc_unique_labels(text)\n",
        "\n",
        "\n",
        "    loss = tf.nn.ctc_loss(\n",
        "        labels=labels, logits=logits, label_length=label_length, logit_length=logit_length, logits_time_major=False, unique=unique,\n",
        "    )\n",
        "\n",
        "  gradients = tape.gradient(loss, transformer.trainable_variables)    \n",
        "  optimizer.apply_gradients(zip(gradients, transformer.trainable_variables))\n",
        "\n",
        "  train_loss(loss)\n",
        "  instant_loss(loss)\n",
        "  epoch_train_loss(loss)\n",
        "  return logits\n",
        "    "
      ],
      "execution_count": null,
      "outputs": []
    },
    {
      "cell_type": "code",
      "metadata": {
        "id": "VgTWTimuzAtQ"
      },
      "source": [
        "@tf.function\n",
        "def validation_step(speech, text, speech_lengths, text_lengths):\n",
        "  logits = transformer(speech)\n",
        "\n",
        "  labels = text\n",
        "  label_length = text_lengths\n",
        "  logit_length = speech_lengths\n",
        "  unique = tf.nn.ctc_unique_labels(text)\n",
        "\n",
        "\n",
        "  loss = tf.nn.ctc_loss(\n",
        "      labels=labels, logits=logits, label_length=label_length, logit_length=logit_length, logits_time_major=False, unique=unique,\n",
        "  )\n",
        "\n",
        "\n",
        "  validation_loss(loss)\n",
        "  return logits"
      ],
      "execution_count": null,
      "outputs": []
    },
    {
      "cell_type": "code",
      "metadata": {
        "id": "XsdWdYE11Kea"
      },
      "source": [
        "EPOCHS = 5\n",
        "validate_period = 30\n",
        "save_period = 52\n",
        "print_period = 1\n",
        "train_period = 30"
      ],
      "execution_count": null,
      "outputs": []
    },
    {
      "cell_type": "code",
      "metadata": {
        "id": "5KDwGC1X1hXi"
      },
      "source": [
        "batch_offset = batch_counter.numpy() + 1\n",
        "epoch_offset = epoch_counter.numpy()"
      ],
      "execution_count": null,
      "outputs": []
    },
    {
      "cell_type": "code",
      "metadata": {
        "colab": {
          "base_uri": "https://localhost:8080/"
        },
        "id": "Fu1Rd8Qr5SW4",
        "outputId": "1f26721e-5ea1-45a4-f995-20657009b21e"
      },
      "source": [
        "jvs_dataset.cardinality()"
      ],
      "execution_count": null,
      "outputs": [
        {
          "output_type": "execute_result",
          "data": {
            "text/plain": [
              "<tf.Tensor: shape=(), dtype=int64, numpy=1873>"
            ]
          },
          "metadata": {
            "tags": []
          },
          "execution_count": 902
        }
      ]
    },
    {
      "cell_type": "code",
      "metadata": {
        "id": "k4TQSjEf24f5"
      },
      "source": [
        "dataset = jvs_dataset.take(100)"
      ],
      "execution_count": null,
      "outputs": []
    },
    {
      "cell_type": "code",
      "metadata": {
        "id": "63KNjHup-X4i",
        "colab": {
          "base_uri": "https://localhost:8080/"
        },
        "outputId": "a61d8814-dc24-461b-b531-d081d9f3e454"
      },
      "source": [
        "list(range(1,3))"
      ],
      "execution_count": null,
      "outputs": [
        {
          "output_type": "execute_result",
          "data": {
            "text/plain": [
              "[1, 2]"
            ]
          },
          "metadata": {
            "tags": []
          },
          "execution_count": 904
        }
      ]
    },
    {
      "cell_type": "code",
      "metadata": {
        "colab": {
          "base_uri": "https://localhost:8080/",
          "height": 1000
        },
        "id": "AhEzjP3ztJYz",
        "outputId": "240d3a87-1185-40ac-d562-3c4936103f02"
      },
      "source": [
        "# Resume at the batch we left off at if there was some interruption\n",
        "if batch_counter != 0 or epoch_counter != 0:\n",
        "    dataset = dataset.skip(batch_offset)\n",
        "    print(\"Resuming from batch:\", batch_offset, 'epoch:', epoch_offset)\n",
        "\n",
        "for epoch in range(epoch_offset, EPOCHS):\n",
        "  epoch_counter.assign(epoch)\n",
        "  start = time.time()\n",
        "\n",
        "  train_loss.reset_states()\n",
        "  validation_loss.reset_states()\n",
        "  instant_loss.reset_states()\n",
        "\n",
        "  \n",
        "  for (batch, data) in enumerate(dataset):\n",
        "    batch += batch_offset\n",
        "    batch_counter.assign(batch)\n",
        "    print(batch)\n",
        "    #if batch == 9:\n",
        "    #  print(tokenizer.detokenize(data['text']).numpy()[0].decode('utf-8'))\n",
        "    #  print(data['text'].numpy()[0])\n",
        "    #  continue\n",
        "    \n",
        "    #texts = list([i for i in tokenizer.detokenize(tf.boolean_mask(data['text'], data['text'] != 0)).numpy()])\n",
        "    #print(ids)\n",
        "    \n",
        "    ids = list(data['id'].numpy())\n",
        "    texts = []\n",
        "    for i in range(len(ids)):\n",
        "        texts.append(tokenizer.detokenize(tf.boolean_mask(data['text'][i], data['text'][i] != 0)).numpy().decode('utf-8'))\n",
        "    text = ''\n",
        "    for i in range(len(ids)):\n",
        "        text += 'id: {}'.format(ids[i]) + '\\n' + 'text: {}'.format(texts[i]) + '\\n'\n",
        "    #print(text)\n",
        "\n",
        "    logits = train_step(data['speech'], data['text'], data['speech_lengths'], data['text_lengths'])\n",
        "    # Prevent predicting 0\n",
        "    \n",
        "\n",
        "\n",
        "    if (batch+1) % print_period == 0:\n",
        "      print(f'Epoch {epoch + 1} Batch {batch} Loss {instant_loss.result():.4f}')\n",
        "      instant_loss.reset_states()\n",
        "\n",
        "    if (batch+1) % train_period == 0:\n",
        "      with file_writer.as_default():\n",
        "        tf.summary.scalar(\"train_loss\", train_loss.result(), step=batch)\n",
        "        \n",
        "        \n",
        "        \n",
        "      print(f'Training Print: Epoch {epoch + 1} Batch {batch} Loss {train_loss.result():.4f}')\n",
        "      train_loss.reset_states()\n",
        "\n",
        "    if (batch + 1) % save_period == 0:\n",
        "      ckpt_save_path = ckpt_manager.save()\n",
        "      print (f'Saving checkpoint for batch {batch} at {ckpt_save_path}')\n",
        "\n",
        "      instance_repeat = tf.repeat(tf.expand_dims(tf.range(2000), axis=0), 500, axis=0)\n",
        "      batch_repeat = tf.repeat(tf.expand_dims(instance_repeat, axis=0), BATCH_SIZE, axis=0)\n",
        "      logits_zero_removed = tf.where(batch_repeat != 0, logits, -np.inf)\n",
        "      logits = logits_zero_removed\n",
        "    \n",
        "      tokenized = tf.math.argmax(logits, axis=2)\n",
        "      tokenized = tf.cast(tokenized, tf.int32)\n",
        "      detokenized = tokenizer.detokenize(tokenized).numpy()\n",
        "    #print(detokenized.numpy()[0].decode('utf-8'))\n",
        "\n",
        "      ids = list(data['id'].numpy())\n",
        "      texts = []\n",
        "      for i in range(len(ids)):\n",
        "        texts.append(tokenizer.detokenize(tf.boolean_mask(data['text'][i], data['text'][i] != 0)).numpy().decode('utf-8'))\n",
        "      text = ''\n",
        "      for i in range(len(ids)):\n",
        "        text += 'id: {}'.format(ids[i]) + '\\n\\n' + 'text: {}'.format(texts[i]) + '\\n\\n' + 'predictions: {}'.format(detokenized[i].decode('utf-8')) + '\\n\\n\\n'\n",
        "        #print(text)\n",
        "      with file_writer.as_default():\n",
        "        tf.summary.text(\"Training Text. Epoch: {}, Batch: {}\".format(epoch, batch), text, step=batch)\n",
        "\n",
        "    if (batch + 1) % validate_period == 0:\n",
        "      for (val_batch, val_data) in enumerate(jsut_dataset.take(5)):\n",
        "        validation_step(val_data['speech'], val_data['text'], val_data['speech_lengths'], val_data['text_lengths'])\n",
        "      with file_writer.as_default():\n",
        "        tf.summary.scalar(\"validation_loss\", validation_loss.result(), step=batch)\n",
        "      print(f'Validation Print: Epoch {epoch + 1} Batch {batch} Loss {validation_loss.result():.4f}')\n",
        "      validation_loss.reset_states()\n",
        "\n",
        "  \n",
        "  batch_offset = 0\n",
        "  print(f'Epoch {epoch + 1} Loss {epoch_train_loss.result():.4f}')\n",
        "  epoch_train_loss.reset_states()\n",
        "\n",
        "  print(f'Time taken for 1 epoch: {time.time() - start:.2f} secs\\n')\n"
      ],
      "execution_count": null,
      "outputs": [
        {
          "output_type": "stream",
          "text": [
            "Resuming from batch: 0 epoch: 0\n",
            "0\n",
            "Epoch 1 Batch 0 Loss 557.5573\n",
            "1\n",
            "Epoch 1 Batch 1 Loss 541.8988\n",
            "2\n",
            "Epoch 1 Batch 2 Loss 567.2894\n",
            "3\n",
            "Epoch 1 Batch 3 Loss 551.5186\n",
            "4\n",
            "Epoch 1 Batch 4 Loss 569.6522\n",
            "5\n",
            "Epoch 1 Batch 5 Loss 714.2563\n",
            "6\n",
            "Epoch 1 Batch 6 Loss 436.9424\n",
            "7\n",
            "Epoch 1 Batch 7 Loss 488.0235\n",
            "8\n",
            "Epoch 1 Batch 8 Loss 646.6302\n",
            "9\n",
            "Epoch 1 Batch 9 Loss 506.9151\n",
            "10\n",
            "Epoch 1 Batch 10 Loss 490.1615\n",
            "11\n",
            "Epoch 1 Batch 11 Loss 474.2841\n",
            "12\n",
            "Epoch 1 Batch 12 Loss 638.5276\n",
            "13\n",
            "Epoch 1 Batch 13 Loss 477.7700\n",
            "14\n",
            "Epoch 1 Batch 14 Loss 657.0093\n",
            "15\n",
            "Epoch 1 Batch 15 Loss 479.6646\n",
            "16\n",
            "Epoch 1 Batch 16 Loss 572.8785\n",
            "17\n",
            "Epoch 1 Batch 17 Loss 486.6309\n",
            "18\n",
            "Epoch 1 Batch 18 Loss 547.6805\n",
            "19\n",
            "Epoch 1 Batch 19 Loss 445.1244\n",
            "20\n",
            "Epoch 1 Batch 20 Loss 390.8167\n",
            "21\n",
            "Epoch 1 Batch 21 Loss 623.2917\n",
            "22\n",
            "Epoch 1 Batch 22 Loss 402.1694\n",
            "23\n",
            "Epoch 1 Batch 23 Loss 513.8652\n",
            "24\n",
            "Epoch 1 Batch 24 Loss 553.7382\n",
            "25\n",
            "Epoch 1 Batch 25 Loss 496.5378\n",
            "26\n",
            "Epoch 1 Batch 26 Loss 445.0795\n",
            "27\n",
            "Epoch 1 Batch 27 Loss 486.7115\n",
            "28\n",
            "Epoch 1 Batch 28 Loss 393.3355\n",
            "29\n",
            "Epoch 1 Batch 29 Loss 385.2990\n",
            "Training Print: Epoch 1 Batch 29 Loss 518.0421\n",
            "Validation Print: Epoch 1 Batch 29 Loss 548.1959\n",
            "30\n",
            "Epoch 1 Batch 30 Loss 328.9811\n",
            "31\n",
            "Epoch 1 Batch 31 Loss 411.7812\n",
            "32\n",
            "Epoch 1 Batch 32 Loss 322.5019\n",
            "33\n",
            "Epoch 1 Batch 33 Loss 355.8412\n",
            "34\n",
            "Epoch 1 Batch 34 Loss 312.6258\n",
            "35\n",
            "Epoch 1 Batch 35 Loss 368.8814\n",
            "36\n",
            "Epoch 1 Batch 36 Loss 302.5025\n",
            "37\n",
            "Epoch 1 Batch 37 Loss 296.0018\n",
            "38\n",
            "Epoch 1 Batch 38 Loss 313.5241\n",
            "39\n",
            "Epoch 1 Batch 39 Loss 237.5886\n",
            "40\n",
            "Epoch 1 Batch 40 Loss 220.9907\n",
            "41\n",
            "Epoch 1 Batch 41 Loss 231.7991\n",
            "42\n",
            "Epoch 1 Batch 42 Loss 247.2645\n",
            "43\n",
            "Epoch 1 Batch 43 Loss 233.0884\n",
            "44\n",
            "Epoch 1 Batch 44 Loss 239.6913\n",
            "45\n",
            "Epoch 1 Batch 45 Loss 208.3075\n",
            "46\n",
            "Epoch 1 Batch 46 Loss 251.7563\n",
            "47\n",
            "Epoch 1 Batch 47 Loss 215.2889\n",
            "48\n",
            "Epoch 1 Batch 48 Loss 173.1837\n",
            "49\n",
            "Epoch 1 Batch 49 Loss 193.4565\n",
            "50\n",
            "Epoch 1 Batch 50 Loss 251.1994\n",
            "51\n",
            "Epoch 1 Batch 51 Loss 195.2355\n",
            "Saving checkpoint for batch 51 at gs://general-304503/notebook_logs/jvs_transformer_stt_12_3_21/checkpoints/ckpt-1\n",
            "52\n",
            "Epoch 1 Batch 52 Loss 197.1530\n",
            "53\n",
            "Epoch 1 Batch 53 Loss 265.9589\n",
            "54\n",
            "Epoch 1 Batch 54 Loss 221.4622\n",
            "55\n",
            "Epoch 1 Batch 55 Loss 221.9271\n",
            "56\n",
            "Epoch 1 Batch 56 Loss 166.2745\n",
            "57\n",
            "Epoch 1 Batch 57 Loss 231.5463\n",
            "58\n",
            "Epoch 1 Batch 58 Loss 197.0602\n",
            "59\n",
            "Epoch 1 Batch 59 Loss 186.8793\n",
            "Training Print: Epoch 1 Batch 59 Loss 253.3251\n",
            "Validation Print: Epoch 1 Batch 59 Loss 248.6046\n",
            "60\n",
            "Epoch 1 Batch 60 Loss 232.8360\n",
            "61\n",
            "Epoch 1 Batch 61 Loss 187.5721\n",
            "62\n",
            "Epoch 1 Batch 62 Loss 216.2225\n",
            "63\n",
            "Epoch 1 Batch 63 Loss 222.5869\n",
            "64\n",
            "Epoch 1 Batch 64 Loss 224.1062\n",
            "65\n",
            "Epoch 1 Batch 65 Loss 200.4257\n",
            "66\n",
            "Epoch 1 Batch 66 Loss 241.8972\n",
            "67\n",
            "Epoch 1 Batch 67 Loss 228.8529\n",
            "68\n",
            "Epoch 1 Batch 68 Loss 192.8578\n",
            "69\n",
            "Epoch 1 Batch 69 Loss 219.7050\n",
            "70\n",
            "Epoch 1 Batch 70 Loss 216.5828\n",
            "71\n",
            "Epoch 1 Batch 71 Loss 224.7254\n",
            "72\n",
            "Epoch 1 Batch 72 Loss 238.5835\n",
            "73\n",
            "Epoch 1 Batch 73 Loss 193.2349\n",
            "74\n",
            "Epoch 1 Batch 74 Loss 189.3753\n",
            "75\n",
            "Epoch 1 Batch 75 Loss 155.2780\n",
            "76\n",
            "Epoch 1 Batch 76 Loss 174.5374\n",
            "77\n",
            "Epoch 1 Batch 77 Loss 206.3036\n",
            "78\n",
            "Epoch 1 Batch 78 Loss 204.9306\n",
            "79\n",
            "Epoch 1 Batch 79 Loss 207.4690\n",
            "80\n",
            "Epoch 1 Batch 80 Loss 184.0918\n",
            "81\n",
            "Epoch 1 Batch 81 Loss 166.9186\n",
            "82\n",
            "Epoch 1 Batch 82 Loss 192.8382\n",
            "83\n",
            "Epoch 1 Batch 83 Loss 184.0155\n",
            "84\n",
            "Epoch 1 Batch 84 Loss 206.2124\n",
            "85\n",
            "Epoch 1 Batch 85 Loss 168.4728\n",
            "86\n",
            "Epoch 1 Batch 86 Loss 200.2849\n",
            "87\n",
            "Epoch 1 Batch 87 Loss 221.2870\n",
            "88\n",
            "Epoch 1 Batch 88 Loss 226.6239\n",
            "89\n",
            "Epoch 1 Batch 89 Loss 176.6023\n",
            "Training Print: Epoch 1 Batch 89 Loss 203.5143\n",
            "Validation Print: Epoch 1 Batch 89 Loss 238.1276\n",
            "90\n",
            "Epoch 1 Batch 90 Loss 176.7358\n",
            "91\n",
            "Epoch 1 Batch 91 Loss 247.7793\n",
            "92\n",
            "Epoch 1 Batch 92 Loss 225.0511\n",
            "93\n",
            "Epoch 1 Batch 93 Loss 263.5827\n",
            "94\n",
            "Epoch 1 Batch 94 Loss 183.2847\n",
            "95\n",
            "Epoch 1 Batch 95 Loss 165.3717\n",
            "96\n",
            "Epoch 1 Batch 96 Loss 180.2646\n",
            "97\n",
            "Epoch 1 Batch 97 Loss 198.3864\n",
            "98\n",
            "Epoch 1 Batch 98 Loss 177.8193\n",
            "99\n",
            "Epoch 1 Batch 99 Loss 226.7321\n",
            "Epoch 1 Loss 312.9144\n",
            "Time taken for 1 epoch: 160.04 secs\n",
            "\n",
            "0\n",
            "Epoch 2 Batch 0 Loss 179.4454\n",
            "1\n",
            "Epoch 2 Batch 1 Loss 214.1478\n",
            "2\n",
            "Epoch 2 Batch 2 Loss 163.6115\n",
            "3\n",
            "Epoch 2 Batch 3 Loss 185.4323\n",
            "4\n",
            "Epoch 2 Batch 4 Loss 189.4131\n",
            "5\n",
            "Epoch 2 Batch 5 Loss 213.8452\n",
            "6\n",
            "Epoch 2 Batch 6 Loss 182.1814\n",
            "7\n",
            "Epoch 2 Batch 7 Loss 162.4953\n",
            "8\n",
            "Epoch 2 Batch 8 Loss 182.1961\n",
            "9\n",
            "Epoch 2 Batch 9 Loss 186.2638\n",
            "10\n",
            "Epoch 2 Batch 10 Loss 158.6582\n",
            "11\n",
            "Epoch 2 Batch 11 Loss 184.7999\n",
            "12\n",
            "Epoch 2 Batch 12 Loss 200.6613\n",
            "13\n",
            "Epoch 2 Batch 13 Loss 152.8116\n",
            "14\n",
            "Epoch 2 Batch 14 Loss 188.4734\n",
            "15\n",
            "Epoch 2 Batch 15 Loss 155.5281\n",
            "16\n",
            "Epoch 2 Batch 16 Loss 178.2891\n",
            "17\n",
            "Epoch 2 Batch 17 Loss 209.0885\n",
            "18\n",
            "Epoch 2 Batch 18 Loss 183.8769\n",
            "19\n",
            "Epoch 2 Batch 19 Loss 151.5316\n",
            "20\n",
            "Epoch 2 Batch 20 Loss 189.8493\n",
            "21\n",
            "Epoch 2 Batch 21 Loss 212.4462\n",
            "22\n",
            "Epoch 2 Batch 22 Loss 152.3490\n",
            "23\n",
            "Epoch 2 Batch 23 Loss 221.1569\n",
            "24\n",
            "Epoch 2 Batch 24 Loss 194.2111\n",
            "25\n",
            "Epoch 2 Batch 25 Loss 181.5464\n",
            "26\n",
            "Epoch 2 Batch 26 Loss 182.2697\n",
            "27\n",
            "Epoch 2 Batch 27 Loss 198.0436\n",
            "28\n",
            "Epoch 2 Batch 28 Loss 169.2624\n",
            "29\n",
            "Epoch 2 Batch 29 Loss 184.2145\n",
            "Training Print: Epoch 2 Batch 29 Loss 183.6033\n",
            "Validation Print: Epoch 2 Batch 29 Loss 220.7609\n",
            "30\n",
            "Epoch 2 Batch 30 Loss 170.4095\n",
            "31\n",
            "Epoch 2 Batch 31 Loss 215.6835\n",
            "32\n",
            "Epoch 2 Batch 32 Loss 151.4732\n",
            "33\n",
            "Epoch 2 Batch 33 Loss 170.6850\n",
            "34\n",
            "Epoch 2 Batch 34 Loss 169.6124\n",
            "35\n",
            "Epoch 2 Batch 35 Loss 200.5267\n",
            "36\n",
            "Epoch 2 Batch 36 Loss 169.7883\n",
            "37\n",
            "Epoch 2 Batch 37 Loss 182.1919\n",
            "38\n",
            "Epoch 2 Batch 38 Loss 183.7787\n",
            "39\n",
            "Epoch 2 Batch 39 Loss 157.0253\n",
            "40\n",
            "Epoch 2 Batch 40 Loss 149.5724\n",
            "41\n",
            "Epoch 2 Batch 41 Loss 178.1501\n",
            "42\n",
            "Epoch 2 Batch 42 Loss 194.7103\n",
            "43\n",
            "Epoch 2 Batch 43 Loss 173.0926\n",
            "44\n",
            "Epoch 2 Batch 44 Loss 192.7612\n",
            "45\n",
            "Epoch 2 Batch 45 Loss 170.7188\n",
            "46\n",
            "Epoch 2 Batch 46 Loss 218.4060\n",
            "47\n",
            "Epoch 2 Batch 47 Loss 188.3484\n",
            "48\n",
            "Epoch 2 Batch 48 Loss 153.1953\n",
            "49\n",
            "Epoch 2 Batch 49 Loss 173.6727\n",
            "50\n",
            "Epoch 2 Batch 50 Loss 200.7806\n",
            "51\n",
            "Epoch 2 Batch 51 Loss 178.7410\n",
            "Saving checkpoint for batch 51 at gs://general-304503/notebook_logs/jvs_transformer_stt_12_3_21/checkpoints/ckpt-2\n",
            "52\n",
            "Epoch 2 Batch 52 Loss 159.2742\n",
            "53\n",
            "Epoch 2 Batch 53 Loss 213.7284\n",
            "54\n",
            "Epoch 2 Batch 54 Loss 184.8559\n",
            "55\n",
            "Epoch 2 Batch 55 Loss 200.1454\n",
            "56\n",
            "Epoch 2 Batch 56 Loss 154.4423\n",
            "57\n",
            "Epoch 2 Batch 57 Loss 211.0473\n",
            "58\n",
            "Epoch 2 Batch 58 Loss 177.8209\n",
            "59\n",
            "Epoch 2 Batch 59 Loss 168.9523\n",
            "Training Print: Epoch 2 Batch 59 Loss 180.4530\n",
            "Validation Print: Epoch 2 Batch 59 Loss 212.9728\n",
            "60\n",
            "Epoch 2 Batch 60 Loss 213.8994\n",
            "61\n",
            "Epoch 2 Batch 61 Loss 152.8789\n",
            "62\n",
            "Epoch 2 Batch 62 Loss 180.1018\n",
            "63\n",
            "Epoch 2 Batch 63 Loss 199.0316\n",
            "64\n",
            "Epoch 2 Batch 64 Loss 187.7930\n",
            "65\n",
            "Epoch 2 Batch 65 Loss 171.1281\n",
            "66\n",
            "Epoch 2 Batch 66 Loss 208.4154\n",
            "67\n",
            "Epoch 2 Batch 67 Loss 177.9900\n",
            "68\n",
            "Epoch 2 Batch 68 Loss 151.4089\n",
            "69\n",
            "Epoch 2 Batch 69 Loss 205.3141\n",
            "70\n",
            "Epoch 2 Batch 70 Loss 186.7199\n",
            "71\n",
            "Epoch 2 Batch 71 Loss 164.3824\n",
            "72\n",
            "Epoch 2 Batch 72 Loss 179.1175\n",
            "73\n",
            "Epoch 2 Batch 73 Loss 150.2015\n",
            "74\n",
            "Epoch 2 Batch 74 Loss 158.3062\n",
            "75\n",
            "Epoch 2 Batch 75 Loss 142.4798\n",
            "76\n",
            "Epoch 2 Batch 76 Loss 142.9568\n",
            "77\n",
            "Epoch 2 Batch 77 Loss 189.1420\n",
            "78\n",
            "Epoch 2 Batch 78 Loss 191.5488\n",
            "79\n",
            "Epoch 2 Batch 79 Loss 178.0106\n",
            "80\n",
            "Epoch 2 Batch 80 Loss 166.8383\n",
            "81\n",
            "Epoch 2 Batch 81 Loss 152.5443\n",
            "82\n",
            "Epoch 2 Batch 82 Loss 165.8274\n",
            "83\n",
            "Epoch 2 Batch 83 Loss 168.2314\n",
            "84\n",
            "Epoch 2 Batch 84 Loss 188.2058\n",
            "85\n",
            "Epoch 2 Batch 85 Loss 154.1393\n",
            "86\n",
            "Epoch 2 Batch 86 Loss 184.9019\n",
            "87\n",
            "Epoch 2 Batch 87 Loss 193.2968\n",
            "88\n",
            "Epoch 2 Batch 88 Loss 206.5980\n",
            "89\n",
            "Epoch 2 Batch 89 Loss 151.9369\n",
            "Training Print: Epoch 2 Batch 89 Loss 175.4449\n",
            "Validation Print: Epoch 2 Batch 89 Loss 210.6634\n",
            "90\n",
            "Epoch 2 Batch 90 Loss 162.1323\n",
            "91\n",
            "Epoch 2 Batch 91 Loss 211.1881\n",
            "92\n",
            "Epoch 2 Batch 92 Loss 205.8625\n",
            "93\n",
            "Epoch 2 Batch 93 Loss 201.3414\n",
            "94\n",
            "Epoch 2 Batch 94 Loss 167.5494\n",
            "95\n",
            "Epoch 2 Batch 95 Loss 154.1418\n",
            "96\n",
            "Epoch 2 Batch 96 Loss 166.6445\n",
            "97\n",
            "Epoch 2 Batch 97 Loss 182.7274\n",
            "98\n",
            "Epoch 2 Batch 98 Loss 164.2709\n",
            "99\n",
            "Epoch 2 Batch 99 Loss 207.2757\n",
            "Epoch 2 Loss 180.0817\n",
            "Time taken for 1 epoch: 154.38 secs\n",
            "\n",
            "0\n",
            "Epoch 3 Batch 0 Loss 164.1650\n",
            "1\n",
            "Epoch 3 Batch 1 Loss 195.0733\n",
            "2\n",
            "Epoch 3 Batch 2 Loss 150.6801\n",
            "3\n",
            "Epoch 3 Batch 3 Loss 171.4796\n",
            "4\n",
            "Epoch 3 Batch 4 Loss 175.9642\n",
            "5\n",
            "Epoch 3 Batch 5 Loss 197.7191\n",
            "6\n",
            "Epoch 3 Batch 6 Loss 164.2854\n",
            "7\n",
            "Epoch 3 Batch 7 Loss 149.5161\n",
            "8\n",
            "Epoch 3 Batch 8 Loss 168.6546\n",
            "9\n",
            "Epoch 3 Batch 9 Loss 161.1365\n",
            "10\n",
            "Epoch 3 Batch 10 Loss 145.6606\n",
            "11\n",
            "Epoch 3 Batch 11 Loss 162.2115\n",
            "12\n",
            "Epoch 3 Batch 12 Loss 188.2958\n",
            "13\n",
            "Epoch 3 Batch 13 Loss 141.6238\n",
            "14\n",
            "Epoch 3 Batch 14 Loss 175.6163\n",
            "15\n",
            "Epoch 3 Batch 15 Loss 144.0809\n",
            "16\n",
            "Epoch 3 Batch 16 Loss 164.5030\n",
            "17\n",
            "Epoch 3 Batch 17 Loss 186.1176\n",
            "18\n",
            "Epoch 3 Batch 18 Loss 169.8516\n",
            "19\n",
            "Epoch 3 Batch 19 Loss 141.8281\n",
            "20\n",
            "Epoch 3 Batch 20 Loss 166.5649\n",
            "21\n",
            "Epoch 3 Batch 21 Loss 197.1599\n",
            "22\n",
            "Epoch 3 Batch 22 Loss 138.0955\n",
            "23\n",
            "Epoch 3 Batch 23 Loss 201.1217\n",
            "24\n",
            "Epoch 3 Batch 24 Loss 182.9265\n",
            "25\n",
            "Epoch 3 Batch 25 Loss 173.3331\n",
            "26\n",
            "Epoch 3 Batch 26 Loss 170.3061\n",
            "27\n",
            "Epoch 3 Batch 27 Loss 183.4323\n",
            "28\n",
            "Epoch 3 Batch 28 Loss 157.4225\n",
            "29\n",
            "Epoch 3 Batch 29 Loss 172.4751\n",
            "Training Print: Epoch 3 Batch 29 Loss 168.7100\n",
            "Validation Print: Epoch 3 Batch 29 Loss 205.2003\n",
            "30\n",
            "Epoch 3 Batch 30 Loss 159.1316\n",
            "31\n",
            "Epoch 3 Batch 31 Loss 199.4521\n",
            "32\n",
            "Epoch 3 Batch 32 Loss 139.9868\n",
            "33\n",
            "Epoch 3 Batch 33 Loss 159.6560\n",
            "34\n",
            "Epoch 3 Batch 34 Loss 158.7783\n",
            "35\n",
            "Epoch 3 Batch 35 Loss 187.3908\n",
            "36\n",
            "Epoch 3 Batch 36 Loss 157.2523\n",
            "37\n",
            "Epoch 3 Batch 37 Loss 170.5596\n",
            "38\n",
            "Epoch 3 Batch 38 Loss 173.1087\n",
            "39\n",
            "Epoch 3 Batch 39 Loss 147.8244\n",
            "40\n",
            "Epoch 3 Batch 40 Loss 141.6159\n",
            "41\n"
          ],
          "name": "stdout"
        },
        {
          "output_type": "error",
          "ename": "KeyboardInterrupt",
          "evalue": "ignored",
          "traceback": [
            "\u001b[0;31m---------------------------------------------------------------------------\u001b[0m",
            "\u001b[0;31mKeyboardInterrupt\u001b[0m                         Traceback (most recent call last)",
            "\u001b[0;32m<ipython-input-905-5d830cbe441f>\u001b[0m in \u001b[0;36m<module>\u001b[0;34m()\u001b[0m\n\u001b[1;32m     40\u001b[0m \u001b[0;34m\u001b[0m\u001b[0m\n\u001b[1;32m     41\u001b[0m     \u001b[0;32mif\u001b[0m \u001b[0;34m(\u001b[0m\u001b[0mbatch\u001b[0m\u001b[0;34m+\u001b[0m\u001b[0;36m1\u001b[0m\u001b[0;34m)\u001b[0m \u001b[0;34m%\u001b[0m \u001b[0mprint_period\u001b[0m \u001b[0;34m==\u001b[0m \u001b[0;36m0\u001b[0m\u001b[0;34m:\u001b[0m\u001b[0;34m\u001b[0m\u001b[0;34m\u001b[0m\u001b[0m\n\u001b[0;32m---> 42\u001b[0;31m       \u001b[0mprint\u001b[0m\u001b[0;34m(\u001b[0m\u001b[0;34mf'Epoch {epoch + 1} Batch {batch} Loss {instant_loss.result():.4f}'\u001b[0m\u001b[0;34m)\u001b[0m\u001b[0;34m\u001b[0m\u001b[0;34m\u001b[0m\u001b[0m\n\u001b[0m\u001b[1;32m     43\u001b[0m       \u001b[0minstant_loss\u001b[0m\u001b[0;34m.\u001b[0m\u001b[0mreset_states\u001b[0m\u001b[0;34m(\u001b[0m\u001b[0;34m)\u001b[0m\u001b[0;34m\u001b[0m\u001b[0;34m\u001b[0m\u001b[0m\n\u001b[1;32m     44\u001b[0m \u001b[0;34m\u001b[0m\u001b[0m\n",
            "\u001b[0;32m/usr/local/lib/python3.7/dist-packages/tensorflow/python/framework/ops.py\u001b[0m in \u001b[0;36m__format__\u001b[0;34m(self, format_spec)\u001b[0m\n\u001b[1;32m    995\u001b[0m \u001b[0;34m\u001b[0m\u001b[0m\n\u001b[1;32m    996\u001b[0m   \u001b[0;32mdef\u001b[0m \u001b[0m__format__\u001b[0m\u001b[0;34m(\u001b[0m\u001b[0mself\u001b[0m\u001b[0;34m,\u001b[0m \u001b[0mformat_spec\u001b[0m\u001b[0;34m)\u001b[0m\u001b[0;34m:\u001b[0m\u001b[0;34m\u001b[0m\u001b[0;34m\u001b[0m\u001b[0m\n\u001b[0;32m--> 997\u001b[0;31m     \u001b[0;32mreturn\u001b[0m \u001b[0mself\u001b[0m\u001b[0;34m.\u001b[0m\u001b[0m_numpy\u001b[0m\u001b[0;34m(\u001b[0m\u001b[0;34m)\u001b[0m\u001b[0;34m.\u001b[0m\u001b[0m__format__\u001b[0m\u001b[0;34m(\u001b[0m\u001b[0mformat_spec\u001b[0m\u001b[0;34m)\u001b[0m\u001b[0;34m\u001b[0m\u001b[0;34m\u001b[0m\u001b[0m\n\u001b[0m\u001b[1;32m    998\u001b[0m \u001b[0;34m\u001b[0m\u001b[0m\n\u001b[1;32m    999\u001b[0m   \u001b[0;32mdef\u001b[0m \u001b[0m__reduce__\u001b[0m\u001b[0;34m(\u001b[0m\u001b[0mself\u001b[0m\u001b[0;34m)\u001b[0m\u001b[0;34m:\u001b[0m\u001b[0;34m\u001b[0m\u001b[0;34m\u001b[0m\u001b[0m\n",
            "\u001b[0;32m/usr/local/lib/python3.7/dist-packages/tensorflow/python/framework/ops.py\u001b[0m in \u001b[0;36m_numpy\u001b[0;34m(self)\u001b[0m\n\u001b[1;32m   1035\u001b[0m   \u001b[0;32mdef\u001b[0m \u001b[0m_numpy\u001b[0m\u001b[0;34m(\u001b[0m\u001b[0mself\u001b[0m\u001b[0;34m)\u001b[0m\u001b[0;34m:\u001b[0m\u001b[0;34m\u001b[0m\u001b[0;34m\u001b[0m\u001b[0m\n\u001b[1;32m   1036\u001b[0m     \u001b[0;32mtry\u001b[0m\u001b[0;34m:\u001b[0m\u001b[0;34m\u001b[0m\u001b[0;34m\u001b[0m\u001b[0m\n\u001b[0;32m-> 1037\u001b[0;31m       \u001b[0;32mreturn\u001b[0m \u001b[0mself\u001b[0m\u001b[0;34m.\u001b[0m\u001b[0m_numpy_internal\u001b[0m\u001b[0;34m(\u001b[0m\u001b[0;34m)\u001b[0m\u001b[0;34m\u001b[0m\u001b[0;34m\u001b[0m\u001b[0m\n\u001b[0m\u001b[1;32m   1038\u001b[0m     \u001b[0;32mexcept\u001b[0m \u001b[0mcore\u001b[0m\u001b[0;34m.\u001b[0m\u001b[0m_NotOkStatusException\u001b[0m \u001b[0;32mas\u001b[0m \u001b[0me\u001b[0m\u001b[0;34m:\u001b[0m  \u001b[0;31m# pylint: disable=protected-access\u001b[0m\u001b[0;34m\u001b[0m\u001b[0;34m\u001b[0m\u001b[0m\n\u001b[1;32m   1039\u001b[0m       \u001b[0msix\u001b[0m\u001b[0;34m.\u001b[0m\u001b[0mraise_from\u001b[0m\u001b[0;34m(\u001b[0m\u001b[0mcore\u001b[0m\u001b[0;34m.\u001b[0m\u001b[0m_status_to_exception\u001b[0m\u001b[0;34m(\u001b[0m\u001b[0me\u001b[0m\u001b[0;34m.\u001b[0m\u001b[0mcode\u001b[0m\u001b[0;34m,\u001b[0m \u001b[0me\u001b[0m\u001b[0;34m.\u001b[0m\u001b[0mmessage\u001b[0m\u001b[0;34m)\u001b[0m\u001b[0;34m,\u001b[0m \u001b[0;32mNone\u001b[0m\u001b[0;34m)\u001b[0m  \u001b[0;31m# pylint: disable=protected-access\u001b[0m\u001b[0;34m\u001b[0m\u001b[0;34m\u001b[0m\u001b[0m\n",
            "\u001b[0;31mKeyboardInterrupt\u001b[0m: "
          ]
        }
      ]
    }
  ]
}